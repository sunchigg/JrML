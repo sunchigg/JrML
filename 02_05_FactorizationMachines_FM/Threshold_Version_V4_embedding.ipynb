{
 "cells": [
  {
   "cell_type": "code",
   "execution_count": 1,
   "metadata": {},
   "outputs": [],
   "source": [
    "# load package# load p \n",
    "import pandas as pd\n",
    "import numpy as np\n",
    "import lightgbm as lgb\n",
    "from lightgbm import LGBMClassifier\n",
    "from sklearn.model_selection import GridSearchCV\n",
    "from sklearn import metrics\n",
    "import matplotlib.pyplot as plt\n",
    "\n",
    "\n",
    "# set path\n",
    "import os\n",
    "default_path = \"/Users/francislin/Desktop/Machine_Learning_Workshop/esunfrauddetectiongame1809/\"\n",
    "os.chdir(default_path)\n",
    "\n",
    "# skip interaction warning\n",
    "import warnings; \n",
    "warnings.filterwarnings('ignore')\n",
    "#你可以选择修改 ast_note_iteractively kernel 选项来使得 Jupyter 为每一行的变量或语句执行这个操作，以便你可以立即看到多条语句一起输出\n",
    "from IPython.core.interactiveshell import InteractiveShell\n",
    "InteractiveShell.ast_node_interactivity = \"all\""
   ]
  },
  {
   "cell_type": "code",
   "execution_count": 2,
   "metadata": {},
   "outputs": [],
   "source": [
    "train=pd.read_csv('train_diss.csv',encoding='big5')\n",
    "test=pd.read_csv('test_diss.csv',encoding='big5')\n",
    "data=train.append(test, ignore_index=True)\n",
    "del(train, test)"
   ]
  },
  {
   "cell_type": "code",
   "execution_count": 3,
   "metadata": {},
   "outputs": [],
   "source": [
    "data['s_in_a_Day']= data['DATETIME']%(60*60*24)\n",
    "import math\n",
    "data['h_in_a_Day']= data['s_in_a_Day'].map(lambda x: math.floor(x/(60*60)))"
   ]
  },
  {
   "cell_type": "code",
   "execution_count": 4,
   "metadata": {},
   "outputs": [],
   "source": [
    "import re\n",
    "def strip_upper(x):\n",
    "    if x == np.nan:\n",
    "        return x\n",
    "    elif type(x) != str:\n",
    "        a=str(x)\n",
    "        b=re.sub('\\s','',a)\n",
    "        c=b.upper()\n",
    "        return c\n",
    "    else:\n",
    "        b=re.sub('\\s','',x)\n",
    "        c=b.upper()\n",
    "        return c"
   ]
  },
  {
   "cell_type": "code",
   "execution_count": 5,
   "metadata": {},
   "outputs": [],
   "source": [
    "data['SCITY'] = data['SCITY'].apply(lambda x : strip_upper(x))\n",
    "data['STOCN'] = data['STOCN'].apply(lambda x : strip_upper(x))\n",
    "data['ACQIC'] = data['ACQIC'].apply(lambda x : strip_upper(x))"
   ]
  },
  {
   "cell_type": "code",
   "execution_count": 6,
   "metadata": {},
   "outputs": [],
   "source": [
    "data.fillna({'MCHNO':'others','MCC':'others'}, inplace=True)"
   ]
  },
  {
   "cell_type": "markdown",
   "metadata": {},
   "source": [
    "### Start embedding ACQIC"
   ]
  },
  {
   "cell_type": "code",
   "execution_count": 7,
   "metadata": {},
   "outputs": [],
   "source": [
    "X_dummies = data[['ACQIC','FRAUD_IND']]\n",
    "X_dummies= pd.get_dummies(X_dummies, prefix='ACQIC', sparse=True)"
   ]
  },
  {
   "cell_type": "code",
   "execution_count": 8,
   "metadata": {},
   "outputs": [
    {
     "data": {
      "text/html": [
       "<div>\n",
       "<style scoped>\n",
       "    .dataframe tbody tr th:only-of-type {\n",
       "        vertical-align: middle;\n",
       "    }\n",
       "\n",
       "    .dataframe tbody tr th {\n",
       "        vertical-align: top;\n",
       "    }\n",
       "\n",
       "    .dataframe thead th {\n",
       "        text-align: right;\n",
       "    }\n",
       "</style>\n",
       "<table border=\"1\" class=\"dataframe\">\n",
       "  <thead>\n",
       "    <tr style=\"text-align: right;\">\n",
       "      <th></th>\n",
       "      <th>FRAUD_IND</th>\n",
       "      <th>ACQIC_0.0</th>\n",
       "      <th>ACQIC_1.0</th>\n",
       "      <th>ACQIC_10.0</th>\n",
       "      <th>ACQIC_100.0</th>\n",
       "      <th>ACQIC_100062.0</th>\n",
       "      <th>ACQIC_100257.0</th>\n",
       "      <th>ACQIC_100329.0</th>\n",
       "      <th>ACQIC_100338.0</th>\n",
       "      <th>ACQIC_100401.0</th>\n",
       "      <th>...</th>\n",
       "      <th>ACQIC_99800000.0</th>\n",
       "      <th>ACQIC_998013.0</th>\n",
       "      <th>ACQIC_998105.0</th>\n",
       "      <th>ACQIC_999083.0</th>\n",
       "      <th>ACQIC_999359.0</th>\n",
       "      <th>ACQIC_999511.0</th>\n",
       "      <th>ACQIC_999751.0</th>\n",
       "      <th>ACQIC_999854.0</th>\n",
       "      <th>ACQIC_999957.0</th>\n",
       "      <th>ACQIC_NAN</th>\n",
       "    </tr>\n",
       "  </thead>\n",
       "  <tbody>\n",
       "    <tr>\n",
       "      <th>0</th>\n",
       "      <td>0.0</td>\n",
       "      <td>0</td>\n",
       "      <td>0</td>\n",
       "      <td>0</td>\n",
       "      <td>0</td>\n",
       "      <td>0</td>\n",
       "      <td>0</td>\n",
       "      <td>0</td>\n",
       "      <td>0</td>\n",
       "      <td>0</td>\n",
       "      <td>...</td>\n",
       "      <td>0</td>\n",
       "      <td>0</td>\n",
       "      <td>0</td>\n",
       "      <td>0</td>\n",
       "      <td>0</td>\n",
       "      <td>0</td>\n",
       "      <td>0</td>\n",
       "      <td>0</td>\n",
       "      <td>0</td>\n",
       "      <td>0</td>\n",
       "    </tr>\n",
       "    <tr>\n",
       "      <th>1</th>\n",
       "      <td>0.0</td>\n",
       "      <td>0</td>\n",
       "      <td>0</td>\n",
       "      <td>0</td>\n",
       "      <td>0</td>\n",
       "      <td>0</td>\n",
       "      <td>0</td>\n",
       "      <td>0</td>\n",
       "      <td>0</td>\n",
       "      <td>0</td>\n",
       "      <td>...</td>\n",
       "      <td>0</td>\n",
       "      <td>0</td>\n",
       "      <td>0</td>\n",
       "      <td>0</td>\n",
       "      <td>0</td>\n",
       "      <td>0</td>\n",
       "      <td>0</td>\n",
       "      <td>0</td>\n",
       "      <td>0</td>\n",
       "      <td>0</td>\n",
       "    </tr>\n",
       "    <tr>\n",
       "      <th>2</th>\n",
       "      <td>0.0</td>\n",
       "      <td>0</td>\n",
       "      <td>0</td>\n",
       "      <td>0</td>\n",
       "      <td>0</td>\n",
       "      <td>0</td>\n",
       "      <td>0</td>\n",
       "      <td>0</td>\n",
       "      <td>0</td>\n",
       "      <td>0</td>\n",
       "      <td>...</td>\n",
       "      <td>0</td>\n",
       "      <td>0</td>\n",
       "      <td>0</td>\n",
       "      <td>0</td>\n",
       "      <td>0</td>\n",
       "      <td>0</td>\n",
       "      <td>0</td>\n",
       "      <td>0</td>\n",
       "      <td>0</td>\n",
       "      <td>0</td>\n",
       "    </tr>\n",
       "    <tr>\n",
       "      <th>3</th>\n",
       "      <td>0.0</td>\n",
       "      <td>0</td>\n",
       "      <td>0</td>\n",
       "      <td>0</td>\n",
       "      <td>0</td>\n",
       "      <td>0</td>\n",
       "      <td>0</td>\n",
       "      <td>0</td>\n",
       "      <td>0</td>\n",
       "      <td>0</td>\n",
       "      <td>...</td>\n",
       "      <td>0</td>\n",
       "      <td>0</td>\n",
       "      <td>0</td>\n",
       "      <td>0</td>\n",
       "      <td>0</td>\n",
       "      <td>0</td>\n",
       "      <td>0</td>\n",
       "      <td>0</td>\n",
       "      <td>0</td>\n",
       "      <td>0</td>\n",
       "    </tr>\n",
       "    <tr>\n",
       "      <th>4</th>\n",
       "      <td>1.0</td>\n",
       "      <td>0</td>\n",
       "      <td>0</td>\n",
       "      <td>0</td>\n",
       "      <td>0</td>\n",
       "      <td>0</td>\n",
       "      <td>0</td>\n",
       "      <td>0</td>\n",
       "      <td>0</td>\n",
       "      <td>0</td>\n",
       "      <td>...</td>\n",
       "      <td>0</td>\n",
       "      <td>0</td>\n",
       "      <td>0</td>\n",
       "      <td>0</td>\n",
       "      <td>0</td>\n",
       "      <td>0</td>\n",
       "      <td>0</td>\n",
       "      <td>0</td>\n",
       "      <td>0</td>\n",
       "      <td>0</td>\n",
       "    </tr>\n",
       "  </tbody>\n",
       "</table>\n",
       "<p>5 rows × 5097 columns</p>\n",
       "</div>"
      ],
      "text/plain": [
       "   FRAUD_IND  ACQIC_0.0  ACQIC_1.0  ACQIC_10.0  ACQIC_100.0  ACQIC_100062.0  \\\n",
       "0        0.0          0          0           0            0               0   \n",
       "1        0.0          0          0           0            0               0   \n",
       "2        0.0          0          0           0            0               0   \n",
       "3        0.0          0          0           0            0               0   \n",
       "4        1.0          0          0           0            0               0   \n",
       "\n",
       "   ACQIC_100257.0  ACQIC_100329.0  ACQIC_100338.0  ACQIC_100401.0    ...      \\\n",
       "0               0               0               0               0    ...       \n",
       "1               0               0               0               0    ...       \n",
       "2               0               0               0               0    ...       \n",
       "3               0               0               0               0    ...       \n",
       "4               0               0               0               0    ...       \n",
       "\n",
       "   ACQIC_99800000.0  ACQIC_998013.0  ACQIC_998105.0  ACQIC_999083.0  \\\n",
       "0                 0               0               0               0   \n",
       "1                 0               0               0               0   \n",
       "2                 0               0               0               0   \n",
       "3                 0               0               0               0   \n",
       "4                 0               0               0               0   \n",
       "\n",
       "   ACQIC_999359.0  ACQIC_999511.0  ACQIC_999751.0  ACQIC_999854.0  \\\n",
       "0               0               0               0               0   \n",
       "1               0               0               0               0   \n",
       "2               0               0               0               0   \n",
       "3               0               0               0               0   \n",
       "4               0               0               0               0   \n",
       "\n",
       "   ACQIC_999957.0  ACQIC_NAN  \n",
       "0               0          0  \n",
       "1               0          0  \n",
       "2               0          0  \n",
       "3               0          0  \n",
       "4               0          0  \n",
       "\n",
       "[5 rows x 5097 columns]"
      ]
     },
     "execution_count": 8,
     "metadata": {},
     "output_type": "execute_result"
    }
   ],
   "source": [
    "X_dummies.head()"
   ]
  },
  {
   "cell_type": "code",
   "execution_count": 9,
   "metadata": {},
   "outputs": [],
   "source": [
    "X_dummies_train= X_dummies[pd.notnull(X_dummies['FRAUD_IND'])]"
   ]
  },
  {
   "cell_type": "code",
   "execution_count": 10,
   "metadata": {},
   "outputs": [],
   "source": [
    "def get_k_col_name_list(k, prefix='col'):\n",
    "    L=[]\n",
    "    for a in range(k):\n",
    "        col= prefix+'_'+str(a)\n",
    "        L.append(col)\n",
    "    return L"
   ]
  },
  {
   "cell_type": "code",
   "execution_count": 11,
   "metadata": {},
   "outputs": [],
   "source": [
    "import logging\n",
    "def X_embedding_fm(emb_X_input, X_dummies, X_dummies_train, fm_model):\n",
    "    logging.info('Fit the FM model and derive the embedding values')\n",
    "    fm_model.fit(X_dummies_train, emb_X_input['FRAUD_IND']) #change Y HERE!\n",
    "    emb_weight = fm_model.weights[1]\n",
    "    X_emb = np.matmul(X_dummies.values, emb_weight)\n",
    "    X_emb = pd.DataFrame(X_emb, columns=get_k_col_name_list(k, prefix='ACQIC'))\n",
    "    #cuisine_emb = pd.DataFrame(cuisine_emb, columns=['cuisine'+edu_state[state]+str(i) for i in range(emb_weight.shape[1])])\n",
    "    #return emb_weight, X_emb #想要看weight再return出來\n",
    "    return X_emb"
   ]
  },
  {
   "cell_type": "code",
   "execution_count": 12,
   "metadata": {},
   "outputs": [],
   "source": [
    "import xlearn as xl\n",
    "#fm_model = xl.FMModel(task='binary', init=0.1, epoch=10, k=64, lr=0.1, reg_lambda=0.1, opt='sgd', metric='auc')\n",
    "fm_model = xl.FMModel(task='binary', init=0.66, epoch=10, k=32, lr=0.05, reg_lambda=0.1, opt='adagrad', metric='auc')\n",
    "k=32"
   ]
  },
  {
   "cell_type": "code",
   "execution_count": 13,
   "metadata": {},
   "outputs": [],
   "source": [
    "dataTrain = data[pd.notnull(data['FRAUD_IND'])]\n",
    "dataTest = data[~pd.notnull(data['FRAUD_IND'])]"
   ]
  },
  {
   "cell_type": "code",
   "execution_count": 14,
   "metadata": {},
   "outputs": [],
   "source": [
    "emb_X_input = dataTrain[['TXKEY','FRAUD_IND']]\n",
    "X_dummies= X_dummies.drop(['FRAUD_IND'], axis=1)\n",
    "X_dummies_train= X_dummies_train.drop(['FRAUD_IND'], axis=1)\n",
    "del (dataTrain, dataTest)"
   ]
  },
  {
   "cell_type": "code",
   "execution_count": 15,
   "metadata": {},
   "outputs": [],
   "source": [
    "X_emb = X_embedding_fm(emb_X_input, X_dummies, X_dummies_train, fm_model)"
   ]
  },
  {
   "cell_type": "code",
   "execution_count": 16,
   "metadata": {},
   "outputs": [
    {
     "data": {
      "text/html": [
       "<div>\n",
       "<style scoped>\n",
       "    .dataframe tbody tr th:only-of-type {\n",
       "        vertical-align: middle;\n",
       "    }\n",
       "\n",
       "    .dataframe tbody tr th {\n",
       "        vertical-align: top;\n",
       "    }\n",
       "\n",
       "    .dataframe thead th {\n",
       "        text-align: right;\n",
       "    }\n",
       "</style>\n",
       "<table border=\"1\" class=\"dataframe\">\n",
       "  <thead>\n",
       "    <tr style=\"text-align: right;\">\n",
       "      <th></th>\n",
       "      <th>ACQIC_0</th>\n",
       "      <th>ACQIC_1</th>\n",
       "      <th>ACQIC_2</th>\n",
       "      <th>ACQIC_3</th>\n",
       "      <th>ACQIC_4</th>\n",
       "      <th>ACQIC_5</th>\n",
       "      <th>ACQIC_6</th>\n",
       "      <th>ACQIC_7</th>\n",
       "      <th>ACQIC_8</th>\n",
       "      <th>ACQIC_9</th>\n",
       "      <th>...</th>\n",
       "      <th>ACQIC_22</th>\n",
       "      <th>ACQIC_23</th>\n",
       "      <th>ACQIC_24</th>\n",
       "      <th>ACQIC_25</th>\n",
       "      <th>ACQIC_26</th>\n",
       "      <th>ACQIC_27</th>\n",
       "      <th>ACQIC_28</th>\n",
       "      <th>ACQIC_29</th>\n",
       "      <th>ACQIC_30</th>\n",
       "      <th>ACQIC_31</th>\n",
       "    </tr>\n",
       "  </thead>\n",
       "  <tbody>\n",
       "    <tr>\n",
       "      <th>0</th>\n",
       "      <td>4.935650e-10</td>\n",
       "      <td>2.084680e-10</td>\n",
       "      <td>5.698420e-11</td>\n",
       "      <td>4.322090e-10</td>\n",
       "      <td>4.079060e-10</td>\n",
       "      <td>3.897260e-10</td>\n",
       "      <td>2.319420e-10</td>\n",
       "      <td>3.674660e-10</td>\n",
       "      <td>1.006850e-10</td>\n",
       "      <td>1.756550e-10</td>\n",
       "      <td>...</td>\n",
       "      <td>1.998730e-10</td>\n",
       "      <td>4.103870e-10</td>\n",
       "      <td>8.039800e-11</td>\n",
       "      <td>1.657600e-10</td>\n",
       "      <td>1.493510e-10</td>\n",
       "      <td>1.295410e-10</td>\n",
       "      <td>2.616030e-10</td>\n",
       "      <td>3.551740e-10</td>\n",
       "      <td>2.107610e-10</td>\n",
       "      <td>1.939890e-10</td>\n",
       "    </tr>\n",
       "    <tr>\n",
       "      <th>1</th>\n",
       "      <td>1.317220e-43</td>\n",
       "      <td>1.317220e-43</td>\n",
       "      <td>1.317220e-43</td>\n",
       "      <td>1.317220e-43</td>\n",
       "      <td>1.317220e-43</td>\n",
       "      <td>1.317220e-43</td>\n",
       "      <td>1.317220e-43</td>\n",
       "      <td>1.317220e-43</td>\n",
       "      <td>1.317220e-43</td>\n",
       "      <td>1.317220e-43</td>\n",
       "      <td>...</td>\n",
       "      <td>1.317220e-43</td>\n",
       "      <td>1.317220e-43</td>\n",
       "      <td>1.317220e-43</td>\n",
       "      <td>1.317220e-43</td>\n",
       "      <td>1.317220e-43</td>\n",
       "      <td>1.317220e-43</td>\n",
       "      <td>1.317220e-43</td>\n",
       "      <td>1.317220e-43</td>\n",
       "      <td>1.317220e-43</td>\n",
       "      <td>1.317220e-43</td>\n",
       "    </tr>\n",
       "    <tr>\n",
       "      <th>2</th>\n",
       "      <td>1.317220e-43</td>\n",
       "      <td>1.317220e-43</td>\n",
       "      <td>1.317220e-43</td>\n",
       "      <td>1.317220e-43</td>\n",
       "      <td>1.317220e-43</td>\n",
       "      <td>1.317220e-43</td>\n",
       "      <td>1.317220e-43</td>\n",
       "      <td>1.317220e-43</td>\n",
       "      <td>1.317220e-43</td>\n",
       "      <td>1.317220e-43</td>\n",
       "      <td>...</td>\n",
       "      <td>1.317220e-43</td>\n",
       "      <td>1.317220e-43</td>\n",
       "      <td>1.317220e-43</td>\n",
       "      <td>1.317220e-43</td>\n",
       "      <td>1.317220e-43</td>\n",
       "      <td>1.317220e-43</td>\n",
       "      <td>1.317220e-43</td>\n",
       "      <td>1.317220e-43</td>\n",
       "      <td>1.317220e-43</td>\n",
       "      <td>1.317220e-43</td>\n",
       "    </tr>\n",
       "    <tr>\n",
       "      <th>3</th>\n",
       "      <td>1.317220e-43</td>\n",
       "      <td>1.317220e-43</td>\n",
       "      <td>1.317220e-43</td>\n",
       "      <td>1.317220e-43</td>\n",
       "      <td>1.317220e-43</td>\n",
       "      <td>1.317220e-43</td>\n",
       "      <td>1.317220e-43</td>\n",
       "      <td>1.317220e-43</td>\n",
       "      <td>1.317220e-43</td>\n",
       "      <td>1.317220e-43</td>\n",
       "      <td>...</td>\n",
       "      <td>1.317220e-43</td>\n",
       "      <td>1.317220e-43</td>\n",
       "      <td>1.317220e-43</td>\n",
       "      <td>1.317220e-43</td>\n",
       "      <td>1.317220e-43</td>\n",
       "      <td>1.317220e-43</td>\n",
       "      <td>1.317220e-43</td>\n",
       "      <td>1.317220e-43</td>\n",
       "      <td>1.317220e-43</td>\n",
       "      <td>1.317220e-43</td>\n",
       "    </tr>\n",
       "    <tr>\n",
       "      <th>4</th>\n",
       "      <td>1.317220e-43</td>\n",
       "      <td>1.317220e-43</td>\n",
       "      <td>1.317220e-43</td>\n",
       "      <td>1.317220e-43</td>\n",
       "      <td>1.317220e-43</td>\n",
       "      <td>1.317220e-43</td>\n",
       "      <td>1.317220e-43</td>\n",
       "      <td>1.317220e-43</td>\n",
       "      <td>1.317220e-43</td>\n",
       "      <td>1.317220e-43</td>\n",
       "      <td>...</td>\n",
       "      <td>1.317220e-43</td>\n",
       "      <td>1.317220e-43</td>\n",
       "      <td>1.317220e-43</td>\n",
       "      <td>1.317220e-43</td>\n",
       "      <td>1.317220e-43</td>\n",
       "      <td>1.317220e-43</td>\n",
       "      <td>1.317220e-43</td>\n",
       "      <td>1.317220e-43</td>\n",
       "      <td>1.317220e-43</td>\n",
       "      <td>1.317220e-43</td>\n",
       "    </tr>\n",
       "  </tbody>\n",
       "</table>\n",
       "<p>5 rows × 32 columns</p>\n",
       "</div>"
      ],
      "text/plain": [
       "        ACQIC_0       ACQIC_1       ACQIC_2       ACQIC_3       ACQIC_4  \\\n",
       "0  4.935650e-10  2.084680e-10  5.698420e-11  4.322090e-10  4.079060e-10   \n",
       "1  1.317220e-43  1.317220e-43  1.317220e-43  1.317220e-43  1.317220e-43   \n",
       "2  1.317220e-43  1.317220e-43  1.317220e-43  1.317220e-43  1.317220e-43   \n",
       "3  1.317220e-43  1.317220e-43  1.317220e-43  1.317220e-43  1.317220e-43   \n",
       "4  1.317220e-43  1.317220e-43  1.317220e-43  1.317220e-43  1.317220e-43   \n",
       "\n",
       "        ACQIC_5       ACQIC_6       ACQIC_7       ACQIC_8       ACQIC_9  \\\n",
       "0  3.897260e-10  2.319420e-10  3.674660e-10  1.006850e-10  1.756550e-10   \n",
       "1  1.317220e-43  1.317220e-43  1.317220e-43  1.317220e-43  1.317220e-43   \n",
       "2  1.317220e-43  1.317220e-43  1.317220e-43  1.317220e-43  1.317220e-43   \n",
       "3  1.317220e-43  1.317220e-43  1.317220e-43  1.317220e-43  1.317220e-43   \n",
       "4  1.317220e-43  1.317220e-43  1.317220e-43  1.317220e-43  1.317220e-43   \n",
       "\n",
       "       ...           ACQIC_22      ACQIC_23      ACQIC_24      ACQIC_25  \\\n",
       "0      ...       1.998730e-10  4.103870e-10  8.039800e-11  1.657600e-10   \n",
       "1      ...       1.317220e-43  1.317220e-43  1.317220e-43  1.317220e-43   \n",
       "2      ...       1.317220e-43  1.317220e-43  1.317220e-43  1.317220e-43   \n",
       "3      ...       1.317220e-43  1.317220e-43  1.317220e-43  1.317220e-43   \n",
       "4      ...       1.317220e-43  1.317220e-43  1.317220e-43  1.317220e-43   \n",
       "\n",
       "       ACQIC_26      ACQIC_27      ACQIC_28      ACQIC_29      ACQIC_30  \\\n",
       "0  1.493510e-10  1.295410e-10  2.616030e-10  3.551740e-10  2.107610e-10   \n",
       "1  1.317220e-43  1.317220e-43  1.317220e-43  1.317220e-43  1.317220e-43   \n",
       "2  1.317220e-43  1.317220e-43  1.317220e-43  1.317220e-43  1.317220e-43   \n",
       "3  1.317220e-43  1.317220e-43  1.317220e-43  1.317220e-43  1.317220e-43   \n",
       "4  1.317220e-43  1.317220e-43  1.317220e-43  1.317220e-43  1.317220e-43   \n",
       "\n",
       "       ACQIC_31  \n",
       "0  1.939890e-10  \n",
       "1  1.317220e-43  \n",
       "2  1.317220e-43  \n",
       "3  1.317220e-43  \n",
       "4  1.317220e-43  \n",
       "\n",
       "[5 rows x 32 columns]"
      ]
     },
     "execution_count": 16,
     "metadata": {},
     "output_type": "execute_result"
    }
   ],
   "source": [
    "X_emb.head()"
   ]
  },
  {
   "cell_type": "code",
   "execution_count": 17,
   "metadata": {},
   "outputs": [
    {
     "data": {
      "text/plain": [
       "0.116671"
      ]
     },
     "execution_count": 17,
     "metadata": {},
     "output_type": "execute_result"
    }
   ],
   "source": [
    "X_emb.ACQIC_0.max()"
   ]
  },
  {
   "cell_type": "code",
   "execution_count": 18,
   "metadata": {},
   "outputs": [],
   "source": [
    "data=pd.concat([data,X_emb], axis=1)"
   ]
  },
  {
   "cell_type": "code",
   "execution_count": 19,
   "metadata": {},
   "outputs": [
    {
     "data": {
      "text/html": [
       "<div>\n",
       "<style scoped>\n",
       "    .dataframe tbody tr th:only-of-type {\n",
       "        vertical-align: middle;\n",
       "    }\n",
       "\n",
       "    .dataframe tbody tr th {\n",
       "        vertical-align: top;\n",
       "    }\n",
       "\n",
       "    .dataframe thead th {\n",
       "        text-align: right;\n",
       "    }\n",
       "</style>\n",
       "<table border=\"1\" class=\"dataframe\">\n",
       "  <thead>\n",
       "    <tr style=\"text-align: right;\">\n",
       "      <th></th>\n",
       "      <th>ACCT_VINTAGE</th>\n",
       "      <th>ACQIC</th>\n",
       "      <th>AGE</th>\n",
       "      <th>AGNO</th>\n",
       "      <th>ANDFG</th>\n",
       "      <th>APPFG</th>\n",
       "      <th>AVAILABLE_LIMIT_AMT</th>\n",
       "      <th>BNSFG</th>\n",
       "      <th>BNSPT</th>\n",
       "      <th>BONUS_POINTS</th>\n",
       "      <th>...</th>\n",
       "      <th>ACQIC_22</th>\n",
       "      <th>ACQIC_23</th>\n",
       "      <th>ACQIC_24</th>\n",
       "      <th>ACQIC_25</th>\n",
       "      <th>ACQIC_26</th>\n",
       "      <th>ACQIC_27</th>\n",
       "      <th>ACQIC_28</th>\n",
       "      <th>ACQIC_29</th>\n",
       "      <th>ACQIC_30</th>\n",
       "      <th>ACQIC_31</th>\n",
       "    </tr>\n",
       "  </thead>\n",
       "  <tbody>\n",
       "    <tr>\n",
       "      <th>0</th>\n",
       "      <td>137.0</td>\n",
       "      <td>88547000.0</td>\n",
       "      <td>37</td>\n",
       "      <td>0032</td>\n",
       "      <td>0</td>\n",
       "      <td>0</td>\n",
       "      <td>159308.0</td>\n",
       "      <td>0</td>\n",
       "      <td>0</td>\n",
       "      <td>314.0</td>\n",
       "      <td>...</td>\n",
       "      <td>1.998730e-10</td>\n",
       "      <td>4.103870e-10</td>\n",
       "      <td>8.039800e-11</td>\n",
       "      <td>1.657600e-10</td>\n",
       "      <td>1.493510e-10</td>\n",
       "      <td>1.295410e-10</td>\n",
       "      <td>2.616030e-10</td>\n",
       "      <td>3.551740e-10</td>\n",
       "      <td>2.107610e-10</td>\n",
       "      <td>1.939890e-10</td>\n",
       "    </tr>\n",
       "    <tr>\n",
       "      <th>1</th>\n",
       "      <td>150.0</td>\n",
       "      <td>493817.0</td>\n",
       "      <td>34</td>\n",
       "      <td>A013</td>\n",
       "      <td>0</td>\n",
       "      <td>0</td>\n",
       "      <td>108393.0</td>\n",
       "      <td>0</td>\n",
       "      <td>0</td>\n",
       "      <td>150.0</td>\n",
       "      <td>...</td>\n",
       "      <td>1.317220e-43</td>\n",
       "      <td>1.317220e-43</td>\n",
       "      <td>1.317220e-43</td>\n",
       "      <td>1.317220e-43</td>\n",
       "      <td>1.317220e-43</td>\n",
       "      <td>1.317220e-43</td>\n",
       "      <td>1.317220e-43</td>\n",
       "      <td>1.317220e-43</td>\n",
       "      <td>1.317220e-43</td>\n",
       "      <td>1.317220e-43</td>\n",
       "    </tr>\n",
       "    <tr>\n",
       "      <th>2</th>\n",
       "      <td>171.0</td>\n",
       "      <td>431330.0</td>\n",
       "      <td>48</td>\n",
       "      <td>A013</td>\n",
       "      <td>0</td>\n",
       "      <td>0</td>\n",
       "      <td>126795.0</td>\n",
       "      <td>0</td>\n",
       "      <td>0</td>\n",
       "      <td>594.0</td>\n",
       "      <td>...</td>\n",
       "      <td>1.317220e-43</td>\n",
       "      <td>1.317220e-43</td>\n",
       "      <td>1.317220e-43</td>\n",
       "      <td>1.317220e-43</td>\n",
       "      <td>1.317220e-43</td>\n",
       "      <td>1.317220e-43</td>\n",
       "      <td>1.317220e-43</td>\n",
       "      <td>1.317220e-43</td>\n",
       "      <td>1.317220e-43</td>\n",
       "      <td>1.317220e-43</td>\n",
       "    </tr>\n",
       "    <tr>\n",
       "      <th>3</th>\n",
       "      <td>92.0</td>\n",
       "      <td>493817.0</td>\n",
       "      <td>38</td>\n",
       "      <td>0032</td>\n",
       "      <td>0</td>\n",
       "      <td>1</td>\n",
       "      <td>231316.0</td>\n",
       "      <td>0</td>\n",
       "      <td>0</td>\n",
       "      <td>0.0</td>\n",
       "      <td>...</td>\n",
       "      <td>1.317220e-43</td>\n",
       "      <td>1.317220e-43</td>\n",
       "      <td>1.317220e-43</td>\n",
       "      <td>1.317220e-43</td>\n",
       "      <td>1.317220e-43</td>\n",
       "      <td>1.317220e-43</td>\n",
       "      <td>1.317220e-43</td>\n",
       "      <td>1.317220e-43</td>\n",
       "      <td>1.317220e-43</td>\n",
       "      <td>1.317220e-43</td>\n",
       "    </tr>\n",
       "    <tr>\n",
       "      <th>4</th>\n",
       "      <td>76.0</td>\n",
       "      <td>431330.0</td>\n",
       "      <td>29</td>\n",
       "      <td>0092</td>\n",
       "      <td>0</td>\n",
       "      <td>0</td>\n",
       "      <td>-6265.0</td>\n",
       "      <td>0</td>\n",
       "      <td>0</td>\n",
       "      <td>1978.0</td>\n",
       "      <td>...</td>\n",
       "      <td>1.317220e-43</td>\n",
       "      <td>1.317220e-43</td>\n",
       "      <td>1.317220e-43</td>\n",
       "      <td>1.317220e-43</td>\n",
       "      <td>1.317220e-43</td>\n",
       "      <td>1.317220e-43</td>\n",
       "      <td>1.317220e-43</td>\n",
       "      <td>1.317220e-43</td>\n",
       "      <td>1.317220e-43</td>\n",
       "      <td>1.317220e-43</td>\n",
       "    </tr>\n",
       "  </tbody>\n",
       "</table>\n",
       "<p>5 rows × 93 columns</p>\n",
       "</div>"
      ],
      "text/plain": [
       "   ACCT_VINTAGE       ACQIC  AGE  AGNO  ANDFG  APPFG  AVAILABLE_LIMIT_AMT  \\\n",
       "0         137.0  88547000.0   37  0032      0      0             159308.0   \n",
       "1         150.0    493817.0   34  A013      0      0             108393.0   \n",
       "2         171.0    431330.0   48  A013      0      0             126795.0   \n",
       "3          92.0    493817.0   38  0032      0      1             231316.0   \n",
       "4          76.0    431330.0   29  0092      0      0              -6265.0   \n",
       "\n",
       "   BNSFG  BNSPT  BONUS_POINTS      ...           ACQIC_22      ACQIC_23  \\\n",
       "0      0      0         314.0      ...       1.998730e-10  4.103870e-10   \n",
       "1      0      0         150.0      ...       1.317220e-43  1.317220e-43   \n",
       "2      0      0         594.0      ...       1.317220e-43  1.317220e-43   \n",
       "3      0      0           0.0      ...       1.317220e-43  1.317220e-43   \n",
       "4      0      0        1978.0      ...       1.317220e-43  1.317220e-43   \n",
       "\n",
       "       ACQIC_24      ACQIC_25      ACQIC_26      ACQIC_27      ACQIC_28  \\\n",
       "0  8.039800e-11  1.657600e-10  1.493510e-10  1.295410e-10  2.616030e-10   \n",
       "1  1.317220e-43  1.317220e-43  1.317220e-43  1.317220e-43  1.317220e-43   \n",
       "2  1.317220e-43  1.317220e-43  1.317220e-43  1.317220e-43  1.317220e-43   \n",
       "3  1.317220e-43  1.317220e-43  1.317220e-43  1.317220e-43  1.317220e-43   \n",
       "4  1.317220e-43  1.317220e-43  1.317220e-43  1.317220e-43  1.317220e-43   \n",
       "\n",
       "       ACQIC_29      ACQIC_30      ACQIC_31  \n",
       "0  3.551740e-10  2.107610e-10  1.939890e-10  \n",
       "1  1.317220e-43  1.317220e-43  1.317220e-43  \n",
       "2  1.317220e-43  1.317220e-43  1.317220e-43  \n",
       "3  1.317220e-43  1.317220e-43  1.317220e-43  \n",
       "4  1.317220e-43  1.317220e-43  1.317220e-43  \n",
       "\n",
       "[5 rows x 93 columns]"
      ]
     },
     "execution_count": 19,
     "metadata": {},
     "output_type": "execute_result"
    }
   ],
   "source": [
    "data.head()"
   ]
  },
  {
   "cell_type": "markdown",
   "metadata": {},
   "source": [
    "### Create other ratio features"
   ]
  },
  {
   "cell_type": "code",
   "execution_count": 20,
   "metadata": {},
   "outputs": [],
   "source": [
    "num_aggregations = {\n",
    "        'ECFG': [ 'mean'],\n",
    "        'INSFG': [ 'mean'],\n",
    "        'BNSFG': [ 'mean'],\n",
    "        'FLAM1': [ 'mean'],\n",
    "        'FALLBACK_IND':[ 'mean'],\n",
    "        'ETYMD':[ 'nunique'],\n",
    "        'h_in_a_Day':[ 'nunique']\n",
    "}\n",
    "\n",
    "# MCHNO info\n",
    "fraud_agg = data.groupby('MCHNO').agg({**num_aggregations})\n",
    "fraud_agg.columns = pd.Index([e[0] + \"_MCHNO_\" + e[1].upper() for e in fraud_agg.columns.tolist()])\n",
    "\n",
    "# left join to df\n",
    "data = data.join(fraud_agg, how='left', on='MCHNO')\n",
    "del fraud_agg"
   ]
  },
  {
   "cell_type": "code",
   "execution_count": 21,
   "metadata": {},
   "outputs": [],
   "source": [
    "num_aggregations = {\n",
    "        'ECFG': [ 'mean'],\n",
    "        'INSFG': [ 'mean'],\n",
    "        'BNSFG': [ 'mean'],\n",
    "        #'BNSPT':[ 'mean'],\n",
    "        #'FLAM1': [ 'mean'],\n",
    "        'FALLBACK_IND':[ 'mean'],\n",
    "        'ETYMD':[ 'nunique'],\n",
    "        'STOCN':[ 'nunique']\n",
    "}\n",
    "\n",
    "# SCITY info\n",
    "fraud_agg = data.groupby('SCITY').agg({**num_aggregations})\n",
    "fraud_agg.columns = pd.Index([e[0] + \"_SCITY_\" + e[1].upper() for e in fraud_agg.columns.tolist()])\n",
    "\n",
    "# left join to df\n",
    "data = data.join(fraud_agg, how='left', on='SCITY')\n",
    "del fraud_agg"
   ]
  },
  {
   "cell_type": "code",
   "execution_count": 22,
   "metadata": {},
   "outputs": [],
   "source": [
    "num_aggregations = {\n",
    "        'ECFG': [ 'mean'],\n",
    "        'INSFG': [ 'mean'],\n",
    "        'BNSFG': [ 'mean'],\n",
    "        #'BNSPT':[ 'mean'],\n",
    "        #'FLAM1': [ 'mean'],\n",
    "        'FALLBACK_IND':[ 'mean']\n",
    "}\n",
    "\n",
    "# SCITY info\n",
    "fraud_agg = data.groupby('STOCN').agg({**num_aggregations})\n",
    "fraud_agg.columns = pd.Index([e[0] + \"_STOCN_\" + e[1].upper() for e in fraud_agg.columns.tolist()])\n",
    "\n",
    "# left join to df\n",
    "data = data.join(fraud_agg, how='left', on='STOCN')\n",
    "del fraud_agg"
   ]
  },
  {
   "cell_type": "code",
   "execution_count": 23,
   "metadata": {},
   "outputs": [],
   "source": [
    "num_aggregations = {\n",
    "        'ECFG': [ 'mean'],\n",
    "        'h_in_a_Day':[ 'nunique']\n",
    "}\n",
    "\n",
    "# SCITY info\n",
    "fraud_agg = data.groupby('ACQIC').agg({**num_aggregations})\n",
    "fraud_agg.columns = pd.Index([e[0] + \"_ACQIC_\" + e[1].upper() for e in fraud_agg.columns.tolist()])\n",
    "\n",
    "# left join to df\n",
    "data = data.join(fraud_agg, how='left', on='ACQIC')\n",
    "del fraud_agg"
   ]
  },
  {
   "cell_type": "code",
   "execution_count": 24,
   "metadata": {},
   "outputs": [],
   "source": [
    "data= data.astype({'AGNO':'category', 'CATP1':'category', 'CC_CUST_LEVEL':'category', 'CONTP':'category', 'CUORG':'category', 'MCC':'category',\n",
    "       'MCHNO':'category', 'SCITY':'category', 'STOCN':'category', 'TSCFG':'category','h_in_a_Day':'category','ETYMD':'category','ACQIC':'category'})\n",
    "#, 'PAY_TYPE':'category', 'POSITION_CODE':'category'"
   ]
  },
  {
   "cell_type": "code",
   "execution_count": 25,
   "metadata": {},
   "outputs": [
    {
     "data": {
      "text/plain": [
       "Index(['ACCT_VINTAGE', 'ACQIC', 'AGE', 'AGNO', 'ANDFG', 'APPFG',\n",
       "       'AVAILABLE_LIMIT_AMT', 'BNSFG', 'BNSPT', 'BONUS_POINTS',\n",
       "       ...\n",
       "       'BNSFG_SCITY_MEAN', 'FALLBACK_IND_SCITY_MEAN', 'ETYMD_SCITY_NUNIQUE',\n",
       "       'STOCN_SCITY_NUNIQUE', 'ECFG_STOCN_MEAN', 'INSFG_STOCN_MEAN',\n",
       "       'BNSFG_STOCN_MEAN', 'FALLBACK_IND_STOCN_MEAN', 'ECFG_ACQIC_MEAN',\n",
       "       'h_in_a_Day_ACQIC_NUNIQUE'],\n",
       "      dtype='object', length=112)"
      ]
     },
     "execution_count": 25,
     "metadata": {},
     "output_type": "execute_result"
    }
   ],
   "source": [
    "dataTrain = data[pd.notnull(data['FRAUD_IND'])]\n",
    "dataTest = data[~pd.notnull(data['FRAUD_IND'])]\n",
    "dataTrain.columns\n",
    "del(data)"
   ]
  },
  {
   "cell_type": "code",
   "execution_count": 26,
   "metadata": {},
   "outputs": [],
   "source": [
    "dataTrain = dataTrain.drop(['ACQIC','CANO','CHID','PAY_TYPE', 'POSITION_CODE','REVOLVING_AMT', 'REVOLVING_INTEREST','s_in_a_Day'], axis=1)\n",
    "dataTest = dataTest.drop(['TXKEY','FRAUD_IND','ACQIC','CANO','CHID','PAY_TYPE', 'POSITION_CODE','REVOLVING_AMT', 'REVOLVING_INTEREST','s_in_a_Day'], axis=1)\n",
    "X_feature = dataTrain.drop(['TXKEY','FRAUD_IND'], axis=1)\n",
    "y_t =dataTrain['FRAUD_IND']"
   ]
  },
  {
   "cell_type": "code",
   "execution_count": 27,
   "metadata": {},
   "outputs": [],
   "source": [
    "#把上面dataTrain.columns的結果貼到dataTrain，再去掉'Survived'\n",
    "from sklearn.model_selection import train_test_split\n",
    "#拿掉feature_importances低的因子\n",
    "X_train, X_test, y_train, y_test = train_test_split(X_feature, y_t, test_size=0.3, random_state=0)"
   ]
  },
  {
   "cell_type": "code",
   "execution_count": 28,
   "metadata": {},
   "outputs": [],
   "source": [
    "# Function for Measure Performance\n",
    "from  sklearn  import  metrics\n",
    "def measure_performance(X,y,clf, show_accuracy=True, show_classification_report=True, show_confusion_matrix=True, show_roc_auc = True):\n",
    "    y_pred = clf.predict(X)\n",
    "    y_predprob = clf.predict_proba(X)[:,1]\n",
    "    if show_accuracy:\n",
    "        print (\"Accuracy:{0:.3f}\".format(metrics.accuracy_score(y,y_pred))),\"\\n\"\n",
    "\n",
    "    if show_classification_report:\n",
    "        print(\"Classification report\")\n",
    "        print(metrics.classification_report(y,y_pred)),\"\\n\"\n",
    "        \n",
    "    if show_confusion_matrix:\n",
    "        print(\"Confusion matrix\")\n",
    "        print(metrics.confusion_matrix(y,y_pred)),\"\\n\"  \n",
    "        \n",
    "    if show_roc_auc:\n",
    "        print(\"ROC AUC Score\")\n",
    "        print(metrics.roc_auc_score(y,y_predprob)),\"\\n\""
   ]
  },
  {
   "cell_type": "code",
   "execution_count": 29,
   "metadata": {},
   "outputs": [
    {
     "name": "stdout",
     "output_type": "stream",
     "text": [
      "Start training...\n"
     ]
    },
    {
     "data": {
      "text/plain": [
       "GridSearchCV(cv=4, error_score='raise-deprecating',\n",
       "       estimator=LGBMClassifier(boosting_type='gbdt', class_weight=None, colsample_bytree=1.0,\n",
       "        learning_rate=0.1, max_depth=-1, min_child_samples=20,\n",
       "        min_child_weight=0.001, min_split_gain=0.0, n_estimators=150,\n",
       "        n_jobs=-1, num_leaves=31, objective=None, random_state=0,\n",
       "        reg_alpha=0.0, reg_lambda=0.0, silent=True, subsample=1.0,\n",
       "        subsample_for_bin=200000, subsample_freq=0),\n",
       "       fit_params=None, iid='warn', n_jobs=None,\n",
       "       param_grid={'objective': ['binary'], 'learning_rate': [0.11], 'num_leaves': [64], 'feature_fraction': [0.7], 'bagging_fraction': [0.95], 'max_depth': [10], 'bagging_freq': [5], 'reg_alpha': [15], 'min_child_weight': [2]},\n",
       "       pre_dispatch='2*n_jobs', refit=True, return_train_score='warn',\n",
       "       scoring='roc_auc', verbose=0)"
      ]
     },
     "execution_count": 29,
     "metadata": {},
     "output_type": "execute_result"
    },
    {
     "name": "stdout",
     "output_type": "stream",
     "text": [
      "Best parameters found by grid search are: {'bagging_fraction': 0.95, 'bagging_freq': 5, 'feature_fraction': 0.7, 'learning_rate': 0.11, 'max_depth': 10, 'min_child_weight': 2, 'num_leaves': 64, 'objective': 'binary', 'reg_alpha': 15}\n",
      "Start predicting...\n",
      "Predicting is over\n"
     ]
    }
   ],
   "source": [
    "# Grid Search\n",
    "print('Start training...')\n",
    "estimator = lgb.LGBMClassifier(boosting_type='gbdt', n_estimators = 150, random_state=0) #, objective = 'binary'\n",
    "\n",
    "\n",
    "param_grid = {\n",
    "    'objective':['binary'],\n",
    "    'learning_rate': [0.11], \n",
    "    'num_leaves': [64],\n",
    "    'feature_fraction': [0.7],\n",
    "    'bagging_fraction': [0.95],\n",
    "    'max_depth':[10],\n",
    "    #'max_bin': [6],\n",
    "    'bagging_freq':[5],\n",
    "    #'lambda_l1': [40] , #[44,133] then 44 [44,88] then 44 np.arange(38,44,1) np.arange(16,20,1)\n",
    "    #'lambda_l2': [7] ,#np.arange(11,15,1) then 13\n",
    "    'reg_alpha':[15] ,\n",
    "    #'min_split_gain': [0.04], \n",
    "    'min_child_weight': [2] \n",
    "}\n",
    "\n",
    "LGBM_grid = GridSearchCV(estimator, param_grid,scoring='roc_auc',cv=4)\n",
    "LGBM_grid.fit(X_train, y_train)\n",
    "print('Best parameters found by grid search are:', LGBM_grid.best_params_)\n",
    "\n",
    "# Final Model\n",
    "evals_result = {} \n",
    "print('Start predicting...')\n",
    "LGBM_grid_final = lgb.LGBMClassifier(boosting_type='gbdt',n_estimators = 150, random_state=0 ,\n",
    "                                     objective = LGBM_grid.best_params_['objective'],\n",
    "                                     learning_rate = LGBM_grid.best_params_['learning_rate'],\n",
    "                              num_leaves = LGBM_grid.best_params_['num_leaves'],\n",
    "                                feature_fraction = LGBM_grid.best_params_['feature_fraction'], \n",
    "                             bagging_fraction = LGBM_grid.best_params_['bagging_fraction'],\n",
    "                             max_depth = LGBM_grid.best_params_['max_depth'],\n",
    "                              #max_bin = LGBM_grid.best_params_['max_bin'],\n",
    "                                bagging_freq = LGBM_grid.best_params_['bagging_freq'],\n",
    "                              #lambda_l1 = LGBM_grid.best_params_['lambda_l1'],\n",
    "                              #lambda_l2 = LGBM_grid.best_params_['lambda_l2'],\n",
    "                              reg_alpha = LGBM_grid.best_params_['reg_alpha'],\n",
    "                            #min_split_gain = LGBM_grid.best_params_['min_split_gain'],\n",
    "                            min_child_weight = LGBM_grid.best_params_['min_child_weight']\n",
    "                                    )\n",
    "LGBM_grid_final_fit = LGBM_grid_final.fit(X_train, y_train)\n",
    "print(\"Predicting is over\")"
   ]
  },
  {
   "cell_type": "code",
   "execution_count": 30,
   "metadata": {},
   "outputs": [
    {
     "name": "stdout",
     "output_type": "stream",
     "text": [
      "Accuracy:0.977\n",
      "Classification report\n",
      "              precision    recall  f1-score   support\n",
      "\n",
      "         0.0       0.99      0.99      0.99    137148\n",
      "         1.0       0.92      0.91      0.92     21865\n",
      "\n",
      "   micro avg       0.98      0.98      0.98    159013\n",
      "   macro avg       0.95      0.95      0.95    159013\n",
      "weighted avg       0.98      0.98      0.98    159013\n",
      "\n",
      "Confusion matrix\n",
      "[[135447   1701]\n",
      " [  1933  19932]]\n",
      "ROC AUC Score\n",
      "0.9933129016923242\n",
      "Feature importances: [261, 434, 789, 30, 91, 261, 0, 0, 269, 246, 15, 95, 59, 397, 78, 2, 220, 87, 225, 13, 4, 284, 110, 127, 271, 6, 347, 6, 109, 66, 1, 2, 1, 274, 56, 32, 13, 5, 8, 91, 27, 852, 997, 0, 174, 4, 26, 690, 191, 16, 495, 5, 10, 4, 4, 8, 4, 4, 3, 2, 4, 6, 7, 2, 6, 2, 10, 7, 5, 7, 9, 4, 5, 7, 4, 5, 8, 7, 6, 1, 5, 3, 6, 27, 4, 2, 65, 7, 9, 65, 34, 5, 1, 16, 6, 3, 27, 12, 4, 14, 53, 3]\n",
      "Plot feature importances...\n"
     ]
    },
    {
     "data": {
      "image/png": "[encoded data removed]",
      "text/plain": [
       "<Figure size 792x432 with 1 Axes>"
      ]
     },
     "metadata": {},
     "output_type": "display_data"
    },
    {
     "data": {
      "image/png": "[encoded data removed]",
      "text/plain": [
       "<Figure size 1440x576 with 1 Axes>"
      ]
     },
     "metadata": {},
     "output_type": "display_data"
    }
   ],
   "source": [
    "#對test算performance\n",
    "LGBM_grid_measure = measure_performance(X = X_test, y = y_test, clf = LGBM_grid_final, show_classification_report=True, show_confusion_matrix=True)\n",
    "\n",
    "# feature importances\n",
    "print('Feature importances:', list(LGBM_grid_final.feature_importances_))\n",
    "\n",
    "# visualization\n",
    "print('Plot feature importances...')\n",
    "split_importance = lgb.plot_importance(LGBM_grid_final_fit, max_num_features=30, ignore_zero=False,figsize=(11, 6),grid=False, title='Feature importance_Split')\n",
    "gain_importance = lgb.plot_importance(LGBM_grid_final_fit, max_num_features=40, importance_type='gain',figsize=(20, 8),grid=False, title='Feature importance_Gain')\n"
   ]
  },
  {
   "cell_type": "code",
   "execution_count": 31,
   "metadata": {},
   "outputs": [
    {
     "data": {
      "text/plain": [
       "array([0.98676273, 0.91645593])"
      ]
     },
     "execution_count": 31,
     "metadata": {},
     "output_type": "execute_result"
    }
   ],
   "source": [
    "#對test算 f1_score\n",
    "from sklearn.metrics import f1_score\n",
    "y_pred_val = LGBM_grid_final_fit.predict(X_test)\n",
    "f1_score(y_test,y_pred_val,average=None)"
   ]
  },
  {
   "cell_type": "markdown",
   "metadata": {},
   "source": [
    "### 透過 F1 cumulative results檢視成效"
   ]
  },
  {
   "cell_type": "code",
   "execution_count": 32,
   "metadata": {},
   "outputs": [],
   "source": [
    "def get_lift(prob_data):\n",
    "    prob_data=prob_data.sort_values(by=['Prob'],ascending=False).reset_index(drop=True)\n",
    "    prob_data['cnt']=1.0\n",
    "    prob_data['cumsum']=prob_data.Y.cumsum()\n",
    "    prob_data['cum_cnt'] = prob_data.cnt.cumsum()\n",
    "    prob_data['precision'] = prob_data['cumsum']/prob_data['cum_cnt']\n",
    "    prob_data['recall'] = prob_data['cumsum']/prob_data['cumsum'].max()\n",
    "    lift_data = prob_data[['precision','recall']].groupby(['recall']).min().reset_index()\n",
    "    lift_data['f1'] = (2*lift_data.precision*lift_data.recall)/(lift_data.precision+lift_data.recall)\n",
    "    return lift_data"
   ]
  },
  {
   "cell_type": "code",
   "execution_count": 33,
   "metadata": {},
   "outputs": [],
   "source": [
    "result = pd.DataFrame(data={'Y':y_test,'Prob':y_pred_val})\n",
    "result_lift = get_lift(result)"
   ]
  },
  {
   "cell_type": "code",
   "execution_count": 34,
   "metadata": {},
   "outputs": [],
   "source": [
    "result_lift=result_lift.iloc[1:,:]"
   ]
  },
  {
   "cell_type": "code",
   "execution_count": 35,
   "metadata": {},
   "outputs": [
    {
     "data": {
      "text/html": [
       "<div>\n",
       "<style scoped>\n",
       "    .dataframe tbody tr th:only-of-type {\n",
       "        vertical-align: middle;\n",
       "    }\n",
       "\n",
       "    .dataframe tbody tr th {\n",
       "        vertical-align: top;\n",
       "    }\n",
       "\n",
       "    .dataframe thead th {\n",
       "        text-align: right;\n",
       "    }\n",
       "</style>\n",
       "<table border=\"1\" class=\"dataframe\">\n",
       "  <thead>\n",
       "    <tr style=\"text-align: right;\">\n",
       "      <th></th>\n",
       "      <th>recall</th>\n",
       "      <th>precision</th>\n",
       "      <th>f1</th>\n",
       "    </tr>\n",
       "  </thead>\n",
       "  <tbody>\n",
       "    <tr>\n",
       "      <th>19930</th>\n",
       "      <td>0.911548</td>\n",
       "      <td>0.921409</td>\n",
       "      <td>0.916452</td>\n",
       "    </tr>\n",
       "  </tbody>\n",
       "</table>\n",
       "</div>"
      ],
      "text/plain": [
       "         recall  precision        f1\n",
       "19930  0.911548   0.921409  0.916452"
      ]
     },
     "execution_count": 35,
     "metadata": {},
     "output_type": "execute_result"
    }
   ],
   "source": [
    "result_lift[result_lift.f1==result_lift.f1.max()]"
   ]
  },
  {
   "cell_type": "code",
   "execution_count": 36,
   "metadata": {},
   "outputs": [
    {
     "data": {
      "text/plain": [
       "[<matplotlib.lines.Line2D at 0x1262d8f60>]"
      ]
     },
     "execution_count": 36,
     "metadata": {},
     "output_type": "execute_result"
    },
    {
     "data": {
      "image/png": "[encoded data removed]",
      "text/plain": [
       "<Figure size 432x288 with 1 Axes>"
      ]
     },
     "metadata": {},
     "output_type": "display_data"
    }
   ],
   "source": [
    "plt.plot(result_lift.recall,result_lift.precision)"
   ]
  },
  {
   "cell_type": "code",
   "execution_count": 37,
   "metadata": {},
   "outputs": [],
   "source": [
    "#拿全部的dataTrain來建\n",
    "LGBM_grid_final_fit_all = LGBM_grid_final.fit(X_feature, y_t)"
   ]
  },
  {
   "cell_type": "code",
   "execution_count": 38,
   "metadata": {},
   "outputs": [],
   "source": [
    "LGBM_grid_final_fit_res =LGBM_grid_final_fit_all.predict_proba(dataTest)"
   ]
  },
  {
   "cell_type": "code",
   "execution_count": 39,
   "metadata": {},
   "outputs": [],
   "source": [
    "df_p = pd.DataFrame({'p0':LGBM_grid_final_fit_res[:,0],'p1':LGBM_grid_final_fit_res[:,1]})"
   ]
  },
  {
   "cell_type": "code",
   "execution_count": 40,
   "metadata": {},
   "outputs": [
    {
     "name": "stdout",
     "output_type": "stream",
     "text": [
      "偽冒機率門檻： 0.8903328119162298\n"
     ]
    }
   ],
   "source": [
    "submit=pd.read_csv('sampleSubmission.csv',encoding='big5')\n",
    "out = pd.concat([submit, df_p], axis=1, ignore_index=True)\n",
    "out.sort_values(by=[3], ascending=False, inplace=True)\n",
    "out.rename(columns={0:'TXKEY', 1:'FRAUD_IND', 2:'p0', 3:'p1'},inplace=True)\n",
    "print('偽冒機率門檻：',out.iloc[1438,3])#1634=1438/0.88\n",
    "out.FRAUD_IND[out.p1>=out.iloc[1438,3]]=1"
   ]
  },
  {
   "cell_type": "code",
   "execution_count": 41,
   "metadata": {},
   "outputs": [
    {
     "data": {
      "text/plain": [
       "1439"
      ]
     },
     "execution_count": 41,
     "metadata": {},
     "output_type": "execute_result"
    }
   ],
   "source": [
    "ttl= out['FRAUD_IND'].sum()\n",
    "ttl"
   ]
  },
  {
   "cell_type": "code",
   "execution_count": 42,
   "metadata": {},
   "outputs": [],
   "source": [
    "out=out[['TXKEY','FRAUD_IND']]\n",
    "out.to_csv(\"submit.csv\", index= False)"
   ]
  },
  {
   "cell_type": "code",
   "execution_count": 43,
   "metadata": {},
   "outputs": [
    {
     "name": "stdout",
     "output_type": "stream",
     "text": [
      "This submission: public score: 0.41797 and private score: 0.36770\n"
     ]
    }
   ],
   "source": [
    "print('This submission: public score: 0.41797 and private score: 0.36770')"
   ]
  }
 ],
 "metadata": {
  "kernelspec": {
   "display_name": "Python 3",
   "language": "python",
   "name": "python3"
  },
  "language_info": {
   "codemirror_mode": {
    "name": "ipython",
    "version": 3
   },
   "file_extension": ".py",
   "mimetype": "text/x-python",
   "name": "python",
   "nbconvert_exporter": "python",
   "pygments_lexer": "ipython3",
   "version": "3.6.5"
  }
 },
 "nbformat": 4,
 "nbformat_minor": 2
}

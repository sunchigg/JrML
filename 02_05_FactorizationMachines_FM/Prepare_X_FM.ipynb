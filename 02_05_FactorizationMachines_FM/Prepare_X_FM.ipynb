{
 "cells": [
  {
   "cell_type": "code",
   "execution_count": 1,
   "metadata": {},
   "outputs": [],
   "source": [
    "# load package\n",
    "import numpy as np\n",
    "import pandas as pd\n",
    "import pickle\n",
    "import xlearn as xl\n",
    "import logging\n",
    "\n",
    "# set path\n",
    "import os\n",
    "default_path = \"/Users/francislin/JrML/03_04_What's Cooking/\"\n",
    "os.chdir(default_path)\n",
    "\n",
    "# skip interaction warning\n",
    "import warnings; \n",
    "warnings.filterwarnings('ignore')\n",
    "#你可以选择修改 ast_note_iteractively kernel 选项来使得 Jupyter 为每一行的变量或语句执行这个操作，以便你可以立即看到多条语句一起输出\n",
    "from IPython.core.interactiveshell import InteractiveShell\n",
    "InteractiveShell.ast_node_interactivity = \"all\""
   ]
  },
  {
   "cell_type": "code",
   "execution_count": 2,
   "metadata": {},
   "outputs": [],
   "source": [
    "# all_data.pickle is made from prepare_X.ipynb\n",
    "with open('all_data.pickle','rb') as f:\n",
    "    df= pickle.load(f)"
   ]
  },
  {
   "cell_type": "code",
   "execution_count": 3,
   "metadata": {},
   "outputs": [
    {
     "data": {
      "text/html": [
       "<div>\n",
       "<style scoped>\n",
       "    .dataframe tbody tr th:only-of-type {\n",
       "        vertical-align: middle;\n",
       "    }\n",
       "\n",
       "    .dataframe tbody tr th {\n",
       "        vertical-align: top;\n",
       "    }\n",
       "\n",
       "    .dataframe thead th {\n",
       "        text-align: right;\n",
       "    }\n",
       "</style>\n",
       "<table border=\"1\" class=\"dataframe\">\n",
       "  <thead>\n",
       "    <tr style=\"text-align: right;\">\n",
       "      <th></th>\n",
       "      <th>cuisine</th>\n",
       "      <th>id</th>\n",
       "      <th>used_pepper</th>\n",
       "      <th>used_salt</th>\n",
       "      <th>used_oil</th>\n",
       "      <th>used_garlic</th>\n",
       "      <th>used_ground</th>\n",
       "      <th>used_fresh</th>\n",
       "      <th>used_sauce</th>\n",
       "      <th>used_sugar</th>\n",
       "      <th>...</th>\n",
       "      <th>used_hock</th>\n",
       "      <th>used_rose</th>\n",
       "      <th>used_ciabatta</th>\n",
       "      <th>used_ready</th>\n",
       "      <th>used_regular</th>\n",
       "      <th>used_glass</th>\n",
       "      <th>used_safflower</th>\n",
       "      <th>used_jeera</th>\n",
       "      <th>used_Oil</th>\n",
       "      <th>used_oven</th>\n",
       "    </tr>\n",
       "  </thead>\n",
       "  <tbody>\n",
       "    <tr>\n",
       "      <th>0</th>\n",
       "      <td>greek</td>\n",
       "      <td>10259</td>\n",
       "      <td>1</td>\n",
       "      <td>0</td>\n",
       "      <td>0</td>\n",
       "      <td>1</td>\n",
       "      <td>0</td>\n",
       "      <td>0</td>\n",
       "      <td>0</td>\n",
       "      <td>0</td>\n",
       "      <td>...</td>\n",
       "      <td>0</td>\n",
       "      <td>0</td>\n",
       "      <td>0</td>\n",
       "      <td>0</td>\n",
       "      <td>0</td>\n",
       "      <td>0</td>\n",
       "      <td>0</td>\n",
       "      <td>0</td>\n",
       "      <td>0</td>\n",
       "      <td>0</td>\n",
       "    </tr>\n",
       "    <tr>\n",
       "      <th>1</th>\n",
       "      <td>southern_us</td>\n",
       "      <td>25693</td>\n",
       "      <td>1</td>\n",
       "      <td>1</td>\n",
       "      <td>1</td>\n",
       "      <td>0</td>\n",
       "      <td>1</td>\n",
       "      <td>0</td>\n",
       "      <td>0</td>\n",
       "      <td>0</td>\n",
       "      <td>...</td>\n",
       "      <td>0</td>\n",
       "      <td>0</td>\n",
       "      <td>0</td>\n",
       "      <td>0</td>\n",
       "      <td>0</td>\n",
       "      <td>0</td>\n",
       "      <td>0</td>\n",
       "      <td>0</td>\n",
       "      <td>0</td>\n",
       "      <td>0</td>\n",
       "    </tr>\n",
       "    <tr>\n",
       "      <th>2</th>\n",
       "      <td>filipino</td>\n",
       "      <td>20130</td>\n",
       "      <td>1</td>\n",
       "      <td>1</td>\n",
       "      <td>1</td>\n",
       "      <td>1</td>\n",
       "      <td>0</td>\n",
       "      <td>0</td>\n",
       "      <td>1</td>\n",
       "      <td>0</td>\n",
       "      <td>...</td>\n",
       "      <td>0</td>\n",
       "      <td>0</td>\n",
       "      <td>0</td>\n",
       "      <td>0</td>\n",
       "      <td>0</td>\n",
       "      <td>0</td>\n",
       "      <td>0</td>\n",
       "      <td>0</td>\n",
       "      <td>0</td>\n",
       "      <td>0</td>\n",
       "    </tr>\n",
       "    <tr>\n",
       "      <th>3</th>\n",
       "      <td>indian</td>\n",
       "      <td>22213</td>\n",
       "      <td>0</td>\n",
       "      <td>1</td>\n",
       "      <td>1</td>\n",
       "      <td>0</td>\n",
       "      <td>0</td>\n",
       "      <td>0</td>\n",
       "      <td>0</td>\n",
       "      <td>0</td>\n",
       "      <td>...</td>\n",
       "      <td>0</td>\n",
       "      <td>0</td>\n",
       "      <td>0</td>\n",
       "      <td>0</td>\n",
       "      <td>0</td>\n",
       "      <td>0</td>\n",
       "      <td>0</td>\n",
       "      <td>0</td>\n",
       "      <td>0</td>\n",
       "      <td>0</td>\n",
       "    </tr>\n",
       "    <tr>\n",
       "      <th>4</th>\n",
       "      <td>indian</td>\n",
       "      <td>13162</td>\n",
       "      <td>1</td>\n",
       "      <td>1</td>\n",
       "      <td>1</td>\n",
       "      <td>1</td>\n",
       "      <td>1</td>\n",
       "      <td>0</td>\n",
       "      <td>0</td>\n",
       "      <td>0</td>\n",
       "      <td>...</td>\n",
       "      <td>0</td>\n",
       "      <td>0</td>\n",
       "      <td>0</td>\n",
       "      <td>0</td>\n",
       "      <td>0</td>\n",
       "      <td>0</td>\n",
       "      <td>0</td>\n",
       "      <td>0</td>\n",
       "      <td>0</td>\n",
       "      <td>0</td>\n",
       "    </tr>\n",
       "  </tbody>\n",
       "</table>\n",
       "<p>5 rows × 902 columns</p>\n",
       "</div>"
      ],
      "text/plain": [
       "       cuisine     id  used_pepper  used_salt  used_oil  used_garlic  \\\n",
       "0        greek  10259            1          0         0            1   \n",
       "1  southern_us  25693            1          1         1            0   \n",
       "2     filipino  20130            1          1         1            1   \n",
       "3       indian  22213            0          1         1            0   \n",
       "4       indian  13162            1          1         1            1   \n",
       "\n",
       "   used_ground  used_fresh  used_sauce  used_sugar    ...      used_hock  \\\n",
       "0            0           0           0           0    ...              0   \n",
       "1            1           0           0           0    ...              0   \n",
       "2            0           0           1           0    ...              0   \n",
       "3            0           0           0           0    ...              0   \n",
       "4            1           0           0           0    ...              0   \n",
       "\n",
       "   used_rose  used_ciabatta  used_ready  used_regular  used_glass  \\\n",
       "0          0              0           0             0           0   \n",
       "1          0              0           0             0           0   \n",
       "2          0              0           0             0           0   \n",
       "3          0              0           0             0           0   \n",
       "4          0              0           0             0           0   \n",
       "\n",
       "   used_safflower  used_jeera  used_Oil  used_oven  \n",
       "0               0           0         0          0  \n",
       "1               0           0         0          0  \n",
       "2               0           0         0          0  \n",
       "3               0           0         0          0  \n",
       "4               0           0         0          0  \n",
       "\n",
       "[5 rows x 902 columns]"
      ]
     },
     "execution_count": 3,
     "metadata": {},
     "output_type": "execute_result"
    }
   ],
   "source": [
    "df.head()"
   ]
  },
  {
   "cell_type": "code",
   "execution_count": 4,
   "metadata": {},
   "outputs": [
    {
     "data": {
      "text/plain": [
       "['greek',\n",
       " 'southern_us',\n",
       " 'filipino',\n",
       " 'indian',\n",
       " 'jamaican',\n",
       " 'spanish',\n",
       " 'italian',\n",
       " 'mexican',\n",
       " 'chinese',\n",
       " 'british',\n",
       " 'thai',\n",
       " 'vietnamese',\n",
       " 'cajun_creole',\n",
       " 'brazilian',\n",
       " 'french',\n",
       " 'japanese',\n",
       " 'irish',\n",
       " 'korean',\n",
       " 'moroccan',\n",
       " 'russian']"
      ]
     },
     "execution_count": 4,
     "metadata": {},
     "output_type": "execute_result"
    },
    {
     "data": {
      "text/plain": [
       "20"
      ]
     },
     "execution_count": 4,
     "metadata": {},
     "output_type": "execute_result"
    }
   ],
   "source": [
    "Y_list=[]\n",
    "for a in df.cuisine:\n",
    "    if a not in Y_list and not pd.isnull(a):\n",
    "        Y_list.append(a)\n",
    "Y_list\n",
    "len(Y_list)"
   ]
  },
  {
   "cell_type": "code",
   "execution_count": 5,
   "metadata": {},
   "outputs": [],
   "source": [
    "# make 20 Y in df\n",
    "for a in Y_list:\n",
    "    df['%s'% (a)]= df['cuisine'].str.contains('%s'% (a),na=False)*1"
   ]
  },
  {
   "cell_type": "code",
   "execution_count": 6,
   "metadata": {},
   "outputs": [
    {
     "data": {
      "text/html": [
       "<div>\n",
       "<style scoped>\n",
       "    .dataframe tbody tr th:only-of-type {\n",
       "        vertical-align: middle;\n",
       "    }\n",
       "\n",
       "    .dataframe tbody tr th {\n",
       "        vertical-align: top;\n",
       "    }\n",
       "\n",
       "    .dataframe thead th {\n",
       "        text-align: right;\n",
       "    }\n",
       "</style>\n",
       "<table border=\"1\" class=\"dataframe\">\n",
       "  <thead>\n",
       "    <tr style=\"text-align: right;\">\n",
       "      <th></th>\n",
       "      <th>cuisine</th>\n",
       "      <th>id</th>\n",
       "      <th>used_pepper</th>\n",
       "      <th>used_salt</th>\n",
       "      <th>used_oil</th>\n",
       "      <th>used_garlic</th>\n",
       "      <th>used_ground</th>\n",
       "      <th>used_fresh</th>\n",
       "      <th>used_sauce</th>\n",
       "      <th>used_sugar</th>\n",
       "      <th>...</th>\n",
       "      <th>thai</th>\n",
       "      <th>vietnamese</th>\n",
       "      <th>cajun_creole</th>\n",
       "      <th>brazilian</th>\n",
       "      <th>french</th>\n",
       "      <th>japanese</th>\n",
       "      <th>irish</th>\n",
       "      <th>korean</th>\n",
       "      <th>moroccan</th>\n",
       "      <th>russian</th>\n",
       "    </tr>\n",
       "  </thead>\n",
       "  <tbody>\n",
       "    <tr>\n",
       "      <th>102</th>\n",
       "      <td>italian</td>\n",
       "      <td>28851</td>\n",
       "      <td>1</td>\n",
       "      <td>0</td>\n",
       "      <td>0</td>\n",
       "      <td>0</td>\n",
       "      <td>0</td>\n",
       "      <td>0</td>\n",
       "      <td>0</td>\n",
       "      <td>0</td>\n",
       "      <td>...</td>\n",
       "      <td>0</td>\n",
       "      <td>0</td>\n",
       "      <td>0</td>\n",
       "      <td>0</td>\n",
       "      <td>0</td>\n",
       "      <td>0</td>\n",
       "      <td>0</td>\n",
       "      <td>0</td>\n",
       "      <td>0</td>\n",
       "      <td>0</td>\n",
       "    </tr>\n",
       "    <tr>\n",
       "      <th>103</th>\n",
       "      <td>greek</td>\n",
       "      <td>4635</td>\n",
       "      <td>0</td>\n",
       "      <td>0</td>\n",
       "      <td>1</td>\n",
       "      <td>1</td>\n",
       "      <td>0</td>\n",
       "      <td>0</td>\n",
       "      <td>0</td>\n",
       "      <td>0</td>\n",
       "      <td>...</td>\n",
       "      <td>0</td>\n",
       "      <td>0</td>\n",
       "      <td>0</td>\n",
       "      <td>0</td>\n",
       "      <td>0</td>\n",
       "      <td>0</td>\n",
       "      <td>0</td>\n",
       "      <td>0</td>\n",
       "      <td>0</td>\n",
       "      <td>0</td>\n",
       "    </tr>\n",
       "    <tr>\n",
       "      <th>104</th>\n",
       "      <td>korean</td>\n",
       "      <td>7782</td>\n",
       "      <td>0</td>\n",
       "      <td>1</td>\n",
       "      <td>1</td>\n",
       "      <td>1</td>\n",
       "      <td>0</td>\n",
       "      <td>1</td>\n",
       "      <td>1</td>\n",
       "      <td>1</td>\n",
       "      <td>...</td>\n",
       "      <td>0</td>\n",
       "      <td>0</td>\n",
       "      <td>0</td>\n",
       "      <td>0</td>\n",
       "      <td>0</td>\n",
       "      <td>0</td>\n",
       "      <td>0</td>\n",
       "      <td>1</td>\n",
       "      <td>0</td>\n",
       "      <td>0</td>\n",
       "    </tr>\n",
       "  </tbody>\n",
       "</table>\n",
       "<p>3 rows × 922 columns</p>\n",
       "</div>"
      ],
      "text/plain": [
       "     cuisine     id  used_pepper  used_salt  used_oil  used_garlic  \\\n",
       "102  italian  28851            1          0         0            0   \n",
       "103    greek   4635            0          0         1            1   \n",
       "104   korean   7782            0          1         1            1   \n",
       "\n",
       "     used_ground  used_fresh  used_sauce  used_sugar   ...     thai  \\\n",
       "102            0           0           0           0   ...        0   \n",
       "103            0           0           0           0   ...        0   \n",
       "104            0           1           1           1   ...        0   \n",
       "\n",
       "     vietnamese  cajun_creole  brazilian  french  japanese  irish  korean  \\\n",
       "102           0             0          0       0         0      0       0   \n",
       "103           0             0          0       0         0      0       0   \n",
       "104           0             0          0       0         0      0       1   \n",
       "\n",
       "     moroccan  russian  \n",
       "102         0        0  \n",
       "103         0        0  \n",
       "104         0        0  \n",
       "\n",
       "[3 rows x 922 columns]"
      ]
     },
     "execution_count": 6,
     "metadata": {},
     "output_type": "execute_result"
    }
   ],
   "source": [
    "df[102:105]"
   ]
  },
  {
   "cell_type": "code",
   "execution_count": 7,
   "metadata": {},
   "outputs": [
    {
     "data": {
      "text/html": [
       "<div>\n",
       "<style scoped>\n",
       "    .dataframe tbody tr th:only-of-type {\n",
       "        vertical-align: middle;\n",
       "    }\n",
       "\n",
       "    .dataframe tbody tr th {\n",
       "        vertical-align: top;\n",
       "    }\n",
       "\n",
       "    .dataframe thead th {\n",
       "        text-align: right;\n",
       "    }\n",
       "</style>\n",
       "<table border=\"1\" class=\"dataframe\">\n",
       "  <thead>\n",
       "    <tr style=\"text-align: right;\">\n",
       "      <th></th>\n",
       "      <th>id</th>\n",
       "      <th>cuisine</th>\n",
       "      <th>greek</th>\n",
       "      <th>southern_us</th>\n",
       "      <th>filipino</th>\n",
       "      <th>indian</th>\n",
       "      <th>jamaican</th>\n",
       "      <th>spanish</th>\n",
       "      <th>italian</th>\n",
       "      <th>mexican</th>\n",
       "      <th>...</th>\n",
       "      <th>thai</th>\n",
       "      <th>vietnamese</th>\n",
       "      <th>cajun_creole</th>\n",
       "      <th>brazilian</th>\n",
       "      <th>french</th>\n",
       "      <th>japanese</th>\n",
       "      <th>irish</th>\n",
       "      <th>korean</th>\n",
       "      <th>moroccan</th>\n",
       "      <th>russian</th>\n",
       "    </tr>\n",
       "  </thead>\n",
       "  <tbody>\n",
       "    <tr>\n",
       "      <th>0</th>\n",
       "      <td>10259</td>\n",
       "      <td>greek</td>\n",
       "      <td>1</td>\n",
       "      <td>0</td>\n",
       "      <td>0</td>\n",
       "      <td>0</td>\n",
       "      <td>0</td>\n",
       "      <td>0</td>\n",
       "      <td>0</td>\n",
       "      <td>0</td>\n",
       "      <td>...</td>\n",
       "      <td>0</td>\n",
       "      <td>0</td>\n",
       "      <td>0</td>\n",
       "      <td>0</td>\n",
       "      <td>0</td>\n",
       "      <td>0</td>\n",
       "      <td>0</td>\n",
       "      <td>0</td>\n",
       "      <td>0</td>\n",
       "      <td>0</td>\n",
       "    </tr>\n",
       "    <tr>\n",
       "      <th>1</th>\n",
       "      <td>25693</td>\n",
       "      <td>southern_us</td>\n",
       "      <td>0</td>\n",
       "      <td>1</td>\n",
       "      <td>0</td>\n",
       "      <td>0</td>\n",
       "      <td>0</td>\n",
       "      <td>0</td>\n",
       "      <td>0</td>\n",
       "      <td>0</td>\n",
       "      <td>...</td>\n",
       "      <td>0</td>\n",
       "      <td>0</td>\n",
       "      <td>0</td>\n",
       "      <td>0</td>\n",
       "      <td>0</td>\n",
       "      <td>0</td>\n",
       "      <td>0</td>\n",
       "      <td>0</td>\n",
       "      <td>0</td>\n",
       "      <td>0</td>\n",
       "    </tr>\n",
       "    <tr>\n",
       "      <th>2</th>\n",
       "      <td>20130</td>\n",
       "      <td>filipino</td>\n",
       "      <td>0</td>\n",
       "      <td>0</td>\n",
       "      <td>1</td>\n",
       "      <td>0</td>\n",
       "      <td>0</td>\n",
       "      <td>0</td>\n",
       "      <td>0</td>\n",
       "      <td>0</td>\n",
       "      <td>...</td>\n",
       "      <td>0</td>\n",
       "      <td>0</td>\n",
       "      <td>0</td>\n",
       "      <td>0</td>\n",
       "      <td>0</td>\n",
       "      <td>0</td>\n",
       "      <td>0</td>\n",
       "      <td>0</td>\n",
       "      <td>0</td>\n",
       "      <td>0</td>\n",
       "    </tr>\n",
       "    <tr>\n",
       "      <th>3</th>\n",
       "      <td>22213</td>\n",
       "      <td>indian</td>\n",
       "      <td>0</td>\n",
       "      <td>0</td>\n",
       "      <td>0</td>\n",
       "      <td>1</td>\n",
       "      <td>0</td>\n",
       "      <td>0</td>\n",
       "      <td>0</td>\n",
       "      <td>0</td>\n",
       "      <td>...</td>\n",
       "      <td>0</td>\n",
       "      <td>0</td>\n",
       "      <td>0</td>\n",
       "      <td>0</td>\n",
       "      <td>0</td>\n",
       "      <td>0</td>\n",
       "      <td>0</td>\n",
       "      <td>0</td>\n",
       "      <td>0</td>\n",
       "      <td>0</td>\n",
       "    </tr>\n",
       "    <tr>\n",
       "      <th>4</th>\n",
       "      <td>13162</td>\n",
       "      <td>indian</td>\n",
       "      <td>0</td>\n",
       "      <td>0</td>\n",
       "      <td>0</td>\n",
       "      <td>1</td>\n",
       "      <td>0</td>\n",
       "      <td>0</td>\n",
       "      <td>0</td>\n",
       "      <td>0</td>\n",
       "      <td>...</td>\n",
       "      <td>0</td>\n",
       "      <td>0</td>\n",
       "      <td>0</td>\n",
       "      <td>0</td>\n",
       "      <td>0</td>\n",
       "      <td>0</td>\n",
       "      <td>0</td>\n",
       "      <td>0</td>\n",
       "      <td>0</td>\n",
       "      <td>0</td>\n",
       "    </tr>\n",
       "  </tbody>\n",
       "</table>\n",
       "<p>5 rows × 22 columns</p>\n",
       "</div>"
      ],
      "text/plain": [
       "      id      cuisine  greek  southern_us  filipino  indian  jamaican  \\\n",
       "0  10259        greek      1            0         0       0         0   \n",
       "1  25693  southern_us      0            1         0       0         0   \n",
       "2  20130     filipino      0            0         1       0         0   \n",
       "3  22213       indian      0            0         0       1         0   \n",
       "4  13162       indian      0            0         0       1         0   \n",
       "\n",
       "   spanish  italian  mexican   ...     thai  vietnamese  cajun_creole  \\\n",
       "0        0        0        0   ...        0           0             0   \n",
       "1        0        0        0   ...        0           0             0   \n",
       "2        0        0        0   ...        0           0             0   \n",
       "3        0        0        0   ...        0           0             0   \n",
       "4        0        0        0   ...        0           0             0   \n",
       "\n",
       "   brazilian  french  japanese  irish  korean  moroccan  russian  \n",
       "0          0       0         0      0       0         0        0  \n",
       "1          0       0         0      0       0         0        0  \n",
       "2          0       0         0      0       0         0        0  \n",
       "3          0       0         0      0       0         0        0  \n",
       "4          0       0         0      0       0         0        0  \n",
       "\n",
       "[5 rows x 22 columns]"
      ]
     },
     "execution_count": 7,
     "metadata": {},
     "output_type": "execute_result"
    }
   ],
   "source": [
    "df_Y= df[(['id','cuisine']+Y_list)]\n",
    "df_Y.head()\n",
    "\n",
    "df_key= df[['id','cuisine']]\n",
    "emb_k5_all=df_key # prepare mother table for first time in the following loops"
   ]
  },
  {
   "cell_type": "code",
   "execution_count": 8,
   "metadata": {},
   "outputs": [
    {
     "data": {
      "text/plain": [
       "Index(['cuisine', 'id', 'used_pepper', 'used_salt', 'used_oil', 'used_garlic',\n",
       "       'used_ground', 'used_fresh', 'used_sauce', 'used_sugar',\n",
       "       ...\n",
       "       'used_hock', 'used_rose', 'used_ciabatta', 'used_ready', 'used_regular',\n",
       "       'used_glass', 'used_safflower', 'used_jeera', 'used_Oil', 'used_oven'],\n",
       "      dtype='object', length=902)"
      ]
     },
     "execution_count": 8,
     "metadata": {},
     "output_type": "execute_result"
    }
   ],
   "source": [
    "# 區分train test\n",
    "df=df.drop(Y_list,axis=1)\n",
    "dataTrain = df[pd.notnull(df['cuisine'])]\n",
    "dataTest = df[~pd.notnull(df['cuisine'])]\n",
    "dataTrain.columns\n",
    "\n",
    "df_Y_Train= df_Y[pd.notnull(df['cuisine'])]"
   ]
  },
  {
   "cell_type": "code",
   "execution_count": 9,
   "metadata": {},
   "outputs": [
    {
     "data": {
      "text/plain": [
       "FMModel(alpha=1, beta=1, block_size=500, epoch=10, fold=1, init=0.1, k=32,\n",
       "    lambda_1=1, lambda_2=1, lr=0.1, metric='auc', model_type='fm',\n",
       "    n_jobs=4, nthread=None, opt='sgd', reg_lambda=0.1, stop_window=2,\n",
       "    task='binary')"
      ]
     },
     "execution_count": 9,
     "metadata": {},
     "output_type": "execute_result"
    }
   ],
   "source": [
    "fm_model = xl.FMModel(task='binary', init=0.1, epoch=10, k=32, lr=0.1, reg_lambda=0.1, opt='sgd', metric='auc')\n",
    "fm_model"
   ]
  },
  {
   "cell_type": "code",
   "execution_count": 10,
   "metadata": {},
   "outputs": [],
   "source": [
    "import logging\n",
    "def X_embedding_fm(emb_X_input, X_dummies, X_dummies_train, fm_model, Y_col):\n",
    "    logging.info('Fit the FM model and derive the embedding values')\n",
    "    fm_model.fit(X_dummies_train, emb_X_input[Y_col]) #Y_col should be a str\n",
    "    emb_weight = fm_model.weights[1]\n",
    "    X_emb = np.matmul(X_dummies.values, emb_weight)\n",
    "    X_emb = pd.DataFrame(X_emb, columns=[Y_col+'_'+str(i) for i in range(emb_weight.shape[1])])\n",
    "    return X_emb\n",
    "    "
   ]
  },
  {
   "cell_type": "code",
   "execution_count": 11,
   "metadata": {},
   "outputs": [
    {
     "data": {
      "text/plain": [
       "(49718, 34)"
      ]
     },
     "execution_count": 11,
     "metadata": {},
     "output_type": "execute_result"
    },
    {
     "data": {
      "text/plain": [
       "(49718, 66)"
      ]
     },
     "execution_count": 11,
     "metadata": {},
     "output_type": "execute_result"
    },
    {
     "data": {
      "text/plain": [
       "(49718, 98)"
      ]
     },
     "execution_count": 11,
     "metadata": {},
     "output_type": "execute_result"
    },
    {
     "data": {
      "text/plain": [
       "(49718, 130)"
      ]
     },
     "execution_count": 11,
     "metadata": {},
     "output_type": "execute_result"
    },
    {
     "data": {
      "text/plain": [
       "(49718, 162)"
      ]
     },
     "execution_count": 11,
     "metadata": {},
     "output_type": "execute_result"
    },
    {
     "data": {
      "text/plain": [
       "(49718, 194)"
      ]
     },
     "execution_count": 11,
     "metadata": {},
     "output_type": "execute_result"
    },
    {
     "data": {
      "text/plain": [
       "(49718, 226)"
      ]
     },
     "execution_count": 11,
     "metadata": {},
     "output_type": "execute_result"
    },
    {
     "data": {
      "text/plain": [
       "(49718, 258)"
      ]
     },
     "execution_count": 11,
     "metadata": {},
     "output_type": "execute_result"
    },
    {
     "data": {
      "text/plain": [
       "(49718, 290)"
      ]
     },
     "execution_count": 11,
     "metadata": {},
     "output_type": "execute_result"
    },
    {
     "data": {
      "text/plain": [
       "(49718, 322)"
      ]
     },
     "execution_count": 11,
     "metadata": {},
     "output_type": "execute_result"
    },
    {
     "data": {
      "text/plain": [
       "(49718, 354)"
      ]
     },
     "execution_count": 11,
     "metadata": {},
     "output_type": "execute_result"
    },
    {
     "data": {
      "text/plain": [
       "(49718, 386)"
      ]
     },
     "execution_count": 11,
     "metadata": {},
     "output_type": "execute_result"
    },
    {
     "data": {
      "text/plain": [
       "(49718, 418)"
      ]
     },
     "execution_count": 11,
     "metadata": {},
     "output_type": "execute_result"
    },
    {
     "data": {
      "text/plain": [
       "(49718, 450)"
      ]
     },
     "execution_count": 11,
     "metadata": {},
     "output_type": "execute_result"
    },
    {
     "data": {
      "text/plain": [
       "(49718, 482)"
      ]
     },
     "execution_count": 11,
     "metadata": {},
     "output_type": "execute_result"
    },
    {
     "data": {
      "text/plain": [
       "(49718, 514)"
      ]
     },
     "execution_count": 11,
     "metadata": {},
     "output_type": "execute_result"
    },
    {
     "data": {
      "text/plain": [
       "(49718, 546)"
      ]
     },
     "execution_count": 11,
     "metadata": {},
     "output_type": "execute_result"
    },
    {
     "data": {
      "text/plain": [
       "(49718, 578)"
      ]
     },
     "execution_count": 11,
     "metadata": {},
     "output_type": "execute_result"
    },
    {
     "data": {
      "text/plain": [
       "(49718, 610)"
      ]
     },
     "execution_count": 11,
     "metadata": {},
     "output_type": "execute_result"
    },
    {
     "data": {
      "text/plain": [
       "(49718, 642)"
      ]
     },
     "execution_count": 11,
     "metadata": {},
     "output_type": "execute_result"
    },
    {
     "data": {
      "text/html": [
       "<div>\n",
       "<style scoped>\n",
       "    .dataframe tbody tr th:only-of-type {\n",
       "        vertical-align: middle;\n",
       "    }\n",
       "\n",
       "    .dataframe tbody tr th {\n",
       "        vertical-align: top;\n",
       "    }\n",
       "\n",
       "    .dataframe thead th {\n",
       "        text-align: right;\n",
       "    }\n",
       "</style>\n",
       "<table border=\"1\" class=\"dataframe\">\n",
       "  <thead>\n",
       "    <tr style=\"text-align: right;\">\n",
       "      <th></th>\n",
       "      <th>id</th>\n",
       "      <th>cuisine</th>\n",
       "      <th>greek_0</th>\n",
       "      <th>greek_1</th>\n",
       "      <th>greek_2</th>\n",
       "      <th>greek_3</th>\n",
       "      <th>greek_4</th>\n",
       "      <th>greek_5</th>\n",
       "      <th>greek_6</th>\n",
       "      <th>greek_7</th>\n",
       "      <th>...</th>\n",
       "      <th>russian_22</th>\n",
       "      <th>russian_23</th>\n",
       "      <th>russian_24</th>\n",
       "      <th>russian_25</th>\n",
       "      <th>russian_26</th>\n",
       "      <th>russian_27</th>\n",
       "      <th>russian_28</th>\n",
       "      <th>russian_29</th>\n",
       "      <th>russian_30</th>\n",
       "      <th>russian_31</th>\n",
       "    </tr>\n",
       "  </thead>\n",
       "  <tbody>\n",
       "    <tr>\n",
       "      <th>0</th>\n",
       "      <td>10259</td>\n",
       "      <td>greek</td>\n",
       "      <td>1.356402e-07</td>\n",
       "      <td>1.658690e-07</td>\n",
       "      <td>7.074824e-08</td>\n",
       "      <td>1.529251e-07</td>\n",
       "      <td>5.191751e-08</td>\n",
       "      <td>1.183570e-07</td>\n",
       "      <td>1.032993e-07</td>\n",
       "      <td>7.768111e-08</td>\n",
       "      <td>...</td>\n",
       "      <td>-2.928500e-08</td>\n",
       "      <td>-3.011975e-09</td>\n",
       "      <td>3.551468e-08</td>\n",
       "      <td>-9.313183e-09</td>\n",
       "      <td>1.027598e-08</td>\n",
       "      <td>-3.201952e-09</td>\n",
       "      <td>2.477666e-08</td>\n",
       "      <td>2.400870e-08</td>\n",
       "      <td>1.004919e-08</td>\n",
       "      <td>4.257494e-08</td>\n",
       "    </tr>\n",
       "    <tr>\n",
       "      <th>1</th>\n",
       "      <td>25693</td>\n",
       "      <td>southern_us</td>\n",
       "      <td>-3.599593e-08</td>\n",
       "      <td>-3.449493e-08</td>\n",
       "      <td>-4.894840e-08</td>\n",
       "      <td>-3.075692e-08</td>\n",
       "      <td>-3.375822e-08</td>\n",
       "      <td>-3.766603e-08</td>\n",
       "      <td>-4.000164e-08</td>\n",
       "      <td>-4.445520e-08</td>\n",
       "      <td>...</td>\n",
       "      <td>1.859867e-09</td>\n",
       "      <td>8.810141e-08</td>\n",
       "      <td>1.088635e-07</td>\n",
       "      <td>4.218034e-08</td>\n",
       "      <td>5.461292e-08</td>\n",
       "      <td>4.633686e-08</td>\n",
       "      <td>1.138715e-07</td>\n",
       "      <td>8.886790e-08</td>\n",
       "      <td>9.745802e-08</td>\n",
       "      <td>1.208372e-07</td>\n",
       "    </tr>\n",
       "    <tr>\n",
       "      <th>2</th>\n",
       "      <td>20130</td>\n",
       "      <td>filipino</td>\n",
       "      <td>1.103896e-05</td>\n",
       "      <td>1.050039e-05</td>\n",
       "      <td>4.419902e-06</td>\n",
       "      <td>5.689063e-06</td>\n",
       "      <td>7.637005e-06</td>\n",
       "      <td>4.067915e-06</td>\n",
       "      <td>1.024807e-05</td>\n",
       "      <td>4.095847e-06</td>\n",
       "      <td>...</td>\n",
       "      <td>3.615708e-06</td>\n",
       "      <td>8.815463e-06</td>\n",
       "      <td>6.749708e-06</td>\n",
       "      <td>1.095223e-05</td>\n",
       "      <td>7.768596e-06</td>\n",
       "      <td>9.094721e-06</td>\n",
       "      <td>2.476099e-06</td>\n",
       "      <td>8.813379e-06</td>\n",
       "      <td>2.013316e-06</td>\n",
       "      <td>9.461340e-06</td>\n",
       "    </tr>\n",
       "    <tr>\n",
       "      <th>3</th>\n",
       "      <td>22213</td>\n",
       "      <td>indian</td>\n",
       "      <td>-2.019742e-08</td>\n",
       "      <td>-1.815091e-08</td>\n",
       "      <td>-1.837140e-08</td>\n",
       "      <td>-1.285076e-08</td>\n",
       "      <td>-1.221861e-08</td>\n",
       "      <td>-2.057284e-08</td>\n",
       "      <td>-1.781205e-08</td>\n",
       "      <td>-2.021390e-08</td>\n",
       "      <td>...</td>\n",
       "      <td>1.787777e-08</td>\n",
       "      <td>1.438721e-07</td>\n",
       "      <td>1.233514e-07</td>\n",
       "      <td>7.295086e-08</td>\n",
       "      <td>6.388265e-08</td>\n",
       "      <td>7.278023e-08</td>\n",
       "      <td>1.536631e-07</td>\n",
       "      <td>1.142229e-07</td>\n",
       "      <td>1.402663e-07</td>\n",
       "      <td>1.434954e-07</td>\n",
       "    </tr>\n",
       "    <tr>\n",
       "      <th>4</th>\n",
       "      <td>13162</td>\n",
       "      <td>indian</td>\n",
       "      <td>3.954460e-05</td>\n",
       "      <td>1.443133e-05</td>\n",
       "      <td>1.167779e-05</td>\n",
       "      <td>3.141066e-05</td>\n",
       "      <td>2.526310e-05</td>\n",
       "      <td>3.226248e-05</td>\n",
       "      <td>1.061126e-05</td>\n",
       "      <td>3.342805e-05</td>\n",
       "      <td>...</td>\n",
       "      <td>1.498320e-05</td>\n",
       "      <td>2.908074e-05</td>\n",
       "      <td>1.741402e-05</td>\n",
       "      <td>5.240723e-05</td>\n",
       "      <td>5.091304e-05</td>\n",
       "      <td>4.274395e-05</td>\n",
       "      <td>2.789780e-05</td>\n",
       "      <td>2.428468e-05</td>\n",
       "      <td>5.132026e-05</td>\n",
       "      <td>4.562938e-05</td>\n",
       "    </tr>\n",
       "  </tbody>\n",
       "</table>\n",
       "<p>5 rows × 642 columns</p>\n",
       "</div>"
      ],
      "text/plain": [
       "      id      cuisine       greek_0       greek_1       greek_2       greek_3  \\\n",
       "0  10259        greek  1.356402e-07  1.658690e-07  7.074824e-08  1.529251e-07   \n",
       "1  25693  southern_us -3.599593e-08 -3.449493e-08 -4.894840e-08 -3.075692e-08   \n",
       "2  20130     filipino  1.103896e-05  1.050039e-05  4.419902e-06  5.689063e-06   \n",
       "3  22213       indian -2.019742e-08 -1.815091e-08 -1.837140e-08 -1.285076e-08   \n",
       "4  13162       indian  3.954460e-05  1.443133e-05  1.167779e-05  3.141066e-05   \n",
       "\n",
       "        greek_4       greek_5       greek_6       greek_7      ...       \\\n",
       "0  5.191751e-08  1.183570e-07  1.032993e-07  7.768111e-08      ...        \n",
       "1 -3.375822e-08 -3.766603e-08 -4.000164e-08 -4.445520e-08      ...        \n",
       "2  7.637005e-06  4.067915e-06  1.024807e-05  4.095847e-06      ...        \n",
       "3 -1.221861e-08 -2.057284e-08 -1.781205e-08 -2.021390e-08      ...        \n",
       "4  2.526310e-05  3.226248e-05  1.061126e-05  3.342805e-05      ...        \n",
       "\n",
       "     russian_22    russian_23    russian_24    russian_25    russian_26  \\\n",
       "0 -2.928500e-08 -3.011975e-09  3.551468e-08 -9.313183e-09  1.027598e-08   \n",
       "1  1.859867e-09  8.810141e-08  1.088635e-07  4.218034e-08  5.461292e-08   \n",
       "2  3.615708e-06  8.815463e-06  6.749708e-06  1.095223e-05  7.768596e-06   \n",
       "3  1.787777e-08  1.438721e-07  1.233514e-07  7.295086e-08  6.388265e-08   \n",
       "4  1.498320e-05  2.908074e-05  1.741402e-05  5.240723e-05  5.091304e-05   \n",
       "\n",
       "     russian_27    russian_28    russian_29    russian_30    russian_31  \n",
       "0 -3.201952e-09  2.477666e-08  2.400870e-08  1.004919e-08  4.257494e-08  \n",
       "1  4.633686e-08  1.138715e-07  8.886790e-08  9.745802e-08  1.208372e-07  \n",
       "2  9.094721e-06  2.476099e-06  8.813379e-06  2.013316e-06  9.461340e-06  \n",
       "3  7.278023e-08  1.536631e-07  1.142229e-07  1.402663e-07  1.434954e-07  \n",
       "4  4.274395e-05  2.789780e-05  2.428468e-05  5.132026e-05  4.562938e-05  \n",
       "\n",
       "[5 rows x 642 columns]"
      ]
     },
     "execution_count": 11,
     "metadata": {},
     "output_type": "execute_result"
    }
   ],
   "source": [
    "X_dummies = df.drop(['id','cuisine'],axis=1)\n",
    "X_dummies_train = dataTrain.drop(['id','cuisine'],axis=1)\n",
    "for y in Y_list:\n",
    "    emb_X_input = df_Y_Train[['id', y]]#.reset_index(drop=True)\n",
    "    Y_col=y\n",
    "    X_emb= X_embedding_fm(emb_X_input, X_dummies, X_dummies_train, fm_model, Y_col)\n",
    "    emb_k5_all= pd.concat([emb_k5_all,X_emb], axis=1)\n",
    "    emb_k5_all.shape\n",
    "emb_k5_all.head()"
   ]
  },
  {
   "cell_type": "code",
   "execution_count": 12,
   "metadata": {},
   "outputs": [
    {
     "data": {
      "text/plain": [
       "-8.65464978e-07"
      ]
     },
     "execution_count": 12,
     "metadata": {},
     "output_type": "execute_result"
    }
   ],
   "source": [
    "# check the global min\n",
    "emb_k5_all.min().min()"
   ]
  },
  {
   "cell_type": "code",
   "execution_count": 13,
   "metadata": {},
   "outputs": [],
   "source": [
    "import pickle\n",
    "with open('./data/all_data_emb_k32.pickle','wb') as f:\n",
    "    pickle.dump(emb_k5_all,f)"
   ]
  },
  {
   "cell_type": "markdown",
   "metadata": {},
   "source": [
    "### embedding one time before loops"
   ]
  },
  {
   "cell_type": "code",
   "execution_count": null,
   "metadata": {},
   "outputs": [],
   "source": [
    "# Just test one time in this cell\n",
    "emb_X_input = df_Y_Train[['id','greek']]#.reset_index(drop=True)\n",
    "X_dummies = df.drop(['id','cuisine'],axis=1)\n",
    "X_dummies_train = dataTrain.drop(['id','cuisine'],axis=1)\n",
    "Y_col='greek'"
   ]
  },
  {
   "cell_type": "code",
   "execution_count": null,
   "metadata": {},
   "outputs": [],
   "source": [
    "X_emb= X_embedding_fm(emb_X_input, X_dummies, X_dummies_train, fm_model, Y_col)"
   ]
  }
 ],
 "metadata": {
  "kernelspec": {
   "display_name": "Python 3",
   "language": "python",
   "name": "python3"
  },
  "language_info": {
   "codemirror_mode": {
    "name": "ipython",
    "version": 3
   },
   "file_extension": ".py",
   "mimetype": "text/x-python",
   "name": "python",
   "nbconvert_exporter": "python",
   "pygments_lexer": "ipython3",
   "version": "3.6.5"
  }
 },
 "nbformat": 4,
 "nbformat_minor": 2
}

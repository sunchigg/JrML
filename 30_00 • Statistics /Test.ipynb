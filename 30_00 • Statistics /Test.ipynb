{
 "cells": [
  {
   "cell_type": "code",
   "execution_count": 1,
   "metadata": {},
   "outputs": [],
   "source": [
    "# == 兩組樣本之比例檢定 ==\n",
    "def two_proportion_ztest(k1, n1, k2, n2,  half_alpha = 1.96):\n",
    "    '''\n",
    "    k1是組別1的發生次數、n1是組別1的樣本數、\n",
    "    k2是組別2的發生次數、n2是組別2的樣本數\n",
    "    The null hypothesis (H0) for the test is that the proportions are the same.\n",
    "    The alternate hypothesis (H1) is that the proportions are not the same.\n",
    "    '''\n",
    "    p1 = k1/n1\n",
    "    p2 = k2/n2\n",
    "    import numpy as np\n",
    "    z = (p1-p2)/np.sqrt((p1*(1-p1)/n1)+(p2*(1-p2)/n2))\n",
    "    if abs(z)> half_alpha:\n",
    "        result = 'reject the null hypothesis.'\n",
    "    else:\n",
    "        result = 'the proportions are the same'\n",
    "    return z, result\n",
    "    \n",
    "# REF: https://www.statisticshowto.datasciencecentral.com/z-test/"
   ]
  },
  {
   "cell_type": "code",
   "execution_count": 2,
   "metadata": {},
   "outputs": [
    {
     "data": {
      "text/plain": [
       "(0.14606713912321534, 'the proportions are the same')"
      ]
     },
     "execution_count": 2,
     "metadata": {},
     "output_type": "execute_result"
    }
   ],
   "source": [
    "two_proportion_ztest(38, 100, 37, 100)"
   ]
  },
  {
   "cell_type": "code",
   "execution_count": 3,
   "metadata": {},
   "outputs": [
    {
     "data": {
      "text/plain": [
       "(-6.6399158183483085, 'reject the null hypothesis.')"
      ]
     },
     "execution_count": 3,
     "metadata": {},
     "output_type": "execute_result"
    }
   ],
   "source": [
    "two_proportion_ztest(3, 100, 37, 100)"
   ]
  }
 ],
 "metadata": {
  "kernelspec": {
   "display_name": "Python 3",
   "language": "python",
   "name": "python3"
  },
  "language_info": {
   "codemirror_mode": {
    "name": "ipython",
    "version": 3
   },
   "file_extension": ".py",
   "mimetype": "text/x-python",
   "name": "python",
   "nbconvert_exporter": "python",
   "pygments_lexer": "ipython3",
   "version": "3.6.5"
  }
 },
 "nbformat": 4,
 "nbformat_minor": 2
}

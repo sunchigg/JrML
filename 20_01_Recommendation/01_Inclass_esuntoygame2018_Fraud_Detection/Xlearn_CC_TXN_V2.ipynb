{
 "cells": [
  {
   "cell_type": "code",
   "execution_count": 6,
   "metadata": {},
   "outputs": [],
   "source": [
    "# load package# load p \n",
    "import pandas as pd\n",
    "import numpy as np\n",
    "import seaborn as sns\n",
    "from sklearn.model_selection import GridSearchCV\n",
    "from sklearn.cross_validation  import train_test_split\n",
    "from sklearn import metrics\n",
    "from sklearn import preprocessing\n",
    "import matplotlib.pyplot as plt\n",
    "from sklearn import cross_validation\n",
    "\n",
    "import ffm\n",
    "import _pickle as pickle\n",
    "\n",
    "from fastFM.mcmc import FMClassification, FMRegression\n",
    "from sklearn.preprocessing import OneHotEncoder\n",
    "from sklearn.linear_model import LogisticRegression, Ridge\n",
    "from sklearn.datasets import dump_svmlight_file\n",
    "# set path\n",
    "import os\n",
    "default_path = \"/Users/francislin/Desktop/Machine_Learning_Workshop/InClass Prediction Competition/xlearn/\"\n",
    "os.chdir(default_path)\n",
    "\n",
    "# skip interaction warning\n",
    "import warnings; \n",
    "warnings.filterwarnings('ignore')"
   ]
  },
  {
   "cell_type": "code",
   "execution_count": 7,
   "metadata": {},
   "outputs": [],
   "source": [
    "# Data Prepararion\n",
    "# read data\n",
    "train=pd.read_csv('train.csv',encoding='big5')\n",
    "test=pd.read_csv('test_public.csv',encoding='big5')\n",
    "submit=pd.read_csv('sampleSubmission.csv',encoding='big5')\n",
    "data=train.append(test, ignore_index=True)"
   ]
  },
  {
   "cell_type": "code",
   "execution_count": 8,
   "metadata": {},
   "outputs": [
    {
     "data": {
      "text/plain": [
       "Index(['Amount', 'Class', 'TXKEY', 'Time', 'V1', 'V10', 'V11', 'V12', 'V13',\n",
       "       'V14', 'V15', 'V16', 'V17', 'V18', 'V19', 'V2', 'V20', 'V21', 'V22',\n",
       "       'V23', 'V24', 'V25', 'V26', 'V27', 'V28', 'V3', 'V4', 'V5', 'V6', 'V7',\n",
       "       'V8', 'V9'],\n",
       "      dtype='object')"
      ]
     },
     "execution_count": 8,
     "metadata": {},
     "output_type": "execute_result"
    }
   ],
   "source": [
    "# 運用'Class'欄位來判斷訓練集還是測試集\n",
    "dataTrain = data[pd.notnull(data['Class'])].sort_values(by=[\"Time\"])\n",
    "dataTest = data[~pd.notnull(data['Class'])].sort_values(by=[\"Time\"])\n",
    "dataTrain.columns"
   ]
  },
  {
   "cell_type": "code",
   "execution_count": 9,
   "metadata": {},
   "outputs": [],
   "source": [
    "from sklearn.model_selection import train_test_split\n",
    "train, test= train_test_split(dataTrain, test_size=0.3, random_state=7)"
   ]
  },
  {
   "cell_type": "code",
   "execution_count": 10,
   "metadata": {},
   "outputs": [],
   "source": [
    "# Based on Kaggle kernel by Scirpus\n",
    "def convert_to_ffm(df,type,numerics,categories,features):\n",
    "    currentcode = len(numerics)\n",
    "    catdict = {}\n",
    "    catcodes = {}\n",
    "    # Flagging categorical and numerical fields\n",
    "    for x in numerics:\n",
    "         catdict[x] = 0\n",
    "    for x in categories:\n",
    "         catdict[x] = 1\n",
    "    \n",
    "    nrows = df.shape[0]\n",
    "    ncolumns = len(features)\n",
    "    with open(str(type) + \"_ffm.txt\", \"w\") as text_file:\n",
    "# Looping over rows to convert each row to libffm format\n",
    "        for n,r in enumerate(range(nrows)):\n",
    "            datastring = \"\"\n",
    "            datarow = df.iloc[r].to_dict()\n",
    "            #datastring += str(int(datarow['Class']))\n",
    "            datastring += str(int(datarow['Class']))\n",
    "             # For numerical fields, we are creating a dummy field here\n",
    "            for i, x in enumerate(catdict.keys()):\n",
    "                if(catdict[x]==0):\n",
    "                    datastring = datastring + \" \"+str(i)+\":\"+ str(i)+\":\"+ str(datarow[x])\n",
    "                else:\n",
    "            # For a new field appearing in a training example\n",
    "                    if(x not in catcodes):\n",
    "                        catcodes[x] = {}\n",
    "                        currentcode +=1\n",
    "                        catcodes[x][datarow[x]] = currentcode #encoding the feature\n",
    "            # For already encoded fields\n",
    "                    elif(datarow[x] not in catcodes[x]):\n",
    "                        currentcode +=1\n",
    "                        catcodes[x][datarow[x]] = currentcode #encoding the feature\n",
    "                    code = catcodes[x][datarow[x]]\n",
    "                    datastring = datastring + \" \"+str(i)+\":\"+ str(int(code))+\":1\"\n",
    "\n",
    "            datastring += '\\n'\n",
    "            text_file.write(datastring)"
   ]
  },
  {
   "cell_type": "code",
   "execution_count": 11,
   "metadata": {},
   "outputs": [
    {
     "name": "stdout",
     "output_type": "stream",
     "text": [
      "              V1       V10       V11       V12       V13       V14       V15  \\\n",
      "25543  -1.618479  0.783284  1.578039  0.719723  0.198295 -0.107036  0.115714   \n",
      "145281 -0.355780 -0.787823 -1.274121  0.013800 -0.108051 -0.491281 -0.242617   \n",
      "65506   1.234025 -0.208911  0.158801  0.980969  1.482813 -0.051477  1.144414   \n",
      "139386  2.173123  0.890024  0.012684  0.066657  0.685422 -0.420650 -0.442574   \n",
      "158345 -1.564587  0.906348  0.969812  0.816554  0.640316 -1.112020  0.032940   \n",
      "\n",
      "             V16       V17       V18    ...          V26       V27       V28  \\\n",
      "25543  -0.006667 -0.805400  0.294634    ...    -0.481150 -0.908797 -0.182593   \n",
      "145281  0.153573 -0.921741  0.260860    ...    -0.515084  0.078259  0.031941   \n",
      "65506  -0.116935 -0.112286 -0.942208    ...     1.138583 -0.057325  0.002331   \n",
      "139386  1.586705 -0.473935 -0.435627    ...    -0.036687  0.009474 -0.067487   \n",
      "158345  0.349098  0.149730  1.182788    ...    -0.246297 -0.970036  0.121596   \n",
      "\n",
      "              V3        V4        V5        V6        V7        V8        V9  \n",
      "25543   1.231509  0.484469  0.369485 -0.679675  0.993688 -0.594483 -0.196247  \n",
      "145281  1.206313 -0.899066  0.766769 -0.314504  0.254701 -0.057235  0.960652  \n",
      "65506   0.342168  0.055948 -0.307297 -0.581531 -0.018950 -0.173737  0.010904  \n",
      "139386 -0.872707 -1.133563 -0.595801  0.173342 -1.085212  0.057894 -0.106805  \n",
      "158345 -1.823238 -0.527419  0.350531 -0.913421  0.430364 -0.063908  0.698156  \n",
      "\n",
      "[5 rows x 28 columns]\n",
      "\n",
      "\n",
      "              V1       V10       V11       V12       V13       V14       V15  \\\n",
      "25543  -1.618479  0.783284  1.578039  0.719723  0.198295 -0.107036  0.115714   \n",
      "145281 -0.355780 -0.787823 -1.274121  0.013800 -0.108051 -0.491281 -0.242617   \n",
      "65506   1.234025 -0.208911  0.158801  0.980969  1.482813 -0.051477  1.144414   \n",
      "139386  2.173123  0.890024  0.012684  0.066657  0.685422 -0.420650 -0.442574   \n",
      "158345 -1.564587  0.906348  0.969812  0.816554  0.640316 -1.112020  0.032940   \n",
      "\n",
      "             V16       V17       V18    ...          V26       V27       V28  \\\n",
      "25543  -0.006667 -0.805400  0.294634    ...    -0.481150 -0.908797 -0.182593   \n",
      "145281  0.153573 -0.921741  0.260860    ...    -0.515084  0.078259  0.031941   \n",
      "65506  -0.116935 -0.112286 -0.942208    ...     1.138583 -0.057325  0.002331   \n",
      "139386  1.586705 -0.473935 -0.435627    ...    -0.036687  0.009474 -0.067487   \n",
      "158345  0.349098  0.149730  1.182788    ...    -0.246297 -0.970036  0.121596   \n",
      "\n",
      "              V3        V4        V5        V6        V7        V8        V9  \n",
      "25543   1.231509  0.484469  0.369485 -0.679675  0.993688 -0.594483 -0.196247  \n",
      "145281  1.206313 -0.899066  0.766769 -0.314504  0.254701 -0.057235  0.960652  \n",
      "65506   0.342168  0.055948 -0.307297 -0.581531 -0.018950 -0.173737  0.010904  \n",
      "139386 -0.872707 -1.133563 -0.595801  0.173342 -1.085212  0.057894 -0.106805  \n",
      "158345 -1.823238 -0.527419  0.350531 -0.913421  0.430364 -0.063908  0.698156  \n",
      "\n",
      "[5 rows x 28 columns]\n",
      "\n",
      "\n"
     ]
    }
   ],
   "source": [
    "num_col_tr = train.iloc[:,4:32]\n",
    "print (num_col_tr.head())\n",
    "print ('\\n')\n",
    "\n",
    "num_col_te = test.iloc[:,4:32]\n",
    "print (num_col_tr.head())\n",
    "print ('\\n')"
   ]
  },
  {
   "cell_type": "code",
   "execution_count": 12,
   "metadata": {},
   "outputs": [],
   "source": [
    "num_col_tr = pd.DataFrame(num_col_tr.fillna(num_col_tr.mean()))\n",
    "cat_col_tr = pd.DataFrame()\n",
    "all_col_tr = pd.concat([num_col_tr,cat_col_tr],axis=1)"
   ]
  },
  {
   "cell_type": "code",
   "execution_count": 13,
   "metadata": {},
   "outputs": [],
   "source": [
    "train_data_Label = pd.concat([train.Class, all_col_tr],axis=1)\n",
    "convert_to_ffm(train_data_Label,'CC_Train',list(num_col_tr),list(cat_col_tr),list(all_col_tr))"
   ]
  },
  {
   "cell_type": "code",
   "execution_count": 14,
   "metadata": {},
   "outputs": [
    {
     "data": {
      "text/plain": [
       "'/Users/francislin/Desktop/Machine_Learning_Workshop/InClass Prediction Competition/xlearn'"
      ]
     },
     "execution_count": 14,
     "metadata": {},
     "output_type": "execute_result"
    }
   ],
   "source": [
    "%pwd"
   ]
  },
  {
   "cell_type": "code",
   "execution_count": 15,
   "metadata": {},
   "outputs": [],
   "source": [
    "num_col_te = pd.DataFrame(num_col_te.fillna(num_col_tr.mean()))\n",
    "cat_col_te = pd.DataFrame()\n",
    "all_col_te = pd.concat([num_col_te,cat_col_te],axis=1)"
   ]
  },
  {
   "cell_type": "code",
   "execution_count": 16,
   "metadata": {},
   "outputs": [],
   "source": [
    "test_data_Label = pd.concat([test.Class, all_col_te],axis=1)\n",
    "convert_to_ffm(test_data_Label,'CC_Test',list(num_col_te),list(cat_col_te),list(all_col_te))"
   ]
  },
  {
   "cell_type": "code",
   "execution_count": 17,
   "metadata": {},
   "outputs": [
    {
     "name": "stdout",
     "output_type": "stream",
     "text": [
      "              V1       V10       V11       V12       V13       V14       V15  \\\n",
      "199364 -1.358354  0.207643  0.624501  0.066084  0.717293 -0.165946  2.345865   \n",
      "199365 -0.425966 -0.371407  1.341262  0.359894 -0.358091 -0.137134  0.517617   \n",
      "199366 -0.644269  1.249376 -0.619468  0.291474  1.757964 -1.323865  0.686133   \n",
      "199367 -0.338262 -0.366846  1.017614  0.836390  1.006844 -0.443523  0.150219   \n",
      "199368  1.449044  1.626659  1.199644 -0.671440 -0.513947 -0.095045  0.230930   \n",
      "\n",
      "             V16       V17       V18    ...          V26       V27       V28  \\\n",
      "199364 -2.890083  1.109969 -0.121359    ...    -0.139097 -0.055353 -0.059752   \n",
      "199365  0.401726 -0.058133  0.068653    ...     0.105915  0.253844  0.081080   \n",
      "199366 -0.076127 -1.222127 -0.358222    ...    -0.051634 -1.206921 -1.085339   \n",
      "199367  0.739453 -0.540980  0.476677    ...     0.094199  0.246219  0.083076   \n",
      "199368  0.031967  0.253415  0.854344    ...    -0.129478  0.042850  0.016253   \n",
      "\n",
      "              V3        V4        V5        V6        V7        V8        V9  \n",
      "199364  1.773209  0.379780 -0.503198  1.800499  0.791461  0.247676 -1.514654  \n",
      "199365  1.141109 -0.168252  0.420987 -0.029728  0.476201  0.260314 -0.568671  \n",
      "199366  1.074380 -0.492199  0.948934  0.428118  1.120631 -3.807864  0.615375  \n",
      "199367  1.044367 -0.222187  0.499361 -0.246761  0.651583  0.069539 -0.736727  \n",
      "199368  0.913860 -1.375667 -1.971383 -0.629152 -1.423236  0.048456 -1.720408  \n",
      "\n",
      "[5 rows x 28 columns]\n",
      "\n",
      "\n"
     ]
    }
   ],
   "source": [
    "#開始針對真正要預測的資料做整理\n",
    "num_col_rt = dataTest.iloc[:,4:32]\n",
    "print (num_col_rt.head())\n",
    "print ('\\n')\n",
    "num_col_rt = pd.DataFrame(num_col_rt.fillna(num_col_rt.mean()))\n",
    "cat_col_rt = pd.DataFrame()\n",
    "all_col_rt = pd.concat([num_col_rt,cat_col_rt],axis=1)"
   ]
  },
  {
   "cell_type": "code",
   "execution_count": 19,
   "metadata": {},
   "outputs": [],
   "source": [
    "dataTest['Class']=0 #先設定0，無法一開始NaN，Cuz ValueError: cannot convert float NaN to integer\n",
    "r_test_data_Label = pd.concat([dataTest.Class, all_col_rt],axis=1)\n",
    "convert_to_ffm(r_test_data_Label,'r_Test',list(num_col_rt),list(cat_col_rt),list(all_col_rt))"
   ]
  },
  {
   "cell_type": "code",
   "execution_count": 20,
   "metadata": {},
   "outputs": [],
   "source": [
    "import xlearn as xl"
   ]
  },
  {
   "cell_type": "markdown",
   "metadata": {},
   "source": [
    "### FFM"
   ]
  },
  {
   "cell_type": "code",
   "execution_count": 21,
   "metadata": {},
   "outputs": [],
   "source": [
    "# Training task\n",
    "ffm_model = xl.create_ffm() # Use field-aware factorization machine\n",
    "ffm_model.setTrain(\"CC_Train_ffm.txt\")  # Training data\n",
    "ffm_model.setValidate(\"CC_Test_ffm.txt\")  # Validation data\n",
    "\n",
    "# param:\n",
    "#  0. binary classification\n",
    "#  1. learning rate: 0.2\n",
    "#  2. regular lambda: 0.002\n",
    "#  3. evaluation metric: accuracy\n",
    "param = {'task':'binary', 'lr':0.1, \n",
    "         'lambda':0.002, 'metric':'f1'}\n",
    "\n",
    "# Start to train\n",
    "# The trained model will be stored in model.out\n",
    "ffm_model.fit(param, './model.out')\n",
    "\n",
    "# Prediction task\n",
    "ffm_model.setTest(\"CC_Test_ffm.txt\")  # Test data\n",
    "ffm_model.setSigmoid()  # Convert output to 0-1\n",
    "\n",
    "# Start to predict\n",
    "# The output result will be stored in output.txt\n",
    "ffm_model.predict(\"./model.out\", \"./output_ffm.txt\")"
   ]
  },
  {
   "cell_type": "code",
   "execution_count": 22,
   "metadata": {},
   "outputs": [
    {
     "data": {
      "text/html": [
       "<div>\n",
       "<style scoped>\n",
       "    .dataframe tbody tr th:only-of-type {\n",
       "        vertical-align: middle;\n",
       "    }\n",
       "\n",
       "    .dataframe tbody tr th {\n",
       "        vertical-align: top;\n",
       "    }\n",
       "\n",
       "    .dataframe thead th {\n",
       "        text-align: right;\n",
       "    }\n",
       "</style>\n",
       "<table border=\"1\" class=\"dataframe\">\n",
       "  <thead>\n",
       "    <tr style=\"text-align: right;\">\n",
       "      <th></th>\n",
       "      <th>TXKEY</th>\n",
       "      <th>Class</th>\n",
       "      <th>rate</th>\n",
       "      <th>C</th>\n",
       "      <th>check</th>\n",
       "    </tr>\n",
       "  </thead>\n",
       "  <tbody>\n",
       "    <tr>\n",
       "      <th>28610</th>\n",
       "      <td>T154718</td>\n",
       "      <td>1.0</td>\n",
       "      <td>0.003740</td>\n",
       "      <td>1</td>\n",
       "      <td>2.0</td>\n",
       "    </tr>\n",
       "    <tr>\n",
       "      <th>33350</th>\n",
       "      <td>T143335</td>\n",
       "      <td>1.0</td>\n",
       "      <td>0.003714</td>\n",
       "      <td>1</td>\n",
       "      <td>2.0</td>\n",
       "    </tr>\n",
       "    <tr>\n",
       "      <th>17220</th>\n",
       "      <td>T8615</td>\n",
       "      <td>1.0</td>\n",
       "      <td>0.003714</td>\n",
       "      <td>1</td>\n",
       "      <td>2.0</td>\n",
       "    </tr>\n",
       "    <tr>\n",
       "      <th>16213</th>\n",
       "      <td>T11710</td>\n",
       "      <td>1.0</td>\n",
       "      <td>0.003704</td>\n",
       "      <td>1</td>\n",
       "      <td>2.0</td>\n",
       "    </tr>\n",
       "    <tr>\n",
       "      <th>43280</th>\n",
       "      <td>T17592</td>\n",
       "      <td>0.0</td>\n",
       "      <td>0.003698</td>\n",
       "      <td>1</td>\n",
       "      <td>1.0</td>\n",
       "    </tr>\n",
       "  </tbody>\n",
       "</table>\n",
       "</div>"
      ],
      "text/plain": [
       "         TXKEY  Class      rate  C  check\n",
       "28610  T154718    1.0  0.003740  1    2.0\n",
       "33350  T143335    1.0  0.003714  1    2.0\n",
       "17220    T8615    1.0  0.003714  1    2.0\n",
       "16213   T11710    1.0  0.003704  1    2.0\n",
       "43280   T17592    0.0  0.003698  1    1.0"
      ]
     },
     "execution_count": 22,
     "metadata": {},
     "output_type": "execute_result"
    }
   ],
   "source": [
    "output_ffm =pd.read_csv('./output_ffm.txt',encoding='big5',header=None)\n",
    "output_ffm.reset_index(drop=True, inplace=True)\n",
    "t=test[['TXKEY','Class']]\n",
    "t.reset_index(drop=True, inplace=True)\n",
    "test_result= pd.concat([t, output_ffm], axis=1)\n",
    "test_result= test_result.sort_values(by=[0], ascending=False) #descending rate\n",
    "test_result = test_result.rename(columns={0:'rate'})\n",
    "test_result['C']=0\n",
    "test_result.C[test_result.rate > test_result.iloc[300,2]]=1.0 #前251高的設為1\n",
    "test_result['check']=test_result['C']+test_result['Class']\n",
    "test_result.head()"
   ]
  },
  {
   "cell_type": "code",
   "execution_count": 23,
   "metadata": {},
   "outputs": [
    {
     "name": "stdout",
     "output_type": "stream",
     "text": [
      "             precision    recall  f1-score   support\n",
      "\n",
      "        0.0       1.00      1.00      1.00     59720\n",
      "        1.0       0.26      0.86      0.39        90\n",
      "\n",
      "avg / total       1.00      1.00      1.00     59810\n",
      "\n",
      "[[59497   223]\n",
      " [   13    77]]\n"
     ]
    }
   ],
   "source": [
    "tw_y_test = test_result['Class']\n",
    "tw_y_predict = test_result['C']\n",
    "from sklearn import metrics\n",
    "print(metrics.classification_report(tw_y_test, tw_y_predict))\n",
    "print(metrics.confusion_matrix(tw_y_test, tw_y_predict))"
   ]
  },
  {
   "cell_type": "code",
   "execution_count": 24,
   "metadata": {},
   "outputs": [],
   "source": [
    "# Prediction task\n",
    "ffm_model.setTest(\"r_Test_ffm.txt\")  # Test data\n",
    "ffm_model.setSigmoid()  # Convert output to 0-1\n",
    "\n",
    "# Start to predict\n",
    "# The output result will be stored in output.txt\n",
    "ffm_model.predict(\"./model.out\", \"./r_Test_output_ffm.txt\")"
   ]
  },
  {
   "cell_type": "code",
   "execution_count": 25,
   "metadata": {},
   "outputs": [],
   "source": [
    "final_output_ffm =pd.read_csv('./r_Test_output_ffm.txt',encoding='big5',header=None)\n",
    "final_output_ffm.reset_index(drop=True, inplace=True)\n",
    "t=dataTest[['TXKEY','Class']]\n",
    "t.reset_index(drop=True, inplace=True)\n",
    "final_result= pd.concat([t, final_output_ffm], axis=1)"
   ]
  },
  {
   "cell_type": "code",
   "execution_count": 26,
   "metadata": {},
   "outputs": [],
   "source": [
    "final_result= final_result.sort_values(by=[0], ascending=False) #descending rate\n",
    "final_result = final_result.rename(columns={0:'rate'})\n",
    "final_result['C']=0\n",
    "final_result.C[final_result.rate > final_result.iloc[158,2]]=1.0 #前158高的設為1"
   ]
  },
  {
   "cell_type": "code",
   "execution_count": 27,
   "metadata": {},
   "outputs": [],
   "source": [
    "final_result['Class']=final_result['C']\n",
    "submit=final_result[['TXKEY','Class']]"
   ]
  },
  {
   "cell_type": "code",
   "execution_count": 28,
   "metadata": {},
   "outputs": [
    {
     "data": {
      "text/plain": [
       "'/Users/francislin/Desktop/Machine_Learning_Workshop/InClass Prediction Competition/xlearn'"
      ]
     },
     "execution_count": 28,
     "metadata": {},
     "output_type": "execute_result"
    }
   ],
   "source": [
    "submit.to_csv('./CCTXN_to_kaggle_FM.csv', index= False)\n",
    "%pwd"
   ]
  },
  {
   "cell_type": "markdown",
   "metadata": {},
   "source": [
    "### FM"
   ]
  },
  {
   "cell_type": "code",
   "execution_count": 29,
   "metadata": {},
   "outputs": [],
   "source": [
    "fm_model = xl.create_fm() # Use field-aware factorization machine\n",
    "fm_model.setTrain(\"CC_Train_ffm.txt\")  # Training data\n",
    "fm_model.setValidate(\"CC_Test_ffm.txt\")  # Validation data\n",
    "# param:\n",
    "#  0. binary classification\n",
    "#  1. learning rate : 0.2\n",
    "#  2. regular lambda : 0.002\n",
    "param = {'task':'binary', 'lr':0.02, 'lambda':0.002,  'metric':'acc'}\n",
    "# Train model\n",
    "fm_model.fit(param, \"./model_fm.out\")\n",
    "\n",
    "# Prediction task\n",
    "fm_model.setTest(\"CC_Test_ffm.txt\")  # Test data\n",
    "fm_model.setSigmoid()  # Convert output to 0-1\n",
    "\n",
    "# Start to predict\n",
    "# The output result will be stored in output.txt\n",
    "fm_model.predict(\"./model_fm.out\", \"./output_fm.txt\")"
   ]
  },
  {
   "cell_type": "code",
   "execution_count": 30,
   "metadata": {},
   "outputs": [],
   "source": [
    "# Prediction task\n",
    "fm_model.setTest(\"r_Test_ffm.txt\")  # Test data\n",
    "fm_model.setSigmoid()  # Convert output to 0-1\n",
    "\n",
    "# Start to predict\n",
    "# The output result will be stored in output.txt\n",
    "fm_model.predict(\"./model_fm.out\", \"./output_fm.txt\")"
   ]
  },
  {
   "cell_type": "code",
   "execution_count": 31,
   "metadata": {},
   "outputs": [
    {
     "data": {
      "text/plain": [
       "'/Users/francislin/Desktop/Machine_Learning_Workshop/InClass Prediction Competition/xlearn'"
      ]
     },
     "execution_count": 31,
     "metadata": {},
     "output_type": "execute_result"
    }
   ],
   "source": [
    "final_output_ffm =pd.read_csv('./r_Test_output_ffm.txt',encoding='big5',header=None)\n",
    "final_output_ffm.reset_index(drop=True, inplace=True)\n",
    "t=dataTest[['TXKEY','Class']]\n",
    "t.reset_index(drop=True, inplace=True)\n",
    "final_result= pd.concat([t, final_output_ffm], axis=1)\n",
    "final_result= final_result.sort_values(by=[0], ascending=False) #descending rate\n",
    "final_result = final_result.rename(columns={0:'rate'})\n",
    "final_result['C']=0\n",
    "final_result.C[final_result.rate > final_result.iloc[158,2]]=1.0 #前158高的設為1\n",
    "final_result['Class']=final_result['C']\n",
    "submit=final_result[['TXKEY','Class']]\n",
    "submit.to_csv('./CCTXN_to_kaggle_FM.csv', index= False)\n",
    "%pwd"
   ]
  },
  {
   "cell_type": "code",
   "execution_count": null,
   "metadata": {},
   "outputs": [],
   "source": []
  }
 ],
 "metadata": {
  "kernelspec": {
   "display_name": "Python 3",
   "language": "python",
   "name": "python3"
  },
  "language_info": {
   "codemirror_mode": {
    "name": "ipython",
    "version": 3
   },
   "file_extension": ".py",
   "mimetype": "text/x-python",
   "name": "python",
   "nbconvert_exporter": "python",
   "pygments_lexer": "ipython3",
   "version": "3.6.5"
  }
 },
 "nbformat": 4,
 "nbformat_minor": 2
}

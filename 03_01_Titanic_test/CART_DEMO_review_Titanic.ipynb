{
 "cells": [
  {
   "cell_type": "code",
   "execution_count": 70,
   "metadata": {},
   "outputs": [],
   "source": [
    "# load package# load \n",
    "import pandas as pd\n",
    "import numpy as np\n",
    "import seaborn as sns\n",
    "from sklearn.tree import DecisionTreeClassifier\n",
    "from sklearn.cross_validation  import train_test_split\n",
    "from sklearn import metrics\n",
    "from sklearn import preprocessing\n",
    "import matplotlib.pyplot as plt\n",
    "\n",
    "# set path\n",
    "import os\n",
    "default_path = \"/Users/francislin/Desktop/Machine_Learning_Workshop/Titanic/\"\n",
    "os.chdir(default_path)\n",
    "\n",
    "# skip interaction warning\n",
    "import warnings; \n",
    "warnings.filterwarnings('ignore')"
   ]
  },
  {
   "cell_type": "code",
   "execution_count": 71,
   "metadata": {},
   "outputs": [],
   "source": [
    "# Data Prepararion\n",
    "# read data\n",
    "train=pd.read_csv('train.csv',encoding='big5')\n",
    "test=pd.read_csv('test.csv',encoding='big5')\n",
    "submit=pd.read_csv('gender_submission.csv',encoding='big5')"
   ]
  },
  {
   "cell_type": "code",
   "execution_count": 72,
   "metadata": {},
   "outputs": [
    {
     "name": "stdout",
     "output_type": "stream",
     "text": [
      "<class 'pandas.core.frame.DataFrame'>\n",
      "RangeIndex: 891 entries, 0 to 890\n",
      "Data columns (total 12 columns):\n",
      "PassengerId    891 non-null int64\n",
      "Survived       891 non-null int64\n",
      "Pclass         891 non-null int64\n",
      "Name           891 non-null object\n",
      "Sex            891 non-null object\n",
      "Age            714 non-null float64\n",
      "SibSp          891 non-null int64\n",
      "Parch          891 non-null int64\n",
      "Ticket         891 non-null object\n",
      "Fare           891 non-null float64\n",
      "Cabin          204 non-null object\n",
      "Embarked       889 non-null object\n",
      "dtypes: float64(2), int64(5), object(5)\n",
      "memory usage: 83.6+ KB\n"
     ]
    },
    {
     "data": {
      "text/html": [
       "<div>\n",
       "<style scoped>\n",
       "    .dataframe tbody tr th:only-of-type {\n",
       "        vertical-align: middle;\n",
       "    }\n",
       "\n",
       "    .dataframe tbody tr th {\n",
       "        vertical-align: top;\n",
       "    }\n",
       "\n",
       "    .dataframe thead th {\n",
       "        text-align: right;\n",
       "    }\n",
       "</style>\n",
       "<table border=\"1\" class=\"dataframe\">\n",
       "  <thead>\n",
       "    <tr style=\"text-align: right;\">\n",
       "      <th></th>\n",
       "      <th>PassengerId</th>\n",
       "      <th>Survived</th>\n",
       "      <th>Pclass</th>\n",
       "      <th>Age</th>\n",
       "      <th>SibSp</th>\n",
       "      <th>Parch</th>\n",
       "      <th>Fare</th>\n",
       "    </tr>\n",
       "  </thead>\n",
       "  <tbody>\n",
       "    <tr>\n",
       "      <th>count</th>\n",
       "      <td>891.000000</td>\n",
       "      <td>891.000000</td>\n",
       "      <td>891.000000</td>\n",
       "      <td>714.000000</td>\n",
       "      <td>891.000000</td>\n",
       "      <td>891.000000</td>\n",
       "      <td>891.000000</td>\n",
       "    </tr>\n",
       "    <tr>\n",
       "      <th>mean</th>\n",
       "      <td>446.000000</td>\n",
       "      <td>0.383838</td>\n",
       "      <td>2.308642</td>\n",
       "      <td>29.699118</td>\n",
       "      <td>0.523008</td>\n",
       "      <td>0.381594</td>\n",
       "      <td>32.204208</td>\n",
       "    </tr>\n",
       "    <tr>\n",
       "      <th>std</th>\n",
       "      <td>257.353842</td>\n",
       "      <td>0.486592</td>\n",
       "      <td>0.836071</td>\n",
       "      <td>14.526497</td>\n",
       "      <td>1.102743</td>\n",
       "      <td>0.806057</td>\n",
       "      <td>49.693429</td>\n",
       "    </tr>\n",
       "    <tr>\n",
       "      <th>min</th>\n",
       "      <td>1.000000</td>\n",
       "      <td>0.000000</td>\n",
       "      <td>1.000000</td>\n",
       "      <td>0.420000</td>\n",
       "      <td>0.000000</td>\n",
       "      <td>0.000000</td>\n",
       "      <td>0.000000</td>\n",
       "    </tr>\n",
       "    <tr>\n",
       "      <th>25%</th>\n",
       "      <td>223.500000</td>\n",
       "      <td>0.000000</td>\n",
       "      <td>2.000000</td>\n",
       "      <td>20.125000</td>\n",
       "      <td>0.000000</td>\n",
       "      <td>0.000000</td>\n",
       "      <td>7.910400</td>\n",
       "    </tr>\n",
       "    <tr>\n",
       "      <th>50%</th>\n",
       "      <td>446.000000</td>\n",
       "      <td>0.000000</td>\n",
       "      <td>3.000000</td>\n",
       "      <td>28.000000</td>\n",
       "      <td>0.000000</td>\n",
       "      <td>0.000000</td>\n",
       "      <td>14.454200</td>\n",
       "    </tr>\n",
       "    <tr>\n",
       "      <th>75%</th>\n",
       "      <td>668.500000</td>\n",
       "      <td>1.000000</td>\n",
       "      <td>3.000000</td>\n",
       "      <td>38.000000</td>\n",
       "      <td>1.000000</td>\n",
       "      <td>0.000000</td>\n",
       "      <td>31.000000</td>\n",
       "    </tr>\n",
       "    <tr>\n",
       "      <th>max</th>\n",
       "      <td>891.000000</td>\n",
       "      <td>1.000000</td>\n",
       "      <td>3.000000</td>\n",
       "      <td>80.000000</td>\n",
       "      <td>8.000000</td>\n",
       "      <td>6.000000</td>\n",
       "      <td>512.329200</td>\n",
       "    </tr>\n",
       "  </tbody>\n",
       "</table>\n",
       "</div>"
      ],
      "text/plain": [
       "       PassengerId    Survived      Pclass         Age       SibSp  \\\n",
       "count   891.000000  891.000000  891.000000  714.000000  891.000000   \n",
       "mean    446.000000    0.383838    2.308642   29.699118    0.523008   \n",
       "std     257.353842    0.486592    0.836071   14.526497    1.102743   \n",
       "min       1.000000    0.000000    1.000000    0.420000    0.000000   \n",
       "25%     223.500000    0.000000    2.000000   20.125000    0.000000   \n",
       "50%     446.000000    0.000000    3.000000   28.000000    0.000000   \n",
       "75%     668.500000    1.000000    3.000000   38.000000    1.000000   \n",
       "max     891.000000    1.000000    3.000000   80.000000    8.000000   \n",
       "\n",
       "            Parch        Fare  \n",
       "count  891.000000  891.000000  \n",
       "mean     0.381594   32.204208  \n",
       "std      0.806057   49.693429  \n",
       "min      0.000000    0.000000  \n",
       "25%      0.000000    7.910400  \n",
       "50%      0.000000   14.454200  \n",
       "75%      0.000000   31.000000  \n",
       "max      6.000000  512.329200  "
      ]
     },
     "execution_count": 72,
     "metadata": {},
     "output_type": "execute_result"
    }
   ],
   "source": [
    "# Check missing & description\n",
    "train.info()\n",
    "train.describe()"
   ]
  },
  {
   "cell_type": "code",
   "execution_count": 73,
   "metadata": {},
   "outputs": [],
   "source": [
    "# append in ONE data\n",
    "data=train.append(test)"
   ]
  },
  {
   "cell_type": "code",
   "execution_count": 74,
   "metadata": {},
   "outputs": [
    {
     "data": {
      "text/plain": [
       "<seaborn.axisgrid.FacetGrid at 0x114e79d68>"
      ]
     },
     "execution_count": 74,
     "metadata": {},
     "output_type": "execute_result"
    },
    {
     "data": {
      "image/png": "[encoded data removed]",
      "text/plain": [
       "<Figure size 432x216 with 2 Axes>"
      ]
     },
     "metadata": {},
     "output_type": "display_data"
    },
    {
     "data": {
      "image/png": "[encoded data removed]",
      "text/plain": [
       "<Figure size 432x216 with 2 Axes>"
      ]
     },
     "metadata": {},
     "output_type": "display_data"
    },
    {
     "data": {
      "image/png": "[encoded data removed]",
      "text/plain": [
       "<Figure size 432x216 with 2 Axes>"
      ]
     },
     "metadata": {},
     "output_type": "display_data"
    }
   ],
   "source": [
    "#兄弟姊妹＋丈夫妻子數量\n",
    "g=sns.FacetGrid(data,col='Survived')\n",
    "g.map(sns.distplot,'SibSp',kde=False)\n",
    "#父母＋小孩\n",
    "g=sns.FacetGrid(data,col='Survived')\n",
    "g.map(sns.distplot,'Parch',kde=False)\n",
    "#組合成一個新欄位\n",
    "data['Family_Size']=data['Parch']+data['SibSp']\n",
    "g=sns.FacetGrid(data,col='Survived')\n",
    "g.map(sns.distplot,'Family_Size',kde=True)#kde是否要折線圖的參數"
   ]
  },
  {
   "cell_type": "code",
   "execution_count": 75,
   "metadata": {},
   "outputs": [
    {
     "data": {
      "text/plain": [
       "0                               Braund, Mr. Owen Harris\n",
       "1     Cumings, Mrs. John Bradley (Florence Briggs Th...\n",
       "2                                Heikkinen, Miss. Laina\n",
       "3          Futrelle, Mrs. Jacques Heath (Lily May Peel)\n",
       "4                              Allen, Mr. William Henry\n",
       "5                                      Moran, Mr. James\n",
       "6                               McCarthy, Mr. Timothy J\n",
       "7                        Palsson, Master. Gosta Leonard\n",
       "8     Johnson, Mrs. Oscar W (Elisabeth Vilhelmina Berg)\n",
       "9                   Nasser, Mrs. Nicholas (Adele Achem)\n",
       "10                      Sandstrom, Miss. Marguerite Rut\n",
       "11                             Bonnell, Miss. Elizabeth\n",
       "12                       Saundercock, Mr. William Henry\n",
       "13                          Andersson, Mr. Anders Johan\n",
       "14                 Vestrom, Miss. Hulda Amanda Adolfina\n",
       "15                     Hewlett, Mrs. (Mary D Kingcome) \n",
       "16                                 Rice, Master. Eugene\n",
       "17                         Williams, Mr. Charles Eugene\n",
       "18    Vander Planke, Mrs. Julius (Emelia Maria Vande...\n",
       "19                              Masselmani, Mrs. Fatima\n",
       "Name: Name, dtype: object"
      ]
     },
     "execution_count": 75,
     "metadata": {},
     "output_type": "execute_result"
    }
   ],
   "source": [
    "# Observing Name\n",
    "data['Name'].head(20)"
   ]
  },
  {
   "cell_type": "code",
   "execution_count": 76,
   "metadata": {},
   "outputs": [
    {
     "data": {
      "text/plain": [
       "0         Braund, Mr\n",
       "1       Cumings, Mrs\n",
       "2    Heikkinen, Miss\n",
       "3      Futrelle, Mrs\n",
       "4          Allen, Mr\n",
       "5          Moran, Mr\n",
       "6       McCarthy, Mr\n",
       "7    Palsson, Master\n",
       "8       Johnson, Mrs\n",
       "9        Nasser, Mrs\n",
       "Name: Title1, dtype: object"
      ]
     },
     "execution_count": 76,
     "metadata": {},
     "output_type": "execute_result"
    }
   ],
   "source": [
    "#設法整理出「尊稱」這個因子\n",
    "data['Title1']=data['Name'].str.split('.',expand=True)[0]\n",
    "#expand=True是讓資料在dataframe展開欄位\n",
    "#1是選第二項的title\n",
    "data['Title1'].head(10)"
   ]
  },
  {
   "cell_type": "code",
   "execution_count": 77,
   "metadata": {},
   "outputs": [
    {
     "data": {
      "text/plain": [
       "0        Mr\n",
       "1       Mrs\n",
       "2      Miss\n",
       "3       Mrs\n",
       "4        Mr\n",
       "5        Mr\n",
       "6        Mr\n",
       "7    Master\n",
       "8       Mrs\n",
       "9       Mrs\n",
       "Name: Title1, dtype: object"
      ]
     },
     "execution_count": 77,
     "metadata": {},
     "output_type": "execute_result"
    }
   ],
   "source": [
    "# 切出尊稱\n",
    "data['Title1']=data['Title1'].str.split(', ',expand=True)[1].str.strip()#[1]代表切出第2個'dlm'前面到第一個的字串\n",
    "data['Title1'].head(10)"
   ]
  },
  {
   "cell_type": "code",
   "execution_count": 78,
   "metadata": {},
   "outputs": [
    {
     "data": {
      "text/plain": [
       "array(['Mr', 'Mrs', 'Miss', 'Master', 'Don', 'Rev', 'Dr', 'Mme', 'Ms',\n",
       "       'Major', 'Lady', 'Sir', 'Mlle', 'Col', 'Capt', 'the Countess',\n",
       "       'Jonkheer', 'Dona'], dtype=object)"
      ]
     },
     "execution_count": 78,
     "metadata": {},
     "output_type": "execute_result"
    }
   ],
   "source": [
    "# 秀出dintinct後的title1\n",
    "data['Title1'].unique()"
   ]
  },
  {
   "cell_type": "code",
   "execution_count": 79,
   "metadata": {},
   "outputs": [
    {
     "data": {
      "text/html": [
       "<style  type=\"text/css\" >\n",
       "    #T_0f023b46_7f54_11e8_b857_88e9fe51200brow0_col0 {\n",
       "            background-color:  #ff00ff;\n",
       "        }    #T_0f023b46_7f54_11e8_b857_88e9fe51200brow0_col1 {\n",
       "            background-color:  #ff00ff;\n",
       "        }    #T_0f023b46_7f54_11e8_b857_88e9fe51200brow0_col2 {\n",
       "            background-color:  #ff00ff;\n",
       "        }    #T_0f023b46_7f54_11e8_b857_88e9fe51200brow0_col3 {\n",
       "            background-color:  #ffff00;\n",
       "        }    #T_0f023b46_7f54_11e8_b857_88e9fe51200brow0_col4 {\n",
       "            background-color:  #ff00ff;\n",
       "        }    #T_0f023b46_7f54_11e8_b857_88e9fe51200brow0_col5 {\n",
       "            background-color:  #ff00ff;\n",
       "        }    #T_0f023b46_7f54_11e8_b857_88e9fe51200brow0_col6 {\n",
       "            background-color:  #ffff00;\n",
       "        }    #T_0f023b46_7f54_11e8_b857_88e9fe51200brow0_col7 {\n",
       "            background-color:  #ff00ff;\n",
       "        }    #T_0f023b46_7f54_11e8_b857_88e9fe51200brow0_col8 {\n",
       "            background-color:  #ff00ff;\n",
       "        }    #T_0f023b46_7f54_11e8_b857_88e9fe51200brow0_col9 {\n",
       "            background-color:  #ffff00;\n",
       "        }    #T_0f023b46_7f54_11e8_b857_88e9fe51200brow0_col10 {\n",
       "            background-color:  #ffff00;\n",
       "        }    #T_0f023b46_7f54_11e8_b857_88e9fe51200brow0_col11 {\n",
       "            background-color:  #ffff00;\n",
       "        }    #T_0f023b46_7f54_11e8_b857_88e9fe51200brow0_col12 {\n",
       "            background-color:  #ff00ff;\n",
       "        }    #T_0f023b46_7f54_11e8_b857_88e9fe51200brow0_col13 {\n",
       "            background-color:  #ffff00;\n",
       "        }    #T_0f023b46_7f54_11e8_b857_88e9fe51200brow0_col14 {\n",
       "            background-color:  #ffff00;\n",
       "        }    #T_0f023b46_7f54_11e8_b857_88e9fe51200brow0_col15 {\n",
       "            background-color:  #ff00ff;\n",
       "        }    #T_0f023b46_7f54_11e8_b857_88e9fe51200brow0_col16 {\n",
       "            background-color:  #ff00ff;\n",
       "        }    #T_0f023b46_7f54_11e8_b857_88e9fe51200brow0_col17 {\n",
       "            background-color:  #ffff00;\n",
       "        }    #T_0f023b46_7f54_11e8_b857_88e9fe51200brow1_col0 {\n",
       "            background-color:  #ffff00;\n",
       "        }    #T_0f023b46_7f54_11e8_b857_88e9fe51200brow1_col1 {\n",
       "            background-color:  #ffff00;\n",
       "        }    #T_0f023b46_7f54_11e8_b857_88e9fe51200brow1_col2 {\n",
       "            background-color:  #ffff00;\n",
       "        }    #T_0f023b46_7f54_11e8_b857_88e9fe51200brow1_col3 {\n",
       "            background-color:  #ff00ff;\n",
       "        }    #T_0f023b46_7f54_11e8_b857_88e9fe51200brow1_col4 {\n",
       "            background-color:  #ffff00;\n",
       "        }    #T_0f023b46_7f54_11e8_b857_88e9fe51200brow1_col5 {\n",
       "            background-color:  #ffff00;\n",
       "        }    #T_0f023b46_7f54_11e8_b857_88e9fe51200brow1_col6 {\n",
       "            background-color:  #ff00ff;\n",
       "        }    #T_0f023b46_7f54_11e8_b857_88e9fe51200brow1_col7 {\n",
       "            background-color:  #ffff00;\n",
       "        }    #T_0f023b46_7f54_11e8_b857_88e9fe51200brow1_col8 {\n",
       "            background-color:  #ffff00;\n",
       "        }    #T_0f023b46_7f54_11e8_b857_88e9fe51200brow1_col9 {\n",
       "            background-color:  #ff00ff;\n",
       "        }    #T_0f023b46_7f54_11e8_b857_88e9fe51200brow1_col10 {\n",
       "            background-color:  #ff00ff;\n",
       "        }    #T_0f023b46_7f54_11e8_b857_88e9fe51200brow1_col11 {\n",
       "            background-color:  #ff00ff;\n",
       "        }    #T_0f023b46_7f54_11e8_b857_88e9fe51200brow1_col12 {\n",
       "            background-color:  #ffff00;\n",
       "        }    #T_0f023b46_7f54_11e8_b857_88e9fe51200brow1_col13 {\n",
       "            background-color:  #ff00ff;\n",
       "        }    #T_0f023b46_7f54_11e8_b857_88e9fe51200brow1_col14 {\n",
       "            background-color:  #ff00ff;\n",
       "        }    #T_0f023b46_7f54_11e8_b857_88e9fe51200brow1_col15 {\n",
       "            background-color:  #ffff00;\n",
       "        }    #T_0f023b46_7f54_11e8_b857_88e9fe51200brow1_col16 {\n",
       "            background-color:  #ffff00;\n",
       "        }    #T_0f023b46_7f54_11e8_b857_88e9fe51200brow1_col17 {\n",
       "            background-color:  #ff00ff;\n",
       "        }</style>  \n",
       "<table id=\"T_0f023b46_7f54_11e8_b857_88e9fe51200b\" > \n",
       "<thead>    <tr> \n",
       "        <th class=\"index_name level0\" >Title1</th> \n",
       "        <th class=\"col_heading level0 col0\" >Capt</th> \n",
       "        <th class=\"col_heading level0 col1\" >Col</th> \n",
       "        <th class=\"col_heading level0 col2\" >Don</th> \n",
       "        <th class=\"col_heading level0 col3\" >Dona</th> \n",
       "        <th class=\"col_heading level0 col4\" >Dr</th> \n",
       "        <th class=\"col_heading level0 col5\" >Jonkheer</th> \n",
       "        <th class=\"col_heading level0 col6\" >Lady</th> \n",
       "        <th class=\"col_heading level0 col7\" >Major</th> \n",
       "        <th class=\"col_heading level0 col8\" >Master</th> \n",
       "        <th class=\"col_heading level0 col9\" >Miss</th> \n",
       "        <th class=\"col_heading level0 col10\" >Mlle</th> \n",
       "        <th class=\"col_heading level0 col11\" >Mme</th> \n",
       "        <th class=\"col_heading level0 col12\" >Mr</th> \n",
       "        <th class=\"col_heading level0 col13\" >Mrs</th> \n",
       "        <th class=\"col_heading level0 col14\" >Ms</th> \n",
       "        <th class=\"col_heading level0 col15\" >Rev</th> \n",
       "        <th class=\"col_heading level0 col16\" >Sir</th> \n",
       "        <th class=\"col_heading level0 col17\" >the Countess</th> \n",
       "    </tr>    <tr> \n",
       "        <th class=\"index_name level0\" >Sex</th> \n",
       "        <th class=\"blank\" ></th> \n",
       "        <th class=\"blank\" ></th> \n",
       "        <th class=\"blank\" ></th> \n",
       "        <th class=\"blank\" ></th> \n",
       "        <th class=\"blank\" ></th> \n",
       "        <th class=\"blank\" ></th> \n",
       "        <th class=\"blank\" ></th> \n",
       "        <th class=\"blank\" ></th> \n",
       "        <th class=\"blank\" ></th> \n",
       "        <th class=\"blank\" ></th> \n",
       "        <th class=\"blank\" ></th> \n",
       "        <th class=\"blank\" ></th> \n",
       "        <th class=\"blank\" ></th> \n",
       "        <th class=\"blank\" ></th> \n",
       "        <th class=\"blank\" ></th> \n",
       "        <th class=\"blank\" ></th> \n",
       "        <th class=\"blank\" ></th> \n",
       "        <th class=\"blank\" ></th> \n",
       "    </tr></thead> \n",
       "<tbody>    <tr> \n",
       "        <th id=\"T_0f023b46_7f54_11e8_b857_88e9fe51200blevel0_row0\" class=\"row_heading level0 row0\" >female</th> \n",
       "        <td id=\"T_0f023b46_7f54_11e8_b857_88e9fe51200brow0_col0\" class=\"data row0 col0\" >0</td> \n",
       "        <td id=\"T_0f023b46_7f54_11e8_b857_88e9fe51200brow0_col1\" class=\"data row0 col1\" >0</td> \n",
       "        <td id=\"T_0f023b46_7f54_11e8_b857_88e9fe51200brow0_col2\" class=\"data row0 col2\" >0</td> \n",
       "        <td id=\"T_0f023b46_7f54_11e8_b857_88e9fe51200brow0_col3\" class=\"data row0 col3\" >1</td> \n",
       "        <td id=\"T_0f023b46_7f54_11e8_b857_88e9fe51200brow0_col4\" class=\"data row0 col4\" >1</td> \n",
       "        <td id=\"T_0f023b46_7f54_11e8_b857_88e9fe51200brow0_col5\" class=\"data row0 col5\" >0</td> \n",
       "        <td id=\"T_0f023b46_7f54_11e8_b857_88e9fe51200brow0_col6\" class=\"data row0 col6\" >1</td> \n",
       "        <td id=\"T_0f023b46_7f54_11e8_b857_88e9fe51200brow0_col7\" class=\"data row0 col7\" >0</td> \n",
       "        <td id=\"T_0f023b46_7f54_11e8_b857_88e9fe51200brow0_col8\" class=\"data row0 col8\" >0</td> \n",
       "        <td id=\"T_0f023b46_7f54_11e8_b857_88e9fe51200brow0_col9\" class=\"data row0 col9\" >260</td> \n",
       "        <td id=\"T_0f023b46_7f54_11e8_b857_88e9fe51200brow0_col10\" class=\"data row0 col10\" >2</td> \n",
       "        <td id=\"T_0f023b46_7f54_11e8_b857_88e9fe51200brow0_col11\" class=\"data row0 col11\" >1</td> \n",
       "        <td id=\"T_0f023b46_7f54_11e8_b857_88e9fe51200brow0_col12\" class=\"data row0 col12\" >0</td> \n",
       "        <td id=\"T_0f023b46_7f54_11e8_b857_88e9fe51200brow0_col13\" class=\"data row0 col13\" >197</td> \n",
       "        <td id=\"T_0f023b46_7f54_11e8_b857_88e9fe51200brow0_col14\" class=\"data row0 col14\" >2</td> \n",
       "        <td id=\"T_0f023b46_7f54_11e8_b857_88e9fe51200brow0_col15\" class=\"data row0 col15\" >0</td> \n",
       "        <td id=\"T_0f023b46_7f54_11e8_b857_88e9fe51200brow0_col16\" class=\"data row0 col16\" >0</td> \n",
       "        <td id=\"T_0f023b46_7f54_11e8_b857_88e9fe51200brow0_col17\" class=\"data row0 col17\" >1</td> \n",
       "    </tr>    <tr> \n",
       "        <th id=\"T_0f023b46_7f54_11e8_b857_88e9fe51200blevel0_row1\" class=\"row_heading level0 row1\" >male</th> \n",
       "        <td id=\"T_0f023b46_7f54_11e8_b857_88e9fe51200brow1_col0\" class=\"data row1 col0\" >1</td> \n",
       "        <td id=\"T_0f023b46_7f54_11e8_b857_88e9fe51200brow1_col1\" class=\"data row1 col1\" >4</td> \n",
       "        <td id=\"T_0f023b46_7f54_11e8_b857_88e9fe51200brow1_col2\" class=\"data row1 col2\" >1</td> \n",
       "        <td id=\"T_0f023b46_7f54_11e8_b857_88e9fe51200brow1_col3\" class=\"data row1 col3\" >0</td> \n",
       "        <td id=\"T_0f023b46_7f54_11e8_b857_88e9fe51200brow1_col4\" class=\"data row1 col4\" >7</td> \n",
       "        <td id=\"T_0f023b46_7f54_11e8_b857_88e9fe51200brow1_col5\" class=\"data row1 col5\" >1</td> \n",
       "        <td id=\"T_0f023b46_7f54_11e8_b857_88e9fe51200brow1_col6\" class=\"data row1 col6\" >0</td> \n",
       "        <td id=\"T_0f023b46_7f54_11e8_b857_88e9fe51200brow1_col7\" class=\"data row1 col7\" >2</td> \n",
       "        <td id=\"T_0f023b46_7f54_11e8_b857_88e9fe51200brow1_col8\" class=\"data row1 col8\" >61</td> \n",
       "        <td id=\"T_0f023b46_7f54_11e8_b857_88e9fe51200brow1_col9\" class=\"data row1 col9\" >0</td> \n",
       "        <td id=\"T_0f023b46_7f54_11e8_b857_88e9fe51200brow1_col10\" class=\"data row1 col10\" >0</td> \n",
       "        <td id=\"T_0f023b46_7f54_11e8_b857_88e9fe51200brow1_col11\" class=\"data row1 col11\" >0</td> \n",
       "        <td id=\"T_0f023b46_7f54_11e8_b857_88e9fe51200brow1_col12\" class=\"data row1 col12\" >757</td> \n",
       "        <td id=\"T_0f023b46_7f54_11e8_b857_88e9fe51200brow1_col13\" class=\"data row1 col13\" >0</td> \n",
       "        <td id=\"T_0f023b46_7f54_11e8_b857_88e9fe51200brow1_col14\" class=\"data row1 col14\" >0</td> \n",
       "        <td id=\"T_0f023b46_7f54_11e8_b857_88e9fe51200brow1_col15\" class=\"data row1 col15\" >8</td> \n",
       "        <td id=\"T_0f023b46_7f54_11e8_b857_88e9fe51200brow1_col16\" class=\"data row1 col16\" >1</td> \n",
       "        <td id=\"T_0f023b46_7f54_11e8_b857_88e9fe51200brow1_col17\" class=\"data row1 col17\" >0</td> \n",
       "    </tr></tbody> \n",
       "</table> "
      ],
      "text/plain": [
       "<pandas.io.formats.style.Styler at 0x115470240>"
      ]
     },
     "execution_count": 79,
     "metadata": {},
     "output_type": "execute_result"
    }
   ],
   "source": [
    "pd.crosstab(data['Title1'],data['Sex']).T.style.background_gradient(cmap='spring')"
   ]
  },
  {
   "cell_type": "code",
   "execution_count": 80,
   "metadata": {},
   "outputs": [
    {
     "data": {
      "text/html": [
       "<style  type=\"text/css\" >\n",
       "    #T_0f89c03e_7f54_11e8_909c_88e9fe51200brow0_col0 {\n",
       "            background-color:  #008066;\n",
       "        }    #T_0f89c03e_7f54_11e8_909c_88e9fe51200brow0_col1 {\n",
       "            background-color:  #ffff66;\n",
       "        }    #T_0f89c03e_7f54_11e8_909c_88e9fe51200brow0_col2 {\n",
       "            background-color:  #008066;\n",
       "        }    #T_0f89c03e_7f54_11e8_909c_88e9fe51200brow0_col3 {\n",
       "            background-color:  #008066;\n",
       "        }    #T_0f89c03e_7f54_11e8_909c_88e9fe51200brow0_col4 {\n",
       "            background-color:  #008066;\n",
       "        }    #T_0f89c03e_7f54_11e8_909c_88e9fe51200brow0_col5 {\n",
       "            background-color:  #ffff66;\n",
       "        }    #T_0f89c03e_7f54_11e8_909c_88e9fe51200brow0_col6 {\n",
       "            background-color:  #ffff66;\n",
       "        }    #T_0f89c03e_7f54_11e8_909c_88e9fe51200brow0_col7 {\n",
       "            background-color:  #ffff66;\n",
       "        }    #T_0f89c03e_7f54_11e8_909c_88e9fe51200brow0_col8 {\n",
       "            background-color:  #ffff66;\n",
       "        }    #T_0f89c03e_7f54_11e8_909c_88e9fe51200brow0_col9 {\n",
       "            background-color:  #ffff66;\n",
       "        }    #T_0f89c03e_7f54_11e8_909c_88e9fe51200brow0_col10 {\n",
       "            background-color:  #ffff66;\n",
       "        }    #T_0f89c03e_7f54_11e8_909c_88e9fe51200brow0_col11 {\n",
       "            background-color:  #008066;\n",
       "        }    #T_0f89c03e_7f54_11e8_909c_88e9fe51200brow0_col12 {\n",
       "            background-color:  #ffff66;\n",
       "        }    #T_0f89c03e_7f54_11e8_909c_88e9fe51200brow0_col13 {\n",
       "            background-color:  #ffff66;\n",
       "        }    #T_0f89c03e_7f54_11e8_909c_88e9fe51200brow0_col14 {\n",
       "            background-color:  #008066;\n",
       "        }    #T_0f89c03e_7f54_11e8_909c_88e9fe51200brow0_col15 {\n",
       "            background-color:  #ffff66;\n",
       "        }    #T_0f89c03e_7f54_11e8_909c_88e9fe51200brow0_col16 {\n",
       "            background-color:  #ffff66;\n",
       "        }    #T_0f89c03e_7f54_11e8_909c_88e9fe51200brow1_col0 {\n",
       "            background-color:  #ffff66;\n",
       "        }    #T_0f89c03e_7f54_11e8_909c_88e9fe51200brow1_col1 {\n",
       "            background-color:  #ffff66;\n",
       "        }    #T_0f89c03e_7f54_11e8_909c_88e9fe51200brow1_col2 {\n",
       "            background-color:  #ffff66;\n",
       "        }    #T_0f89c03e_7f54_11e8_909c_88e9fe51200brow1_col3 {\n",
       "            background-color:  #ffff66;\n",
       "        }    #T_0f89c03e_7f54_11e8_909c_88e9fe51200brow1_col4 {\n",
       "            background-color:  #ffff66;\n",
       "        }    #T_0f89c03e_7f54_11e8_909c_88e9fe51200brow1_col5 {\n",
       "            background-color:  #008066;\n",
       "        }    #T_0f89c03e_7f54_11e8_909c_88e9fe51200brow1_col6 {\n",
       "            background-color:  #ffff66;\n",
       "        }    #T_0f89c03e_7f54_11e8_909c_88e9fe51200brow1_col7 {\n",
       "            background-color:  #008066;\n",
       "        }    #T_0f89c03e_7f54_11e8_909c_88e9fe51200brow1_col8 {\n",
       "            background-color:  #008066;\n",
       "        }    #T_0f89c03e_7f54_11e8_909c_88e9fe51200brow1_col9 {\n",
       "            background-color:  #008066;\n",
       "        }    #T_0f89c03e_7f54_11e8_909c_88e9fe51200brow1_col10 {\n",
       "            background-color:  #008066;\n",
       "        }    #T_0f89c03e_7f54_11e8_909c_88e9fe51200brow1_col11 {\n",
       "            background-color:  #ffff66;\n",
       "        }    #T_0f89c03e_7f54_11e8_909c_88e9fe51200brow1_col12 {\n",
       "            background-color:  #008066;\n",
       "        }    #T_0f89c03e_7f54_11e8_909c_88e9fe51200brow1_col13 {\n",
       "            background-color:  #008066;\n",
       "        }    #T_0f89c03e_7f54_11e8_909c_88e9fe51200brow1_col14 {\n",
       "            background-color:  #ffff66;\n",
       "        }    #T_0f89c03e_7f54_11e8_909c_88e9fe51200brow1_col15 {\n",
       "            background-color:  #008066;\n",
       "        }    #T_0f89c03e_7f54_11e8_909c_88e9fe51200brow1_col16 {\n",
       "            background-color:  #008066;\n",
       "        }</style>  \n",
       "<table id=\"T_0f89c03e_7f54_11e8_909c_88e9fe51200b\" > \n",
       "<thead>    <tr> \n",
       "        <th class=\"index_name level0\" >Title1</th> \n",
       "        <th class=\"col_heading level0 col0\" >Capt</th> \n",
       "        <th class=\"col_heading level0 col1\" >Col</th> \n",
       "        <th class=\"col_heading level0 col2\" >Don</th> \n",
       "        <th class=\"col_heading level0 col3\" >Dr</th> \n",
       "        <th class=\"col_heading level0 col4\" >Jonkheer</th> \n",
       "        <th class=\"col_heading level0 col5\" >Lady</th> \n",
       "        <th class=\"col_heading level0 col6\" >Major</th> \n",
       "        <th class=\"col_heading level0 col7\" >Master</th> \n",
       "        <th class=\"col_heading level0 col8\" >Miss</th> \n",
       "        <th class=\"col_heading level0 col9\" >Mlle</th> \n",
       "        <th class=\"col_heading level0 col10\" >Mme</th> \n",
       "        <th class=\"col_heading level0 col11\" >Mr</th> \n",
       "        <th class=\"col_heading level0 col12\" >Mrs</th> \n",
       "        <th class=\"col_heading level0 col13\" >Ms</th> \n",
       "        <th class=\"col_heading level0 col14\" >Rev</th> \n",
       "        <th class=\"col_heading level0 col15\" >Sir</th> \n",
       "        <th class=\"col_heading level0 col16\" >the Countess</th> \n",
       "    </tr>    <tr> \n",
       "        <th class=\"index_name level0\" >Survived</th> \n",
       "        <th class=\"blank\" ></th> \n",
       "        <th class=\"blank\" ></th> \n",
       "        <th class=\"blank\" ></th> \n",
       "        <th class=\"blank\" ></th> \n",
       "        <th class=\"blank\" ></th> \n",
       "        <th class=\"blank\" ></th> \n",
       "        <th class=\"blank\" ></th> \n",
       "        <th class=\"blank\" ></th> \n",
       "        <th class=\"blank\" ></th> \n",
       "        <th class=\"blank\" ></th> \n",
       "        <th class=\"blank\" ></th> \n",
       "        <th class=\"blank\" ></th> \n",
       "        <th class=\"blank\" ></th> \n",
       "        <th class=\"blank\" ></th> \n",
       "        <th class=\"blank\" ></th> \n",
       "        <th class=\"blank\" ></th> \n",
       "        <th class=\"blank\" ></th> \n",
       "    </tr></thead> \n",
       "<tbody>    <tr> \n",
       "        <th id=\"T_0f89c03e_7f54_11e8_909c_88e9fe51200blevel0_row0\" class=\"row_heading level0 row0\" >0.0</th> \n",
       "        <td id=\"T_0f89c03e_7f54_11e8_909c_88e9fe51200brow0_col0\" class=\"data row0 col0\" >1</td> \n",
       "        <td id=\"T_0f89c03e_7f54_11e8_909c_88e9fe51200brow0_col1\" class=\"data row0 col1\" >1</td> \n",
       "        <td id=\"T_0f89c03e_7f54_11e8_909c_88e9fe51200brow0_col2\" class=\"data row0 col2\" >1</td> \n",
       "        <td id=\"T_0f89c03e_7f54_11e8_909c_88e9fe51200brow0_col3\" class=\"data row0 col3\" >4</td> \n",
       "        <td id=\"T_0f89c03e_7f54_11e8_909c_88e9fe51200brow0_col4\" class=\"data row0 col4\" >1</td> \n",
       "        <td id=\"T_0f89c03e_7f54_11e8_909c_88e9fe51200brow0_col5\" class=\"data row0 col5\" >0</td> \n",
       "        <td id=\"T_0f89c03e_7f54_11e8_909c_88e9fe51200brow0_col6\" class=\"data row0 col6\" >1</td> \n",
       "        <td id=\"T_0f89c03e_7f54_11e8_909c_88e9fe51200brow0_col7\" class=\"data row0 col7\" >17</td> \n",
       "        <td id=\"T_0f89c03e_7f54_11e8_909c_88e9fe51200brow0_col8\" class=\"data row0 col8\" >55</td> \n",
       "        <td id=\"T_0f89c03e_7f54_11e8_909c_88e9fe51200brow0_col9\" class=\"data row0 col9\" >0</td> \n",
       "        <td id=\"T_0f89c03e_7f54_11e8_909c_88e9fe51200brow0_col10\" class=\"data row0 col10\" >0</td> \n",
       "        <td id=\"T_0f89c03e_7f54_11e8_909c_88e9fe51200brow0_col11\" class=\"data row0 col11\" >436</td> \n",
       "        <td id=\"T_0f89c03e_7f54_11e8_909c_88e9fe51200brow0_col12\" class=\"data row0 col12\" >26</td> \n",
       "        <td id=\"T_0f89c03e_7f54_11e8_909c_88e9fe51200brow0_col13\" class=\"data row0 col13\" >0</td> \n",
       "        <td id=\"T_0f89c03e_7f54_11e8_909c_88e9fe51200brow0_col14\" class=\"data row0 col14\" >6</td> \n",
       "        <td id=\"T_0f89c03e_7f54_11e8_909c_88e9fe51200brow0_col15\" class=\"data row0 col15\" >0</td> \n",
       "        <td id=\"T_0f89c03e_7f54_11e8_909c_88e9fe51200brow0_col16\" class=\"data row0 col16\" >0</td> \n",
       "    </tr>    <tr> \n",
       "        <th id=\"T_0f89c03e_7f54_11e8_909c_88e9fe51200blevel0_row1\" class=\"row_heading level0 row1\" >1.0</th> \n",
       "        <td id=\"T_0f89c03e_7f54_11e8_909c_88e9fe51200brow1_col0\" class=\"data row1 col0\" >0</td> \n",
       "        <td id=\"T_0f89c03e_7f54_11e8_909c_88e9fe51200brow1_col1\" class=\"data row1 col1\" >1</td> \n",
       "        <td id=\"T_0f89c03e_7f54_11e8_909c_88e9fe51200brow1_col2\" class=\"data row1 col2\" >0</td> \n",
       "        <td id=\"T_0f89c03e_7f54_11e8_909c_88e9fe51200brow1_col3\" class=\"data row1 col3\" >3</td> \n",
       "        <td id=\"T_0f89c03e_7f54_11e8_909c_88e9fe51200brow1_col4\" class=\"data row1 col4\" >0</td> \n",
       "        <td id=\"T_0f89c03e_7f54_11e8_909c_88e9fe51200brow1_col5\" class=\"data row1 col5\" >1</td> \n",
       "        <td id=\"T_0f89c03e_7f54_11e8_909c_88e9fe51200brow1_col6\" class=\"data row1 col6\" >1</td> \n",
       "        <td id=\"T_0f89c03e_7f54_11e8_909c_88e9fe51200brow1_col7\" class=\"data row1 col7\" >23</td> \n",
       "        <td id=\"T_0f89c03e_7f54_11e8_909c_88e9fe51200brow1_col8\" class=\"data row1 col8\" >127</td> \n",
       "        <td id=\"T_0f89c03e_7f54_11e8_909c_88e9fe51200brow1_col9\" class=\"data row1 col9\" >2</td> \n",
       "        <td id=\"T_0f89c03e_7f54_11e8_909c_88e9fe51200brow1_col10\" class=\"data row1 col10\" >1</td> \n",
       "        <td id=\"T_0f89c03e_7f54_11e8_909c_88e9fe51200brow1_col11\" class=\"data row1 col11\" >81</td> \n",
       "        <td id=\"T_0f89c03e_7f54_11e8_909c_88e9fe51200brow1_col12\" class=\"data row1 col12\" >99</td> \n",
       "        <td id=\"T_0f89c03e_7f54_11e8_909c_88e9fe51200brow1_col13\" class=\"data row1 col13\" >1</td> \n",
       "        <td id=\"T_0f89c03e_7f54_11e8_909c_88e9fe51200brow1_col14\" class=\"data row1 col14\" >0</td> \n",
       "        <td id=\"T_0f89c03e_7f54_11e8_909c_88e9fe51200brow1_col15\" class=\"data row1 col15\" >1</td> \n",
       "        <td id=\"T_0f89c03e_7f54_11e8_909c_88e9fe51200brow1_col16\" class=\"data row1 col16\" >1</td> \n",
       "    </tr></tbody> \n",
       "</table> "
      ],
      "text/plain": [
       "<pandas.io.formats.style.Styler at 0x1154da908>"
      ]
     },
     "execution_count": 80,
     "metadata": {},
     "output_type": "execute_result"
    }
   ],
   "source": [
    "pd.crosstab(data['Title1'],data['Survived']).T.style.background_gradient(cmap='summer_r')"
   ]
  },
  {
   "cell_type": "code",
   "execution_count": 81,
   "metadata": {},
   "outputs": [
    {
     "data": {
      "text/plain": [
       "Title1\n",
       "Capt            70.000000\n",
       "Col             54.000000\n",
       "Don             40.000000\n",
       "Dona            39.000000\n",
       "Dr              43.571429\n",
       "Jonkheer        38.000000\n",
       "Lady            48.000000\n",
       "Major           48.500000\n",
       "Master           5.482642\n",
       "Miss            21.774238\n",
       "Mlle            24.000000\n",
       "Mme             24.000000\n",
       "Mr              32.252151\n",
       "Mrs             36.994118\n",
       "Ms              28.000000\n",
       "Rev             41.250000\n",
       "Sir             49.000000\n",
       "the Countess    33.000000\n",
       "Name: Age, dtype: float64"
      ]
     },
     "execution_count": 81,
     "metadata": {},
     "output_type": "execute_result"
    }
   ],
   "source": [
    "# group by Title1 mean_of_age\n",
    "data.groupby(['Title1'])['Age'].mean()\n"
   ]
  },
  {
   "cell_type": "code",
   "execution_count": 82,
   "metadata": {},
   "outputs": [
    {
     "data": {
      "text/plain": [
       "Title1        Pclass\n",
       "Capt          1         70.000000\n",
       "Col           1         54.000000\n",
       "Don           1         40.000000\n",
       "Dona          1         39.000000\n",
       "Dr            1         45.600000\n",
       "              2         38.500000\n",
       "Jonkheer      1         38.000000\n",
       "Lady          1         48.000000\n",
       "Major         1         48.500000\n",
       "Master        1          6.984000\n",
       "              2          2.757273\n",
       "              3          6.090000\n",
       "Miss          1         30.338983\n",
       "              2         20.717083\n",
       "              3         17.360874\n",
       "Mlle          1         24.000000\n",
       "Mme           1         24.000000\n",
       "Mr            1         41.450758\n",
       "              2         32.346715\n",
       "              3         28.318910\n",
       "Mrs           1         43.208955\n",
       "              2         33.518519\n",
       "              3         32.326531\n",
       "Ms            2         28.000000\n",
       "              3               NaN\n",
       "Rev           2         41.250000\n",
       "Sir           1         49.000000\n",
       "the Countess  1         33.000000\n",
       "Name: Age, dtype: float64"
      ]
     },
     "execution_count": 82,
     "metadata": {},
     "output_type": "execute_result"
    }
   ],
   "source": [
    "# group by Title1,Pclass mean_of_age\n",
    "data.groupby(['Title1','Pclass'])['Age'].mean()"
   ]
  },
  {
   "cell_type": "code",
   "execution_count": 83,
   "metadata": {},
   "outputs": [
    {
     "data": {
      "text/plain": [
       "array(['Mr', 'Mrs', 'Miss', 'Master'], dtype=object)"
      ]
     },
     "execution_count": 83,
     "metadata": {},
     "output_type": "execute_result"
    }
   ],
   "source": [
    "#合併成比較常出現的姓氏在Title2\n",
    "data['Title2']=''\n",
    "for idx, row in data.iterrows():  # 請務必記得加上idx，不然跑回圈的item會變成(idx, row)\n",
    "    Sex = row['Sex']\n",
    "    Title1=row['Title1']\n",
    "    if Title1=='Master':\n",
    "        Title2='Master'\n",
    "    elif Title1=='Mrs':\n",
    "        Title2='Mrs'\n",
    "    elif Title1=='Miss':\n",
    "        Title2='Miss'\n",
    "    elif Sex=='male':\n",
    "        Title2='Mr'\n",
    "    else:\n",
    "        Title2='Miss'\n",
    "    data.loc[idx,'Title2']=Title2 #???\n",
    "data['Title2'].unique()"
   ]
  },
  {
   "cell_type": "code",
   "execution_count": 84,
   "metadata": {},
   "outputs": [],
   "source": [
    "# 票的前幾碼代號可能有意義，流水編沒有所以拿掉\n",
    "data['Ticket_info'] = data['Ticket'].apply(lambda x : x.replace(\".\",\"\").replace(\"/\",\"\").strip().split(' ')[0] if not x.isdigit() else 'X')"
   ]
  },
  {
   "cell_type": "code",
   "execution_count": 85,
   "metadata": {},
   "outputs": [
    {
     "data": {
      "text/plain": [
       "array(['A5', 'PC', 'STONO2', 'X', 'PP', 'CA', 'SCParis', 'SCA4', 'A4',\n",
       "       'SP', 'SOC', 'WC', 'SOTONOQ', 'WEP', 'STONO', 'C', 'SCPARIS',\n",
       "       'SOP', 'Fa', 'LINE', 'FCC', 'SWPP', 'SCOW', 'PPP', 'SC', 'SCAH',\n",
       "       'AS', 'SOPP', 'FC', 'SOTONO2', 'CASOTON', 'SCA3', 'STONOQ', 'AQ4',\n",
       "       'A', 'LP', 'AQ3'], dtype=object)"
      ]
     },
     "execution_count": 85,
     "metadata": {},
     "output_type": "execute_result"
    }
   ],
   "source": [
    "data['Ticket_info'].unique()"
   ]
  },
  {
   "cell_type": "code",
   "execution_count": 86,
   "metadata": {},
   "outputs": [
    {
     "data": {
      "text/plain": [
       "<matplotlib.axes._subplots.AxesSubplot at 0x1154c6400>"
      ]
     },
     "execution_count": 86,
     "metadata": {},
     "output_type": "execute_result"
    },
    {
     "data": {
      "image/png": "[encoded data removed]",
      "text/plain": [
       "<Figure size 432x288 with 1 Axes>"
      ]
     },
     "metadata": {},
     "output_type": "display_data"
    }
   ],
   "source": [
    "#看Embarked遺漏值#看Embark \n",
    "sns.countplot(data['Embarked'].isnull())"
   ]
  },
  {
   "cell_type": "code",
   "execution_count": 87,
   "metadata": {},
   "outputs": [
    {
     "data": {
      "text/plain": [
       "<matplotlib.axes._subplots.AxesSubplot at 0x11549b438>"
      ]
     },
     "execution_count": 87,
     "metadata": {},
     "output_type": "execute_result"
    },
    {
     "data": {
      "image/png": "[encoded data removed]",
      "text/plain": [
       "<Figure size 432x288 with 1 Axes>"
      ]
     },
     "metadata": {},
     "output_type": "display_data"
    }
   ],
   "source": [
    "sns.countplot(data['Embarked'])"
   ]
  },
  {
   "cell_type": "code",
   "execution_count": 88,
   "metadata": {},
   "outputs": [],
   "source": [
    "#最多在S港上傳，填補遺漏值\n",
    "data['Embarked']=data['Embarked'].fillna('S')"
   ]
  },
  {
   "cell_type": "code",
   "execution_count": 89,
   "metadata": {},
   "outputs": [
    {
     "data": {
      "text/plain": [
       "<matplotlib.axes._subplots.AxesSubplot at 0x1155a5470>"
      ]
     },
     "execution_count": 89,
     "metadata": {},
     "output_type": "execute_result"
    },
    {
     "data": {
      "image/png": "[encoded data removed]",
      "text/plain": [
       "<Figure size 432x288 with 1 Axes>"
      ]
     },
     "metadata": {},
     "output_type": "display_data"
    }
   ],
   "source": [
    "sns.countplot(data['Embarked'],hue=data['Survived'])#hue設定第二分類"
   ]
  },
  {
   "cell_type": "code",
   "execution_count": 90,
   "metadata": {},
   "outputs": [
    {
     "name": "stdout",
     "output_type": "stream",
     "text": [
      "Fare遺漏的人數： 1\n"
     ]
    }
   ],
   "source": [
    "#\n",
    "print('Fare遺漏的人數：',data['Fare'].isnull().sum())\n",
    "#用平均填補遺漏值\n",
    "data['Fare']=data['Fare'].fillna(data['Fare'].mean())"
   ]
  },
  {
   "cell_type": "code",
   "execution_count": 91,
   "metadata": {},
   "outputs": [
    {
     "name": "stdout",
     "output_type": "stream",
     "text": [
      "Age遺漏的人數： 263\n"
     ]
    }
   ],
   "source": [
    "#\n",
    "print('Age遺漏的人數：',data['Age'].isnull().sum())\n",
    "#用中位數填補遺漏值\n",
    "data['Age']=data['Age'].fillna(data['Age'].median())"
   ]
  },
  {
   "cell_type": "code",
   "execution_count": 112,
   "metadata": {},
   "outputs": [],
   "source": [
    "# ???\n",
    "data['Sex'] = data['Sex'].astype('category').cat.codes\n",
    "data['Embarked'] = data['Embarked'].astype('category').cat.codes\n",
    "data['Pclass'] = data['Pclass'].astype('category').cat.codes\n",
    "data['Title2'] = data['Title2'].astype('category').cat.codes\n",
    "data['Ticket_info'] = data['Ticket_info'].astype('category').cat.codes"
   ]
  },
  {
   "cell_type": "code",
   "execution_count": 113,
   "metadata": {},
   "outputs": [],
   "source": [
    "# 運用'Survived'欄位來判斷訓練集還是測試集\n",
    "dataTrain = data[pd.notnull(data['Survived'])].sort_values(by=[\"PassengerId\"])\n",
    "dataTest = data[~pd.notnull(data['Survived'])].sort_values(by=[\"PassengerId\"])"
   ]
  },
  {
   "cell_type": "code",
   "execution_count": 114,
   "metadata": {},
   "outputs": [
    {
     "data": {
      "text/plain": [
       "Index(['Age', 'Cabin', 'Embarked', 'Fare', 'Name', 'Parch', 'PassengerId',\n",
       "       'Pclass', 'Sex', 'SibSp', 'Survived', 'Ticket', 'Family_Size', 'Title1',\n",
       "       'Title2', 'Ticket_info'],\n",
       "      dtype='object')"
      ]
     },
     "execution_count": 114,
     "metadata": {},
     "output_type": "execute_result"
    }
   ],
   "source": [
    "dataTrain.columns"
   ]
  },
  {
   "cell_type": "code",
   "execution_count": 124,
   "metadata": {},
   "outputs": [
    {
     "data": {
      "text/html": [
       "<div>\n",
       "<style scoped>\n",
       "    .dataframe tbody tr th:only-of-type {\n",
       "        vertical-align: middle;\n",
       "    }\n",
       "\n",
       "    .dataframe tbody tr th {\n",
       "        vertical-align: top;\n",
       "    }\n",
       "\n",
       "    .dataframe thead th {\n",
       "        text-align: right;\n",
       "    }\n",
       "</style>\n",
       "<table border=\"1\" class=\"dataframe\">\n",
       "  <thead>\n",
       "    <tr style=\"text-align: right;\">\n",
       "      <th></th>\n",
       "      <th>Survived</th>\n",
       "      <th>Age</th>\n",
       "      <th>Embarked</th>\n",
       "      <th>Fare</th>\n",
       "      <th>Pclass</th>\n",
       "      <th>Sex</th>\n",
       "      <th>Family_Size</th>\n",
       "      <th>Title2</th>\n",
       "      <th>Ticket_info</th>\n",
       "    </tr>\n",
       "  </thead>\n",
       "  <tbody>\n",
       "    <tr>\n",
       "      <th>0</th>\n",
       "      <td>0.0</td>\n",
       "      <td>22.0</td>\n",
       "      <td>2</td>\n",
       "      <td>7.2500</td>\n",
       "      <td>2</td>\n",
       "      <td>1</td>\n",
       "      <td>1</td>\n",
       "      <td>2</td>\n",
       "      <td>2</td>\n",
       "    </tr>\n",
       "    <tr>\n",
       "      <th>1</th>\n",
       "      <td>1.0</td>\n",
       "      <td>38.0</td>\n",
       "      <td>0</td>\n",
       "      <td>71.2833</td>\n",
       "      <td>0</td>\n",
       "      <td>0</td>\n",
       "      <td>1</td>\n",
       "      <td>3</td>\n",
       "      <td>14</td>\n",
       "    </tr>\n",
       "    <tr>\n",
       "      <th>2</th>\n",
       "      <td>1.0</td>\n",
       "      <td>26.0</td>\n",
       "      <td>2</td>\n",
       "      <td>7.9250</td>\n",
       "      <td>2</td>\n",
       "      <td>0</td>\n",
       "      <td>0</td>\n",
       "      <td>2</td>\n",
       "      <td>31</td>\n",
       "    </tr>\n",
       "    <tr>\n",
       "      <th>3</th>\n",
       "      <td>1.0</td>\n",
       "      <td>35.0</td>\n",
       "      <td>2</td>\n",
       "      <td>53.1000</td>\n",
       "      <td>0</td>\n",
       "      <td>0</td>\n",
       "      <td>1</td>\n",
       "      <td>2</td>\n",
       "      <td>36</td>\n",
       "    </tr>\n",
       "  </tbody>\n",
       "</table>\n",
       "</div>"
      ],
      "text/plain": [
       "   Survived   Age  Embarked     Fare  Pclass  Sex  Family_Size  Title2  \\\n",
       "0       0.0  22.0         2   7.2500       2    1            1       2   \n",
       "1       1.0  38.0         0  71.2833       0    0            1       3   \n",
       "2       1.0  26.0         2   7.9250       2    0            0       2   \n",
       "3       1.0  35.0         2  53.1000       0    0            1       2   \n",
       "\n",
       "   Ticket_info  \n",
       "0            2  \n",
       "1           14  \n",
       "2           31  \n",
       "3           36  "
      ]
     },
     "execution_count": 124,
     "metadata": {},
     "output_type": "execute_result"
    }
   ],
   "source": [
    "# 選要的欄位\n",
    "dataTrain=dataTrain[['Survived','Age','Embarked','Fare','Pclass','Sex','Family_Size','Title2','Ticket_info']]\n",
    "dataTest=dataTest[['Age','Embarked','Fare','Pclass','Sex','Family_Size','Title2','Ticket_info']]\n",
    "dataTrain.head(4)"
   ]
  },
  {
   "cell_type": "code",
   "execution_count": 125,
   "metadata": {},
   "outputs": [],
   "source": [
    "# doing cross_validation\n",
    "from sklearn import cross_validation\n",
    "seed = 0\n",
    "test_size = 0.3\n",
    "X = dataTrain.loc[:,['Age','Embarked','Fare','Pclass','Sex','Family_Size','Title2','Ticket_info']]\n",
    "y = dataTrain[['Survived']]\n",
    "X_train, X_test, y_train, y_test = cross_validation.train_test_split(X, y, test_size=test_size, random_state=seed)"
   ]
  },
  {
   "cell_type": "code",
   "execution_count": 126,
   "metadata": {},
   "outputs": [],
   "source": [
    "#max_depth的default=None，這樣建樹時，會使每一個節點只有一個類別，或是達到min_samples_split。\n",
    "from sklearn import tree\n",
    "clf = tree.DecisionTreeClassifier(criterion='gini', splitter='best', max_depth=None, min_samples_split=2, min_samples_leaf=1, min_weight_fraction_leaf=0.0, max_features=None, random_state=None, max_leaf_nodes=None, min_impurity_decrease=0.0, min_impurity_split=None, class_weight=None, presort=False)\n",
    "clf = clf.fit(X_train,y_train)"
   ]
  },
  {
   "cell_type": "code",
   "execution_count": 127,
   "metadata": {},
   "outputs": [
    {
     "name": "stdout",
     "output_type": "stream",
     "text": [
      "Accuracy:0.989 \n",
      "\n",
      "Classification report\n",
      "             precision    recall  f1-score   support\n",
      "\n",
      "        0.0       0.98      1.00      0.99       381\n",
      "        1.0       1.00      0.98      0.99       242\n",
      "\n",
      "avg / total       0.99      0.99      0.99       623\n",
      " \n",
      "\n",
      "Confusion matrix\n",
      "[[380   1]\n",
      " [  6 236]] \n",
      "\n"
     ]
    }
   ],
   "source": [
    "from sklearn import metrics\n",
    "def measure_performance(X,y,clf, show_accuracy=True, show_classification_report=True, show_confusion_matrix=True):\n",
    "    y_pred=clf.predict(X)   \n",
    "    if show_accuracy:\n",
    "        print (\"Accuracy:{0:.3f}\".format(metrics.accuracy_score(y,y_pred)),\"\\n\")\n",
    "\n",
    "    if show_classification_report:\n",
    "        print (\"Classification report\")\n",
    "        print (metrics.classification_report(y,y_pred),\"\\n\")\n",
    "        \n",
    "    if show_confusion_matrix:\n",
    "        print (\"Confusion matrix\")\n",
    "        print (metrics.confusion_matrix(y,y_pred),\"\\n\")\n",
    "        \n",
    "measure_performance(X_train,y_train,clf, show_classification_report=True, show_confusion_matrix=True)"
   ]
  },
  {
   "cell_type": "code",
   "execution_count": 120,
   "metadata": {},
   "outputs": [],
   "source": [
    "#predict Test data\n",
    "#submit the data to kaggle\n",
    "clf_res =clf.predict(dataTest)\n",
    "submit['Survived'] = clf_res\n",
    "submit['Survived'] = submit['Survived'].astype(int)"
   ]
  },
  {
   "cell_type": "code",
   "execution_count": 121,
   "metadata": {},
   "outputs": [],
   "source": [
    "submit.to_csv('submit_to_kaggle.csv', index= False)"
   ]
  },
  {
   "cell_type": "code",
   "execution_count": 122,
   "metadata": {},
   "outputs": [
    {
     "data": {
      "text/plain": [
       "'/Users/francislin/Desktop/Machine_Learning_Workshop/Titanic'"
      ]
     },
     "execution_count": 122,
     "metadata": {},
     "output_type": "execute_result"
    }
   ],
   "source": [
    "#看一下當前路徑\n",
    "%pwd"
   ]
  },
  {
   "cell_type": "code",
   "execution_count": 123,
   "metadata": {},
   "outputs": [
    {
     "data": {
      "text/html": [
       "<div>\n",
       "<style scoped>\n",
       "    .dataframe tbody tr th:only-of-type {\n",
       "        vertical-align: middle;\n",
       "    }\n",
       "\n",
       "    .dataframe tbody tr th {\n",
       "        vertical-align: top;\n",
       "    }\n",
       "\n",
       "    .dataframe thead th {\n",
       "        text-align: right;\n",
       "    }\n",
       "</style>\n",
       "<table border=\"1\" class=\"dataframe\">\n",
       "  <thead>\n",
       "    <tr style=\"text-align: right;\">\n",
       "      <th></th>\n",
       "      <th>PassengerId</th>\n",
       "      <th>Survived</th>\n",
       "    </tr>\n",
       "  </thead>\n",
       "  <tbody>\n",
       "    <tr>\n",
       "      <th>0</th>\n",
       "      <td>892</td>\n",
       "      <td>0</td>\n",
       "    </tr>\n",
       "    <tr>\n",
       "      <th>1</th>\n",
       "      <td>893</td>\n",
       "      <td>0</td>\n",
       "    </tr>\n",
       "    <tr>\n",
       "      <th>2</th>\n",
       "      <td>894</td>\n",
       "      <td>0</td>\n",
       "    </tr>\n",
       "    <tr>\n",
       "      <th>3</th>\n",
       "      <td>895</td>\n",
       "      <td>1</td>\n",
       "    </tr>\n",
       "    <tr>\n",
       "      <th>4</th>\n",
       "      <td>896</td>\n",
       "      <td>1</td>\n",
       "    </tr>\n",
       "    <tr>\n",
       "      <th>5</th>\n",
       "      <td>897</td>\n",
       "      <td>0</td>\n",
       "    </tr>\n",
       "    <tr>\n",
       "      <th>6</th>\n",
       "      <td>898</td>\n",
       "      <td>0</td>\n",
       "    </tr>\n",
       "    <tr>\n",
       "      <th>7</th>\n",
       "      <td>899</td>\n",
       "      <td>0</td>\n",
       "    </tr>\n",
       "    <tr>\n",
       "      <th>8</th>\n",
       "      <td>900</td>\n",
       "      <td>1</td>\n",
       "    </tr>\n",
       "    <tr>\n",
       "      <th>9</th>\n",
       "      <td>901</td>\n",
       "      <td>0</td>\n",
       "    </tr>\n",
       "    <tr>\n",
       "      <th>10</th>\n",
       "      <td>902</td>\n",
       "      <td>0</td>\n",
       "    </tr>\n",
       "    <tr>\n",
       "      <th>11</th>\n",
       "      <td>903</td>\n",
       "      <td>0</td>\n",
       "    </tr>\n",
       "    <tr>\n",
       "      <th>12</th>\n",
       "      <td>904</td>\n",
       "      <td>1</td>\n",
       "    </tr>\n",
       "    <tr>\n",
       "      <th>13</th>\n",
       "      <td>905</td>\n",
       "      <td>0</td>\n",
       "    </tr>\n",
       "    <tr>\n",
       "      <th>14</th>\n",
       "      <td>906</td>\n",
       "      <td>1</td>\n",
       "    </tr>\n",
       "    <tr>\n",
       "      <th>15</th>\n",
       "      <td>907</td>\n",
       "      <td>0</td>\n",
       "    </tr>\n",
       "    <tr>\n",
       "      <th>16</th>\n",
       "      <td>908</td>\n",
       "      <td>0</td>\n",
       "    </tr>\n",
       "    <tr>\n",
       "      <th>17</th>\n",
       "      <td>909</td>\n",
       "      <td>1</td>\n",
       "    </tr>\n",
       "    <tr>\n",
       "      <th>18</th>\n",
       "      <td>910</td>\n",
       "      <td>1</td>\n",
       "    </tr>\n",
       "    <tr>\n",
       "      <th>19</th>\n",
       "      <td>911</td>\n",
       "      <td>0</td>\n",
       "    </tr>\n",
       "    <tr>\n",
       "      <th>20</th>\n",
       "      <td>912</td>\n",
       "      <td>0</td>\n",
       "    </tr>\n",
       "    <tr>\n",
       "      <th>21</th>\n",
       "      <td>913</td>\n",
       "      <td>1</td>\n",
       "    </tr>\n",
       "    <tr>\n",
       "      <th>22</th>\n",
       "      <td>914</td>\n",
       "      <td>1</td>\n",
       "    </tr>\n",
       "    <tr>\n",
       "      <th>23</th>\n",
       "      <td>915</td>\n",
       "      <td>0</td>\n",
       "    </tr>\n",
       "    <tr>\n",
       "      <th>24</th>\n",
       "      <td>916</td>\n",
       "      <td>1</td>\n",
       "    </tr>\n",
       "    <tr>\n",
       "      <th>25</th>\n",
       "      <td>917</td>\n",
       "      <td>0</td>\n",
       "    </tr>\n",
       "    <tr>\n",
       "      <th>26</th>\n",
       "      <td>918</td>\n",
       "      <td>1</td>\n",
       "    </tr>\n",
       "    <tr>\n",
       "      <th>27</th>\n",
       "      <td>919</td>\n",
       "      <td>1</td>\n",
       "    </tr>\n",
       "    <tr>\n",
       "      <th>28</th>\n",
       "      <td>920</td>\n",
       "      <td>0</td>\n",
       "    </tr>\n",
       "    <tr>\n",
       "      <th>29</th>\n",
       "      <td>921</td>\n",
       "      <td>1</td>\n",
       "    </tr>\n",
       "    <tr>\n",
       "      <th>...</th>\n",
       "      <td>...</td>\n",
       "      <td>...</td>\n",
       "    </tr>\n",
       "    <tr>\n",
       "      <th>388</th>\n",
       "      <td>1280</td>\n",
       "      <td>0</td>\n",
       "    </tr>\n",
       "    <tr>\n",
       "      <th>389</th>\n",
       "      <td>1281</td>\n",
       "      <td>0</td>\n",
       "    </tr>\n",
       "    <tr>\n",
       "      <th>390</th>\n",
       "      <td>1282</td>\n",
       "      <td>0</td>\n",
       "    </tr>\n",
       "    <tr>\n",
       "      <th>391</th>\n",
       "      <td>1283</td>\n",
       "      <td>1</td>\n",
       "    </tr>\n",
       "    <tr>\n",
       "      <th>392</th>\n",
       "      <td>1284</td>\n",
       "      <td>1</td>\n",
       "    </tr>\n",
       "    <tr>\n",
       "      <th>393</th>\n",
       "      <td>1285</td>\n",
       "      <td>0</td>\n",
       "    </tr>\n",
       "    <tr>\n",
       "      <th>394</th>\n",
       "      <td>1286</td>\n",
       "      <td>0</td>\n",
       "    </tr>\n",
       "    <tr>\n",
       "      <th>395</th>\n",
       "      <td>1287</td>\n",
       "      <td>1</td>\n",
       "    </tr>\n",
       "    <tr>\n",
       "      <th>396</th>\n",
       "      <td>1288</td>\n",
       "      <td>0</td>\n",
       "    </tr>\n",
       "    <tr>\n",
       "      <th>397</th>\n",
       "      <td>1289</td>\n",
       "      <td>1</td>\n",
       "    </tr>\n",
       "    <tr>\n",
       "      <th>398</th>\n",
       "      <td>1290</td>\n",
       "      <td>0</td>\n",
       "    </tr>\n",
       "    <tr>\n",
       "      <th>399</th>\n",
       "      <td>1291</td>\n",
       "      <td>0</td>\n",
       "    </tr>\n",
       "    <tr>\n",
       "      <th>400</th>\n",
       "      <td>1292</td>\n",
       "      <td>1</td>\n",
       "    </tr>\n",
       "    <tr>\n",
       "      <th>401</th>\n",
       "      <td>1293</td>\n",
       "      <td>0</td>\n",
       "    </tr>\n",
       "    <tr>\n",
       "      <th>402</th>\n",
       "      <td>1294</td>\n",
       "      <td>1</td>\n",
       "    </tr>\n",
       "    <tr>\n",
       "      <th>403</th>\n",
       "      <td>1295</td>\n",
       "      <td>0</td>\n",
       "    </tr>\n",
       "    <tr>\n",
       "      <th>404</th>\n",
       "      <td>1296</td>\n",
       "      <td>0</td>\n",
       "    </tr>\n",
       "    <tr>\n",
       "      <th>405</th>\n",
       "      <td>1297</td>\n",
       "      <td>1</td>\n",
       "    </tr>\n",
       "    <tr>\n",
       "      <th>406</th>\n",
       "      <td>1298</td>\n",
       "      <td>0</td>\n",
       "    </tr>\n",
       "    <tr>\n",
       "      <th>407</th>\n",
       "      <td>1299</td>\n",
       "      <td>0</td>\n",
       "    </tr>\n",
       "    <tr>\n",
       "      <th>408</th>\n",
       "      <td>1300</td>\n",
       "      <td>1</td>\n",
       "    </tr>\n",
       "    <tr>\n",
       "      <th>409</th>\n",
       "      <td>1301</td>\n",
       "      <td>1</td>\n",
       "    </tr>\n",
       "    <tr>\n",
       "      <th>410</th>\n",
       "      <td>1302</td>\n",
       "      <td>1</td>\n",
       "    </tr>\n",
       "    <tr>\n",
       "      <th>411</th>\n",
       "      <td>1303</td>\n",
       "      <td>1</td>\n",
       "    </tr>\n",
       "    <tr>\n",
       "      <th>412</th>\n",
       "      <td>1304</td>\n",
       "      <td>0</td>\n",
       "    </tr>\n",
       "    <tr>\n",
       "      <th>413</th>\n",
       "      <td>1305</td>\n",
       "      <td>0</td>\n",
       "    </tr>\n",
       "    <tr>\n",
       "      <th>414</th>\n",
       "      <td>1306</td>\n",
       "      <td>1</td>\n",
       "    </tr>\n",
       "    <tr>\n",
       "      <th>415</th>\n",
       "      <td>1307</td>\n",
       "      <td>0</td>\n",
       "    </tr>\n",
       "    <tr>\n",
       "      <th>416</th>\n",
       "      <td>1308</td>\n",
       "      <td>0</td>\n",
       "    </tr>\n",
       "    <tr>\n",
       "      <th>417</th>\n",
       "      <td>1309</td>\n",
       "      <td>1</td>\n",
       "    </tr>\n",
       "  </tbody>\n",
       "</table>\n",
       "<p>418 rows × 2 columns</p>\n",
       "</div>"
      ],
      "text/plain": [
       "     PassengerId  Survived\n",
       "0            892         0\n",
       "1            893         0\n",
       "2            894         0\n",
       "3            895         1\n",
       "4            896         1\n",
       "5            897         0\n",
       "6            898         0\n",
       "7            899         0\n",
       "8            900         1\n",
       "9            901         0\n",
       "10           902         0\n",
       "11           903         0\n",
       "12           904         1\n",
       "13           905         0\n",
       "14           906         1\n",
       "15           907         0\n",
       "16           908         0\n",
       "17           909         1\n",
       "18           910         1\n",
       "19           911         0\n",
       "20           912         0\n",
       "21           913         1\n",
       "22           914         1\n",
       "23           915         0\n",
       "24           916         1\n",
       "25           917         0\n",
       "26           918         1\n",
       "27           919         1\n",
       "28           920         0\n",
       "29           921         1\n",
       "..           ...       ...\n",
       "388         1280         0\n",
       "389         1281         0\n",
       "390         1282         0\n",
       "391         1283         1\n",
       "392         1284         1\n",
       "393         1285         0\n",
       "394         1286         0\n",
       "395         1287         1\n",
       "396         1288         0\n",
       "397         1289         1\n",
       "398         1290         0\n",
       "399         1291         0\n",
       "400         1292         1\n",
       "401         1293         0\n",
       "402         1294         1\n",
       "403         1295         0\n",
       "404         1296         0\n",
       "405         1297         1\n",
       "406         1298         0\n",
       "407         1299         0\n",
       "408         1300         1\n",
       "409         1301         1\n",
       "410         1302         1\n",
       "411         1303         1\n",
       "412         1304         0\n",
       "413         1305         0\n",
       "414         1306         1\n",
       "415         1307         0\n",
       "416         1308         0\n",
       "417         1309         1\n",
       "\n",
       "[418 rows x 2 columns]"
      ]
     },
     "execution_count": 123,
     "metadata": {},
     "output_type": "execute_result"
    }
   ],
   "source": [
    "submit"
   ]
  },
  {
   "cell_type": "code",
   "execution_count": 81,
   "metadata": {},
   "outputs": [
    {
     "name": "stdout",
     "output_type": "stream",
     "text": [
      "Erik's first test result:Your submission scored 0.72727\n"
     ]
    }
   ],
   "source": [
    "print(\"Erik's first test result:\"+\"Your submission scored 0.72727\")"
   ]
  },
  {
   "cell_type": "code",
   "execution_count": 128,
   "metadata": {},
   "outputs": [
    {
     "name": "stdout",
     "output_type": "stream",
     "text": [
      "add ticket_info to x:Your submission scored 0.74641\n"
     ]
    }
   ],
   "source": [
    "print(\"add ticket_info to x:\"+\"Your submission scored 0.74641\")"
   ]
  },
  {
   "cell_type": "code",
   "execution_count": null,
   "metadata": {},
   "outputs": [],
   "source": []
  }
 ],
 "metadata": {
  "kernelspec": {
   "display_name": "Python 3",
   "language": "python",
   "name": "python3"
  },
  "language_info": {
   "codemirror_mode": {
    "name": "ipython",
    "version": 3
   },
   "file_extension": ".py",
   "mimetype": "text/x-python",
   "name": "python",
   "nbconvert_exporter": "python",
   "pygments_lexer": "ipython3",
   "version": "3.6.5"
  }
 },
 "nbformat": 4,
 "nbformat_minor": 2
}

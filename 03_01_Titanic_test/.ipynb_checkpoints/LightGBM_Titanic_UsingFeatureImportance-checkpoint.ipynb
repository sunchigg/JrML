{
 "cells": [
  {
   "cell_type": "code",
   "execution_count": 30,
   "metadata": {},
   "outputs": [],
   "source": [
    "# load package\n",
    "import pandas as pd\n",
    "import numpy as np\n",
    "import seaborn as sns\n",
    "import lightgbm as lgb\n",
    "from lightgbm import LGBMClassifier\n",
    "from bayes_opt import BayesianOptimization\n",
    "from sklearn.cross_validation  import train_test_split\n",
    "from sklearn import metrics\n",
    "from sklearn import preprocessing\n",
    "import matplotlib.pyplot as plt\n",
    "from sklearn import cross_validation\n",
    "\n",
    "# set path\n",
    "import os\n",
    "default_path = \"/Users/francislin/Desktop/Machine_Learning_Workshop/Titanic/\"\n",
    "os.chdir(default_path)\n",
    "\n",
    "# skip interaction warning\n",
    "import warnings; \n",
    "warnings.filterwarnings('ignore')"
   ]
  },
  {
   "cell_type": "code",
   "execution_count": 2,
   "metadata": {},
   "outputs": [],
   "source": [
    "# Data Prepararion\n",
    "# read data\n",
    "train=pd.read_csv('train.csv',encoding='big5')\n",
    "test=pd.read_csv('test.csv',encoding='big5')\n",
    "submit=pd.read_csv('gender_submission.csv',encoding='big5')"
   ]
  },
  {
   "cell_type": "code",
   "execution_count": 3,
   "metadata": {},
   "outputs": [],
   "source": [
    "# append in ONE data\n",
    "data=train.append(test)"
   ]
  },
  {
   "cell_type": "code",
   "execution_count": 4,
   "metadata": {},
   "outputs": [
    {
     "data": {
      "text/plain": [
       "<seaborn.axisgrid.FacetGrid at 0x111c3e128>"
      ]
     },
     "execution_count": 4,
     "metadata": {},
     "output_type": "execute_result"
    },
    {
     "data": {
      "image/png": "[encoded data removed]",
      "text/plain": [
       "<Figure size 432x216 with 2 Axes>"
      ]
     },
     "metadata": {},
     "output_type": "display_data"
    }
   ],
   "source": [
    "data['Family_Size']=data['Parch']+data['SibSp']\n",
    "g=sns.FacetGrid(data,col='Survived')\n",
    "g.map(sns.distplot,'Family_Size',kde=True)#kde是否要折線圖的參數"
   ]
  },
  {
   "cell_type": "code",
   "execution_count": 5,
   "metadata": {},
   "outputs": [
    {
     "data": {
      "text/plain": [
       "array(['Mr', 'Mrs', 'Miss', 'Master', 'Don', 'Rev', 'Dr', 'Mme', 'Ms',\n",
       "       'Major', 'Lady', 'Sir', 'Mlle', 'Col', 'Capt', 'the Countess',\n",
       "       'Jonkheer', 'Dona'], dtype=object)"
      ]
     },
     "execution_count": 5,
     "metadata": {},
     "output_type": "execute_result"
    }
   ],
   "source": [
    "#設法整理出「尊稱」這個因子\n",
    "data['Title1']=data['Name'].str.split('.',expand=True)[0]\n",
    "#expand=True是讓資料在dataframe展開欄位\n",
    "#1是選第二項的title\n",
    "data['Title1'].head(10)\n",
    "# 切出尊稱\n",
    "data['Title1']=data['Title1'].str.split(', ',expand=True)[1].str.strip()#[1]代表切出第2個'dlm'前面到第一個的字串\n",
    "data['Title1'].head(10)\n",
    "# 秀出dintinct後的title1\n",
    "data['Title1'].unique()"
   ]
  },
  {
   "cell_type": "code",
   "execution_count": 6,
   "metadata": {},
   "outputs": [
    {
     "data": {
      "text/plain": [
       "array(['Mr', 'Mrs', 'Miss', 'Master'], dtype=object)"
      ]
     },
     "execution_count": 6,
     "metadata": {},
     "output_type": "execute_result"
    }
   ],
   "source": [
    "#合併成比較常出現的姓氏在Title2\n",
    "data['Title2']=''\n",
    "for idx, row in data.iterrows():  # 請務必記得加上idx，不然跑回圈的item會變成(idx, row)\n",
    "    Sex = row['Sex']\n",
    "    Title1=row['Title1']\n",
    "    if Title1=='Master':\n",
    "        Title2='Master'\n",
    "    elif Title1=='Mrs':\n",
    "        Title2='Mrs'\n",
    "    elif Title1=='Miss':\n",
    "        Title2='Miss'\n",
    "    elif Sex=='male':\n",
    "        Title2='Mr'\n",
    "    else:\n",
    "        Title2='Miss'\n",
    "    data.loc[idx,'Title2']=Title2 #???\n",
    "data['Title2'].unique()"
   ]
  },
  {
   "cell_type": "code",
   "execution_count": 7,
   "metadata": {},
   "outputs": [
    {
     "data": {
      "text/plain": [
       "array(['A5', 'PC', 'STONO2', 'X', 'PP', 'CA', 'SCParis', 'SCA4', 'A4',\n",
       "       'SP', 'SOC', 'WC', 'SOTONOQ', 'WEP', 'STONO', 'C', 'SCPARIS',\n",
       "       'SOP', 'Fa', 'LINE', 'FCC', 'SWPP', 'SCOW', 'PPP', 'SC', 'SCAH',\n",
       "       'AS', 'SOPP', 'FC', 'SOTONO2', 'CASOTON', 'SCA3', 'STONOQ', 'AQ4',\n",
       "       'A', 'LP', 'AQ3'], dtype=object)"
      ]
     },
     "execution_count": 7,
     "metadata": {},
     "output_type": "execute_result"
    }
   ],
   "source": [
    "# 票的前幾碼代號可能有意義，流水編沒有所以拿掉\n",
    "data['Ticket_info'] = data['Ticket'].apply(lambda x : x.replace(\".\",\"\").replace(\"/\",\"\").strip().split(' ')[0] if not x.isdigit() else 'X')\n",
    "data['Ticket_info'].unique()"
   ]
  },
  {
   "cell_type": "code",
   "execution_count": 9,
   "metadata": {},
   "outputs": [],
   "source": [
    "tt = data.groupby(by='Ticket_info', as_index=False).agg({'PassengerId': pd.Series.nunique})"
   ]
  },
  {
   "cell_type": "code",
   "execution_count": 10,
   "metadata": {},
   "outputs": [
    {
     "data": {
      "text/plain": [
       "count     37.000000\n",
       "mean      35.378378\n",
       "std      156.804434\n",
       "min        1.000000\n",
       "25%        1.000000\n",
       "50%        4.000000\n",
       "75%        9.000000\n",
       "max      957.000000\n",
       "Name: PassengerId, dtype: float64"
      ]
     },
     "execution_count": 10,
     "metadata": {},
     "output_type": "execute_result"
    }
   ],
   "source": [
    "tt['PassengerId'].describe()"
   ]
  },
  {
   "cell_type": "code",
   "execution_count": 11,
   "metadata": {},
   "outputs": [
    {
     "data": {
      "text/html": [
       "<div>\n",
       "<style scoped>\n",
       "    .dataframe tbody tr th:only-of-type {\n",
       "        vertical-align: middle;\n",
       "    }\n",
       "\n",
       "    .dataframe tbody tr th {\n",
       "        vertical-align: top;\n",
       "    }\n",
       "\n",
       "    .dataframe thead th {\n",
       "        text-align: right;\n",
       "    }\n",
       "</style>\n",
       "<table border=\"1\" class=\"dataframe\">\n",
       "  <thead>\n",
       "    <tr style=\"text-align: right;\">\n",
       "      <th></th>\n",
       "      <th>Ticket_info</th>\n",
       "      <th>PassengerId</th>\n",
       "      <th>Ticket_info_rev</th>\n",
       "    </tr>\n",
       "  </thead>\n",
       "  <tbody>\n",
       "    <tr>\n",
       "      <th>0</th>\n",
       "      <td>A</td>\n",
       "      <td>1</td>\n",
       "      <td>None</td>\n",
       "    </tr>\n",
       "    <tr>\n",
       "      <th>1</th>\n",
       "      <td>A4</td>\n",
       "      <td>10</td>\n",
       "      <td>A4</td>\n",
       "    </tr>\n",
       "    <tr>\n",
       "      <th>2</th>\n",
       "      <td>A5</td>\n",
       "      <td>28</td>\n",
       "      <td>A5</td>\n",
       "    </tr>\n",
       "    <tr>\n",
       "      <th>3</th>\n",
       "      <td>AQ3</td>\n",
       "      <td>1</td>\n",
       "      <td>None</td>\n",
       "    </tr>\n",
       "  </tbody>\n",
       "</table>\n",
       "</div>"
      ],
      "text/plain": [
       "  Ticket_info  PassengerId Ticket_info_rev\n",
       "0           A            1            None\n",
       "1          A4           10              A4\n",
       "2          A5           28              A5\n",
       "3         AQ3            1            None"
      ]
     },
     "execution_count": 11,
     "metadata": {},
     "output_type": "execute_result"
    }
   ],
   "source": [
    "#把count distinct的ticket_info低於第一四分位數的都改成None\n",
    "tt['Ticket_info_rev']=tt['Ticket_info']\n",
    "tt.Ticket_info_rev[tt.PassengerId<9]='None'\n",
    "tt.head(4)"
   ]
  },
  {
   "cell_type": "code",
   "execution_count": 12,
   "metadata": {},
   "outputs": [
    {
     "data": {
      "text/html": [
       "<div>\n",
       "<style scoped>\n",
       "    .dataframe tbody tr th:only-of-type {\n",
       "        vertical-align: middle;\n",
       "    }\n",
       "\n",
       "    .dataframe tbody tr th {\n",
       "        vertical-align: top;\n",
       "    }\n",
       "\n",
       "    .dataframe thead th {\n",
       "        text-align: right;\n",
       "    }\n",
       "</style>\n",
       "<table border=\"1\" class=\"dataframe\">\n",
       "  <thead>\n",
       "    <tr style=\"text-align: right;\">\n",
       "      <th></th>\n",
       "      <th>Age</th>\n",
       "      <th>Cabin</th>\n",
       "      <th>Embarked</th>\n",
       "      <th>Fare</th>\n",
       "      <th>Name</th>\n",
       "      <th>Parch</th>\n",
       "      <th>PassengerId</th>\n",
       "      <th>Pclass</th>\n",
       "      <th>Sex</th>\n",
       "      <th>SibSp</th>\n",
       "      <th>Survived</th>\n",
       "      <th>Ticket</th>\n",
       "      <th>Family_Size</th>\n",
       "      <th>Title1</th>\n",
       "      <th>Title2</th>\n",
       "      <th>Ticket_info</th>\n",
       "      <th>Ticket_info_rev</th>\n",
       "    </tr>\n",
       "  </thead>\n",
       "  <tbody>\n",
       "    <tr>\n",
       "      <th>0</th>\n",
       "      <td>22.0</td>\n",
       "      <td>NaN</td>\n",
       "      <td>S</td>\n",
       "      <td>7.2500</td>\n",
       "      <td>Braund, Mr. Owen Harris</td>\n",
       "      <td>0</td>\n",
       "      <td>1</td>\n",
       "      <td>3</td>\n",
       "      <td>male</td>\n",
       "      <td>1</td>\n",
       "      <td>0.0</td>\n",
       "      <td>A/5 21171</td>\n",
       "      <td>1</td>\n",
       "      <td>Mr</td>\n",
       "      <td>Mr</td>\n",
       "      <td>A5</td>\n",
       "      <td>A5</td>\n",
       "    </tr>\n",
       "    <tr>\n",
       "      <th>1</th>\n",
       "      <td>38.0</td>\n",
       "      <td>C85</td>\n",
       "      <td>C</td>\n",
       "      <td>71.2833</td>\n",
       "      <td>Cumings, Mrs. John Bradley (Florence Briggs Th...</td>\n",
       "      <td>0</td>\n",
       "      <td>2</td>\n",
       "      <td>1</td>\n",
       "      <td>female</td>\n",
       "      <td>1</td>\n",
       "      <td>1.0</td>\n",
       "      <td>PC 17599</td>\n",
       "      <td>1</td>\n",
       "      <td>Mrs</td>\n",
       "      <td>Mrs</td>\n",
       "      <td>PC</td>\n",
       "      <td>PC</td>\n",
       "    </tr>\n",
       "    <tr>\n",
       "      <th>2</th>\n",
       "      <td>26.0</td>\n",
       "      <td>NaN</td>\n",
       "      <td>S</td>\n",
       "      <td>7.9250</td>\n",
       "      <td>Heikkinen, Miss. Laina</td>\n",
       "      <td>0</td>\n",
       "      <td>3</td>\n",
       "      <td>3</td>\n",
       "      <td>female</td>\n",
       "      <td>0</td>\n",
       "      <td>1.0</td>\n",
       "      <td>STON/O2. 3101282</td>\n",
       "      <td>0</td>\n",
       "      <td>Miss</td>\n",
       "      <td>Mr</td>\n",
       "      <td>STONO2</td>\n",
       "      <td>None</td>\n",
       "    </tr>\n",
       "    <tr>\n",
       "      <th>3</th>\n",
       "      <td>35.0</td>\n",
       "      <td>C123</td>\n",
       "      <td>S</td>\n",
       "      <td>53.1000</td>\n",
       "      <td>Futrelle, Mrs. Jacques Heath (Lily May Peel)</td>\n",
       "      <td>0</td>\n",
       "      <td>4</td>\n",
       "      <td>1</td>\n",
       "      <td>female</td>\n",
       "      <td>1</td>\n",
       "      <td>1.0</td>\n",
       "      <td>113803</td>\n",
       "      <td>1</td>\n",
       "      <td>Mrs</td>\n",
       "      <td>Mr</td>\n",
       "      <td>X</td>\n",
       "      <td>X</td>\n",
       "    </tr>\n",
       "  </tbody>\n",
       "</table>\n",
       "</div>"
      ],
      "text/plain": [
       "    Age Cabin Embarked     Fare  \\\n",
       "0  22.0   NaN        S   7.2500   \n",
       "1  38.0   C85        C  71.2833   \n",
       "2  26.0   NaN        S   7.9250   \n",
       "3  35.0  C123        S  53.1000   \n",
       "\n",
       "                                                Name  Parch  PassengerId  \\\n",
       "0                            Braund, Mr. Owen Harris      0            1   \n",
       "1  Cumings, Mrs. John Bradley (Florence Briggs Th...      0            2   \n",
       "2                             Heikkinen, Miss. Laina      0            3   \n",
       "3       Futrelle, Mrs. Jacques Heath (Lily May Peel)      0            4   \n",
       "\n",
       "   Pclass     Sex  SibSp  Survived            Ticket  Family_Size Title1  \\\n",
       "0       3    male      1       0.0         A/5 21171            1     Mr   \n",
       "1       1  female      1       1.0          PC 17599            1    Mrs   \n",
       "2       3  female      0       1.0  STON/O2. 3101282            0   Miss   \n",
       "3       1  female      1       1.0            113803            1    Mrs   \n",
       "\n",
       "  Title2 Ticket_info Ticket_info_rev  \n",
       "0     Mr          A5              A5  \n",
       "1    Mrs          PC              PC  \n",
       "2     Mr      STONO2            None  \n",
       "3     Mr           X               X  "
      ]
     },
     "execution_count": 12,
     "metadata": {},
     "output_type": "execute_result"
    }
   ],
   "source": [
    "#leftjoin Ticket_info_rev到大表\n",
    "tt=tt.drop(['PassengerId'], axis=1)\n",
    "data=pd.merge(left=data, right=tt,how='left', on=['Ticket_info', 'Ticket_info'])\n",
    "data.head(4)"
   ]
  },
  {
   "cell_type": "code",
   "execution_count": 13,
   "metadata": {},
   "outputs": [
    {
     "data": {
      "text/plain": [
       "array(['N', 'C', 'E', 'G', 'D', 'A', 'B', 'F', 'T'], dtype=object)"
      ]
     },
     "execution_count": 13,
     "metadata": {},
     "output_type": "execute_result"
    }
   ],
   "source": [
    "# 抓船艙第一碼英文\n",
    "# 送出kaggle成績沒有比較好，一堆空的也是合理\n",
    "data['Cabin_info']=data['Cabin'].str[:1]\n",
    "data['Cabin_info']=data['Cabin_info'].fillna('N')#空的補N\n",
    "data['Cabin_info'].unique()"
   ]
  },
  {
   "cell_type": "code",
   "execution_count": 14,
   "metadata": {},
   "outputs": [
    {
     "data": {
      "text/plain": [
       "\"\\ndata['Cabin_info2']=data['Cabin_info']\\ndata.Cabin_info2[data.Cabin_info in ('N','C')]='mm'\\ndata.head()\""
      ]
     },
     "execution_count": 14,
     "metadata": {},
     "output_type": "execute_result"
    }
   ],
   "source": [
    "'''\n",
    "data['Cabin_info2']=data['Cabin_info']\n",
    "data.Cabin_info2[data.Cabin_info in ('N','C')]='mm'\n",
    "data.head()'''"
   ]
  },
  {
   "cell_type": "code",
   "execution_count": 15,
   "metadata": {},
   "outputs": [],
   "source": [
    "#整併人數太少的cabin\n",
    "#把'F','G','T'變成'Merged'\n",
    "data['Cabin_info'].replace(['F','G','T'],'Merged',inplace=True)#inplace如果是false就是改爽的不會更動到值"
   ]
  },
  {
   "cell_type": "code",
   "execution_count": 16,
   "metadata": {},
   "outputs": [],
   "source": [
    "#最多在S港上傳，填補遺漏值\n",
    "data['Embarked']=data['Embarked'].fillna('S')"
   ]
  },
  {
   "cell_type": "code",
   "execution_count": 17,
   "metadata": {},
   "outputs": [
    {
     "name": "stdout",
     "output_type": "stream",
     "text": [
      "Fare原遺漏的人數： 1\n"
     ]
    }
   ],
   "source": [
    "#\n",
    "print('Fare原遺漏的人數：',data['Fare'].isnull().sum())\n",
    "#用平均填補遺漏值\n",
    "data['Fare']=data['Fare'].fillna(data['Fare'].mean())"
   ]
  },
  {
   "cell_type": "code",
   "execution_count": 18,
   "metadata": {},
   "outputs": [
    {
     "name": "stdout",
     "output_type": "stream",
     "text": [
      "Age遺漏的人數： 263\n"
     ]
    }
   ],
   "source": [
    "#\n",
    "print('Age遺漏的人數：',data['Age'].isnull().sum())\n",
    "#用中位數填補遺漏值\n",
    "data['Age']=data['Age'].fillna(data['Age'].median())"
   ]
  },
  {
   "cell_type": "code",
   "execution_count": 19,
   "metadata": {},
   "outputs": [
    {
     "data": {
      "text/html": [
       "<div>\n",
       "<style scoped>\n",
       "    .dataframe tbody tr th:only-of-type {\n",
       "        vertical-align: middle;\n",
       "    }\n",
       "\n",
       "    .dataframe tbody tr th {\n",
       "        vertical-align: top;\n",
       "    }\n",
       "\n",
       "    .dataframe thead th {\n",
       "        text-align: right;\n",
       "    }\n",
       "</style>\n",
       "<table border=\"1\" class=\"dataframe\">\n",
       "  <thead>\n",
       "    <tr style=\"text-align: right;\">\n",
       "      <th></th>\n",
       "      <th>Age</th>\n",
       "      <th>Embarked</th>\n",
       "      <th>Fare</th>\n",
       "      <th>Parch</th>\n",
       "      <th>PassengerId</th>\n",
       "      <th>Pclass</th>\n",
       "      <th>Sex</th>\n",
       "      <th>SibSp</th>\n",
       "      <th>Survived</th>\n",
       "      <th>Family_Size</th>\n",
       "      <th>Title2</th>\n",
       "      <th>Ticket_info_rev</th>\n",
       "      <th>Cabin_info</th>\n",
       "    </tr>\n",
       "  </thead>\n",
       "  <tbody>\n",
       "    <tr>\n",
       "      <th>0</th>\n",
       "      <td>22.0</td>\n",
       "      <td>S</td>\n",
       "      <td>7.2500</td>\n",
       "      <td>0</td>\n",
       "      <td>1</td>\n",
       "      <td>3</td>\n",
       "      <td>male</td>\n",
       "      <td>1</td>\n",
       "      <td>0.0</td>\n",
       "      <td>1</td>\n",
       "      <td>Mr</td>\n",
       "      <td>A5</td>\n",
       "      <td>N</td>\n",
       "    </tr>\n",
       "    <tr>\n",
       "      <th>1</th>\n",
       "      <td>38.0</td>\n",
       "      <td>C</td>\n",
       "      <td>71.2833</td>\n",
       "      <td>0</td>\n",
       "      <td>2</td>\n",
       "      <td>1</td>\n",
       "      <td>female</td>\n",
       "      <td>1</td>\n",
       "      <td>1.0</td>\n",
       "      <td>1</td>\n",
       "      <td>Mrs</td>\n",
       "      <td>PC</td>\n",
       "      <td>C</td>\n",
       "    </tr>\n",
       "    <tr>\n",
       "      <th>2</th>\n",
       "      <td>26.0</td>\n",
       "      <td>S</td>\n",
       "      <td>7.9250</td>\n",
       "      <td>0</td>\n",
       "      <td>3</td>\n",
       "      <td>3</td>\n",
       "      <td>female</td>\n",
       "      <td>0</td>\n",
       "      <td>1.0</td>\n",
       "      <td>0</td>\n",
       "      <td>Mr</td>\n",
       "      <td>None</td>\n",
       "      <td>N</td>\n",
       "    </tr>\n",
       "  </tbody>\n",
       "</table>\n",
       "</div>"
      ],
      "text/plain": [
       "    Age Embarked     Fare  Parch  PassengerId  Pclass     Sex  SibSp  \\\n",
       "0  22.0        S   7.2500      0            1       3    male      1   \n",
       "1  38.0        C  71.2833      0            2       1  female      1   \n",
       "2  26.0        S   7.9250      0            3       3  female      0   \n",
       "\n",
       "   Survived  Family_Size Title2 Ticket_info_rev Cabin_info  \n",
       "0       0.0            1     Mr              A5          N  \n",
       "1       1.0            1    Mrs              PC          C  \n",
       "2       1.0            0     Mr            None          N  "
      ]
     },
     "execution_count": 19,
     "metadata": {},
     "output_type": "execute_result"
    }
   ],
   "source": [
    "#留下準備get_dummies的欄位\n",
    "for_dummy_data=data.drop(['Name','Cabin','Ticket','Ticket_info','Title1'], axis=1)\n",
    "for_dummy_data.head(3)"
   ]
  },
  {
   "cell_type": "code",
   "execution_count": 20,
   "metadata": {},
   "outputs": [
    {
     "data": {
      "text/html": [
       "<div>\n",
       "<style scoped>\n",
       "    .dataframe tbody tr th:only-of-type {\n",
       "        vertical-align: middle;\n",
       "    }\n",
       "\n",
       "    .dataframe tbody tr th {\n",
       "        vertical-align: top;\n",
       "    }\n",
       "\n",
       "    .dataframe thead th {\n",
       "        text-align: right;\n",
       "    }\n",
       "</style>\n",
       "<table border=\"1\" class=\"dataframe\">\n",
       "  <thead>\n",
       "    <tr style=\"text-align: right;\">\n",
       "      <th></th>\n",
       "      <th>Age</th>\n",
       "      <th>Fare</th>\n",
       "      <th>Parch</th>\n",
       "      <th>PassengerId</th>\n",
       "      <th>Pclass</th>\n",
       "      <th>SibSp</th>\n",
       "      <th>Survived</th>\n",
       "      <th>Family_Size</th>\n",
       "      <th>Embarked_C</th>\n",
       "      <th>Embarked_Q</th>\n",
       "      <th>...</th>\n",
       "      <th>Ticket_info_rev_STONO</th>\n",
       "      <th>Ticket_info_rev_WC</th>\n",
       "      <th>Ticket_info_rev_X</th>\n",
       "      <th>Cabin_info_A</th>\n",
       "      <th>Cabin_info_B</th>\n",
       "      <th>Cabin_info_C</th>\n",
       "      <th>Cabin_info_D</th>\n",
       "      <th>Cabin_info_E</th>\n",
       "      <th>Cabin_info_Merged</th>\n",
       "      <th>Cabin_info_N</th>\n",
       "    </tr>\n",
       "  </thead>\n",
       "  <tbody>\n",
       "    <tr>\n",
       "      <th>0</th>\n",
       "      <td>22.0</td>\n",
       "      <td>7.2500</td>\n",
       "      <td>0</td>\n",
       "      <td>1</td>\n",
       "      <td>3</td>\n",
       "      <td>1</td>\n",
       "      <td>0.0</td>\n",
       "      <td>1</td>\n",
       "      <td>0</td>\n",
       "      <td>0</td>\n",
       "      <td>...</td>\n",
       "      <td>0</td>\n",
       "      <td>0</td>\n",
       "      <td>0</td>\n",
       "      <td>0</td>\n",
       "      <td>0</td>\n",
       "      <td>0</td>\n",
       "      <td>0</td>\n",
       "      <td>0</td>\n",
       "      <td>0</td>\n",
       "      <td>1</td>\n",
       "    </tr>\n",
       "    <tr>\n",
       "      <th>1</th>\n",
       "      <td>38.0</td>\n",
       "      <td>71.2833</td>\n",
       "      <td>0</td>\n",
       "      <td>2</td>\n",
       "      <td>1</td>\n",
       "      <td>1</td>\n",
       "      <td>1.0</td>\n",
       "      <td>1</td>\n",
       "      <td>1</td>\n",
       "      <td>0</td>\n",
       "      <td>...</td>\n",
       "      <td>0</td>\n",
       "      <td>0</td>\n",
       "      <td>0</td>\n",
       "      <td>0</td>\n",
       "      <td>0</td>\n",
       "      <td>1</td>\n",
       "      <td>0</td>\n",
       "      <td>0</td>\n",
       "      <td>0</td>\n",
       "      <td>0</td>\n",
       "    </tr>\n",
       "    <tr>\n",
       "      <th>2</th>\n",
       "      <td>26.0</td>\n",
       "      <td>7.9250</td>\n",
       "      <td>0</td>\n",
       "      <td>3</td>\n",
       "      <td>3</td>\n",
       "      <td>0</td>\n",
       "      <td>1.0</td>\n",
       "      <td>0</td>\n",
       "      <td>0</td>\n",
       "      <td>0</td>\n",
       "      <td>...</td>\n",
       "      <td>0</td>\n",
       "      <td>0</td>\n",
       "      <td>0</td>\n",
       "      <td>0</td>\n",
       "      <td>0</td>\n",
       "      <td>0</td>\n",
       "      <td>0</td>\n",
       "      <td>0</td>\n",
       "      <td>0</td>\n",
       "      <td>1</td>\n",
       "    </tr>\n",
       "  </tbody>\n",
       "</table>\n",
       "<p>3 rows × 35 columns</p>\n",
       "</div>"
      ],
      "text/plain": [
       "    Age     Fare  Parch  PassengerId  Pclass  SibSp  Survived  Family_Size  \\\n",
       "0  22.0   7.2500      0            1       3      1       0.0            1   \n",
       "1  38.0  71.2833      0            2       1      1       1.0            1   \n",
       "2  26.0   7.9250      0            3       3      0       1.0            0   \n",
       "\n",
       "   Embarked_C  Embarked_Q      ...       Ticket_info_rev_STONO  \\\n",
       "0           0           0      ...                           0   \n",
       "1           1           0      ...                           0   \n",
       "2           0           0      ...                           0   \n",
       "\n",
       "   Ticket_info_rev_WC  Ticket_info_rev_X  Cabin_info_A  Cabin_info_B  \\\n",
       "0                   0                  0             0             0   \n",
       "1                   0                  0             0             0   \n",
       "2                   0                  0             0             0   \n",
       "\n",
       "   Cabin_info_C  Cabin_info_D  Cabin_info_E  Cabin_info_Merged  Cabin_info_N  \n",
       "0             0             0             0                  0             1  \n",
       "1             1             0             0                  0             0  \n",
       "2             0             0             0                  0             1  \n",
       "\n",
       "[3 rows x 35 columns]"
      ]
     },
     "execution_count": 20,
     "metadata": {},
     "output_type": "execute_result"
    }
   ],
   "source": [
    "data_dummies = pd.get_dummies(for_dummy_data)\n",
    "#columns可以指定哪些欄位要get_dummies\n",
    "data_dummies.head(3)\n",
    "#data= pd.merge(left=data, right=data_dummies, how='left', left_on='PassengerId', right_on='PassengerId',)\n",
    "#data.head(4)"
   ]
  },
  {
   "cell_type": "code",
   "execution_count": 21,
   "metadata": {},
   "outputs": [
    {
     "data": {
      "text/plain": [
       "Index(['Age', 'Fare', 'Parch', 'PassengerId', 'Pclass', 'SibSp', 'Survived',\n",
       "       'Family_Size', 'Embarked_C', 'Embarked_Q', 'Embarked_S', 'Sex_female',\n",
       "       'Sex_male', 'Title2_Master', 'Title2_Miss', 'Title2_Mr', 'Title2_Mrs',\n",
       "       'Ticket_info_rev_A4', 'Ticket_info_rev_A5', 'Ticket_info_rev_CA',\n",
       "       'Ticket_info_rev_FCC', 'Ticket_info_rev_None', 'Ticket_info_rev_PC',\n",
       "       'Ticket_info_rev_SCPARIS', 'Ticket_info_rev_SOTONOQ',\n",
       "       'Ticket_info_rev_STONO', 'Ticket_info_rev_WC', 'Ticket_info_rev_X',\n",
       "       'Cabin_info_A', 'Cabin_info_B', 'Cabin_info_C', 'Cabin_info_D',\n",
       "       'Cabin_info_E', 'Cabin_info_Merged', 'Cabin_info_N'],\n",
       "      dtype='object')"
      ]
     },
     "execution_count": 21,
     "metadata": {},
     "output_type": "execute_result"
    }
   ],
   "source": [
    "data_dummies.columns"
   ]
  },
  {
   "cell_type": "code",
   "execution_count": 22,
   "metadata": {},
   "outputs": [
    {
     "data": {
      "text/plain": [
       "\"\\ndata['Sex'] = data['Sex'].astype('category').cat.codes\\ndata['Embarked'] = data['Embarked'].astype('category').cat.codes\\ndata['Pclass'] = data['Pclass'].astype('category').cat.codes\\ndata['Title2'] = data['Title2'].astype('category').cat.codes\\ndata['Ticket_info'] = data['Ticket_info'].astype('category').cat.codes\\ndata['Cabin_info'] = data['Cabin_info'].astype('category').cat.codes\\ndata.head(4)\\n\""
      ]
     },
     "execution_count": 22,
     "metadata": {},
     "output_type": "execute_result"
    }
   ],
   "source": [
    "#感覺是把文字類別轉成某種數字\n",
    "#get_dummies了所以不必這一cell\n",
    "'''\n",
    "data['Sex'] = data['Sex'].astype('category').cat.codes\n",
    "data['Embarked'] = data['Embarked'].astype('category').cat.codes\n",
    "data['Pclass'] = data['Pclass'].astype('category').cat.codes\n",
    "data['Title2'] = data['Title2'].astype('category').cat.codes\n",
    "data['Ticket_info'] = data['Ticket_info'].astype('category').cat.codes\n",
    "data['Cabin_info'] = data['Cabin_info'].astype('category').cat.codes\n",
    "data.head(4)\n",
    "'''"
   ]
  },
  {
   "cell_type": "code",
   "execution_count": 41,
   "metadata": {},
   "outputs": [],
   "source": [
    "# 運用'Survived'欄位來判斷訓練集還是測試集\n",
    "dataTrain = data_dummies[pd.notnull(data_dummies['Survived'])].sort_values(by=[\"PassengerId\"])\n",
    "dataTest = data_dummies[~pd.notnull(data_dummies['Survived'])].sort_values(by=[\"PassengerId\"])\n",
    "dataTrain.columns\n",
    "dataTrain = dataTrain[['Age', 'Fare', 'Parch', 'PassengerId', 'Pclass','Survived', 'SibSp',\n",
    "       'Family_Size', 'Embarked_C', 'Embarked_Q', 'Embarked_S', 'Sex_female',\n",
    "       'Sex_male', 'Title2_Miss', 'Title2_Mr', 'Title2_Mrs',# 'Title2_Master'\n",
    "       #'Ticket_info_rev_A4', 'Ticket_info_rev_A5', 'Ticket_info_rev_CA',\n",
    "       #'Ticket_info_rev_FCC', 'Ticket_info_rev_None', 'Ticket_info_rev_PC',\n",
    "       #'Ticket_info_rev_SCPARIS', 'Ticket_info_rev_SOTONOQ', 'Ticket_info_rev_WC'\n",
    "       'Ticket_info_rev_STONO', 'Ticket_info_rev_X',\n",
    "       #'Cabin_info_A', 'Cabin_info_B', 'Cabin_info_C', 'Cabin_info_D', 'Cabin_info_Merged'\n",
    "       'Cabin_info_E', 'Cabin_info_N']]\n",
    "dataTest = dataTest[['Age', 'Fare', 'Parch', 'PassengerId', 'Pclass', 'SibSp',\n",
    "       'Family_Size', 'Embarked_C', 'Embarked_Q', 'Embarked_S', 'Sex_female',\n",
    "       'Sex_male', 'Title2_Miss', 'Title2_Mr', 'Title2_Mrs',# 'Title2_Master'\n",
    "       #'Ticket_info_rev_A4', 'Ticket_info_rev_A5', 'Ticket_info_rev_CA',\n",
    "       #'Ticket_info_rev_FCC', 'Ticket_info_rev_None', 'Ticket_info_rev_PC',\n",
    "       #'Ticket_info_rev_SCPARIS', 'Ticket_info_rev_SOTONOQ', 'Ticket_info_rev_WC'\n",
    "       'Ticket_info_rev_STONO', 'Ticket_info_rev_X',\n",
    "       #'Cabin_info_A', 'Cabin_info_B', 'Cabin_info_C', 'Cabin_info_D', 'Cabin_info_Merged'\n",
    "       'Cabin_info_E', 'Cabin_info_N']]"
   ]
  },
  {
   "cell_type": "code",
   "execution_count": 28,
   "metadata": {},
   "outputs": [],
   "source": [
    "# Function for Measure Performance\n",
    "from  sklearn  import  metrics\n",
    "def measure_performance(X,y,clf, show_accuracy=True, show_classification_report=True, show_confusion_matrix=True, show_roc_auc = True):\n",
    "    y_pred = clf.predict(X)\n",
    "    y_predprob = clf.predict_proba(X)[:,1]\n",
    "    if show_accuracy:\n",
    "        print (\"Accuracy:{0:.3f}\".format(metrics.accuracy_score(y,y_pred))),\"\\n\"\n",
    "\n",
    "    if show_classification_report:\n",
    "        print(\"Classification report\")\n",
    "        print(metrics.classification_report(y,y_pred)),\"\\n\"\n",
    "        \n",
    "    if show_confusion_matrix:\n",
    "        print(\"Confusion matrix\")\n",
    "        print(metrics.confusion_matrix(y,y_pred)),\"\\n\"  \n",
    "        \n",
    "    if show_roc_auc:\n",
    "        print(\"ROC AUC Score\")\n",
    "        print(metrics.roc_auc_score(y,y_predprob)),\"\\n\""
   ]
  },
  {
   "cell_type": "code",
   "execution_count": 31,
   "metadata": {},
   "outputs": [],
   "source": [
    "# use LabelEncoder to convert categorical features to int type before construct Dataset\n",
    "from sklearn.preprocessing import LabelEncoder\n",
    "def label_encoder(input_df, encoder_dict=None):\n",
    "    \"\"\" Process a dataframe into a form useable by LightGBM \"\"\"\n",
    "    # Label encode categoricals\n",
    "    categorical_feats = input_df.columns[input_df.dtypes == 'object']\n",
    "    for feat in categorical_feats:\n",
    "        encoder = LabelEncoder()\n",
    "        input_df[feat] = encoder.fit_transform(input_df[feat].fillna('NULL'))\n",
    "    return input_df, categorical_feats.tolist(), encoder_dict\n",
    "dataTrain, categorical_feats, encoder_dict = label_encoder(dataTrain)\n",
    "X = dataTrain.drop('Survived', axis=1)\n",
    "y = dataTrain.Survived\n",
    "\n",
    "# Prepare dataset \n",
    "seed = 7\n",
    "test_size = 0.3\n",
    "X_train, X_test, y_train, y_test = cross_validation.train_test_split(X, y, test_size=test_size, random_state=seed)"
   ]
  },
  {
   "cell_type": "code",
   "execution_count": 32,
   "metadata": {},
   "outputs": [],
   "source": [
    "#bayesian-optimization\n",
    "def lgb_eval(num_leaves, feature_fraction, bagging_fraction, max_depth, lambda_l1, lambda_l2, min_split_gain, min_child_weight):\n",
    "    params = {'application':'binary','num_iterations':4000, 'learning_rate':0.05, 'early_stopping_round':100, 'metric':'auc'}\n",
    "    params[\"num_leaves\"] = int(round(num_leaves))\n",
    "    params['feature_fraction'] = max(min(feature_fraction, 1), 0)\n",
    "    params['bagging_fraction'] = max(min(bagging_fraction, 1), 0)\n",
    "    params['max_depth'] = round(max_depth)\n",
    "    params['lambda_l1'] = max(lambda_l1, 0)\n",
    "    params['lambda_l2'] = max(lambda_l2, 0)\n",
    "    params['min_split_gain'] = min_split_gain\n",
    "    params['min_child_weight'] = min_child_weight\n",
    "    cv_result = lgb.cv(params, train_data, nfold=n_folds, seed=random_seed, stratified=True, verbose_eval =200, metrics=['auc'])\n",
    "    return max(cv_result['auc-mean'])"
   ]
  },
  {
   "cell_type": "code",
   "execution_count": 33,
   "metadata": {},
   "outputs": [],
   "source": [
    "#Step 2: Set the range for each parameter (make the range as narrow as possible)\n",
    "lgbBO = BayesianOptimization(lgb_eval, {'num_leaves': (40, 50),\n",
    "                                        'feature_fraction': (0.1, 0.9),\n",
    "                                        'bagging_fraction': (0.8, 1),\n",
    "                                        'max_depth': (5, 8.99),\n",
    "                                        'lambda_l1': (0, 5),\n",
    "                                        'lambda_l2': (0, 3),\n",
    "                                        'min_split_gain': (0.001, 0.1),\n",
    "                                        'min_child_weight': (5, 50)}, random_state=0)"
   ]
  },
  {
   "cell_type": "code",
   "execution_count": 34,
   "metadata": {},
   "outputs": [],
   "source": [
    "# ### Put all together\n",
    "def bayes_parameter_opt_lgb(X, y, init_round=15, opt_round=25, n_folds=5, random_seed=6, n_estimators=10000, learning_rate=0.05, output_process=False):\n",
    "    # prepare data\n",
    "    train_data = lgb.Dataset(data=X, label=y, categorical_feature = categorical_feats, free_raw_data=False)\n",
    "    # parameters\n",
    "    def lgb_eval(num_leaves, feature_fraction, bagging_fraction, max_depth, lambda_l1, lambda_l2, min_split_gain, min_child_weight, max_bin):\n",
    "        params = {'application':'binary','num_iterations': n_estimators, 'learning_rate':learning_rate, 'early_stopping_round':100, 'metric':'auc'}\n",
    "        params[\"num_leaves\"] = int(round(num_leaves))\n",
    "        params['feature_fraction'] = max(min(feature_fraction, 1), 0)\n",
    "        params['bagging_fraction'] = max(min(bagging_fraction, 1), 0)\n",
    "        params['max_depth'] = int(round(max_depth))\n",
    "        params['lambda_l1'] = max(lambda_l1, 0)\n",
    "        params['lambda_l2'] = max(lambda_l2, 0)\n",
    "        params['min_split_gain'] = min_split_gain\n",
    "        params['min_child_weight'] = min_child_weight\n",
    "        params['max_bin'] = int(round(max_bin))\n",
    "        cv_result = lgb.cv(params, train_data, nfold=n_folds, seed=random_seed, stratified=True, verbose_eval =200, metrics=['auc'])\n",
    "        return max(cv_result['auc-mean'])\n",
    "    # range \n",
    "    lgbBO = BayesianOptimization(lgb_eval, {'num_leaves': (24, 45),\n",
    "                                            'feature_fraction': (0.1, 0.9),\n",
    "                                            'bagging_fraction': (0.1, 0.9),\n",
    "                                            'max_depth': (5, 9),\n",
    "                                            'lambda_l1': (0, 5),\n",
    "                                            'lambda_l2': (2, 5),\n",
    "                                            'min_split_gain': (0.03, 0.08),\n",
    "                                            'min_child_weight': (5, 50),\n",
    "                                           'max_bin': (4, 10)}, random_state=0)\n",
    "    # optimize\n",
    "    lgbBO.maximize(init_points=init_round, n_iter=opt_round)\n",
    "    \n",
    "    # output optimization process\n",
    "    if output_process==True: lgbBO.points_to_csv(\"bayes_opt_result.csv\")\n",
    "    \n",
    "    # return best parameters\n",
    "    return lgbBO.res['max']['max_params']"
   ]
  },
  {
   "cell_type": "code",
   "execution_count": 35,
   "metadata": {},
   "outputs": [
    {
     "name": "stdout",
     "output_type": "stream",
     "text": [
      "\u001b[31mInitialization\u001b[0m\n",
      "\u001b[94m------------------------------------------------------------------------------------------------------------------------------------------------------------------------------------\u001b[0m\n",
      " Step |   Time |      Value |   bagging_fraction |   feature_fraction |   lambda_l1 |   lambda_l2 |   max_bin |   max_depth |   min_child_weight |   min_split_gain |   num_leaves | \n",
      "    1 | 00m00s | \u001b[35m   0.83972\u001b[0m | \u001b[32m            0.7334\u001b[0m | \u001b[32m            0.6167\u001b[0m | \u001b[32m     4.8931\u001b[0m | \u001b[32m     3.9198\u001b[0m | \u001b[32m   6.1570\u001b[0m | \u001b[32m     5.3485\u001b[0m | \u001b[32m           32.7936\u001b[0m | \u001b[32m          0.0432\u001b[0m | \u001b[32m     35.5251\u001b[0m | \n",
      "    2 | 00m00s | \u001b[35m   0.84084\u001b[0m | \u001b[32m            0.5231\u001b[0m | \u001b[32m            0.4501\u001b[0m | \u001b[32m     3.9958\u001b[0m | \u001b[32m     2.4301\u001b[0m | \u001b[32m   6.6222\u001b[0m | \u001b[32m     5.0809\u001b[0m | \u001b[32m           32.5443\u001b[0m | \u001b[32m          0.0687\u001b[0m | \u001b[32m     39.0190\u001b[0m | \n",
      "    3 | 00m00s |    0.83836 |             0.5544 |             0.8134 |      2.3074 |      4.8340 |    8.1858 |      8.3305 |            32.7620 |           0.0528 |      36.6580 | \n",
      "    4 | 00m00s |    0.83065 |             0.8405 |             0.8709 |      3.9026 |      3.5655 |    4.3614 |      8.1126 |            47.4687 |           0.0584 |      35.4425 | \n",
      "    5 | 00m00s |    0.83915 |             0.1568 |             0.4068 |      0.5914 |      3.2440 |    8.0006 |      8.4800 |            35.6819 |           0.0309 |      32.8968 | \n",
      "\u001b[31mBayesian Optimization\u001b[0m\n",
      "\u001b[94m------------------------------------------------------------------------------------------------------------------------------------------------------------------------------------\u001b[0m\n",
      " Step |   Time |      Value |   bagging_fraction |   feature_fraction |   lambda_l1 |   lambda_l2 |   max_bin |   max_depth |   min_child_weight |   min_split_gain |   num_leaves | \n",
      "    6 | 00m22s | \u001b[35m   0.85061\u001b[0m | \u001b[32m            0.3439\u001b[0m | \u001b[32m            0.1567\u001b[0m | \u001b[32m     0.1334\u001b[0m | \u001b[32m     2.1951\u001b[0m | \u001b[32m   4.6651\u001b[0m | \u001b[32m     7.2862\u001b[0m | \u001b[32m            5.1734\u001b[0m | \u001b[32m          0.0729\u001b[0m | \u001b[32m     24.3958\u001b[0m | \n",
      "    7 | 00m22s | \u001b[35m   0.85804\u001b[0m | \u001b[32m            0.8368\u001b[0m | \u001b[32m            0.7180\u001b[0m | \u001b[32m     4.9829\u001b[0m | \u001b[32m     2.3538\u001b[0m | \u001b[32m   9.6827\u001b[0m | \u001b[32m     8.1288\u001b[0m | \u001b[32m            5.4358\u001b[0m | \u001b[32m          0.0549\u001b[0m | \u001b[32m     24.0931\u001b[0m | \n",
      "    8 | 00m21s | \u001b[35m   0.86057\u001b[0m | \u001b[32m            0.3672\u001b[0m | \u001b[32m            0.5714\u001b[0m | \u001b[32m     2.6613\u001b[0m | \u001b[32m     2.2940\u001b[0m | \u001b[32m   9.7265\u001b[0m | \u001b[32m     5.0700\u001b[0m | \u001b[32m            5.0918\u001b[0m | \u001b[32m          0.0405\u001b[0m | \u001b[32m     24.4022\u001b[0m | \n",
      "    9 | 00m22s |    0.85852 |             0.2552 |             0.2951 |      2.6199 |      2.3717 |    9.9838 |      5.4219 |             5.5243 |           0.0656 |      24.2030 | \n",
      "   10 | 00m23s | \u001b[35m   0.87092\u001b[0m | \u001b[32m            0.7123\u001b[0m | \u001b[32m            0.8208\u001b[0m | \u001b[32m     0.2546\u001b[0m | \u001b[32m     2.1247\u001b[0m | \u001b[32m   9.9727\u001b[0m | \u001b[32m     5.4796\u001b[0m | \u001b[32m            5.0970\u001b[0m | \u001b[32m          0.0675\u001b[0m | \u001b[32m     37.7268\u001b[0m | \n",
      "   11 | 00m23s |    0.85923 |             0.3652 |             0.8533 |      4.2773 |      3.6212 |    9.7825 |      5.7692 |             5.7611 |           0.0657 |      44.7370 | \n",
      "   12 | 00m23s |    0.86893 |             0.8742 |             0.6739 |      0.3720 |      2.5979 |    9.1809 |      5.5149 |             5.1444 |           0.0480 |      44.1104 | \n",
      "   13 | 00m24s |    0.86765 |             0.7993 |             0.8349 |      0.5624 |      2.3094 |    9.7481 |      5.1774 |             5.2334 |           0.0690 |      29.9710 | \n",
      "   14 | 00m22s |    0.86427 |             0.8116 |             0.4075 |      0.2837 |      2.0169 |    9.5525 |      5.2445 |             5.8507 |           0.0416 |      38.3435 | \n",
      "   15 | 00m24s |    0.81425 |             0.6311 |             0.8475 |      3.0213 |      2.2107 |    9.8974 |      5.1302 |            49.3626 |           0.0396 |      24.7423 | \n",
      "{'num_leaves': 37.72680271802023, 'feature_fraction': 0.8207778100863264, 'bagging_fraction': 0.7123048432060056, 'max_depth': 5.4796163240980205, 'lambda_l1': 0.25455982737410454, 'lambda_l2': 2.124722521464596, 'min_split_gain': 0.06751056206031258, 'min_child_weight': 5.097024557975929, 'max_bin': 9.97273423259561}\n"
     ]
    }
   ],
   "source": [
    "opt_params = bayes_parameter_opt_lgb(X, y, init_round=5, opt_round=10, n_folds=3, random_seed=6, n_estimators=100, learning_rate=0.05)\n",
    "print(opt_params)"
   ]
  },
  {
   "cell_type": "code",
   "execution_count": 36,
   "metadata": {},
   "outputs": [
    {
     "name": "stdout",
     "output_type": "stream",
     "text": [
      "Training until validation scores don't improve for 100 rounds.\n",
      "[100]\ttraining's auc: 0.922585\tvalid_1's auc: 0.822516\n",
      "[200]\ttraining's auc: 0.939025\tvalid_1's auc: 0.824834\n",
      "Early stopping, best iteration is:\n",
      "[195]\ttraining's auc: 0.938561\tvalid_1's auc: 0.825177\n"
     ]
    }
   ],
   "source": [
    "# LGBM with Bayesian Optimization\n",
    "LGBM_bayes = LGBMClassifier(\n",
    "    num_leaves=38,\n",
    "    feature_fraction = 0.8207778100863264,\n",
    "    bagging_fraction = 0.7123048432060056,\n",
    "    max_depth=5,\n",
    "    lambda_l1 = 0.25455982737410454,\n",
    "    lambda_l2 = 2.124722521464596,\n",
    "    min_split_gain=0.06751056206031258,\n",
    "    min_child_weight=5,\n",
    "    max_bin = 10,\n",
    "    random_state=0, \n",
    "    n_estimators=1000, \n",
    "    learning_rate=0.05,\n",
    "    application = 'binary',\n",
    "    num_iterations = 10000, \n",
    "    early_stopping_round = 100, \n",
    "    metric = 'auc'\n",
    "  )\n",
    "\n",
    "\n",
    "\n",
    "LGBM_bayes_fit = LGBM_bayes.fit(X_train, y_train, eval_set=[(X_train, y_train), (X_test, y_test)], \n",
    "    eval_metric= 'auc', verbose= 100, early_stopping_rounds= 200)\n"
   ]
  },
  {
   "cell_type": "code",
   "execution_count": 37,
   "metadata": {},
   "outputs": [
    {
     "name": "stdout",
     "output_type": "stream",
     "text": [
      "Accuracy:0.772\n",
      "Classification report\n",
      "             precision    recall  f1-score   support\n",
      "\n",
      "        0.0       0.77      0.87      0.82       156\n",
      "        1.0       0.78      0.63      0.70       112\n",
      "\n",
      "avg / total       0.77      0.77      0.77       268\n",
      "\n",
      "Confusion matrix\n",
      "[[136  20]\n",
      " [ 41  71]]\n",
      "ROC AUC Score\n",
      "0.8251774267399268\n",
      "Feature importances: [328, 271, 39, 270, 142, 24, 88, 56, 0, 40, 100, 27, 1, 1, 17, 0, 26, 0, 72]\n",
      "Plot feature importances...\n"
     ]
    },
    {
     "data": {
      "image/png": "[encoded data removed]",
      "text/plain": [
       "<Figure size 432x288 with 1 Axes>"
      ]
     },
     "metadata": {},
     "output_type": "display_data"
    }
   ],
   "source": [
    "# measure performance\n",
    "LGBM_bayes_measure = measure_performance(X = X_test, y = y_test, clf = LGBM_bayes, show_classification_report=True, show_confusion_matrix=True, show_roc_auc = True)\n",
    "\n",
    "# feature importances\n",
    "print('Feature importances:', list(LGBM_bayes.feature_importances_))\n",
    "\n",
    "# visualization\n",
    "print('Plot feature importances...')\n",
    "ax = lgb.plot_importance(LGBM_bayes_fit, max_num_features=10)\n",
    "plt.show()"
   ]
  },
  {
   "cell_type": "code",
   "execution_count": null,
   "metadata": {},
   "outputs": [],
   "source": []
  },
  {
   "cell_type": "code",
   "execution_count": 42,
   "metadata": {},
   "outputs": [],
   "source": [
    "#predict Test data\n",
    "#submit the data to kaggle\n",
    "LGBM_bayes_fit_res =LGBM_bayes_fit.predict(dataTest)\n",
    "submit['Survived'] = LGBM_bayes_fit_res\n",
    "#submit['Survived'] = GBDT_res\n",
    "submit['Survived'] = submit['Survived'].astype(int)"
   ]
  },
  {
   "cell_type": "code",
   "execution_count": 43,
   "metadata": {},
   "outputs": [
    {
     "data": {
      "text/plain": [
       "'/Users/francislin/Desktop/Machine_Learning_Workshop/Titanic'"
      ]
     },
     "execution_count": 43,
     "metadata": {},
     "output_type": "execute_result"
    }
   ],
   "source": [
    "submit.to_csv('submit_to_kaggle.csv', index= False)\n",
    "%pwd"
   ]
  },
  {
   "cell_type": "code",
   "execution_count": 43,
   "metadata": {},
   "outputs": [
    {
     "name": "stdout",
     "output_type": "stream",
     "text": [
      "一樣的x去做\n",
      "CART:Your submission scored 0.74641\n",
      "RF:Your submission scored 0.76076\n",
      "GBDT:Your submission scored 0.77511\n",
      "RF(18個X):Your submission scored 0.0.79425\n"
     ]
    }
   ],
   "source": [
    "print(\"一樣的x去做\")\n",
    "#print('\\n')\n",
    "print(\"CART:\"+\"Your submission scored 0.74641\")\n",
    "print(\"RF:\"+\"Your submission scored 0.76076\")\n",
    "print(\"GBDT:\"+\"Your submission scored 0.77511\")\n",
    "print(\"RF(18個X):\"+\"Your submission scored 0.0.79425\")"
   ]
  },
  {
   "cell_type": "markdown",
   "metadata": {},
   "source": [
    "#### Important Features Using Random Forest"
   ]
  },
  {
   "cell_type": "code",
   "execution_count": 39,
   "metadata": {},
   "outputs": [],
   "source": [
    "from sklearn.ensemble import RandomForestClassifier\n",
    "clf = RandomForestClassifier(n_estimators=10000, random_state=0, n_jobs=-1)"
   ]
  },
  {
   "cell_type": "code",
   "execution_count": 40,
   "metadata": {},
   "outputs": [
    {
     "data": {
      "text/plain": [
       "RandomForestClassifier(bootstrap=True, class_weight=None, criterion='gini',\n",
       "            max_depth=None, max_features='auto', max_leaf_nodes=None,\n",
       "            min_impurity_decrease=0.0, min_impurity_split=None,\n",
       "            min_samples_leaf=1, min_samples_split=2,\n",
       "            min_weight_fraction_leaf=0.0, n_estimators=10000, n_jobs=-1,\n",
       "            oob_score=False, random_state=0, verbose=0, warm_start=False)"
      ]
     },
     "execution_count": 40,
     "metadata": {},
     "output_type": "execute_result"
    }
   ],
   "source": [
    "clf.fit(X_train, y_train)"
   ]
  },
  {
   "cell_type": "code",
   "execution_count": 41,
   "metadata": {},
   "outputs": [
    {
     "data": {
      "text/html": [
       "<div>\n",
       "<style scoped>\n",
       "    .dataframe tbody tr th:only-of-type {\n",
       "        vertical-align: middle;\n",
       "    }\n",
       "\n",
       "    .dataframe tbody tr th {\n",
       "        vertical-align: top;\n",
       "    }\n",
       "\n",
       "    .dataframe thead th {\n",
       "        text-align: right;\n",
       "    }\n",
       "</style>\n",
       "<table border=\"1\" class=\"dataframe\">\n",
       "  <thead>\n",
       "    <tr style=\"text-align: right;\">\n",
       "      <th></th>\n",
       "      <th>importances</th>\n",
       "      <th>features</th>\n",
       "    </tr>\n",
       "  </thead>\n",
       "  <tbody>\n",
       "    <tr>\n",
       "      <th>0</th>\n",
       "      <td>0.1538</td>\n",
       "      <td>PassengerId</td>\n",
       "    </tr>\n",
       "    <tr>\n",
       "      <th>1</th>\n",
       "      <td>0.1390</td>\n",
       "      <td>Fare</td>\n",
       "    </tr>\n",
       "    <tr>\n",
       "      <th>2</th>\n",
       "      <td>0.1384</td>\n",
       "      <td>Age</td>\n",
       "    </tr>\n",
       "    <tr>\n",
       "      <th>3</th>\n",
       "      <td>0.1247</td>\n",
       "      <td>Sex_female</td>\n",
       "    </tr>\n",
       "    <tr>\n",
       "      <th>4</th>\n",
       "      <td>0.1228</td>\n",
       "      <td>Sex_male</td>\n",
       "    </tr>\n",
       "    <tr>\n",
       "      <th>5</th>\n",
       "      <td>0.0618</td>\n",
       "      <td>Pclass</td>\n",
       "    </tr>\n",
       "    <tr>\n",
       "      <th>6</th>\n",
       "      <td>0.0459</td>\n",
       "      <td>Family_Size</td>\n",
       "    </tr>\n",
       "    <tr>\n",
       "      <th>7</th>\n",
       "      <td>0.0306</td>\n",
       "      <td>Cabin_info_N</td>\n",
       "    </tr>\n",
       "    <tr>\n",
       "      <th>8</th>\n",
       "      <td>0.0302</td>\n",
       "      <td>SibSp</td>\n",
       "    </tr>\n",
       "    <tr>\n",
       "      <th>9</th>\n",
       "      <td>0.0269</td>\n",
       "      <td>Title2_Mr</td>\n",
       "    </tr>\n",
       "    <tr>\n",
       "      <th>10</th>\n",
       "      <td>0.0203</td>\n",
       "      <td>Parch</td>\n",
       "    </tr>\n",
       "    <tr>\n",
       "      <th>11</th>\n",
       "      <td>0.0194</td>\n",
       "      <td>Ticket_info_rev_X</td>\n",
       "    </tr>\n",
       "    <tr>\n",
       "      <th>12</th>\n",
       "      <td>0.0156</td>\n",
       "      <td>Embarked_S</td>\n",
       "    </tr>\n",
       "    <tr>\n",
       "      <th>13</th>\n",
       "      <td>0.0139</td>\n",
       "      <td>Embarked_C</td>\n",
       "    </tr>\n",
       "    <tr>\n",
       "      <th>14</th>\n",
       "      <td>0.0139</td>\n",
       "      <td>Cabin_info_E</td>\n",
       "    </tr>\n",
       "    <tr>\n",
       "      <th>15</th>\n",
       "      <td>0.0124</td>\n",
       "      <td>Title2_Mrs</td>\n",
       "    </tr>\n",
       "    <tr>\n",
       "      <th>16</th>\n",
       "      <td>0.0120</td>\n",
       "      <td>Title2_Miss</td>\n",
       "    </tr>\n",
       "    <tr>\n",
       "      <th>17</th>\n",
       "      <td>0.0093</td>\n",
       "      <td>Ticket_info_rev_STONO</td>\n",
       "    </tr>\n",
       "    <tr>\n",
       "      <th>18</th>\n",
       "      <td>0.0092</td>\n",
       "      <td>Embarked_Q</td>\n",
       "    </tr>\n",
       "  </tbody>\n",
       "</table>\n",
       "</div>"
      ],
      "text/plain": [
       "    importances               features\n",
       "0        0.1538            PassengerId\n",
       "1        0.1390                   Fare\n",
       "2        0.1384                    Age\n",
       "3        0.1247             Sex_female\n",
       "4        0.1228               Sex_male\n",
       "5        0.0618                 Pclass\n",
       "6        0.0459            Family_Size\n",
       "7        0.0306           Cabin_info_N\n",
       "8        0.0302                  SibSp\n",
       "9        0.0269              Title2_Mr\n",
       "10       0.0203                  Parch\n",
       "11       0.0194      Ticket_info_rev_X\n",
       "12       0.0156             Embarked_S\n",
       "13       0.0139             Embarked_C\n",
       "14       0.0139           Cabin_info_E\n",
       "15       0.0124             Title2_Mrs\n",
       "16       0.0120            Title2_Miss\n",
       "17       0.0093  Ticket_info_rev_STONO\n",
       "18       0.0092             Embarked_Q"
      ]
     },
     "execution_count": 41,
     "metadata": {},
     "output_type": "execute_result"
    }
   ],
   "source": [
    "imp = sorted(zip(map(lambda x: round(x, 4), clf.feature_importances_), X_train.columns), reverse=True)\n",
    "rf_imp = pd.DataFrame(imp, columns=['importances', 'features'])\n",
    "rf_imp"
   ]
  },
  {
   "cell_type": "code",
   "execution_count": null,
   "metadata": {},
   "outputs": [],
   "source": []
  }
 ],
 "metadata": {
  "kernelspec": {
   "display_name": "Python 3",
   "language": "python",
   "name": "python3"
  },
  "language_info": {
   "codemirror_mode": {
    "name": "ipython",
    "version": 3
   },
   "file_extension": ".py",
   "mimetype": "text/x-python",
   "name": "python",
   "nbconvert_exporter": "python",
   "pygments_lexer": "ipython3",
   "version": "3.6.5"
  }
 },
 "nbformat": 4,
 "nbformat_minor": 2
}

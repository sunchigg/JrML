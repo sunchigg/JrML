{
 "cells": [
  {
   "cell_type": "code",
   "execution_count": 1,
   "metadata": {},
   "outputs": [
    {
     "name": "stderr",
     "output_type": "stream",
     "text": [
      "/usr/local/lib/python3.6/site-packages/sklearn/cross_validation.py:41: DeprecationWarning: This module was deprecated in version 0.18 in favor of the model_selection module into which all the refactored classes and functions are moved. Also note that the interface of the new CV iterators are different from that of this module. This module will be removed in 0.20.\n",
      "  \"This module will be removed in 0.20.\", DeprecationWarning)\n"
     ]
    }
   ],
   "source": [
    "# load package\n",
    "import pandas as pd\n",
    "import numpy as np\n",
    "import seaborn as sns\n",
    "from sklearn.tree import DecisionTreeClassifier\n",
    "from sklearn.cross_validation  import train_test_split\n",
    "from sklearn import metrics\n",
    "from sklearn import preprocessing\n",
    "import matplotlib.pyplot as plt\n",
    "from sklearn import cross_validation\n",
    "from sklearn.model_selection import learning_curve\n",
    "# set path\n",
    "import os\n",
    "default_path = \"/Users/francislin/Desktop/Machine_Learning_Workshop/Titanic/\"\n",
    "os.chdir(default_path)\n",
    "\n",
    "# skip interaction warning\n",
    "import warnings; \n",
    "warnings.filterwarnings('ignore')"
   ]
  },
  {
   "cell_type": "code",
   "execution_count": 2,
   "metadata": {},
   "outputs": [],
   "source": [
    "# Data Prepararion\n",
    "# read data\n",
    "train=pd.read_csv('train.csv',encoding='big5')\n",
    "test=pd.read_csv('test.csv',encoding='big5')\n",
    "submit=pd.read_csv('gender_submission.csv',encoding='big5')"
   ]
  },
  {
   "cell_type": "code",
   "execution_count": 3,
   "metadata": {},
   "outputs": [],
   "source": [
    "# append in ONE data\n",
    "data=train.append(test, ignore_index=True)"
   ]
  },
  {
   "cell_type": "code",
   "execution_count": 4,
   "metadata": {},
   "outputs": [
    {
     "data": {
      "text/plain": [
       "<seaborn.axisgrid.FacetGrid at 0x110bdbf60>"
      ]
     },
     "execution_count": 4,
     "metadata": {},
     "output_type": "execute_result"
    },
    {
     "data": {
      "image/png": "[encoded data removed]",
      "text/plain": [
       "<Figure size 432x216 with 2 Axes>"
      ]
     },
     "metadata": {},
     "output_type": "display_data"
    }
   ],
   "source": [
    "data['Family_Size']=data['Parch']+data['SibSp']\n",
    "g=sns.FacetGrid(data,col='Survived')\n",
    "g.map(sns.distplot,'Family_Size',kde=True)#kde是否要折線圖的參數"
   ]
  },
  {
   "cell_type": "code",
   "execution_count": 5,
   "metadata": {},
   "outputs": [
    {
     "data": {
      "text/plain": [
       "array(['Mr', 'Mrs', 'Miss', 'Master', 'Don', 'Rev', 'Dr', 'Mme', 'Ms',\n",
       "       'Major', 'Lady', 'Sir', 'Mlle', 'Col', 'Capt', 'the Countess',\n",
       "       'Jonkheer', 'Dona'], dtype=object)"
      ]
     },
     "execution_count": 5,
     "metadata": {},
     "output_type": "execute_result"
    }
   ],
   "source": [
    "#設法整理出「尊稱」這個因子\n",
    "data['Title1']=data['Name'].str.split('.',expand=True)[0]\n",
    "#expand=True是讓資料在dataframe展開欄位\n",
    "#1是選第二項的title\n",
    "# 切出尊稱\n",
    "data['Title1']=data['Title1'].str.split(', ',expand=True)[1].str.strip()#[1]代表切出第2個'dlm'前面到第一個的字串\n",
    "# 秀出dintinct後的title1\n",
    "data['Title1'].unique()"
   ]
  },
  {
   "cell_type": "code",
   "execution_count": 6,
   "metadata": {},
   "outputs": [
    {
     "data": {
      "text/html": [
       "<div>\n",
       "<style scoped>\n",
       "    .dataframe tbody tr th:only-of-type {\n",
       "        vertical-align: middle;\n",
       "    }\n",
       "\n",
       "    .dataframe tbody tr th {\n",
       "        vertical-align: top;\n",
       "    }\n",
       "\n",
       "    .dataframe thead th {\n",
       "        text-align: right;\n",
       "    }\n",
       "</style>\n",
       "<table border=\"1\" class=\"dataframe\">\n",
       "  <thead>\n",
       "    <tr style=\"text-align: right;\">\n",
       "      <th></th>\n",
       "      <th>Title2</th>\n",
       "      <th>PassengerId</th>\n",
       "    </tr>\n",
       "  </thead>\n",
       "  <tbody>\n",
       "    <tr>\n",
       "      <th>0</th>\n",
       "      <td>Master</td>\n",
       "      <td>61</td>\n",
       "    </tr>\n",
       "    <tr>\n",
       "      <th>1</th>\n",
       "      <td>Miss</td>\n",
       "      <td>269</td>\n",
       "    </tr>\n",
       "    <tr>\n",
       "      <th>2</th>\n",
       "      <td>Mr</td>\n",
       "      <td>782</td>\n",
       "    </tr>\n",
       "    <tr>\n",
       "      <th>3</th>\n",
       "      <td>Mrs</td>\n",
       "      <td>197</td>\n",
       "    </tr>\n",
       "  </tbody>\n",
       "</table>\n",
       "</div>"
      ],
      "text/plain": [
       "   Title2  PassengerId\n",
       "0  Master           61\n",
       "1    Miss          269\n",
       "2      Mr          782\n",
       "3     Mrs          197"
      ]
     },
     "execution_count": 6,
     "metadata": {},
     "output_type": "execute_result"
    }
   ],
   "source": [
    "#合併成比較常出現的姓氏在Title2\n",
    "data['Title2']=''\n",
    "for idx, row in data.iterrows():  # 請務必記得加上idx，不然跑回圈的item會變成(idx, row)\n",
    "    Sex = row['Sex']\n",
    "    Title1=row['Title1']\n",
    "    if Title1=='Master':\n",
    "        Title2='Master'\n",
    "    elif Title1=='Mrs':\n",
    "        Title2='Mrs'\n",
    "    elif Title1=='Miss':\n",
    "        Title2='Miss'\n",
    "    elif Sex=='male':\n",
    "        Title2='Mr'\n",
    "    else:\n",
    "        Title2='Miss'\n",
    "    data.loc[idx,'Title2']=Title2 #???\n",
    "data['Title2'].unique()\n",
    "tt2 = data.groupby(by='Title2', as_index=False).agg({'PassengerId': pd.Series.nunique})\n",
    "tt2"
   ]
  },
  {
   "cell_type": "code",
   "execution_count": 7,
   "metadata": {},
   "outputs": [
    {
     "data": {
      "text/plain": [
       "array(['A5', 'PC', 'STONO2', 'X', 'PP', 'CA', 'SCParis', 'SCA4', 'A4',\n",
       "       'SP', 'SOC', 'WC', 'SOTONOQ', 'WEP', 'STONO', 'C', 'SCPARIS',\n",
       "       'SOP', 'Fa', 'LINE', 'FCC', 'SWPP', 'SCOW', 'PPP', 'SC', 'SCAH',\n",
       "       'AS', 'SOPP', 'FC', 'SOTONO2', 'CASOTON', 'SCA3', 'STONOQ', 'AQ4',\n",
       "       'A', 'LP', 'AQ3'], dtype=object)"
      ]
     },
     "execution_count": 7,
     "metadata": {},
     "output_type": "execute_result"
    }
   ],
   "source": [
    "# 票的前幾碼代號可能有意義，流水編沒有所以拿掉\n",
    "data['Ticket_info'] = data['Ticket'].apply(lambda x : x.replace(\".\",\"\").replace(\"/\",\"\").strip().split(' ')[0] if not x.isdigit() else 'X')\n",
    "data['Ticket_info'].unique()"
   ]
  },
  {
   "cell_type": "code",
   "execution_count": 8,
   "metadata": {},
   "outputs": [
    {
     "data": {
      "text/html": [
       "<div>\n",
       "<style scoped>\n",
       "    .dataframe tbody tr th:only-of-type {\n",
       "        vertical-align: middle;\n",
       "    }\n",
       "\n",
       "    .dataframe tbody tr th {\n",
       "        vertical-align: top;\n",
       "    }\n",
       "\n",
       "    .dataframe thead th {\n",
       "        text-align: right;\n",
       "    }\n",
       "</style>\n",
       "<table border=\"1\" class=\"dataframe\">\n",
       "  <thead>\n",
       "    <tr style=\"text-align: right;\">\n",
       "      <th></th>\n",
       "      <th>Ticket_info</th>\n",
       "      <th>PassengerId</th>\n",
       "    </tr>\n",
       "  </thead>\n",
       "  <tbody>\n",
       "    <tr>\n",
       "      <th>0</th>\n",
       "      <td>A</td>\n",
       "      <td>1</td>\n",
       "    </tr>\n",
       "    <tr>\n",
       "      <th>1</th>\n",
       "      <td>A4</td>\n",
       "      <td>10</td>\n",
       "    </tr>\n",
       "    <tr>\n",
       "      <th>2</th>\n",
       "      <td>A5</td>\n",
       "      <td>28</td>\n",
       "    </tr>\n",
       "    <tr>\n",
       "      <th>3</th>\n",
       "      <td>AQ3</td>\n",
       "      <td>1</td>\n",
       "    </tr>\n",
       "    <tr>\n",
       "      <th>4</th>\n",
       "      <td>AQ4</td>\n",
       "      <td>1</td>\n",
       "    </tr>\n",
       "  </tbody>\n",
       "</table>\n",
       "</div>"
      ],
      "text/plain": [
       "  Ticket_info  PassengerId\n",
       "0           A            1\n",
       "1          A4           10\n",
       "2          A5           28\n",
       "3         AQ3            1\n",
       "4         AQ4            1"
      ]
     },
     "execution_count": 8,
     "metadata": {},
     "output_type": "execute_result"
    }
   ],
   "source": [
    "tt = data.groupby(by='Ticket_info', as_index=False).agg({'PassengerId': pd.Series.nunique})\n",
    "tt.head()"
   ]
  },
  {
   "cell_type": "code",
   "execution_count": 9,
   "metadata": {},
   "outputs": [
    {
     "data": {
      "text/plain": [
       "count     37.000000\n",
       "mean      35.378378\n",
       "std      156.804434\n",
       "min        1.000000\n",
       "25%        1.000000\n",
       "50%        4.000000\n",
       "75%        9.000000\n",
       "max      957.000000\n",
       "Name: PassengerId, dtype: float64"
      ]
     },
     "execution_count": 9,
     "metadata": {},
     "output_type": "execute_result"
    }
   ],
   "source": [
    "tt['PassengerId'].describe()"
   ]
  },
  {
   "cell_type": "code",
   "execution_count": 10,
   "metadata": {},
   "outputs": [
    {
     "data": {
      "text/html": [
       "<div>\n",
       "<style scoped>\n",
       "    .dataframe tbody tr th:only-of-type {\n",
       "        vertical-align: middle;\n",
       "    }\n",
       "\n",
       "    .dataframe tbody tr th {\n",
       "        vertical-align: top;\n",
       "    }\n",
       "\n",
       "    .dataframe thead th {\n",
       "        text-align: right;\n",
       "    }\n",
       "</style>\n",
       "<table border=\"1\" class=\"dataframe\">\n",
       "  <thead>\n",
       "    <tr style=\"text-align: right;\">\n",
       "      <th></th>\n",
       "      <th>Ticket_info</th>\n",
       "      <th>PassengerId</th>\n",
       "      <th>Ticket_info_rev</th>\n",
       "    </tr>\n",
       "  </thead>\n",
       "  <tbody>\n",
       "    <tr>\n",
       "      <th>0</th>\n",
       "      <td>A</td>\n",
       "      <td>1</td>\n",
       "      <td>None</td>\n",
       "    </tr>\n",
       "    <tr>\n",
       "      <th>1</th>\n",
       "      <td>A4</td>\n",
       "      <td>10</td>\n",
       "      <td>A4</td>\n",
       "    </tr>\n",
       "    <tr>\n",
       "      <th>2</th>\n",
       "      <td>A5</td>\n",
       "      <td>28</td>\n",
       "      <td>A5</td>\n",
       "    </tr>\n",
       "    <tr>\n",
       "      <th>3</th>\n",
       "      <td>AQ3</td>\n",
       "      <td>1</td>\n",
       "      <td>None</td>\n",
       "    </tr>\n",
       "  </tbody>\n",
       "</table>\n",
       "</div>"
      ],
      "text/plain": [
       "  Ticket_info  PassengerId Ticket_info_rev\n",
       "0           A            1            None\n",
       "1          A4           10              A4\n",
       "2          A5           28              A5\n",
       "3         AQ3            1            None"
      ]
     },
     "execution_count": 10,
     "metadata": {},
     "output_type": "execute_result"
    }
   ],
   "source": [
    "#把count distinct的ticket_info低於第一四分位數的都改成None\n",
    "tt['Ticket_info_rev']=tt['Ticket_info']\n",
    "tt.Ticket_info_rev[tt.PassengerId<9]='None'\n",
    "tt.head(4)"
   ]
  },
  {
   "cell_type": "code",
   "execution_count": 11,
   "metadata": {},
   "outputs": [
    {
     "data": {
      "text/html": [
       "<div>\n",
       "<style scoped>\n",
       "    .dataframe tbody tr th:only-of-type {\n",
       "        vertical-align: middle;\n",
       "    }\n",
       "\n",
       "    .dataframe tbody tr th {\n",
       "        vertical-align: top;\n",
       "    }\n",
       "\n",
       "    .dataframe thead th {\n",
       "        text-align: right;\n",
       "    }\n",
       "</style>\n",
       "<table border=\"1\" class=\"dataframe\">\n",
       "  <thead>\n",
       "    <tr style=\"text-align: right;\">\n",
       "      <th></th>\n",
       "      <th>Age</th>\n",
       "      <th>Cabin</th>\n",
       "      <th>Embarked</th>\n",
       "      <th>Fare</th>\n",
       "      <th>Name</th>\n",
       "      <th>Parch</th>\n",
       "      <th>PassengerId</th>\n",
       "      <th>Pclass</th>\n",
       "      <th>Sex</th>\n",
       "      <th>SibSp</th>\n",
       "      <th>Survived</th>\n",
       "      <th>Ticket</th>\n",
       "      <th>Family_Size</th>\n",
       "      <th>Title1</th>\n",
       "      <th>Title2</th>\n",
       "      <th>Ticket_info</th>\n",
       "      <th>Ticket_info_rev</th>\n",
       "    </tr>\n",
       "  </thead>\n",
       "  <tbody>\n",
       "    <tr>\n",
       "      <th>0</th>\n",
       "      <td>22.0</td>\n",
       "      <td>NaN</td>\n",
       "      <td>S</td>\n",
       "      <td>7.2500</td>\n",
       "      <td>Braund, Mr. Owen Harris</td>\n",
       "      <td>0</td>\n",
       "      <td>1</td>\n",
       "      <td>3</td>\n",
       "      <td>male</td>\n",
       "      <td>1</td>\n",
       "      <td>0.0</td>\n",
       "      <td>A/5 21171</td>\n",
       "      <td>1</td>\n",
       "      <td>Mr</td>\n",
       "      <td>Mr</td>\n",
       "      <td>A5</td>\n",
       "      <td>A5</td>\n",
       "    </tr>\n",
       "    <tr>\n",
       "      <th>1</th>\n",
       "      <td>38.0</td>\n",
       "      <td>C85</td>\n",
       "      <td>C</td>\n",
       "      <td>71.2833</td>\n",
       "      <td>Cumings, Mrs. John Bradley (Florence Briggs Th...</td>\n",
       "      <td>0</td>\n",
       "      <td>2</td>\n",
       "      <td>1</td>\n",
       "      <td>female</td>\n",
       "      <td>1</td>\n",
       "      <td>1.0</td>\n",
       "      <td>PC 17599</td>\n",
       "      <td>1</td>\n",
       "      <td>Mrs</td>\n",
       "      <td>Mrs</td>\n",
       "      <td>PC</td>\n",
       "      <td>PC</td>\n",
       "    </tr>\n",
       "    <tr>\n",
       "      <th>2</th>\n",
       "      <td>26.0</td>\n",
       "      <td>NaN</td>\n",
       "      <td>S</td>\n",
       "      <td>7.9250</td>\n",
       "      <td>Heikkinen, Miss. Laina</td>\n",
       "      <td>0</td>\n",
       "      <td>3</td>\n",
       "      <td>3</td>\n",
       "      <td>female</td>\n",
       "      <td>0</td>\n",
       "      <td>1.0</td>\n",
       "      <td>STON/O2. 3101282</td>\n",
       "      <td>0</td>\n",
       "      <td>Miss</td>\n",
       "      <td>Miss</td>\n",
       "      <td>STONO2</td>\n",
       "      <td>None</td>\n",
       "    </tr>\n",
       "    <tr>\n",
       "      <th>3</th>\n",
       "      <td>35.0</td>\n",
       "      <td>C123</td>\n",
       "      <td>S</td>\n",
       "      <td>53.1000</td>\n",
       "      <td>Futrelle, Mrs. Jacques Heath (Lily May Peel)</td>\n",
       "      <td>0</td>\n",
       "      <td>4</td>\n",
       "      <td>1</td>\n",
       "      <td>female</td>\n",
       "      <td>1</td>\n",
       "      <td>1.0</td>\n",
       "      <td>113803</td>\n",
       "      <td>1</td>\n",
       "      <td>Mrs</td>\n",
       "      <td>Mrs</td>\n",
       "      <td>X</td>\n",
       "      <td>X</td>\n",
       "    </tr>\n",
       "  </tbody>\n",
       "</table>\n",
       "</div>"
      ],
      "text/plain": [
       "    Age Cabin Embarked     Fare  \\\n",
       "0  22.0   NaN        S   7.2500   \n",
       "1  38.0   C85        C  71.2833   \n",
       "2  26.0   NaN        S   7.9250   \n",
       "3  35.0  C123        S  53.1000   \n",
       "\n",
       "                                                Name  Parch  PassengerId  \\\n",
       "0                            Braund, Mr. Owen Harris      0            1   \n",
       "1  Cumings, Mrs. John Bradley (Florence Briggs Th...      0            2   \n",
       "2                             Heikkinen, Miss. Laina      0            3   \n",
       "3       Futrelle, Mrs. Jacques Heath (Lily May Peel)      0            4   \n",
       "\n",
       "   Pclass     Sex  SibSp  Survived            Ticket  Family_Size Title1  \\\n",
       "0       3    male      1       0.0         A/5 21171            1     Mr   \n",
       "1       1  female      1       1.0          PC 17599            1    Mrs   \n",
       "2       3  female      0       1.0  STON/O2. 3101282            0   Miss   \n",
       "3       1  female      1       1.0            113803            1    Mrs   \n",
       "\n",
       "  Title2 Ticket_info Ticket_info_rev  \n",
       "0     Mr          A5              A5  \n",
       "1    Mrs          PC              PC  \n",
       "2   Miss      STONO2            None  \n",
       "3    Mrs           X               X  "
      ]
     },
     "execution_count": 11,
     "metadata": {},
     "output_type": "execute_result"
    }
   ],
   "source": [
    "#leftjoin Ticket_info_rev到大表\n",
    "tt=tt.drop(['PassengerId'], axis=1)\n",
    "data=pd.merge(left=data, right=tt,how='left', on=['Ticket_info', 'Ticket_info'])\n",
    "data.head(4)"
   ]
  },
  {
   "cell_type": "code",
   "execution_count": 12,
   "metadata": {},
   "outputs": [
    {
     "data": {
      "text/plain": [
       "array(['N', 'C', 'E', 'G', 'D', 'A', 'B', 'F', 'T'], dtype=object)"
      ]
     },
     "execution_count": 12,
     "metadata": {},
     "output_type": "execute_result"
    }
   ],
   "source": [
    "# 抓船艙第一碼英文\n",
    "# 送出kaggle成績沒有比較好，一堆空的也是合理\n",
    "data['Cabin_info']=data['Cabin'].str[:1]\n",
    "data['Cabin_info']=data['Cabin_info'].fillna('N')#空的補N\n",
    "data['Cabin_info'].unique()"
   ]
  },
  {
   "cell_type": "code",
   "execution_count": 13,
   "metadata": {},
   "outputs": [
    {
     "data": {
      "text/plain": [
       "\"\\ndata['Cabin_info2']=data['Cabin_info']\\ndata.Cabin_info2[data.Cabin_info in ('N','C')]='mm'\\ndata.head()\""
      ]
     },
     "execution_count": 13,
     "metadata": {},
     "output_type": "execute_result"
    }
   ],
   "source": [
    "'''\n",
    "data['Cabin_info2']=data['Cabin_info']\n",
    "data.Cabin_info2[data.Cabin_info in ('N','C')]='mm'\n",
    "data.head()'''"
   ]
  },
  {
   "cell_type": "code",
   "execution_count": 14,
   "metadata": {},
   "outputs": [],
   "source": [
    "#整併人數太少的cabin\n",
    "#把'F','G','T'變成'Merged'\n",
    "data['Cabin_info'].replace(['F','G','T'],'Merged',inplace=True)#inplace如果是false就是改爽的不會更動到值"
   ]
  },
  {
   "cell_type": "code",
   "execution_count": 15,
   "metadata": {},
   "outputs": [
    {
     "name": "stdout",
     "output_type": "stream",
     "text": [
      "Embarked原遺漏的人數： 2\n"
     ]
    }
   ],
   "source": [
    "#\n",
    "print('Embarked原遺漏的人數：',data['Embarked'].isnull().sum())\n",
    "#最多在S港上傳，填補遺漏值\n",
    "data['Embarked']=data['Embarked'].fillna('S')"
   ]
  },
  {
   "cell_type": "code",
   "execution_count": 16,
   "metadata": {},
   "outputs": [
    {
     "name": "stdout",
     "output_type": "stream",
     "text": [
      "Fare原遺漏的人數： 1\n"
     ]
    }
   ],
   "source": [
    "#\n",
    "print('Fare原遺漏的人數：',data['Fare'].isnull().sum())\n",
    "#用平均填補遺漏值\n",
    "data['Fare']=data['Fare'].fillna(data['Fare'].mean())"
   ]
  },
  {
   "cell_type": "code",
   "execution_count": 17,
   "metadata": {},
   "outputs": [
    {
     "name": "stdout",
     "output_type": "stream",
     "text": [
      "Age原遺漏的人數： 263\n"
     ]
    }
   ],
   "source": [
    "#\n",
    "print('Age原遺漏的人數：',data['Age'].isnull().sum())\n",
    "#用中位數填補遺漏值\n",
    "data['Age']=data['Age'].fillna(data['Age'].median())"
   ]
  },
  {
   "cell_type": "code",
   "execution_count": 19,
   "metadata": {},
   "outputs": [
    {
     "data": {
      "text/html": [
       "<div>\n",
       "<style scoped>\n",
       "    .dataframe tbody tr th:only-of-type {\n",
       "        vertical-align: middle;\n",
       "    }\n",
       "\n",
       "    .dataframe tbody tr th {\n",
       "        vertical-align: top;\n",
       "    }\n",
       "\n",
       "    .dataframe thead th {\n",
       "        text-align: right;\n",
       "    }\n",
       "</style>\n",
       "<table border=\"1\" class=\"dataframe\">\n",
       "  <thead>\n",
       "    <tr style=\"text-align: right;\">\n",
       "      <th></th>\n",
       "      <th>Quotation_ind</th>\n",
       "      <th>PassengerId</th>\n",
       "    </tr>\n",
       "  </thead>\n",
       "  <tbody>\n",
       "    <tr>\n",
       "      <th>0</th>\n",
       "      <td>0</td>\n",
       "      <td>1234</td>\n",
       "    </tr>\n",
       "    <tr>\n",
       "      <th>1</th>\n",
       "      <td>1</td>\n",
       "      <td>75</td>\n",
       "    </tr>\n",
       "  </tbody>\n",
       "</table>\n",
       "</div>"
      ],
      "text/plain": [
       "   Quotation_ind  PassengerId\n",
       "0              0         1234\n",
       "1              1           75"
      ]
     },
     "execution_count": 19,
     "metadata": {},
     "output_type": "execute_result"
    }
   ],
   "source": [
    "#用(找是否有別名\n",
    "data['NickName_ind']= data['Name'].str.contains('\\(',na=False)*1\n",
    "data['Quotation_ind']= data['Name'].str.contains('\\\"',na=False)*1\n",
    "qta = data.groupby(by='Quotation_ind', as_index=False).agg({'PassengerId': pd.Series.nunique})\n",
    "qta.head()"
   ]
  },
  {
   "cell_type": "code",
   "execution_count": 20,
   "metadata": {},
   "outputs": [
    {
     "data": {
      "text/html": [
       "<div>\n",
       "<style scoped>\n",
       "    .dataframe tbody tr th:only-of-type {\n",
       "        vertical-align: middle;\n",
       "    }\n",
       "\n",
       "    .dataframe tbody tr th {\n",
       "        vertical-align: top;\n",
       "    }\n",
       "\n",
       "    .dataframe thead th {\n",
       "        text-align: right;\n",
       "    }\n",
       "</style>\n",
       "<table border=\"1\" class=\"dataframe\">\n",
       "  <thead>\n",
       "    <tr style=\"text-align: right;\">\n",
       "      <th></th>\n",
       "      <th>Age</th>\n",
       "      <th>Embarked</th>\n",
       "      <th>Fare</th>\n",
       "      <th>Parch</th>\n",
       "      <th>PassengerId</th>\n",
       "      <th>Pclass</th>\n",
       "      <th>Sex</th>\n",
       "      <th>SibSp</th>\n",
       "      <th>Survived</th>\n",
       "      <th>Family_Size</th>\n",
       "      <th>Title2</th>\n",
       "      <th>Ticket_info_rev</th>\n",
       "      <th>Cabin_info</th>\n",
       "      <th>NickName_ind</th>\n",
       "      <th>Quotation_ind</th>\n",
       "    </tr>\n",
       "  </thead>\n",
       "  <tbody>\n",
       "    <tr>\n",
       "      <th>0</th>\n",
       "      <td>22.0</td>\n",
       "      <td>S</td>\n",
       "      <td>7.2500</td>\n",
       "      <td>0</td>\n",
       "      <td>1</td>\n",
       "      <td>3</td>\n",
       "      <td>male</td>\n",
       "      <td>1</td>\n",
       "      <td>0.0</td>\n",
       "      <td>1</td>\n",
       "      <td>Mr</td>\n",
       "      <td>A5</td>\n",
       "      <td>N</td>\n",
       "      <td>0</td>\n",
       "      <td>0</td>\n",
       "    </tr>\n",
       "    <tr>\n",
       "      <th>1</th>\n",
       "      <td>38.0</td>\n",
       "      <td>C</td>\n",
       "      <td>71.2833</td>\n",
       "      <td>0</td>\n",
       "      <td>2</td>\n",
       "      <td>1</td>\n",
       "      <td>female</td>\n",
       "      <td>1</td>\n",
       "      <td>1.0</td>\n",
       "      <td>1</td>\n",
       "      <td>Mrs</td>\n",
       "      <td>PC</td>\n",
       "      <td>C</td>\n",
       "      <td>1</td>\n",
       "      <td>0</td>\n",
       "    </tr>\n",
       "    <tr>\n",
       "      <th>2</th>\n",
       "      <td>26.0</td>\n",
       "      <td>S</td>\n",
       "      <td>7.9250</td>\n",
       "      <td>0</td>\n",
       "      <td>3</td>\n",
       "      <td>3</td>\n",
       "      <td>female</td>\n",
       "      <td>0</td>\n",
       "      <td>1.0</td>\n",
       "      <td>0</td>\n",
       "      <td>Miss</td>\n",
       "      <td>None</td>\n",
       "      <td>N</td>\n",
       "      <td>0</td>\n",
       "      <td>0</td>\n",
       "    </tr>\n",
       "  </tbody>\n",
       "</table>\n",
       "</div>"
      ],
      "text/plain": [
       "    Age Embarked     Fare  Parch  PassengerId  Pclass     Sex  SibSp  \\\n",
       "0  22.0        S   7.2500      0            1       3    male      1   \n",
       "1  38.0        C  71.2833      0            2       1  female      1   \n",
       "2  26.0        S   7.9250      0            3       3  female      0   \n",
       "\n",
       "   Survived  Family_Size Title2 Ticket_info_rev Cabin_info  NickName_ind  \\\n",
       "0       0.0            1     Mr              A5          N             0   \n",
       "1       1.0            1    Mrs              PC          C             1   \n",
       "2       1.0            0   Miss            None          N             0   \n",
       "\n",
       "   Quotation_ind  \n",
       "0              0  \n",
       "1              0  \n",
       "2              0  "
      ]
     },
     "execution_count": 20,
     "metadata": {},
     "output_type": "execute_result"
    }
   ],
   "source": [
    "#留下準備get_dummies的欄位\n",
    "for_dummy_data=data.drop(['Name','Cabin','Ticket','Ticket_info','Title1'], axis=1)\n",
    "for_dummy_data.head(3)"
   ]
  },
  {
   "cell_type": "code",
   "execution_count": 21,
   "metadata": {},
   "outputs": [
    {
     "data": {
      "text/html": [
       "<div>\n",
       "<style scoped>\n",
       "    .dataframe tbody tr th:only-of-type {\n",
       "        vertical-align: middle;\n",
       "    }\n",
       "\n",
       "    .dataframe tbody tr th {\n",
       "        vertical-align: top;\n",
       "    }\n",
       "\n",
       "    .dataframe thead th {\n",
       "        text-align: right;\n",
       "    }\n",
       "</style>\n",
       "<table border=\"1\" class=\"dataframe\">\n",
       "  <thead>\n",
       "    <tr style=\"text-align: right;\">\n",
       "      <th></th>\n",
       "      <th>Age</th>\n",
       "      <th>Fare</th>\n",
       "      <th>Parch</th>\n",
       "      <th>PassengerId</th>\n",
       "      <th>Pclass</th>\n",
       "      <th>SibSp</th>\n",
       "      <th>Survived</th>\n",
       "      <th>Family_Size</th>\n",
       "      <th>NickName_ind</th>\n",
       "      <th>Quotation_ind</th>\n",
       "      <th>...</th>\n",
       "      <th>Ticket_info_rev_STONO</th>\n",
       "      <th>Ticket_info_rev_WC</th>\n",
       "      <th>Ticket_info_rev_X</th>\n",
       "      <th>Cabin_info_A</th>\n",
       "      <th>Cabin_info_B</th>\n",
       "      <th>Cabin_info_C</th>\n",
       "      <th>Cabin_info_D</th>\n",
       "      <th>Cabin_info_E</th>\n",
       "      <th>Cabin_info_Merged</th>\n",
       "      <th>Cabin_info_N</th>\n",
       "    </tr>\n",
       "  </thead>\n",
       "  <tbody>\n",
       "    <tr>\n",
       "      <th>0</th>\n",
       "      <td>22.0</td>\n",
       "      <td>7.2500</td>\n",
       "      <td>0</td>\n",
       "      <td>1</td>\n",
       "      <td>3</td>\n",
       "      <td>1</td>\n",
       "      <td>0.0</td>\n",
       "      <td>1</td>\n",
       "      <td>0</td>\n",
       "      <td>0</td>\n",
       "      <td>...</td>\n",
       "      <td>0</td>\n",
       "      <td>0</td>\n",
       "      <td>0</td>\n",
       "      <td>0</td>\n",
       "      <td>0</td>\n",
       "      <td>0</td>\n",
       "      <td>0</td>\n",
       "      <td>0</td>\n",
       "      <td>0</td>\n",
       "      <td>1</td>\n",
       "    </tr>\n",
       "    <tr>\n",
       "      <th>1</th>\n",
       "      <td>38.0</td>\n",
       "      <td>71.2833</td>\n",
       "      <td>0</td>\n",
       "      <td>2</td>\n",
       "      <td>1</td>\n",
       "      <td>1</td>\n",
       "      <td>1.0</td>\n",
       "      <td>1</td>\n",
       "      <td>1</td>\n",
       "      <td>0</td>\n",
       "      <td>...</td>\n",
       "      <td>0</td>\n",
       "      <td>0</td>\n",
       "      <td>0</td>\n",
       "      <td>0</td>\n",
       "      <td>0</td>\n",
       "      <td>1</td>\n",
       "      <td>0</td>\n",
       "      <td>0</td>\n",
       "      <td>0</td>\n",
       "      <td>0</td>\n",
       "    </tr>\n",
       "    <tr>\n",
       "      <th>2</th>\n",
       "      <td>26.0</td>\n",
       "      <td>7.9250</td>\n",
       "      <td>0</td>\n",
       "      <td>3</td>\n",
       "      <td>3</td>\n",
       "      <td>0</td>\n",
       "      <td>1.0</td>\n",
       "      <td>0</td>\n",
       "      <td>0</td>\n",
       "      <td>0</td>\n",
       "      <td>...</td>\n",
       "      <td>0</td>\n",
       "      <td>0</td>\n",
       "      <td>0</td>\n",
       "      <td>0</td>\n",
       "      <td>0</td>\n",
       "      <td>0</td>\n",
       "      <td>0</td>\n",
       "      <td>0</td>\n",
       "      <td>0</td>\n",
       "      <td>1</td>\n",
       "    </tr>\n",
       "  </tbody>\n",
       "</table>\n",
       "<p>3 rows × 37 columns</p>\n",
       "</div>"
      ],
      "text/plain": [
       "    Age     Fare  Parch  PassengerId  Pclass  SibSp  Survived  Family_Size  \\\n",
       "0  22.0   7.2500      0            1       3      1       0.0            1   \n",
       "1  38.0  71.2833      0            2       1      1       1.0            1   \n",
       "2  26.0   7.9250      0            3       3      0       1.0            0   \n",
       "\n",
       "   NickName_ind  Quotation_ind      ...       Ticket_info_rev_STONO  \\\n",
       "0             0              0      ...                           0   \n",
       "1             1              0      ...                           0   \n",
       "2             0              0      ...                           0   \n",
       "\n",
       "   Ticket_info_rev_WC  Ticket_info_rev_X  Cabin_info_A  Cabin_info_B  \\\n",
       "0                   0                  0             0             0   \n",
       "1                   0                  0             0             0   \n",
       "2                   0                  0             0             0   \n",
       "\n",
       "   Cabin_info_C  Cabin_info_D  Cabin_info_E  Cabin_info_Merged  Cabin_info_N  \n",
       "0             0             0             0                  0             1  \n",
       "1             1             0             0                  0             0  \n",
       "2             0             0             0                  0             1  \n",
       "\n",
       "[3 rows x 37 columns]"
      ]
     },
     "execution_count": 21,
     "metadata": {},
     "output_type": "execute_result"
    }
   ],
   "source": [
    "data_dummies = pd.get_dummies(for_dummy_data)\n",
    "#columns可以指定哪些欄位要get_dummies\n",
    "data_dummies.head(3)\n",
    "#data= pd.merge(left=data, right=data_dummies, how='left', left_on='PassengerId', right_on='PassengerId',)\n",
    "#data.head(4)"
   ]
  },
  {
   "cell_type": "code",
   "execution_count": 22,
   "metadata": {},
   "outputs": [
    {
     "data": {
      "text/plain": [
       "Index(['Age', 'Fare', 'Parch', 'PassengerId', 'Pclass', 'SibSp', 'Survived',\n",
       "       'Family_Size', 'NickName_ind', 'Quotation_ind', 'Embarked_C',\n",
       "       'Embarked_Q', 'Embarked_S', 'Sex_female', 'Sex_male', 'Title2_Master',\n",
       "       'Title2_Miss', 'Title2_Mr', 'Title2_Mrs', 'Ticket_info_rev_A4',\n",
       "       'Ticket_info_rev_A5', 'Ticket_info_rev_CA', 'Ticket_info_rev_FCC',\n",
       "       'Ticket_info_rev_None', 'Ticket_info_rev_PC', 'Ticket_info_rev_SCPARIS',\n",
       "       'Ticket_info_rev_SOTONOQ', 'Ticket_info_rev_STONO',\n",
       "       'Ticket_info_rev_WC', 'Ticket_info_rev_X', 'Cabin_info_A',\n",
       "       'Cabin_info_B', 'Cabin_info_C', 'Cabin_info_D', 'Cabin_info_E',\n",
       "       'Cabin_info_Merged', 'Cabin_info_N'],\n",
       "      dtype='object')"
      ]
     },
     "execution_count": 22,
     "metadata": {},
     "output_type": "execute_result"
    }
   ],
   "source": [
    "data_dummies.columns"
   ]
  },
  {
   "cell_type": "code",
   "execution_count": 23,
   "metadata": {},
   "outputs": [
    {
     "data": {
      "text/plain": [
       "\"\\ndata['Sex'] = data['Sex'].astype('category').cat.codes\\ndata['Embarked'] = data['Embarked'].astype('category').cat.codes\\ndata['Pclass'] = data['Pclass'].astype('category').cat.codes\\ndata['Title2'] = data['Title2'].astype('category').cat.codes\\ndata['Ticket_info'] = data['Ticket_info'].astype('category').cat.codes\\ndata['Cabin_info'] = data['Cabin_info'].astype('category').cat.codes\\ndata.head(4)\\n\""
      ]
     },
     "execution_count": 23,
     "metadata": {},
     "output_type": "execute_result"
    }
   ],
   "source": [
    "#感覺是把文字類別轉成某種數字\n",
    "#get_dummies了所以不必這一cell\n",
    "'''\n",
    "data['Sex'] = data['Sex'].astype('category').cat.codes\n",
    "data['Embarked'] = data['Embarked'].astype('category').cat.codes\n",
    "data['Pclass'] = data['Pclass'].astype('category').cat.codes\n",
    "data['Title2'] = data['Title2'].astype('category').cat.codes\n",
    "data['Ticket_info'] = data['Ticket_info'].astype('category').cat.codes\n",
    "data['Cabin_info'] = data['Cabin_info'].astype('category').cat.codes\n",
    "data.head(4)\n",
    "'''"
   ]
  },
  {
   "cell_type": "code",
   "execution_count": 24,
   "metadata": {},
   "outputs": [
    {
     "data": {
      "text/plain": [
       "Index(['Age', 'Fare', 'Parch', 'PassengerId', 'Pclass', 'SibSp', 'Survived',\n",
       "       'Family_Size', 'NickName_ind', 'Quotation_ind', 'Embarked_C',\n",
       "       'Embarked_Q', 'Embarked_S', 'Sex_female', 'Sex_male', 'Title2_Master',\n",
       "       'Title2_Miss', 'Title2_Mr', 'Title2_Mrs', 'Ticket_info_rev_A4',\n",
       "       'Ticket_info_rev_A5', 'Ticket_info_rev_CA', 'Ticket_info_rev_FCC',\n",
       "       'Ticket_info_rev_None', 'Ticket_info_rev_PC', 'Ticket_info_rev_SCPARIS',\n",
       "       'Ticket_info_rev_SOTONOQ', 'Ticket_info_rev_STONO',\n",
       "       'Ticket_info_rev_WC', 'Ticket_info_rev_X', 'Cabin_info_A',\n",
       "       'Cabin_info_B', 'Cabin_info_C', 'Cabin_info_D', 'Cabin_info_E',\n",
       "       'Cabin_info_Merged', 'Cabin_info_N'],\n",
       "      dtype='object')"
      ]
     },
     "execution_count": 24,
     "metadata": {},
     "output_type": "execute_result"
    }
   ],
   "source": [
    "# 運用'Survived'欄位來判斷訓練集還是測試集\n",
    "dataTrain = data_dummies[pd.notnull(data_dummies['Survived'])].sort_values(by=[\"PassengerId\"])\n",
    "dataTest = data_dummies[~pd.notnull(data_dummies['Survived'])].sort_values(by=[\"PassengerId\"])\n",
    "dataTrain.columns"
   ]
  },
  {
   "cell_type": "code",
   "execution_count": 30,
   "metadata": {},
   "outputs": [],
   "source": [
    "#把上面dataTrain.columns的結果貼到dataTrain，再去掉'Survived'\n",
    "from sklearn.model_selection import train_test_split\n",
    "#拿掉feature_importances低的因子\n",
    "X_train, X_test, y_train, y_test = train_test_split(\n",
    "    dataTrain[['Age', 'Fare', 'Parch', 'Pclass', 'SibSp', 'NickName_ind','Quotation_ind',\n",
    "       'Family_Size', 'Embarked_C', 'Embarked_Q', 'Embarked_S', 'Sex_female',\n",
    "       'Sex_male', 'Title2_Miss', 'Title2_Mr', 'Title2_Mrs', 'Title2_Master',\n",
    "       #'Ticket_info_rev_A4', 'Ticket_info_rev_A5', 'Ticket_info_rev_CA',\n",
    "       #'Ticket_info_rev_FCC', 'Ticket_info_rev_None', 'Ticket_info_rev_PC',\n",
    "       #'Ticket_info_rev_SCPARIS', 'Ticket_info_rev_SOTONOQ', 'Ticket_info_rev_WC'\n",
    "       'Ticket_info_rev_STONO', 'Ticket_info_rev_X',\n",
    "       #'Cabin_info_A', 'Cabin_info_B', 'Cabin_info_C', 'Cabin_info_D', 'Cabin_info_Merged'\n",
    "       'Cabin_info_E', 'Cabin_info_N']], dataTrain[['Survived']], test_size=0.3, random_state=0)"
   ]
  },
  {
   "cell_type": "code",
   "execution_count": 31,
   "metadata": {},
   "outputs": [],
   "source": [
    "from sklearn.ensemble import RandomForestClassifier\n",
    "#from sklearn.ensemble import GradientBoostingClassifier"
   ]
  },
  {
   "cell_type": "code",
   "execution_count": 40,
   "metadata": {},
   "outputs": [],
   "source": [
    "RF = RandomForestClassifier(n_estimators=10000, random_state =0)\n",
    "#GBDT = GradientBoostingClassifier(random_state=0,n_estimators=100, max_depth=3)"
   ]
  },
  {
   "cell_type": "code",
   "execution_count": 41,
   "metadata": {},
   "outputs": [
    {
     "data": {
      "text/plain": [
       "RandomForestClassifier(bootstrap=True, class_weight=None, criterion='gini',\n",
       "            max_depth=None, max_features='auto', max_leaf_nodes=None,\n",
       "            min_impurity_decrease=0.0, min_impurity_split=None,\n",
       "            min_samples_leaf=1, min_samples_split=2,\n",
       "            min_weight_fraction_leaf=0.0, n_estimators=10000, n_jobs=1,\n",
       "            oob_score=False, random_state=0, verbose=0, warm_start=False)"
      ]
     },
     "execution_count": 41,
     "metadata": {},
     "output_type": "execute_result"
    }
   ],
   "source": [
    "RF.fit(X_train,y_train['Survived'].values)\n",
    "#GBDT.fit(X_train,y_train['Survived'].values)"
   ]
  },
  {
   "cell_type": "code",
   "execution_count": 42,
   "metadata": {},
   "outputs": [
    {
     "name": "stdout",
     "output_type": "stream",
     "text": [
      "Accuracy:0.987 \n",
      "\n",
      "Classification report\n",
      "             precision    recall  f1-score   support\n",
      "\n",
      "        0.0       0.98      1.00      0.99       381\n",
      "        1.0       1.00      0.97      0.98       242\n",
      "\n",
      "avg / total       0.99      0.99      0.99       623\n",
      " \n",
      "\n",
      "Confusion matrix\n",
      "[[380   1]\n",
      " [  7 235]] \n",
      "\n",
      "Accuracy:0.821 \n",
      "\n",
      "Classification report\n",
      "             precision    recall  f1-score   support\n",
      "\n",
      "        0.0       0.84      0.88      0.86       168\n",
      "        1.0       0.78      0.72      0.75       100\n",
      "\n",
      "avg / total       0.82      0.82      0.82       268\n",
      " \n",
      "\n",
      "Confusion matrix\n",
      "[[148  20]\n",
      " [ 28  72]] \n",
      "\n"
     ]
    }
   ],
   "source": [
    "from sklearn import metrics\n",
    "def measure_performance(X,y,clf, show_accuracy=True, show_classification_report=True, show_confusion_matrix=True):\n",
    "    y_pred=clf.predict(X)   \n",
    "    if show_accuracy:\n",
    "        print (\"Accuracy:{0:.3f}\".format(metrics.accuracy_score(y,y_pred)),\"\\n\")\n",
    "\n",
    "    if show_classification_report:\n",
    "        print (\"Classification report\")\n",
    "        print (metrics.classification_report(y,y_pred),\"\\n\")\n",
    "        \n",
    "    if show_confusion_matrix:\n",
    "        print (\"Confusion matrix\")\n",
    "        print (metrics.confusion_matrix(y,y_pred),\"\\n\")\n",
    "        \n",
    "measure_performance(X_train,y_train, RF, show_classification_report=True, show_confusion_matrix=True)\n",
    "measure_performance(X_test,y_test, RF, show_classification_report=True, show_confusion_matrix=True)"
   ]
  },
  {
   "cell_type": "code",
   "execution_count": 35,
   "metadata": {},
   "outputs": [
    {
     "data": {
      "text/html": [
       "<div>\n",
       "<style scoped>\n",
       "    .dataframe tbody tr th:only-of-type {\n",
       "        vertical-align: middle;\n",
       "    }\n",
       "\n",
       "    .dataframe tbody tr th {\n",
       "        vertical-align: top;\n",
       "    }\n",
       "\n",
       "    .dataframe thead th {\n",
       "        text-align: right;\n",
       "    }\n",
       "</style>\n",
       "<table border=\"1\" class=\"dataframe\">\n",
       "  <thead>\n",
       "    <tr style=\"text-align: right;\">\n",
       "      <th></th>\n",
       "      <th>Age</th>\n",
       "      <th>Fare</th>\n",
       "      <th>Parch</th>\n",
       "      <th>Pclass</th>\n",
       "      <th>SibSp</th>\n",
       "      <th>NickName_ind</th>\n",
       "      <th>Quotation_ind</th>\n",
       "      <th>Family_Size</th>\n",
       "      <th>Embarked_C</th>\n",
       "      <th>Embarked_Q</th>\n",
       "      <th>...</th>\n",
       "      <th>Sex_female</th>\n",
       "      <th>Sex_male</th>\n",
       "      <th>Title2_Miss</th>\n",
       "      <th>Title2_Mr</th>\n",
       "      <th>Title2_Mrs</th>\n",
       "      <th>Title2_Master</th>\n",
       "      <th>Ticket_info_rev_STONO</th>\n",
       "      <th>Ticket_info_rev_X</th>\n",
       "      <th>Cabin_info_E</th>\n",
       "      <th>Cabin_info_N</th>\n",
       "    </tr>\n",
       "  </thead>\n",
       "  <tbody>\n",
       "    <tr>\n",
       "      <th>891</th>\n",
       "      <td>34.5</td>\n",
       "      <td>7.8292</td>\n",
       "      <td>0</td>\n",
       "      <td>3</td>\n",
       "      <td>0</td>\n",
       "      <td>0</td>\n",
       "      <td>0</td>\n",
       "      <td>0</td>\n",
       "      <td>0</td>\n",
       "      <td>1</td>\n",
       "      <td>...</td>\n",
       "      <td>0</td>\n",
       "      <td>1</td>\n",
       "      <td>0</td>\n",
       "      <td>1</td>\n",
       "      <td>0</td>\n",
       "      <td>0</td>\n",
       "      <td>0</td>\n",
       "      <td>1</td>\n",
       "      <td>0</td>\n",
       "      <td>1</td>\n",
       "    </tr>\n",
       "    <tr>\n",
       "      <th>892</th>\n",
       "      <td>47.0</td>\n",
       "      <td>7.0000</td>\n",
       "      <td>0</td>\n",
       "      <td>3</td>\n",
       "      <td>1</td>\n",
       "      <td>1</td>\n",
       "      <td>0</td>\n",
       "      <td>1</td>\n",
       "      <td>0</td>\n",
       "      <td>0</td>\n",
       "      <td>...</td>\n",
       "      <td>1</td>\n",
       "      <td>0</td>\n",
       "      <td>0</td>\n",
       "      <td>0</td>\n",
       "      <td>1</td>\n",
       "      <td>0</td>\n",
       "      <td>0</td>\n",
       "      <td>1</td>\n",
       "      <td>0</td>\n",
       "      <td>1</td>\n",
       "    </tr>\n",
       "    <tr>\n",
       "      <th>893</th>\n",
       "      <td>62.0</td>\n",
       "      <td>9.6875</td>\n",
       "      <td>0</td>\n",
       "      <td>2</td>\n",
       "      <td>0</td>\n",
       "      <td>0</td>\n",
       "      <td>0</td>\n",
       "      <td>0</td>\n",
       "      <td>0</td>\n",
       "      <td>1</td>\n",
       "      <td>...</td>\n",
       "      <td>0</td>\n",
       "      <td>1</td>\n",
       "      <td>0</td>\n",
       "      <td>1</td>\n",
       "      <td>0</td>\n",
       "      <td>0</td>\n",
       "      <td>0</td>\n",
       "      <td>1</td>\n",
       "      <td>0</td>\n",
       "      <td>1</td>\n",
       "    </tr>\n",
       "  </tbody>\n",
       "</table>\n",
       "<p>3 rows × 21 columns</p>\n",
       "</div>"
      ],
      "text/plain": [
       "      Age    Fare  Parch  Pclass  SibSp  NickName_ind  Quotation_ind  \\\n",
       "891  34.5  7.8292      0       3      0             0              0   \n",
       "892  47.0  7.0000      0       3      1             1              0   \n",
       "893  62.0  9.6875      0       2      0             0              0   \n",
       "\n",
       "     Family_Size  Embarked_C  Embarked_Q      ...       Sex_female  Sex_male  \\\n",
       "891            0           0           1      ...                0         1   \n",
       "892            1           0           0      ...                1         0   \n",
       "893            0           0           1      ...                0         1   \n",
       "\n",
       "     Title2_Miss  Title2_Mr  Title2_Mrs  Title2_Master  Ticket_info_rev_STONO  \\\n",
       "891            0          1           0              0                      0   \n",
       "892            0          0           1              0                      0   \n",
       "893            0          1           0              0                      0   \n",
       "\n",
       "     Ticket_info_rev_X  Cabin_info_E  Cabin_info_N  \n",
       "891                  1             0             1  \n",
       "892                  1             0             1  \n",
       "893                  1             0             1  \n",
       "\n",
       "[3 rows x 21 columns]"
      ]
     },
     "execution_count": 35,
     "metadata": {},
     "output_type": "execute_result"
    }
   ],
   "source": [
    "#dataTest=dataTest.drop('Survived', axis=1)\n",
    "dataTest=dataTest[['Age', 'Fare', 'Parch', 'Pclass', 'SibSp', 'NickName_ind','Quotation_ind',\n",
    "       'Family_Size', 'Embarked_C', 'Embarked_Q', 'Embarked_S', 'Sex_female',\n",
    "       'Sex_male', 'Title2_Miss', 'Title2_Mr', 'Title2_Mrs', 'Title2_Master',\n",
    "       #'Ticket_info_rev_A4', 'Ticket_info_rev_A5', 'Ticket_info_rev_CA',\n",
    "       #'Ticket_info_rev_FCC', 'Ticket_info_rev_None', 'Ticket_info_rev_PC',\n",
    "       #'Ticket_info_rev_SCPARIS', 'Ticket_info_rev_SOTONOQ', 'Ticket_info_rev_WC'\n",
    "       'Ticket_info_rev_STONO', 'Ticket_info_rev_X',\n",
    "       #'Cabin_info_A', 'Cabin_info_B', 'Cabin_info_C', 'Cabin_info_D', 'Cabin_info_Merged'\n",
    "       'Cabin_info_E', 'Cabin_info_N']]\n",
    "dataTest.head(3)"
   ]
  },
  {
   "cell_type": "code",
   "execution_count": 36,
   "metadata": {},
   "outputs": [],
   "source": [
    "#predict Test data\n",
    "#submit the data to kaggle\n",
    "RF_res =RF.predict(dataTest)\n",
    "#GBDT_res =GBDT.predict(dataTest)\n",
    "submit['Survived'] = RF_res\n",
    "#submit['Survived'] = GBDT_res\n",
    "submit['Survived'] = submit['Survived'].astype(int)"
   ]
  },
  {
   "cell_type": "code",
   "execution_count": 37,
   "metadata": {},
   "outputs": [
    {
     "data": {
      "text/plain": [
       "'/Users/francislin/Desktop/Machine_Learning_Workshop/Titanic'"
      ]
     },
     "execution_count": 37,
     "metadata": {},
     "output_type": "execute_result"
    }
   ],
   "source": [
    "submit.to_csv('submit_to_kaggle.csv', index= False)\n",
    "%pwd"
   ]
  },
  {
   "cell_type": "code",
   "execution_count": null,
   "metadata": {},
   "outputs": [],
   "source": [
    "print(\"一樣的x去做\")\n",
    "#print('\\n')\n",
    "print(\"CART:\"+\"Your submission scored 0.74641\")\n",
    "print(\"RF:\"+\"Your submission scored 0.76076\")\n",
    "print(\"GBDT:\"+\"Your submission scored 0.77511\")\n",
    "print(\"RF(18個X):\"+\"Your submission scored 0.79425\")"
   ]
  },
  {
   "cell_type": "markdown",
   "metadata": {},
   "source": [
    "## Important Features Using Random Forest"
   ]
  },
  {
   "cell_type": "code",
   "execution_count": 25,
   "metadata": {},
   "outputs": [],
   "source": [
    "from sklearn.ensemble import RandomForestClassifier\n",
    "clf = RandomForestClassifier(n_estimators=10000, random_state=0, n_jobs=-1)"
   ]
  },
  {
   "cell_type": "code",
   "execution_count": 26,
   "metadata": {},
   "outputs": [],
   "source": [
    "#把上面dataTrain.columns的結果貼到dataTrain，再去掉'Survived'\n",
    "from sklearn.model_selection import train_test_split\n",
    "#拿掉feature_importances低的因子\n",
    "X_train, X_test, y_train, y_test = train_test_split(\n",
    "    dataTrain[['Age', 'Fare', 'Parch', 'Pclass', 'SibSp',\n",
    "       'Family_Size', 'NickName_ind','Quotation_ind', 'Embarked_C', 'Embarked_Q', 'Embarked_S',\n",
    "       'Sex_female', 'Sex_male', 'Title2_Master', 'Title2_Miss', 'Title2_Mr',\n",
    "       'Title2_Mrs', 'Ticket_info_rev_A4', 'Ticket_info_rev_A5',\n",
    "       'Ticket_info_rev_CA', 'Ticket_info_rev_FCC', 'Ticket_info_rev_None',\n",
    "       'Ticket_info_rev_PC', 'Ticket_info_rev_SCPARIS',\n",
    "       'Ticket_info_rev_SOTONOQ', 'Ticket_info_rev_STONO',\n",
    "       'Ticket_info_rev_WC', 'Ticket_info_rev_X', 'Cabin_info_A',\n",
    "       'Cabin_info_B', 'Cabin_info_C', 'Cabin_info_D', 'Cabin_info_E',\n",
    "       'Cabin_info_Merged', 'Cabin_info_N']], dataTrain[['Survived']], test_size=0.3, random_state=0)"
   ]
  },
  {
   "cell_type": "code",
   "execution_count": 27,
   "metadata": {},
   "outputs": [
    {
     "data": {
      "text/plain": [
       "RandomForestClassifier(bootstrap=True, class_weight=None, criterion='gini',\n",
       "            max_depth=None, max_features='auto', max_leaf_nodes=None,\n",
       "            min_impurity_decrease=0.0, min_impurity_split=None,\n",
       "            min_samples_leaf=1, min_samples_split=2,\n",
       "            min_weight_fraction_leaf=0.0, n_estimators=10000, n_jobs=-1,\n",
       "            oob_score=False, random_state=0, verbose=0, warm_start=False)"
      ]
     },
     "execution_count": 27,
     "metadata": {},
     "output_type": "execute_result"
    }
   ],
   "source": [
    "clf.fit(X_train, y_train)"
   ]
  },
  {
   "cell_type": "code",
   "execution_count": 28,
   "metadata": {},
   "outputs": [
    {
     "data": {
      "text/html": [
       "<div>\n",
       "<style scoped>\n",
       "    .dataframe tbody tr th:only-of-type {\n",
       "        vertical-align: middle;\n",
       "    }\n",
       "\n",
       "    .dataframe tbody tr th {\n",
       "        vertical-align: top;\n",
       "    }\n",
       "\n",
       "    .dataframe thead th {\n",
       "        text-align: right;\n",
       "    }\n",
       "</style>\n",
       "<table border=\"1\" class=\"dataframe\">\n",
       "  <thead>\n",
       "    <tr style=\"text-align: right;\">\n",
       "      <th></th>\n",
       "      <th>importances</th>\n",
       "      <th>features</th>\n",
       "    </tr>\n",
       "  </thead>\n",
       "  <tbody>\n",
       "    <tr>\n",
       "      <th>0</th>\n",
       "      <td>0.1785</td>\n",
       "      <td>Age</td>\n",
       "    </tr>\n",
       "    <tr>\n",
       "      <th>1</th>\n",
       "      <td>0.1576</td>\n",
       "      <td>Fare</td>\n",
       "    </tr>\n",
       "    <tr>\n",
       "      <th>2</th>\n",
       "      <td>0.0936</td>\n",
       "      <td>Title2_Mr</td>\n",
       "    </tr>\n",
       "    <tr>\n",
       "      <th>3</th>\n",
       "      <td>0.0746</td>\n",
       "      <td>Sex_female</td>\n",
       "    </tr>\n",
       "    <tr>\n",
       "      <th>4</th>\n",
       "      <td>0.0720</td>\n",
       "      <td>Sex_male</td>\n",
       "    </tr>\n",
       "    <tr>\n",
       "      <th>5</th>\n",
       "      <td>0.0561</td>\n",
       "      <td>Pclass</td>\n",
       "    </tr>\n",
       "    <tr>\n",
       "      <th>6</th>\n",
       "      <td>0.0483</td>\n",
       "      <td>Family_Size</td>\n",
       "    </tr>\n",
       "    <tr>\n",
       "      <th>7</th>\n",
       "      <td>0.0366</td>\n",
       "      <td>NickName_ind</td>\n",
       "    </tr>\n",
       "    <tr>\n",
       "      <th>8</th>\n",
       "      <td>0.0361</td>\n",
       "      <td>SibSp</td>\n",
       "    </tr>\n",
       "    <tr>\n",
       "      <th>9</th>\n",
       "      <td>0.0268</td>\n",
       "      <td>Title2_Miss</td>\n",
       "    </tr>\n",
       "    <tr>\n",
       "      <th>10</th>\n",
       "      <td>0.0259</td>\n",
       "      <td>Cabin_info_N</td>\n",
       "    </tr>\n",
       "    <tr>\n",
       "      <th>11</th>\n",
       "      <td>0.0224</td>\n",
       "      <td>Title2_Mrs</td>\n",
       "    </tr>\n",
       "    <tr>\n",
       "      <th>12</th>\n",
       "      <td>0.0204</td>\n",
       "      <td>Parch</td>\n",
       "    </tr>\n",
       "    <tr>\n",
       "      <th>13</th>\n",
       "      <td>0.0170</td>\n",
       "      <td>Quotation_ind</td>\n",
       "    </tr>\n",
       "    <tr>\n",
       "      <th>14</th>\n",
       "      <td>0.0139</td>\n",
       "      <td>Embarked_S</td>\n",
       "    </tr>\n",
       "    <tr>\n",
       "      <th>15</th>\n",
       "      <td>0.0134</td>\n",
       "      <td>Ticket_info_rev_X</td>\n",
       "    </tr>\n",
       "    <tr>\n",
       "      <th>16</th>\n",
       "      <td>0.0125</td>\n",
       "      <td>Embarked_C</td>\n",
       "    </tr>\n",
       "    <tr>\n",
       "      <th>17</th>\n",
       "      <td>0.0119</td>\n",
       "      <td>Cabin_info_E</td>\n",
       "    </tr>\n",
       "    <tr>\n",
       "      <th>18</th>\n",
       "      <td>0.0096</td>\n",
       "      <td>Ticket_info_rev_STONO</td>\n",
       "    </tr>\n",
       "    <tr>\n",
       "      <th>19</th>\n",
       "      <td>0.0086</td>\n",
       "      <td>Title2_Master</td>\n",
       "    </tr>\n",
       "    <tr>\n",
       "      <th>20</th>\n",
       "      <td>0.0086</td>\n",
       "      <td>Embarked_Q</td>\n",
       "    </tr>\n",
       "    <tr>\n",
       "      <th>21</th>\n",
       "      <td>0.0073</td>\n",
       "      <td>Cabin_info_C</td>\n",
       "    </tr>\n",
       "    <tr>\n",
       "      <th>22</th>\n",
       "      <td>0.0066</td>\n",
       "      <td>Ticket_info_rev_None</td>\n",
       "    </tr>\n",
       "    <tr>\n",
       "      <th>23</th>\n",
       "      <td>0.0062</td>\n",
       "      <td>Ticket_info_rev_PC</td>\n",
       "    </tr>\n",
       "    <tr>\n",
       "      <th>24</th>\n",
       "      <td>0.0060</td>\n",
       "      <td>Cabin_info_B</td>\n",
       "    </tr>\n",
       "    <tr>\n",
       "      <th>25</th>\n",
       "      <td>0.0058</td>\n",
       "      <td>Cabin_info_D</td>\n",
       "    </tr>\n",
       "    <tr>\n",
       "      <th>26</th>\n",
       "      <td>0.0049</td>\n",
       "      <td>Ticket_info_rev_A5</td>\n",
       "    </tr>\n",
       "    <tr>\n",
       "      <th>27</th>\n",
       "      <td>0.0048</td>\n",
       "      <td>Ticket_info_rev_WC</td>\n",
       "    </tr>\n",
       "    <tr>\n",
       "      <th>28</th>\n",
       "      <td>0.0034</td>\n",
       "      <td>Ticket_info_rev_CA</td>\n",
       "    </tr>\n",
       "    <tr>\n",
       "      <th>29</th>\n",
       "      <td>0.0029</td>\n",
       "      <td>Cabin_info_A</td>\n",
       "    </tr>\n",
       "    <tr>\n",
       "      <th>30</th>\n",
       "      <td>0.0028</td>\n",
       "      <td>Cabin_info_Merged</td>\n",
       "    </tr>\n",
       "    <tr>\n",
       "      <th>31</th>\n",
       "      <td>0.0023</td>\n",
       "      <td>Ticket_info_rev_SCPARIS</td>\n",
       "    </tr>\n",
       "    <tr>\n",
       "      <th>32</th>\n",
       "      <td>0.0019</td>\n",
       "      <td>Ticket_info_rev_SOTONOQ</td>\n",
       "    </tr>\n",
       "    <tr>\n",
       "      <th>33</th>\n",
       "      <td>0.0005</td>\n",
       "      <td>Ticket_info_rev_A4</td>\n",
       "    </tr>\n",
       "    <tr>\n",
       "      <th>34</th>\n",
       "      <td>0.0002</td>\n",
       "      <td>Ticket_info_rev_FCC</td>\n",
       "    </tr>\n",
       "  </tbody>\n",
       "</table>\n",
       "</div>"
      ],
      "text/plain": [
       "    importances                 features\n",
       "0        0.1785                      Age\n",
       "1        0.1576                     Fare\n",
       "2        0.0936                Title2_Mr\n",
       "3        0.0746               Sex_female\n",
       "4        0.0720                 Sex_male\n",
       "5        0.0561                   Pclass\n",
       "6        0.0483              Family_Size\n",
       "7        0.0366             NickName_ind\n",
       "8        0.0361                    SibSp\n",
       "9        0.0268              Title2_Miss\n",
       "10       0.0259             Cabin_info_N\n",
       "11       0.0224               Title2_Mrs\n",
       "12       0.0204                    Parch\n",
       "13       0.0170            Quotation_ind\n",
       "14       0.0139               Embarked_S\n",
       "15       0.0134        Ticket_info_rev_X\n",
       "16       0.0125               Embarked_C\n",
       "17       0.0119             Cabin_info_E\n",
       "18       0.0096    Ticket_info_rev_STONO\n",
       "19       0.0086            Title2_Master\n",
       "20       0.0086               Embarked_Q\n",
       "21       0.0073             Cabin_info_C\n",
       "22       0.0066     Ticket_info_rev_None\n",
       "23       0.0062       Ticket_info_rev_PC\n",
       "24       0.0060             Cabin_info_B\n",
       "25       0.0058             Cabin_info_D\n",
       "26       0.0049       Ticket_info_rev_A5\n",
       "27       0.0048       Ticket_info_rev_WC\n",
       "28       0.0034       Ticket_info_rev_CA\n",
       "29       0.0029             Cabin_info_A\n",
       "30       0.0028        Cabin_info_Merged\n",
       "31       0.0023  Ticket_info_rev_SCPARIS\n",
       "32       0.0019  Ticket_info_rev_SOTONOQ\n",
       "33       0.0005       Ticket_info_rev_A4\n",
       "34       0.0002      Ticket_info_rev_FCC"
      ]
     },
     "execution_count": 28,
     "metadata": {},
     "output_type": "execute_result"
    }
   ],
   "source": [
    "imp = sorted(zip(map(lambda x: round(x, 4), clf.feature_importances_), X_train.columns), reverse=True)\n",
    "rf_imp = pd.DataFrame(imp, columns=['importances', 'features'])\n",
    "rf_imp"
   ]
  },
  {
   "cell_type": "code",
   "execution_count": 29,
   "metadata": {},
   "outputs": [
    {
     "ename": "JoblibIndexError",
     "evalue": "JoblibIndexError\n___________________________________________________________________________\nMultiprocessing exception:\n...........................................................................\n/usr/local/Cellar/python/3.6.5_1/Frameworks/Python.framework/Versions/3.6/lib/python3.6/runpy.py in _run_module_as_main(mod_name='ipykernel_launcher', alter_argv=1)\n    188         sys.exit(msg)\n    189     main_globals = sys.modules[\"__main__\"].__dict__\n    190     if alter_argv:\n    191         sys.argv[0] = mod_spec.origin\n    192     return _run_code(code, main_globals, None,\n--> 193                      \"__main__\", mod_spec)\n        mod_spec = ModuleSpec(name='ipykernel_launcher', loader=<_f...b/python3.6/site-packages/ipykernel_launcher.py')\n    194 \n    195 def run_module(mod_name, init_globals=None,\n    196                run_name=None, alter_sys=False):\n    197     \"\"\"Execute a module's code without importing it\n\n...........................................................................\n/usr/local/Cellar/python/3.6.5_1/Frameworks/Python.framework/Versions/3.6/lib/python3.6/runpy.py in _run_code(code=<code object <module> at 0x10907fa50, file \"/usr...3.6/site-packages/ipykernel_launcher.py\", line 5>, run_globals={'__annotations__': {}, '__builtins__': <module 'builtins' (built-in)>, '__cached__': '/usr/local/lib/python3.6/site-packages/__pycache__/ipykernel_launcher.cpython-36.pyc', '__doc__': 'Entry point for launching an IPython kernel.\\n\\nTh...orts until\\nafter removing the cwd from sys.path.\\n', '__file__': '/usr/local/lib/python3.6/site-packages/ipykernel_launcher.py', '__loader__': <_frozen_importlib_external.SourceFileLoader object>, '__name__': '__main__', '__package__': '', '__spec__': ModuleSpec(name='ipykernel_launcher', loader=<_f...b/python3.6/site-packages/ipykernel_launcher.py'), 'app': <module 'ipykernel.kernelapp' from '/usr/local/lib/python3.6/site-packages/ipykernel/kernelapp.py'>, ...}, init_globals=None, mod_name='__main__', mod_spec=ModuleSpec(name='ipykernel_launcher', loader=<_f...b/python3.6/site-packages/ipykernel_launcher.py'), pkg_name='', script_name=None)\n     80                        __cached__ = cached,\n     81                        __doc__ = None,\n     82                        __loader__ = loader,\n     83                        __package__ = pkg_name,\n     84                        __spec__ = mod_spec)\n---> 85     exec(code, run_globals)\n        code = <code object <module> at 0x10907fa50, file \"/usr...3.6/site-packages/ipykernel_launcher.py\", line 5>\n        run_globals = {'__annotations__': {}, '__builtins__': <module 'builtins' (built-in)>, '__cached__': '/usr/local/lib/python3.6/site-packages/__pycache__/ipykernel_launcher.cpython-36.pyc', '__doc__': 'Entry point for launching an IPython kernel.\\n\\nTh...orts until\\nafter removing the cwd from sys.path.\\n', '__file__': '/usr/local/lib/python3.6/site-packages/ipykernel_launcher.py', '__loader__': <_frozen_importlib_external.SourceFileLoader object>, '__name__': '__main__', '__package__': '', '__spec__': ModuleSpec(name='ipykernel_launcher', loader=<_f...b/python3.6/site-packages/ipykernel_launcher.py'), 'app': <module 'ipykernel.kernelapp' from '/usr/local/lib/python3.6/site-packages/ipykernel/kernelapp.py'>, ...}\n     86     return run_globals\n     87 \n     88 def _run_module_code(code, init_globals=None,\n     89                     mod_name=None, mod_spec=None,\n\n...........................................................................\n/usr/local/lib/python3.6/site-packages/ipykernel_launcher.py in <module>()\n     11     # This is added back by InteractiveShellApp.init_path()\n     12     if sys.path[0] == '':\n     13         del sys.path[0]\n     14 \n     15     from ipykernel import kernelapp as app\n---> 16     app.launch_new_instance()\n\n...........................................................................\n/usr/local/lib/python3.6/site-packages/traitlets/config/application.py in launch_instance(cls=<class 'ipykernel.kernelapp.IPKernelApp'>, argv=None, **kwargs={})\n    653 \n    654         If a global instance already exists, this reinitializes and starts it\n    655         \"\"\"\n    656         app = cls.instance(**kwargs)\n    657         app.initialize(argv)\n--> 658         app.start()\n        app.start = <bound method IPKernelApp.start of <ipykernel.kernelapp.IPKernelApp object>>\n    659 \n    660 #-----------------------------------------------------------------------------\n    661 # utility functions, for convenience\n    662 #-----------------------------------------------------------------------------\n\n...........................................................................\n/usr/local/lib/python3.6/site-packages/ipykernel/kernelapp.py in start(self=<ipykernel.kernelapp.IPKernelApp object>)\n    481         if self.poller is not None:\n    482             self.poller.start()\n    483         self.kernel.start()\n    484         self.io_loop = ioloop.IOLoop.current()\n    485         try:\n--> 486             self.io_loop.start()\n        self.io_loop.start = <bound method BaseAsyncIOLoop.start of <tornado.platform.asyncio.AsyncIOMainLoop object>>\n    487         except KeyboardInterrupt:\n    488             pass\n    489 \n    490 launch_new_instance = IPKernelApp.launch_instance\n\n...........................................................................\n/usr/local/lib/python3.6/site-packages/tornado/platform/asyncio.py in start(self=<tornado.platform.asyncio.AsyncIOMainLoop object>)\n    122         except (RuntimeError, AssertionError):\n    123             old_loop = None\n    124         try:\n    125             self._setup_logging()\n    126             asyncio.set_event_loop(self.asyncio_loop)\n--> 127             self.asyncio_loop.run_forever()\n        self.asyncio_loop.run_forever = <bound method BaseEventLoop.run_forever of <_Uni...EventLoop running=True closed=False debug=False>>\n    128         finally:\n    129             asyncio.set_event_loop(old_loop)\n    130 \n    131     def stop(self):\n\n...........................................................................\n/usr/local/Cellar/python/3.6.5_1/Frameworks/Python.framework/Versions/3.6/lib/python3.6/asyncio/base_events.py in run_forever(self=<_UnixSelectorEventLoop running=True closed=False debug=False>)\n    417             sys.set_asyncgen_hooks(firstiter=self._asyncgen_firstiter_hook,\n    418                                    finalizer=self._asyncgen_finalizer_hook)\n    419         try:\n    420             events._set_running_loop(self)\n    421             while True:\n--> 422                 self._run_once()\n        self._run_once = <bound method BaseEventLoop._run_once of <_UnixS...EventLoop running=True closed=False debug=False>>\n    423                 if self._stopping:\n    424                     break\n    425         finally:\n    426             self._stopping = False\n\n...........................................................................\n/usr/local/Cellar/python/3.6.5_1/Frameworks/Python.framework/Versions/3.6/lib/python3.6/asyncio/base_events.py in _run_once(self=<_UnixSelectorEventLoop running=True closed=False debug=False>)\n   1427                         logger.warning('Executing %s took %.3f seconds',\n   1428                                        _format_handle(handle), dt)\n   1429                 finally:\n   1430                     self._current_handle = None\n   1431             else:\n-> 1432                 handle._run()\n        handle._run = <bound method Handle._run of <Handle BaseAsyncIOLoop._handle_events(13, 1)>>\n   1433         handle = None  # Needed to break cycles when an exception occurs.\n   1434 \n   1435     def _set_coroutine_wrapper(self, enabled):\n   1436         try:\n\n...........................................................................\n/usr/local/Cellar/python/3.6.5_1/Frameworks/Python.framework/Versions/3.6/lib/python3.6/asyncio/events.py in _run(self=<Handle BaseAsyncIOLoop._handle_events(13, 1)>)\n    140             self._callback = None\n    141             self._args = None\n    142 \n    143     def _run(self):\n    144         try:\n--> 145             self._callback(*self._args)\n        self._callback = <bound method BaseAsyncIOLoop._handle_events of <tornado.platform.asyncio.AsyncIOMainLoop object>>\n        self._args = (13, 1)\n    146         except Exception as exc:\n    147             cb = _format_callback_source(self._callback, self._args)\n    148             msg = 'Exception in callback {}'.format(cb)\n    149             context = {\n\n...........................................................................\n/usr/local/lib/python3.6/site-packages/tornado/platform/asyncio.py in _handle_events(self=<tornado.platform.asyncio.AsyncIOMainLoop object>, fd=13, events=1)\n    112             self.writers.remove(fd)\n    113         del self.handlers[fd]\n    114 \n    115     def _handle_events(self, fd, events):\n    116         fileobj, handler_func = self.handlers[fd]\n--> 117         handler_func(fileobj, events)\n        handler_func = <function wrap.<locals>.null_wrapper>\n        fileobj = <zmq.sugar.socket.Socket object>\n        events = 1\n    118 \n    119     def start(self):\n    120         try:\n    121             old_loop = asyncio.get_event_loop()\n\n...........................................................................\n/usr/local/lib/python3.6/site-packages/tornado/stack_context.py in null_wrapper(*args=(<zmq.sugar.socket.Socket object>, 1), **kwargs={})\n    271         # Fast path when there are no active contexts.\n    272         def null_wrapper(*args, **kwargs):\n    273             try:\n    274                 current_state = _state.contexts\n    275                 _state.contexts = cap_contexts[0]\n--> 276                 return fn(*args, **kwargs)\n        args = (<zmq.sugar.socket.Socket object>, 1)\n        kwargs = {}\n    277             finally:\n    278                 _state.contexts = current_state\n    279         null_wrapper._wrapped = True\n    280         return null_wrapper\n\n...........................................................................\n/usr/local/lib/python3.6/site-packages/zmq/eventloop/zmqstream.py in _handle_events(self=<zmq.eventloop.zmqstream.ZMQStream object>, fd=<zmq.sugar.socket.Socket object>, events=1)\n    445             return\n    446         zmq_events = self.socket.EVENTS\n    447         try:\n    448             # dispatch events:\n    449             if zmq_events & zmq.POLLIN and self.receiving():\n--> 450                 self._handle_recv()\n        self._handle_recv = <bound method ZMQStream._handle_recv of <zmq.eventloop.zmqstream.ZMQStream object>>\n    451                 if not self.socket:\n    452                     return\n    453             if zmq_events & zmq.POLLOUT and self.sending():\n    454                 self._handle_send()\n\n...........................................................................\n/usr/local/lib/python3.6/site-packages/zmq/eventloop/zmqstream.py in _handle_recv(self=<zmq.eventloop.zmqstream.ZMQStream object>)\n    475             else:\n    476                 raise\n    477         else:\n    478             if self._recv_callback:\n    479                 callback = self._recv_callback\n--> 480                 self._run_callback(callback, msg)\n        self._run_callback = <bound method ZMQStream._run_callback of <zmq.eventloop.zmqstream.ZMQStream object>>\n        callback = <function wrap.<locals>.null_wrapper>\n        msg = [<zmq.sugar.frame.Frame object>, <zmq.sugar.frame.Frame object>, <zmq.sugar.frame.Frame object>, <zmq.sugar.frame.Frame object>, <zmq.sugar.frame.Frame object>, <zmq.sugar.frame.Frame object>, <zmq.sugar.frame.Frame object>]\n    481         \n    482 \n    483     def _handle_send(self):\n    484         \"\"\"Handle a send event.\"\"\"\n\n...........................................................................\n/usr/local/lib/python3.6/site-packages/zmq/eventloop/zmqstream.py in _run_callback(self=<zmq.eventloop.zmqstream.ZMQStream object>, callback=<function wrap.<locals>.null_wrapper>, *args=([<zmq.sugar.frame.Frame object>, <zmq.sugar.frame.Frame object>, <zmq.sugar.frame.Frame object>, <zmq.sugar.frame.Frame object>, <zmq.sugar.frame.Frame object>, <zmq.sugar.frame.Frame object>, <zmq.sugar.frame.Frame object>],), **kwargs={})\n    427         close our socket.\"\"\"\n    428         try:\n    429             # Use a NullContext to ensure that all StackContexts are run\n    430             # inside our blanket exception handler rather than outside.\n    431             with stack_context.NullContext():\n--> 432                 callback(*args, **kwargs)\n        callback = <function wrap.<locals>.null_wrapper>\n        args = ([<zmq.sugar.frame.Frame object>, <zmq.sugar.frame.Frame object>, <zmq.sugar.frame.Frame object>, <zmq.sugar.frame.Frame object>, <zmq.sugar.frame.Frame object>, <zmq.sugar.frame.Frame object>, <zmq.sugar.frame.Frame object>],)\n        kwargs = {}\n    433         except:\n    434             gen_log.error(\"Uncaught exception in ZMQStream callback\",\n    435                           exc_info=True)\n    436             # Re-raise the exception so that IOLoop.handle_callback_exception\n\n...........................................................................\n/usr/local/lib/python3.6/site-packages/tornado/stack_context.py in null_wrapper(*args=([<zmq.sugar.frame.Frame object>, <zmq.sugar.frame.Frame object>, <zmq.sugar.frame.Frame object>, <zmq.sugar.frame.Frame object>, <zmq.sugar.frame.Frame object>, <zmq.sugar.frame.Frame object>, <zmq.sugar.frame.Frame object>],), **kwargs={})\n    271         # Fast path when there are no active contexts.\n    272         def null_wrapper(*args, **kwargs):\n    273             try:\n    274                 current_state = _state.contexts\n    275                 _state.contexts = cap_contexts[0]\n--> 276                 return fn(*args, **kwargs)\n        args = ([<zmq.sugar.frame.Frame object>, <zmq.sugar.frame.Frame object>, <zmq.sugar.frame.Frame object>, <zmq.sugar.frame.Frame object>, <zmq.sugar.frame.Frame object>, <zmq.sugar.frame.Frame object>, <zmq.sugar.frame.Frame object>],)\n        kwargs = {}\n    277             finally:\n    278                 _state.contexts = current_state\n    279         null_wrapper._wrapped = True\n    280         return null_wrapper\n\n...........................................................................\n/usr/local/lib/python3.6/site-packages/ipykernel/kernelbase.py in dispatcher(msg=[<zmq.sugar.frame.Frame object>, <zmq.sugar.frame.Frame object>, <zmq.sugar.frame.Frame object>, <zmq.sugar.frame.Frame object>, <zmq.sugar.frame.Frame object>, <zmq.sugar.frame.Frame object>, <zmq.sugar.frame.Frame object>])\n    278         if self.control_stream:\n    279             self.control_stream.on_recv(self.dispatch_control, copy=False)\n    280 \n    281         def make_dispatcher(stream):\n    282             def dispatcher(msg):\n--> 283                 return self.dispatch_shell(stream, msg)\n        msg = [<zmq.sugar.frame.Frame object>, <zmq.sugar.frame.Frame object>, <zmq.sugar.frame.Frame object>, <zmq.sugar.frame.Frame object>, <zmq.sugar.frame.Frame object>, <zmq.sugar.frame.Frame object>, <zmq.sugar.frame.Frame object>]\n    284             return dispatcher\n    285 \n    286         for s in self.shell_streams:\n    287             s.on_recv(make_dispatcher(s), copy=False)\n\n...........................................................................\n/usr/local/lib/python3.6/site-packages/ipykernel/kernelbase.py in dispatch_shell(self=<ipykernel.ipkernel.IPythonKernel object>, stream=<zmq.eventloop.zmqstream.ZMQStream object>, msg={'buffers': [], 'content': {'allow_stdin': True, 'code': 'def plot_learning_curve(estimator, title, X, y, ..._train, (0.0, 1.01), cv=cv, n_jobs=4)\\n\\nplt.show()', 'silent': False, 'stop_on_error': True, 'store_history': True, 'user_expressions': {}}, 'header': {'date': datetime.datetime(2018, 8, 7, 5, 46, 58, 810982, tzinfo=tzutc()), 'msg_id': '602c77151c7e418a97c1cf63ba88fe72', 'msg_type': 'execute_request', 'session': 'fc17164977e146a1b325df83595865c4', 'username': 'username', 'version': '5.2'}, 'metadata': {}, 'msg_id': '602c77151c7e418a97c1cf63ba88fe72', 'msg_type': 'execute_request', 'parent_header': {}})\n    228             self.log.warn(\"Unknown message type: %r\", msg_type)\n    229         else:\n    230             self.log.debug(\"%s: %s\", msg_type, msg)\n    231             self.pre_handler_hook()\n    232             try:\n--> 233                 handler(stream, idents, msg)\n        handler = <bound method Kernel.execute_request of <ipykernel.ipkernel.IPythonKernel object>>\n        stream = <zmq.eventloop.zmqstream.ZMQStream object>\n        idents = [b'fc17164977e146a1b325df83595865c4']\n        msg = {'buffers': [], 'content': {'allow_stdin': True, 'code': 'def plot_learning_curve(estimator, title, X, y, ..._train, (0.0, 1.01), cv=cv, n_jobs=4)\\n\\nplt.show()', 'silent': False, 'stop_on_error': True, 'store_history': True, 'user_expressions': {}}, 'header': {'date': datetime.datetime(2018, 8, 7, 5, 46, 58, 810982, tzinfo=tzutc()), 'msg_id': '602c77151c7e418a97c1cf63ba88fe72', 'msg_type': 'execute_request', 'session': 'fc17164977e146a1b325df83595865c4', 'username': 'username', 'version': '5.2'}, 'metadata': {}, 'msg_id': '602c77151c7e418a97c1cf63ba88fe72', 'msg_type': 'execute_request', 'parent_header': {}}\n    234             except Exception:\n    235                 self.log.error(\"Exception in message handler:\", exc_info=True)\n    236             finally:\n    237                 self.post_handler_hook()\n\n...........................................................................\n/usr/local/lib/python3.6/site-packages/ipykernel/kernelbase.py in execute_request(self=<ipykernel.ipkernel.IPythonKernel object>, stream=<zmq.eventloop.zmqstream.ZMQStream object>, ident=[b'fc17164977e146a1b325df83595865c4'], parent={'buffers': [], 'content': {'allow_stdin': True, 'code': 'def plot_learning_curve(estimator, title, X, y, ..._train, (0.0, 1.01), cv=cv, n_jobs=4)\\n\\nplt.show()', 'silent': False, 'stop_on_error': True, 'store_history': True, 'user_expressions': {}}, 'header': {'date': datetime.datetime(2018, 8, 7, 5, 46, 58, 810982, tzinfo=tzutc()), 'msg_id': '602c77151c7e418a97c1cf63ba88fe72', 'msg_type': 'execute_request', 'session': 'fc17164977e146a1b325df83595865c4', 'username': 'username', 'version': '5.2'}, 'metadata': {}, 'msg_id': '602c77151c7e418a97c1cf63ba88fe72', 'msg_type': 'execute_request', 'parent_header': {}})\n    394         if not silent:\n    395             self.execution_count += 1\n    396             self._publish_execute_input(code, parent, self.execution_count)\n    397 \n    398         reply_content = self.do_execute(code, silent, store_history,\n--> 399                                         user_expressions, allow_stdin)\n        user_expressions = {}\n        allow_stdin = True\n    400 \n    401         # Flush output before sending the reply.\n    402         sys.stdout.flush()\n    403         sys.stderr.flush()\n\n...........................................................................\n/usr/local/lib/python3.6/site-packages/ipykernel/ipkernel.py in do_execute(self=<ipykernel.ipkernel.IPythonKernel object>, code='def plot_learning_curve(estimator, title, X, y, ..._train, (0.0, 1.01), cv=cv, n_jobs=4)\\n\\nplt.show()', silent=False, store_history=True, user_expressions={}, allow_stdin=True)\n    203 \n    204         self._forward_input(allow_stdin)\n    205 \n    206         reply_content = {}\n    207         try:\n--> 208             res = shell.run_cell(code, store_history=store_history, silent=silent)\n        res = undefined\n        shell.run_cell = <bound method ZMQInteractiveShell.run_cell of <ipykernel.zmqshell.ZMQInteractiveShell object>>\n        code = 'def plot_learning_curve(estimator, title, X, y, ..._train, (0.0, 1.01), cv=cv, n_jobs=4)\\n\\nplt.show()'\n        store_history = True\n        silent = False\n    209         finally:\n    210             self._restore_input()\n    211 \n    212         if res.error_before_exec is not None:\n\n...........................................................................\n/usr/local/lib/python3.6/site-packages/ipykernel/zmqshell.py in run_cell(self=<ipykernel.zmqshell.ZMQInteractiveShell object>, *args=('def plot_learning_curve(estimator, title, X, y, ..._train, (0.0, 1.01), cv=cv, n_jobs=4)\\n\\nplt.show()',), **kwargs={'silent': False, 'store_history': True})\n    532             )\n    533         self.payload_manager.write_payload(payload)\n    534 \n    535     def run_cell(self, *args, **kwargs):\n    536         self._last_traceback = None\n--> 537         return super(ZMQInteractiveShell, self).run_cell(*args, **kwargs)\n        self.run_cell = <bound method ZMQInteractiveShell.run_cell of <ipykernel.zmqshell.ZMQInteractiveShell object>>\n        args = ('def plot_learning_curve(estimator, title, X, y, ..._train, (0.0, 1.01), cv=cv, n_jobs=4)\\n\\nplt.show()',)\n        kwargs = {'silent': False, 'store_history': True}\n    538 \n    539     def _showtraceback(self, etype, evalue, stb):\n    540         # try to preserve ordering of tracebacks and print statements\n    541         sys.stdout.flush()\n\n...........................................................................\n/usr/local/lib/python3.6/site-packages/IPython/core/interactiveshell.py in run_cell(self=<ipykernel.zmqshell.ZMQInteractiveShell object>, raw_cell='def plot_learning_curve(estimator, title, X, y, ..._train, (0.0, 1.01), cv=cv, n_jobs=4)\\n\\nplt.show()', store_history=True, silent=False, shell_futures=True)\n   2657         -------\n   2658         result : :class:`ExecutionResult`\n   2659         \"\"\"\n   2660         try:\n   2661             result = self._run_cell(\n-> 2662                 raw_cell, store_history, silent, shell_futures)\n        raw_cell = 'def plot_learning_curve(estimator, title, X, y, ..._train, (0.0, 1.01), cv=cv, n_jobs=4)\\n\\nplt.show()'\n        store_history = True\n        silent = False\n        shell_futures = True\n   2663         finally:\n   2664             self.events.trigger('post_execute')\n   2665             if not silent:\n   2666                 self.events.trigger('post_run_cell', result)\n\n...........................................................................\n/usr/local/lib/python3.6/site-packages/IPython/core/interactiveshell.py in _run_cell(self=<ipykernel.zmqshell.ZMQInteractiveShell object>, raw_cell='def plot_learning_curve(estimator, title, X, y, ..._train, (0.0, 1.01), cv=cv, n_jobs=4)\\n\\nplt.show()', store_history=True, silent=False, shell_futures=True)\n   2780                 self.displayhook.exec_result = result\n   2781 \n   2782                 # Execute the user code\n   2783                 interactivity = 'none' if silent else self.ast_node_interactivity\n   2784                 has_raised = self.run_ast_nodes(code_ast.body, cell_name,\n-> 2785                    interactivity=interactivity, compiler=compiler, result=result)\n        interactivity = 'last_expr'\n        compiler = <IPython.core.compilerop.CachingCompiler object>\n   2786                 \n   2787                 self.last_execution_succeeded = not has_raised\n   2788                 self.last_execution_result = result\n   2789 \n\n...........................................................................\n/usr/local/lib/python3.6/site-packages/IPython/core/interactiveshell.py in run_ast_nodes(self=<ipykernel.zmqshell.ZMQInteractiveShell object>, nodelist=[<_ast.FunctionDef object>, <_ast.Import object>, <_ast.Assign object>, <_ast.Assign object>, <_ast.Expr object>, <_ast.Expr object>], cell_name='<ipython-input-29-076a3172f401>', interactivity='last', compiler=<IPython.core.compilerop.CachingCompiler object>, result=<ExecutionResult object at 110ea6940, execution_...rue silent=False shell_futures=True> result=None>)\n   2898 \n   2899         try:\n   2900             for i, node in enumerate(to_run_exec):\n   2901                 mod = ast.Module([node])\n   2902                 code = compiler(mod, cell_name, \"exec\")\n-> 2903                 if self.run_code(code, result):\n        self.run_code = <bound method InteractiveShell.run_code of <ipykernel.zmqshell.ZMQInteractiveShell object>>\n        code = <code object <module> at 0x110f98c00, file \"<ipython-input-29-076a3172f401>\", line 33>\n        result = <ExecutionResult object at 110ea6940, execution_...rue silent=False shell_futures=True> result=None>\n   2904                     return True\n   2905 \n   2906             for i, node in enumerate(to_run_interactive):\n   2907                 mod = ast.Interactive([node])\n\n...........................................................................\n/usr/local/lib/python3.6/site-packages/IPython/core/interactiveshell.py in run_code(self=<ipykernel.zmqshell.ZMQInteractiveShell object>, code_obj=<code object <module> at 0x110f98c00, file \"<ipython-input-29-076a3172f401>\", line 33>, result=<ExecutionResult object at 110ea6940, execution_...rue silent=False shell_futures=True> result=None>)\n   2958         outflag = True  # happens in more places, so it's easier as default\n   2959         try:\n   2960             try:\n   2961                 self.hooks.pre_run_code_hook()\n   2962                 #rprint('Running code', repr(code_obj)) # dbg\n-> 2963                 exec(code_obj, self.user_global_ns, self.user_ns)\n        code_obj = <code object <module> at 0x110f98c00, file \"<ipython-input-29-076a3172f401>\", line 33>\n        self.user_global_ns = {'DecisionTreeClassifier': <class 'sklearn.tree.tree.DecisionTreeClassifier'>, 'In': ['', \"# load package\\nimport pandas as pd\\nimport numpy ...port warnings; \\nwarnings.filterwarnings('ignore')\", \"# Data Prepararion\\n# read data\\ntrain=pd.read_csv...read_csv('gender_submission.csv',encoding='big5')\", '# append in ONE data\\ndata=train.append(test, ignore_index=True)', \"data['Family_Size']=data['Parch']+data['SibSp']\\n...sns.distplot,'Family_Size',kde=True)#kde是否要折線圖的參數\", \"#設法整理出「尊稱」這個因子\\ndata['Title1']=data['Name'].str.s...個的字串\\n# 秀出dintinct後的title1\\ndata['Title1'].unique()\", \"#合併成比較常出現的姓氏在Title2\\ndata['Title2']=''\\nfor idx, r...alse).agg({'PassengerId': pd.Series.nunique})\\ntt2\", \"# 票的前幾碼代號可能有意義，流水編沒有所以拿掉\\ndata['Ticket_info'] = d....isdigit() else 'X')\\ndata['Ticket_info'].unique()\", \"tt = data.groupby(by='Ticket_info', as_index=Fal...agg({'PassengerId': pd.Series.nunique})\\ntt.head()\", \"tt['PassengerId'].describe()\", \"#把count distinct的ticket_info低於第一四分位數的都改成None\\ntt[...cket_info_rev[tt.PassengerId<9]='None'\\ntt.head(4)\", \"#leftjoin Ticket_info_rev到大表\\ntt=tt.drop(['Passen..., on=['Ticket_info', 'Ticket_info'])\\ndata.head(4)\", \"# 抓船艙第一碼英文\\n# 送出kaggle成績沒有比較好，一堆空的也是合理\\ndata['Cabi...fo'].fillna('N')#空的補N\\ndata['Cabin_info'].unique()\", \"'''\\ndata['Cabin_info2']=data['Cabin_info']\\ndata....data.Cabin_info in ('N','C')]='mm'\\ndata.head()'''\", \"#整併人數太少的cabin\\n#把'F','G','T'變成'Merged'\\ndata['Cabi...'Merged',inplace=True)#inplace如果是false就是改爽的不會更動到值\", \"#\\nprint('Embarked原遺漏的人數：',data['Embarked'].isnul...遺漏值\\ndata['Embarked']=data['Embarked'].fillna('S')\", \"#\\nprint('Fare原遺漏的人數：',data['Fare'].isnull().sum(...['Fare']=data['Fare'].fillna(data['Fare'].mean())\", \"#\\nprint('Age原遺漏的人數：',data['Age'].isnull().sum())...a['Age']=data['Age'].fillna(data['Age'].median())\", \"#用(找是否有別名\\ndata['NickName_ind']= data['Name'].str...gg({'PassengerId': pd.Series.nunique})\\nqta.head()\", \"#用(找是否有別名\\ndata['NickName_ind']= data['Name'].str...gg({'PassengerId': pd.Series.nunique})\\nqta.head()\", ...], 'Out': {4: <seaborn.axisgrid.FacetGrid object>, 5: array(['Mr', 'Mrs', 'Miss', 'Master', 'Don', 'Re...ntess',\n       'Jonkheer', 'Dona'], dtype=object), 6:    Title2  PassengerId\n0  Master           61\n1 ...269\n2      Mr          782\n3     Mrs          197, 7: array(['A5', 'PC', 'STONO2', 'X', 'PP', 'CA', 'S...', 'AQ4',\n       'A', 'LP', 'AQ3'], dtype=object), 8:   Ticket_info  PassengerId\n0           A        ...      AQ3            1\n4         AQ4            1, 9: count     37.000000\nmean      35.378378\nstd     ...     957.000000\nName: PassengerId, dtype: float64, 10:   Ticket_info  PassengerId Ticket_info_rev\n0    ...    A5\n3         AQ3            1            None, 11:     Age Cabin Embarked     Fare  \\\n0  22.0   NaN...    None  \n3    Mrs           X               X  , 12: array(['N', 'C', 'E', 'G', 'D', 'A', 'B', 'F', 'T'], dtype=object), 13: \"\\ndata['Cabin_info2']=data['Cabin_info']\\ndata.Cab...o2[data.Cabin_info in ('N','C')]='mm'\\ndata.head()\", ...}, 'RandomForestClassifier': <class 'sklearn.ensemble.forest.RandomForestClassifier'>, 'Sex': 'male', 'Title1': 'Master', 'Title2': 'Master', 'X_test':        Age      Fare  Parch  Pclass  SibSp  Fami...       0             1  \n\n[268 rows x 35 columns], 'X_train':       Age      Fare  Parch  Pclass  SibSp  Famil...       0             1  \n\n[623 rows x 35 columns], '_':     importances                 features\n0      ...o_rev_A4\n34       0.0002      Ticket_info_rev_FCC, ...}\n        self.user_ns = {'DecisionTreeClassifier': <class 'sklearn.tree.tree.DecisionTreeClassifier'>, 'In': ['', \"# load package\\nimport pandas as pd\\nimport numpy ...port warnings; \\nwarnings.filterwarnings('ignore')\", \"# Data Prepararion\\n# read data\\ntrain=pd.read_csv...read_csv('gender_submission.csv',encoding='big5')\", '# append in ONE data\\ndata=train.append(test, ignore_index=True)', \"data['Family_Size']=data['Parch']+data['SibSp']\\n...sns.distplot,'Family_Size',kde=True)#kde是否要折線圖的參數\", \"#設法整理出「尊稱」這個因子\\ndata['Title1']=data['Name'].str.s...個的字串\\n# 秀出dintinct後的title1\\ndata['Title1'].unique()\", \"#合併成比較常出現的姓氏在Title2\\ndata['Title2']=''\\nfor idx, r...alse).agg({'PassengerId': pd.Series.nunique})\\ntt2\", \"# 票的前幾碼代號可能有意義，流水編沒有所以拿掉\\ndata['Ticket_info'] = d....isdigit() else 'X')\\ndata['Ticket_info'].unique()\", \"tt = data.groupby(by='Ticket_info', as_index=Fal...agg({'PassengerId': pd.Series.nunique})\\ntt.head()\", \"tt['PassengerId'].describe()\", \"#把count distinct的ticket_info低於第一四分位數的都改成None\\ntt[...cket_info_rev[tt.PassengerId<9]='None'\\ntt.head(4)\", \"#leftjoin Ticket_info_rev到大表\\ntt=tt.drop(['Passen..., on=['Ticket_info', 'Ticket_info'])\\ndata.head(4)\", \"# 抓船艙第一碼英文\\n# 送出kaggle成績沒有比較好，一堆空的也是合理\\ndata['Cabi...fo'].fillna('N')#空的補N\\ndata['Cabin_info'].unique()\", \"'''\\ndata['Cabin_info2']=data['Cabin_info']\\ndata....data.Cabin_info in ('N','C')]='mm'\\ndata.head()'''\", \"#整併人數太少的cabin\\n#把'F','G','T'變成'Merged'\\ndata['Cabi...'Merged',inplace=True)#inplace如果是false就是改爽的不會更動到值\", \"#\\nprint('Embarked原遺漏的人數：',data['Embarked'].isnul...遺漏值\\ndata['Embarked']=data['Embarked'].fillna('S')\", \"#\\nprint('Fare原遺漏的人數：',data['Fare'].isnull().sum(...['Fare']=data['Fare'].fillna(data['Fare'].mean())\", \"#\\nprint('Age原遺漏的人數：',data['Age'].isnull().sum())...a['Age']=data['Age'].fillna(data['Age'].median())\", \"#用(找是否有別名\\ndata['NickName_ind']= data['Name'].str...gg({'PassengerId': pd.Series.nunique})\\nqta.head()\", \"#用(找是否有別名\\ndata['NickName_ind']= data['Name'].str...gg({'PassengerId': pd.Series.nunique})\\nqta.head()\", ...], 'Out': {4: <seaborn.axisgrid.FacetGrid object>, 5: array(['Mr', 'Mrs', 'Miss', 'Master', 'Don', 'Re...ntess',\n       'Jonkheer', 'Dona'], dtype=object), 6:    Title2  PassengerId\n0  Master           61\n1 ...269\n2      Mr          782\n3     Mrs          197, 7: array(['A5', 'PC', 'STONO2', 'X', 'PP', 'CA', 'S...', 'AQ4',\n       'A', 'LP', 'AQ3'], dtype=object), 8:   Ticket_info  PassengerId\n0           A        ...      AQ3            1\n4         AQ4            1, 9: count     37.000000\nmean      35.378378\nstd     ...     957.000000\nName: PassengerId, dtype: float64, 10:   Ticket_info  PassengerId Ticket_info_rev\n0    ...    A5\n3         AQ3            1            None, 11:     Age Cabin Embarked     Fare  \\\n0  22.0   NaN...    None  \n3    Mrs           X               X  , 12: array(['N', 'C', 'E', 'G', 'D', 'A', 'B', 'F', 'T'], dtype=object), 13: \"\\ndata['Cabin_info2']=data['Cabin_info']\\ndata.Cab...o2[data.Cabin_info in ('N','C')]='mm'\\ndata.head()\", ...}, 'RandomForestClassifier': <class 'sklearn.ensemble.forest.RandomForestClassifier'>, 'Sex': 'male', 'Title1': 'Master', 'Title2': 'Master', 'X_test':        Age      Fare  Parch  Pclass  SibSp  Fami...       0             1  \n\n[268 rows x 35 columns], 'X_train':       Age      Fare  Parch  Pclass  SibSp  Famil...       0             1  \n\n[623 rows x 35 columns], '_':     importances                 features\n0      ...o_rev_A4\n34       0.0002      Ticket_info_rev_FCC, ...}\n   2964             finally:\n   2965                 # Reset our crash handler in place\n   2966                 sys.excepthook = old_excepthook\n   2967         except SystemExit as e:\n\n...........................................................................\n/Users/francislin/Desktop/Machine_Learning_Workshop/Titanic/<ipython-input-29-076a3172f401> in <module>()\n     28 \n     29 \n     30 import matplotlib.pyplot as plt\n     31 title = \"Learning Curves (Random Forest, n_estimators = 100)\"\n     32 cv = cross_validation.ShuffleSplit(dataTrain.drop('Survived',1).shape[0], n_iter=10,test_size=0.3, random_state=0)\n---> 33 plot_learning_curve(clf, title, X_train, y_train, (0.0, 1.01), cv=cv, n_jobs=4)\n     34 \n     35 plt.show()\n\n...........................................................................\n/Users/francislin/Desktop/Machine_Learning_Workshop/Titanic/<ipython-input-29-076a3172f401> in plot_learning_curve(estimator=RandomForestClassifier(bootstrap=True, class_wei...lse, random_state=0, verbose=0, warm_start=False), title='Learning Curves (Random Forest, n_estimators = 100)', X=      Age      Fare  Parch  Pclass  SibSp  Famil...       0             1  \n\n[623 rows x 35 columns], y=     Survived\n857       1.0\n52        1.0\n386   ...9       1.0\n684       0.0\n\n[623 rows x 1 columns], ylim=(0.0, 1.01), cv=ShuffleSplit(891, n_iter=10, test_size=0.3, random_state=0), n_jobs=4, train_sizes=array([0.1  , 0.325, 0.55 , 0.775, 1.   ]))\n      4     if ylim is not None:\n      5         plt.ylim(*ylim)\n      6     plt.xlabel(\"Training examples\")\n      7     plt.ylabel(\"Score\")\n      8     train_sizes, train_scores, test_scores = learning_curve(\n----> 9         estimator, X, y, cv=cv, n_jobs=n_jobs, train_sizes=train_sizes)\n     10     train_scores_mean = np.mean(train_scores, axis=1)\n     11     train_scores_std = np.std(train_scores, axis=1)\n     12     test_scores_mean = np.mean(test_scores, axis=1)\n     13     test_scores_std = np.std(test_scores, axis=1)\n\n...........................................................................\n/usr/local/lib/python3.6/site-packages/sklearn/model_selection/_validation.py in learning_curve(estimator=RandomForestClassifier(bootstrap=True, class_wei...lse, random_state=0, verbose=0, warm_start=False), X=      Age      Fare  Parch  Pclass  SibSp  Famil...       0             1  \n\n[623 rows x 35 columns], y=     Survived\n857       1.0\n52        1.0\n386   ...9       1.0\n684       0.0\n\n[623 rows x 1 columns], groups=None, train_sizes=array([0.1  , 0.325, 0.55 , 0.775, 1.   ]), cv=_CVIterableWrapper(cv=[(array([857,  52, ..., 55..., 794, 687]), array([811, 602, ..., 831, 163]))]), scoring=None, exploit_incremental_learning=False, n_jobs=4, pre_dispatch='all', verbose=0, shuffle=False, random_state=None)\n   1123                 train_test_proportions.append((train[:n_train_samples], test))\n   1124 \n   1125         out = parallel(delayed(_fit_and_score)(\n   1126             clone(estimator), X, y, scorer, train, test,\n   1127             verbose, parameters=None, fit_params=None, return_train_score=True)\n-> 1128             for train, test in train_test_proportions)\n        train = array([670, 419, 266, 220, 587, 627,  54, 125, 6...59,  20, 297,  25,  90, 243, 244, 711, 794, 687])\n        test = array([811, 602, 311, 615, 247, 450, 701, 250, 1...,\n       832, 174, 560, 100, 703, 761, 831, 163])\n        train_test_proportions = [(array([857,  52, 386, 124, 578, 549, 118,  12, 1...24, 109, 337, 443,  92, 364, 434, 465, 731, 876]), array([495, 648, 278,  31, 255, 298, 609, 318, 4...,\n        76,  48, 843, 263, 718, 620, 786,  64])), (array([857,  52, 386, 124, 578, 549, 118,  12, 1..., 224,\n        26, 772, 571, 417, 497, 628, 765]), array([495, 648, 278,  31, 255, 298, 609, 318, 4...,\n        76,  48, 843, 263, 718, 620, 786,  64])), (array([857,  52, 386, 124, 578, 549, 118,  12, 1..., 433,  83, 749, 692,\n       414, 869, 651, 649]), array([495, 648, 278,  31, 255, 298, 609, 318, 4...,\n        76,  48, 843, 263, 718, 620, 786,  64])), (array([857,  52, 386, 124, 578, 549, 118,  12, 1..., 275, 829, 182,  32,  80, 307,  11,\n        43]), array([495, 648, 278,  31, 255, 298, 609, 318, 4...,\n        76,  48, 843, 263, 718, 620, 786,  64])), (array([857,  52, 386, 124, 578, 549, 118,  12, 1...23,   9, 359, 707, 763, 835, 192, 629, 559, 684]), array([495, 648, 278,  31, 255, 298, 609, 318, 4...,\n        76,  48, 843, 263, 718, 620, 786,  64])), (array([410, 128, 764, 125, 776, 421, 253, 852, 7...48,  26, 177, 811, 621, 429, 150, 334,  93, 242]), array([710, 481, 726, 458, 229, 173, 168, 525, 1...,\n       384, 251,  46, 255, 190, 433, 380, 276])), (array([410, 128, 764, 125, 776, 421, 253, 852, 7..., 178,\n       108, 496, 642, 153, 759, 832,   1]), array([710, 481, 726, 458, 229, 173, 168, 525, 1...,\n       384, 251,  46, 255, 190, 433, 380, 276])), (array([410, 128, 764, 125, 776, 421, 253, 852, 7..., 781, 732, 548, 872,\n       494, 580, 788, 573]), array([710, 481, 726, 458, 229, 173, 168, 525, 1...,\n       384, 251,  46, 255, 190, 433, 380, 276])), (array([410, 128, 764, 125, 776, 421, 253, 852, 7..., 505,  83,  79, 287, 741,  64, 662,\n       415]), array([710, 481, 726, 458, 229, 173, 168, 525, 1...,\n       384, 251,  46, 255, 190, 433, 380, 276])), (array([410, 128, 764, 125, 776, 421, 253, 852, 7...76, 571, 629, 449, 612, 294, 261, 266, 264, 514]), array([710, 481, 726, 458, 229, 173, 168, 525, 1...,\n       384, 251,  46, 255, 190, 433, 380, 276])), (array([  3,  85, 298, 859, 888, 726, 526, 265, 5...54, 130, 838, 329, 781, 404, 457, 756, 635, 680]), array([599, 736, 738, 156, 673, 601, 481, 259, 3...,\n       889, 471, 347, 255, 588,  78, 234, 552])), (array([  3,  85, 298, 859, 888, 726, 526, 265, 5..., 179,\n       731,  82, 420, 695, 331, 839, 640]), array([599, 736, 738, 156, 673, 601, 481, 259, 3...,\n       889, 471, 347, 255, 588,  78, 234, 552])), (array([  3,  85, 298, 859, 888, 726, 526, 265, 5..., 206,  97,  75,  72,\n       126,  29, 642, 761]), array([599, 736, 738, 156, 673, 601, 481, 259, 3...,\n       889, 471, 347, 255, 588,  78, 234, 552])), (array([  3,  85, 298, 859, 888, 726, 526, 265, 5..., 249, 131, 845, 377, 173,  25, 339,\n       118]), array([599, 736, 738, 156, 673, 601, 481, 259, 3...,\n       889, 471, 347, 255, 588,  78, 234, 552])), (array([  3,  85, 298, 859, 888, 726, 526, 265, 5...24, 810,  34, 372, 799, 790, 431, 381, 811, 219]), array([599, 736, 738, 156, 673, 601, 481, 259, 3...,\n       889, 471, 347, 255, 588,  78, 234, 552])), (array([505, 794, 482, 325, 444, 655, 744, 549, 1...52, 822, 360, 603, 810, 572, 249, 732, 237, 642]), array([460, 814, 306,  18, 321, 194, 747, 847, 5...,\n       719, 436, 595, 729, 701, 342, 504, 112])), (array([505, 794, 482, 325, 444, 655, 744, 549, 1..., 307,\n       764, 159, 368, 302, 188,   3, 498]), array([460, 814, 306,  18, 321, 194, 747, 847, 5...,\n       719, 436, 595, 729, 701, 342, 504, 112])), (array([505, 794, 482, 325, 444, 655, 744, 549, 1..., 471, 740,  17,  75,\n       793, 115, 635, 561]), array([460, 814, 306,  18, 321, 194, 747, 847, 5...,\n       719, 436, 595, 729, 701, 342, 504, 112])), (array([505, 794, 482, 325, 444, 655, 744, 549, 1..., 531, 279, 671, 636, 645,  98, 879,\n       364]), array([460, 814, 306,  18, 321, 194, 747, 847, 5...,\n       719, 436, 595, 729, 701, 342, 504, 112])), (array([505, 794, 482, 325, 444, 655, 744, 549, 1...49, 313, 370, 632, 332, 459, 852,  12, 679, 503]), array([460, 814, 306,  18, 321, 194, 747, 847, 5...,\n       719, 436, 595, 729, 701, 342, 504, 112])), ...]\n   1129         out = np.array(out)\n   1130         n_cv_folds = out.shape[0] // n_unique_ticks\n   1131         out = out.reshape(n_cv_folds, n_unique_ticks, 2)\n   1132 \n\n...........................................................................\n/usr/local/lib/python3.6/site-packages/sklearn/externals/joblib/parallel.py in __call__(self=Parallel(n_jobs=4), iterable=<generator object learning_curve.<locals>.<genexpr>>)\n    784             if pre_dispatch == \"all\" or n_jobs == 1:\n    785                 # The iterable was consumed all at once by the above for loop.\n    786                 # No need to wait for async callbacks to trigger to\n    787                 # consumption.\n    788                 self._iterating = False\n--> 789             self.retrieve()\n        self.retrieve = <bound method Parallel.retrieve of Parallel(n_jobs=4)>\n    790             # Make sure that we get a last message telling us we are done\n    791             elapsed_time = time.time() - self._start_time\n    792             self._print('Done %3i out of %3i | elapsed: %s finished',\n    793                         (len(self._output), len(self._output),\n\n---------------------------------------------------------------------------\nSub-process traceback:\n---------------------------------------------------------------------------\nIndexError                                         Tue Aug  7 13:46:58 2018\nPID: 43320                Python 3.6.5: /usr/local/opt/python/bin/python3.6\n...........................................................................\n/usr/local/lib/python3.6/site-packages/sklearn/externals/joblib/parallel.py in __call__(self=<sklearn.externals.joblib.parallel.BatchedCalls object>)\n    126     def __init__(self, iterator_slice):\n    127         self.items = list(iterator_slice)\n    128         self._size = len(self.items)\n    129 \n    130     def __call__(self):\n--> 131         return [func(*args, **kwargs) for func, args, kwargs in self.items]\n        self.items = [(<function _fit_and_score>, (RandomForestClassifier(bootstrap=True, class_wei...lse, random_state=0, verbose=0, warm_start=False),       Age      Fare  Parch  Pclass  SibSp  Famil...       0             1  \n\n[623 rows x 35 columns],      Survived\n857       1.0\n52        1.0\n386   ...9       1.0\n684       0.0\n\n[623 rows x 1 columns], <function _passthrough_scorer>, array([857,  52, 386, 124, 578, 549, 118,  12, 1...24, 109, 337, 443,  92, 364, 434, 465, 731, 876]), array([495, 648, 278,  31, 255, 298, 609, 318, 4...,\n        76,  48, 843, 263, 718, 620, 786,  64]), 0), {'fit_params': None, 'parameters': None, 'return_train_score': True})]\n    132 \n    133     def __len__(self):\n    134         return self._size\n    135 \n\n...........................................................................\n/usr/local/lib/python3.6/site-packages/sklearn/externals/joblib/parallel.py in <listcomp>(.0=<list_iterator object>)\n    126     def __init__(self, iterator_slice):\n    127         self.items = list(iterator_slice)\n    128         self._size = len(self.items)\n    129 \n    130     def __call__(self):\n--> 131         return [func(*args, **kwargs) for func, args, kwargs in self.items]\n        func = <function _fit_and_score>\n        args = (RandomForestClassifier(bootstrap=True, class_wei...lse, random_state=0, verbose=0, warm_start=False),       Age      Fare  Parch  Pclass  SibSp  Famil...       0             1  \n\n[623 rows x 35 columns],      Survived\n857       1.0\n52        1.0\n386   ...9       1.0\n684       0.0\n\n[623 rows x 1 columns], <function _passthrough_scorer>, array([857,  52, 386, 124, 578, 549, 118,  12, 1...24, 109, 337, 443,  92, 364, 434, 465, 731, 876]), array([495, 648, 278,  31, 255, 298, 609, 318, 4...,\n        76,  48, 843, 263, 718, 620, 786,  64]), 0)\n        kwargs = {'fit_params': None, 'parameters': None, 'return_train_score': True}\n    132 \n    133     def __len__(self):\n    134         return self._size\n    135 \n\n...........................................................................\n/usr/local/lib/python3.6/site-packages/sklearn/model_selection/_validation.py in _fit_and_score(estimator=RandomForestClassifier(bootstrap=True, class_wei...lse, random_state=0, verbose=0, warm_start=False), X=      Age      Fare  Parch  Pclass  SibSp  Famil...       0             1  \n\n[623 rows x 35 columns], y=     Survived\n857       1.0\n52        1.0\n386   ...9       1.0\n684       0.0\n\n[623 rows x 1 columns], scorer=<function _passthrough_scorer>, train=array([857,  52, 386, 124, 578, 549, 118,  12, 1...24, 109, 337, 443,  92, 364, 434, 465, 731, 876]), test=array([495, 648, 278,  31, 255, 298, 609, 318, 4...,\n        76,  48, 843, 263, 718, 620, 786,  64]), verbose=0, parameters=None, fit_params={}, return_train_score=True, return_parameters=False, return_n_test_samples=False, return_times=False, error_score='raise')\n    443     if parameters is not None:\n    444         estimator.set_params(**parameters)\n    445 \n    446     start_time = time.time()\n    447 \n--> 448     X_train, y_train = _safe_split(estimator, X, y, train)\n        X_train = undefined\n        y_train = undefined\n        estimator = RandomForestClassifier(bootstrap=True, class_wei...lse, random_state=0, verbose=0, warm_start=False)\n        X =       Age      Fare  Parch  Pclass  SibSp  Famil...       0             1  \n\n[623 rows x 35 columns]\n        y =      Survived\n857       1.0\n52        1.0\n386   ...9       1.0\n684       0.0\n\n[623 rows x 1 columns]\n        train = array([857,  52, 386, 124, 578, 549, 118,  12, 1...24, 109, 337, 443,  92, 364, 434, 465, 731, 876])\n    449     X_test, y_test = _safe_split(estimator, X, y, test, train)\n    450 \n    451     is_multimetric = not callable(scorer)\n    452     n_scorers = len(scorer.keys()) if is_multimetric else 1\n\n...........................................................................\n/usr/local/lib/python3.6/site-packages/sklearn/utils/metaestimators.py in _safe_split(estimator=RandomForestClassifier(bootstrap=True, class_wei...lse, random_state=0, verbose=0, warm_start=False), X=      Age      Fare  Parch  Pclass  SibSp  Famil...       0             1  \n\n[623 rows x 35 columns], y=     Survived\n857       1.0\n52        1.0\n386   ...9       1.0\n684       0.0\n\n[623 rows x 1 columns], indices=array([857,  52, 386, 124, 578, 549, 118,  12, 1...24, 109, 337, 443,  92, 364, 434, 465, 731, 876]), train_indices=None)\n    195         if train_indices is None:\n    196             X_subset = X[np.ix_(indices, indices)]\n    197         else:\n    198             X_subset = X[np.ix_(indices, train_indices)]\n    199     else:\n--> 200         X_subset = safe_indexing(X, indices)\n        X_subset = undefined\n        X =       Age      Fare  Parch  Pclass  SibSp  Famil...       0             1  \n\n[623 rows x 35 columns]\n        indices = array([857,  52, 386, 124, 578, 549, 118,  12, 1...24, 109, 337, 443,  92, 364, 434, 465, 731, 876])\n    201 \n    202     if y is not None:\n    203         y_subset = safe_indexing(y, indices)\n    204     else:\n\n...........................................................................\n/usr/local/lib/python3.6/site-packages/sklearn/utils/__init__.py in safe_indexing(X=      Age      Fare  Parch  Pclass  SibSp  Famil...       0             1  \n\n[623 rows x 35 columns], indices=array([857,  52, 386, 124, 578, 549, 118,  12, 1...24, 109, 337, 443,  92, 364, 434, 465, 731, 876]))\n    144     if hasattr(X, \"iloc\"):\n    145         # Work-around for indexing with read-only indices in pandas\n    146         indices = indices if indices.flags.writeable else indices.copy()\n    147         # Pandas Dataframes and Series\n    148         try:\n--> 149             return X.iloc[indices]\n        X.iloc = <pandas.core.indexing._iLocIndexer object>\n        indices = array([857,  52, 386, 124, 578, 549, 118,  12, 1...24, 109, 337, 443,  92, 364, 434, 465, 731, 876])\n    150         except ValueError:\n    151             # Cython typed memoryviews internally used in pandas do not support\n    152             # readonly buffers.\n    153             warnings.warn(\"Copying input dataframe for slicing.\",\n\n...........................................................................\n/usr/local/lib/python3.6/site-packages/pandas/core/indexing.py in __getitem__(self=<pandas.core.indexing._iLocIndexer object>, key=array([857,  52, 386, 124, 578, 549, 118,  12, 1...24, 109, 337, 443,  92, 364, 434, 465, 731, 876]))\n   1473         else:\n   1474             # we by definition only have the 0th axis\n   1475             axis = self.axis or 0\n   1476 \n   1477             maybe_callable = com._apply_if_callable(key, self.obj)\n-> 1478             return self._getitem_axis(maybe_callable, axis=axis)\n        self._getitem_axis = <bound method _iLocIndexer._getitem_axis of <pandas.core.indexing._iLocIndexer object>>\n        maybe_callable = array([857,  52, 386, 124, 578, 549, 118,  12, 1...24, 109, 337, 443,  92, 364, 434, 465, 731, 876])\n        axis = 0\n   1479 \n   1480     def _is_scalar_access(self, key):\n   1481         raise NotImplementedError()\n   1482 \n\n...........................................................................\n/usr/local/lib/python3.6/site-packages/pandas/core/indexing.py in _getitem_axis(self=<pandas.core.indexing._iLocIndexer object>, key=array([857,  52, 386, 124, 578, 549, 118,  12, 1...24, 109, 337, 443,  92, 364, 434, 465, 731, 876]), axis=0)\n   2086             self._validate_key(key, axis)\n   2087             return self._getbool_axis(key, axis=axis)\n   2088 \n   2089         # a list of integers\n   2090         elif is_list_like_indexer(key):\n-> 2091             return self._get_list_axis(key, axis=axis)\n        self._get_list_axis = <bound method _iLocIndexer._get_list_axis of <pandas.core.indexing._iLocIndexer object>>\n        key = array([857,  52, 386, 124, 578, 549, 118,  12, 1...24, 109, 337, 443,  92, 364, 434, 465, 731, 876])\n        axis = 0\n   2092 \n   2093         # a single integer\n   2094         else:\n   2095             key = self._convert_scalar_indexer(key, axis)\n\n...........................................................................\n/usr/local/lib/python3.6/site-packages/pandas/core/indexing.py in _get_list_axis(self=<pandas.core.indexing._iLocIndexer object>, key=array([857,  52, 386, 124, 578, 549, 118,  12, 1...24, 109, 337, 443,  92, 364, 434, 465, 731, 876]), axis=0)\n   2068             axis = self.axis or 0\n   2069         try:\n   2070             return self.obj._take(key, axis=axis)\n   2071         except IndexError:\n   2072             # re-raise with different error message\n-> 2073             raise IndexError(\"positional indexers are out-of-bounds\")\n   2074 \n   2075     def _getitem_axis(self, key, axis=None):\n   2076         if axis is None:\n   2077             axis = self.axis or 0\n\nIndexError: positional indexers are out-of-bounds\n___________________________________________________________________________",
     "output_type": "error",
     "traceback": [
      "\u001b[0;31m---------------------------------------------------------------------------\u001b[0m",
      "\u001b[0;31mRemoteTraceback\u001b[0m                           Traceback (most recent call last)",
      "\u001b[0;31mRemoteTraceback\u001b[0m: \n\"\"\"\nTraceback (most recent call last):\n  File \"/usr/local/lib/python3.6/site-packages/pandas/core/indexing.py\", line 2070, in _get_list_axis\n    return self.obj._take(key, axis=axis)\n  File \"/usr/local/lib/python3.6/site-packages/pandas/core/generic.py\", line 2786, in _take\n    verify=True)\n  File \"/usr/local/lib/python3.6/site-packages/pandas/core/internals.py\", line 4530, in take\n    indexer = maybe_convert_indices(indexer, n)\n  File \"/usr/local/lib/python3.6/site-packages/pandas/core/indexing.py\", line 2480, in maybe_convert_indices\n    raise IndexError(\"indices are out-of-bounds\")\nIndexError: indices are out-of-bounds\n\nDuring handling of the above exception, another exception occurred:\n\nTraceback (most recent call last):\n  File \"/usr/local/lib/python3.6/site-packages/sklearn/externals/joblib/_parallel_backends.py\", line 350, in __call__\n    return self.func(*args, **kwargs)\n  File \"/usr/local/lib/python3.6/site-packages/sklearn/externals/joblib/parallel.py\", line 131, in __call__\n    return [func(*args, **kwargs) for func, args, kwargs in self.items]\n  File \"/usr/local/lib/python3.6/site-packages/sklearn/externals/joblib/parallel.py\", line 131, in <listcomp>\n    return [func(*args, **kwargs) for func, args, kwargs in self.items]\n  File \"/usr/local/lib/python3.6/site-packages/sklearn/model_selection/_validation.py\", line 448, in _fit_and_score\n    X_train, y_train = _safe_split(estimator, X, y, train)\n  File \"/usr/local/lib/python3.6/site-packages/sklearn/utils/metaestimators.py\", line 200, in _safe_split\n    X_subset = safe_indexing(X, indices)\n  File \"/usr/local/lib/python3.6/site-packages/sklearn/utils/__init__.py\", line 149, in safe_indexing\n    return X.iloc[indices]\n  File \"/usr/local/lib/python3.6/site-packages/pandas/core/indexing.py\", line 1478, in __getitem__\n    return self._getitem_axis(maybe_callable, axis=axis)\n  File \"/usr/local/lib/python3.6/site-packages/pandas/core/indexing.py\", line 2091, in _getitem_axis\n    return self._get_list_axis(key, axis=axis)\n  File \"/usr/local/lib/python3.6/site-packages/pandas/core/indexing.py\", line 2073, in _get_list_axis\n    raise IndexError(\"positional indexers are out-of-bounds\")\nIndexError: positional indexers are out-of-bounds\n\nDuring handling of the above exception, another exception occurred:\n\nTraceback (most recent call last):\n  File \"/usr/local/Cellar/python/3.6.5_1/Frameworks/Python.framework/Versions/3.6/lib/python3.6/multiprocessing/pool.py\", line 119, in worker\n    result = (True, func(*args, **kwds))\n  File \"/usr/local/lib/python3.6/site-packages/sklearn/externals/joblib/_parallel_backends.py\", line 359, in __call__\n    raise TransportableException(text, e_type)\nsklearn.externals.joblib.my_exceptions.TransportableException: TransportableException\n___________________________________________________________________________\nIndexError                                         Tue Aug  7 13:46:58 2018\nPID: 43320                Python 3.6.5: /usr/local/opt/python/bin/python3.6\n...........................................................................\n/usr/local/lib/python3.6/site-packages/sklearn/externals/joblib/parallel.py in __call__(self=<sklearn.externals.joblib.parallel.BatchedCalls object>)\n    126     def __init__(self, iterator_slice):\n    127         self.items = list(iterator_slice)\n    128         self._size = len(self.items)\n    129 \n    130     def __call__(self):\n--> 131         return [func(*args, **kwargs) for func, args, kwargs in self.items]\n        self.items = [(<function _fit_and_score>, (RandomForestClassifier(bootstrap=True, class_wei...lse, random_state=0, verbose=0, warm_start=False),       Age      Fare  Parch  Pclass  SibSp  Famil...       0             1  \n\n[623 rows x 35 columns],      Survived\n857       1.0\n52        1.0\n386   ...9       1.0\n684       0.0\n\n[623 rows x 1 columns], <function _passthrough_scorer>, array([857,  52, 386, 124, 578, 549, 118,  12, 1...24, 109, 337, 443,  92, 364, 434, 465, 731, 876]), array([495, 648, 278,  31, 255, 298, 609, 318, 4...,\n        76,  48, 843, 263, 718, 620, 786,  64]), 0), {'fit_params': None, 'parameters': None, 'return_train_score': True})]\n    132 \n    133     def __len__(self):\n    134         return self._size\n    135 \n\n...........................................................................\n/usr/local/lib/python3.6/site-packages/sklearn/externals/joblib/parallel.py in <listcomp>(.0=<list_iterator object>)\n    126     def __init__(self, iterator_slice):\n    127         self.items = list(iterator_slice)\n    128         self._size = len(self.items)\n    129 \n    130     def __call__(self):\n--> 131         return [func(*args, **kwargs) for func, args, kwargs in self.items]\n        func = <function _fit_and_score>\n        args = (RandomForestClassifier(bootstrap=True, class_wei...lse, random_state=0, verbose=0, warm_start=False),       Age      Fare  Parch  Pclass  SibSp  Famil...       0             1  \n\n[623 rows x 35 columns],      Survived\n857       1.0\n52        1.0\n386   ...9       1.0\n684       0.0\n\n[623 rows x 1 columns], <function _passthrough_scorer>, array([857,  52, 386, 124, 578, 549, 118,  12, 1...24, 109, 337, 443,  92, 364, 434, 465, 731, 876]), array([495, 648, 278,  31, 255, 298, 609, 318, 4...,\n        76,  48, 843, 263, 718, 620, 786,  64]), 0)\n        kwargs = {'fit_params': None, 'parameters': None, 'return_train_score': True}\n    132 \n    133     def __len__(self):\n    134         return self._size\n    135 \n\n...........................................................................\n/usr/local/lib/python3.6/site-packages/sklearn/model_selection/_validation.py in _fit_and_score(estimator=RandomForestClassifier(bootstrap=True, class_wei...lse, random_state=0, verbose=0, warm_start=False), X=      Age      Fare  Parch  Pclass  SibSp  Famil...       0             1  \n\n[623 rows x 35 columns], y=     Survived\n857       1.0\n52        1.0\n386   ...9       1.0\n684       0.0\n\n[623 rows x 1 columns], scorer=<function _passthrough_scorer>, train=array([857,  52, 386, 124, 578, 549, 118,  12, 1...24, 109, 337, 443,  92, 364, 434, 465, 731, 876]), test=array([495, 648, 278,  31, 255, 298, 609, 318, 4...,\n        76,  48, 843, 263, 718, 620, 786,  64]), verbose=0, parameters=None, fit_params={}, return_train_score=True, return_parameters=False, return_n_test_samples=False, return_times=False, error_score='raise')\n    443     if parameters is not None:\n    444         estimator.set_params(**parameters)\n    445 \n    446     start_time = time.time()\n    447 \n--> 448     X_train, y_train = _safe_split(estimator, X, y, train)\n        X_train = undefined\n        y_train = undefined\n        estimator = RandomForestClassifier(bootstrap=True, class_wei...lse, random_state=0, verbose=0, warm_start=False)\n        X =       Age      Fare  Parch  Pclass  SibSp  Famil...       0             1  \n\n[623 rows x 35 columns]\n        y =      Survived\n857       1.0\n52        1.0\n386   ...9       1.0\n684       0.0\n\n[623 rows x 1 columns]\n        train = array([857,  52, 386, 124, 578, 549, 118,  12, 1...24, 109, 337, 443,  92, 364, 434, 465, 731, 876])\n    449     X_test, y_test = _safe_split(estimator, X, y, test, train)\n    450 \n    451     is_multimetric = not callable(scorer)\n    452     n_scorers = len(scorer.keys()) if is_multimetric else 1\n\n...........................................................................\n/usr/local/lib/python3.6/site-packages/sklearn/utils/metaestimators.py in _safe_split(estimator=RandomForestClassifier(bootstrap=True, class_wei...lse, random_state=0, verbose=0, warm_start=False), X=      Age      Fare  Parch  Pclass  SibSp  Famil...       0             1  \n\n[623 rows x 35 columns], y=     Survived\n857       1.0\n52        1.0\n386   ...9       1.0\n684       0.0\n\n[623 rows x 1 columns], indices=array([857,  52, 386, 124, 578, 549, 118,  12, 1...24, 109, 337, 443,  92, 364, 434, 465, 731, 876]), train_indices=None)\n    195         if train_indices is None:\n    196             X_subset = X[np.ix_(indices, indices)]\n    197         else:\n    198             X_subset = X[np.ix_(indices, train_indices)]\n    199     else:\n--> 200         X_subset = safe_indexing(X, indices)\n        X_subset = undefined\n        X =       Age      Fare  Parch  Pclass  SibSp  Famil...       0             1  \n\n[623 rows x 35 columns]\n        indices = array([857,  52, 386, 124, 578, 549, 118,  12, 1...24, 109, 337, 443,  92, 364, 434, 465, 731, 876])\n    201 \n    202     if y is not None:\n    203         y_subset = safe_indexing(y, indices)\n    204     else:\n\n...........................................................................\n/usr/local/lib/python3.6/site-packages/sklearn/utils/__init__.py in safe_indexing(X=      Age      Fare  Parch  Pclass  SibSp  Famil...       0             1  \n\n[623 rows x 35 columns], indices=array([857,  52, 386, 124, 578, 549, 118,  12, 1...24, 109, 337, 443,  92, 364, 434, 465, 731, 876]))\n    144     if hasattr(X, \"iloc\"):\n    145         # Work-around for indexing with read-only indices in pandas\n    146         indices = indices if indices.flags.writeable else indices.copy()\n    147         # Pandas Dataframes and Series\n    148         try:\n--> 149             return X.iloc[indices]\n        X.iloc = <pandas.core.indexing._iLocIndexer object>\n        indices = array([857,  52, 386, 124, 578, 549, 118,  12, 1...24, 109, 337, 443,  92, 364, 434, 465, 731, 876])\n    150         except ValueError:\n    151             # Cython typed memoryviews internally used in pandas do not support\n    152             # readonly buffers.\n    153             warnings.warn(\"Copying input dataframe for slicing.\",\n\n...........................................................................\n/usr/local/lib/python3.6/site-packages/pandas/core/indexing.py in __getitem__(self=<pandas.core.indexing._iLocIndexer object>, key=array([857,  52, 386, 124, 578, 549, 118,  12, 1...24, 109, 337, 443,  92, 364, 434, 465, 731, 876]))\n   1473         else:\n   1474             # we by definition only have the 0th axis\n   1475             axis = self.axis or 0\n   1476 \n   1477             maybe_callable = com._apply_if_callable(key, self.obj)\n-> 1478             return self._getitem_axis(maybe_callable, axis=axis)\n        self._getitem_axis = <bound method _iLocIndexer._getitem_axis of <pandas.core.indexing._iLocIndexer object>>\n        maybe_callable = array([857,  52, 386, 124, 578, 549, 118,  12, 1...24, 109, 337, 443,  92, 364, 434, 465, 731, 876])\n        axis = 0\n   1479 \n   1480     def _is_scalar_access(self, key):\n   1481         raise NotImplementedError()\n   1482 \n\n...........................................................................\n/usr/local/lib/python3.6/site-packages/pandas/core/indexing.py in _getitem_axis(self=<pandas.core.indexing._iLocIndexer object>, key=array([857,  52, 386, 124, 578, 549, 118,  12, 1...24, 109, 337, 443,  92, 364, 434, 465, 731, 876]), axis=0)\n   2086             self._validate_key(key, axis)\n   2087             return self._getbool_axis(key, axis=axis)\n   2088 \n   2089         # a list of integers\n   2090         elif is_list_like_indexer(key):\n-> 2091             return self._get_list_axis(key, axis=axis)\n        self._get_list_axis = <bound method _iLocIndexer._get_list_axis of <pandas.core.indexing._iLocIndexer object>>\n        key = array([857,  52, 386, 124, 578, 549, 118,  12, 1...24, 109, 337, 443,  92, 364, 434, 465, 731, 876])\n        axis = 0\n   2092 \n   2093         # a single integer\n   2094         else:\n   2095             key = self._convert_scalar_indexer(key, axis)\n\n...........................................................................\n/usr/local/lib/python3.6/site-packages/pandas/core/indexing.py in _get_list_axis(self=<pandas.core.indexing._iLocIndexer object>, key=array([857,  52, 386, 124, 578, 549, 118,  12, 1...24, 109, 337, 443,  92, 364, 434, 465, 731, 876]), axis=0)\n   2068             axis = self.axis or 0\n   2069         try:\n   2070             return self.obj._take(key, axis=axis)\n   2071         except IndexError:\n   2072             # re-raise with different error message\n-> 2073             raise IndexError(\"positional indexers are out-of-bounds\")\n   2074 \n   2075     def _getitem_axis(self, key, axis=None):\n   2076         if axis is None:\n   2077             axis = self.axis or 0\n\nIndexError: positional indexers are out-of-bounds\n___________________________________________________________________________\n\"\"\"",
      "\nThe above exception was the direct cause of the following exception:\n",
      "\u001b[0;31mTransportableException\u001b[0m                    Traceback (most recent call last)",
      "\u001b[0;32m/usr/local/lib/python3.6/site-packages/sklearn/externals/joblib/parallel.py\u001b[0m in \u001b[0;36mretrieve\u001b[0;34m(self)\u001b[0m\n\u001b[1;32m    698\u001b[0m                 \u001b[0;32mif\u001b[0m \u001b[0mgetattr\u001b[0m\u001b[0;34m(\u001b[0m\u001b[0mself\u001b[0m\u001b[0;34m.\u001b[0m\u001b[0m_backend\u001b[0m\u001b[0;34m,\u001b[0m \u001b[0;34m'supports_timeout'\u001b[0m\u001b[0;34m,\u001b[0m \u001b[0;32mFalse\u001b[0m\u001b[0;34m)\u001b[0m\u001b[0;34m:\u001b[0m\u001b[0;34m\u001b[0m\u001b[0m\n\u001b[0;32m--> 699\u001b[0;31m                     \u001b[0mself\u001b[0m\u001b[0;34m.\u001b[0m\u001b[0m_output\u001b[0m\u001b[0;34m.\u001b[0m\u001b[0mextend\u001b[0m\u001b[0;34m(\u001b[0m\u001b[0mjob\u001b[0m\u001b[0;34m.\u001b[0m\u001b[0mget\u001b[0m\u001b[0;34m(\u001b[0m\u001b[0mtimeout\u001b[0m\u001b[0;34m=\u001b[0m\u001b[0mself\u001b[0m\u001b[0;34m.\u001b[0m\u001b[0mtimeout\u001b[0m\u001b[0;34m)\u001b[0m\u001b[0;34m)\u001b[0m\u001b[0;34m\u001b[0m\u001b[0m\n\u001b[0m\u001b[1;32m    700\u001b[0m                 \u001b[0;32melse\u001b[0m\u001b[0;34m:\u001b[0m\u001b[0;34m\u001b[0m\u001b[0m\n",
      "\u001b[0;32m/usr/local/Cellar/python/3.6.5_1/Frameworks/Python.framework/Versions/3.6/lib/python3.6/multiprocessing/pool.py\u001b[0m in \u001b[0;36mget\u001b[0;34m(self, timeout)\u001b[0m\n\u001b[1;32m    643\u001b[0m         \u001b[0;32melse\u001b[0m\u001b[0;34m:\u001b[0m\u001b[0;34m\u001b[0m\u001b[0m\n\u001b[0;32m--> 644\u001b[0;31m             \u001b[0;32mraise\u001b[0m \u001b[0mself\u001b[0m\u001b[0;34m.\u001b[0m\u001b[0m_value\u001b[0m\u001b[0;34m\u001b[0m\u001b[0m\n\u001b[0m\u001b[1;32m    645\u001b[0m \u001b[0;34m\u001b[0m\u001b[0m\n",
      "\u001b[0;31mTransportableException\u001b[0m: TransportableException\n___________________________________________________________________________\nIndexError                                         Tue Aug  7 13:46:58 2018\nPID: 43320                Python 3.6.5: /usr/local/opt/python/bin/python3.6\n...........................................................................\n/usr/local/lib/python3.6/site-packages/sklearn/externals/joblib/parallel.py in __call__(self=<sklearn.externals.joblib.parallel.BatchedCalls object>)\n    126     def __init__(self, iterator_slice):\n    127         self.items = list(iterator_slice)\n    128         self._size = len(self.items)\n    129 \n    130     def __call__(self):\n--> 131         return [func(*args, **kwargs) for func, args, kwargs in self.items]\n        self.items = [(<function _fit_and_score>, (RandomForestClassifier(bootstrap=True, class_wei...lse, random_state=0, verbose=0, warm_start=False),       Age      Fare  Parch  Pclass  SibSp  Famil...       0             1  \n\n[623 rows x 35 columns],      Survived\n857       1.0\n52        1.0\n386   ...9       1.0\n684       0.0\n\n[623 rows x 1 columns], <function _passthrough_scorer>, array([857,  52, 386, 124, 578, 549, 118,  12, 1...24, 109, 337, 443,  92, 364, 434, 465, 731, 876]), array([495, 648, 278,  31, 255, 298, 609, 318, 4...,\n        76,  48, 843, 263, 718, 620, 786,  64]), 0), {'fit_params': None, 'parameters': None, 'return_train_score': True})]\n    132 \n    133     def __len__(self):\n    134         return self._size\n    135 \n\n...........................................................................\n/usr/local/lib/python3.6/site-packages/sklearn/externals/joblib/parallel.py in <listcomp>(.0=<list_iterator object>)\n    126     def __init__(self, iterator_slice):\n    127         self.items = list(iterator_slice)\n    128         self._size = len(self.items)\n    129 \n    130     def __call__(self):\n--> 131         return [func(*args, **kwargs) for func, args, kwargs in self.items]\n        func = <function _fit_and_score>\n        args = (RandomForestClassifier(bootstrap=True, class_wei...lse, random_state=0, verbose=0, warm_start=False),       Age      Fare  Parch  Pclass  SibSp  Famil...       0             1  \n\n[623 rows x 35 columns],      Survived\n857       1.0\n52        1.0\n386   ...9       1.0\n684       0.0\n\n[623 rows x 1 columns], <function _passthrough_scorer>, array([857,  52, 386, 124, 578, 549, 118,  12, 1...24, 109, 337, 443,  92, 364, 434, 465, 731, 876]), array([495, 648, 278,  31, 255, 298, 609, 318, 4...,\n        76,  48, 843, 263, 718, 620, 786,  64]), 0)\n        kwargs = {'fit_params': None, 'parameters': None, 'return_train_score': True}\n    132 \n    133     def __len__(self):\n    134         return self._size\n    135 \n\n...........................................................................\n/usr/local/lib/python3.6/site-packages/sklearn/model_selection/_validation.py in _fit_and_score(estimator=RandomForestClassifier(bootstrap=True, class_wei...lse, random_state=0, verbose=0, warm_start=False), X=      Age      Fare  Parch  Pclass  SibSp  Famil...       0             1  \n\n[623 rows x 35 columns], y=     Survived\n857       1.0\n52        1.0\n386   ...9       1.0\n684       0.0\n\n[623 rows x 1 columns], scorer=<function _passthrough_scorer>, train=array([857,  52, 386, 124, 578, 549, 118,  12, 1...24, 109, 337, 443,  92, 364, 434, 465, 731, 876]), test=array([495, 648, 278,  31, 255, 298, 609, 318, 4...,\n        76,  48, 843, 263, 718, 620, 786,  64]), verbose=0, parameters=None, fit_params={}, return_train_score=True, return_parameters=False, return_n_test_samples=False, return_times=False, error_score='raise')\n    443     if parameters is not None:\n    444         estimator.set_params(**parameters)\n    445 \n    446     start_time = time.time()\n    447 \n--> 448     X_train, y_train = _safe_split(estimator, X, y, train)\n        X_train = undefined\n        y_train = undefined\n        estimator = RandomForestClassifier(bootstrap=True, class_wei...lse, random_state=0, verbose=0, warm_start=False)\n        X =       Age      Fare  Parch  Pclass  SibSp  Famil...       0             1  \n\n[623 rows x 35 columns]\n        y =      Survived\n857       1.0\n52        1.0\n386   ...9       1.0\n684       0.0\n\n[623 rows x 1 columns]\n        train = array([857,  52, 386, 124, 578, 549, 118,  12, 1...24, 109, 337, 443,  92, 364, 434, 465, 731, 876])\n    449     X_test, y_test = _safe_split(estimator, X, y, test, train)\n    450 \n    451     is_multimetric = not callable(scorer)\n    452     n_scorers = len(scorer.keys()) if is_multimetric else 1\n\n...........................................................................\n/usr/local/lib/python3.6/site-packages/sklearn/utils/metaestimators.py in _safe_split(estimator=RandomForestClassifier(bootstrap=True, class_wei...lse, random_state=0, verbose=0, warm_start=False), X=      Age      Fare  Parch  Pclass  SibSp  Famil...       0             1  \n\n[623 rows x 35 columns], y=     Survived\n857       1.0\n52        1.0\n386   ...9       1.0\n684       0.0\n\n[623 rows x 1 columns], indices=array([857,  52, 386, 124, 578, 549, 118,  12, 1...24, 109, 337, 443,  92, 364, 434, 465, 731, 876]), train_indices=None)\n    195         if train_indices is None:\n    196             X_subset = X[np.ix_(indices, indices)]\n    197         else:\n    198             X_subset = X[np.ix_(indices, train_indices)]\n    199     else:\n--> 200         X_subset = safe_indexing(X, indices)\n        X_subset = undefined\n        X =       Age      Fare  Parch  Pclass  SibSp  Famil...       0             1  \n\n[623 rows x 35 columns]\n        indices = array([857,  52, 386, 124, 578, 549, 118,  12, 1...24, 109, 337, 443,  92, 364, 434, 465, 731, 876])\n    201 \n    202     if y is not None:\n    203         y_subset = safe_indexing(y, indices)\n    204     else:\n\n...........................................................................\n/usr/local/lib/python3.6/site-packages/sklearn/utils/__init__.py in safe_indexing(X=      Age      Fare  Parch  Pclass  SibSp  Famil...       0             1  \n\n[623 rows x 35 columns], indices=array([857,  52, 386, 124, 578, 549, 118,  12, 1...24, 109, 337, 443,  92, 364, 434, 465, 731, 876]))\n    144     if hasattr(X, \"iloc\"):\n    145         # Work-around for indexing with read-only indices in pandas\n    146         indices = indices if indices.flags.writeable else indices.copy()\n    147         # Pandas Dataframes and Series\n    148         try:\n--> 149             return X.iloc[indices]\n        X.iloc = <pandas.core.indexing._iLocIndexer object>\n        indices = array([857,  52, 386, 124, 578, 549, 118,  12, 1...24, 109, 337, 443,  92, 364, 434, 465, 731, 876])\n    150         except ValueError:\n    151             # Cython typed memoryviews internally used in pandas do not support\n    152             # readonly buffers.\n    153             warnings.warn(\"Copying input dataframe for slicing.\",\n\n...........................................................................\n/usr/local/lib/python3.6/site-packages/pandas/core/indexing.py in __getitem__(self=<pandas.core.indexing._iLocIndexer object>, key=array([857,  52, 386, 124, 578, 549, 118,  12, 1...24, 109, 337, 443,  92, 364, 434, 465, 731, 876]))\n   1473         else:\n   1474             # we by definition only have the 0th axis\n   1475             axis = self.axis or 0\n   1476 \n   1477             maybe_callable = com._apply_if_callable(key, self.obj)\n-> 1478             return self._getitem_axis(maybe_callable, axis=axis)\n        self._getitem_axis = <bound method _iLocIndexer._getitem_axis of <pandas.core.indexing._iLocIndexer object>>\n        maybe_callable = array([857,  52, 386, 124, 578, 549, 118,  12, 1...24, 109, 337, 443,  92, 364, 434, 465, 731, 876])\n        axis = 0\n   1479 \n   1480     def _is_scalar_access(self, key):\n   1481         raise NotImplementedError()\n   1482 \n\n...........................................................................\n/usr/local/lib/python3.6/site-packages/pandas/core/indexing.py in _getitem_axis(self=<pandas.core.indexing._iLocIndexer object>, key=array([857,  52, 386, 124, 578, 549, 118,  12, 1...24, 109, 337, 443,  92, 364, 434, 465, 731, 876]), axis=0)\n   2086             self._validate_key(key, axis)\n   2087             return self._getbool_axis(key, axis=axis)\n   2088 \n   2089         # a list of integers\n   2090         elif is_list_like_indexer(key):\n-> 2091             return self._get_list_axis(key, axis=axis)\n        self._get_list_axis = <bound method _iLocIndexer._get_list_axis of <pandas.core.indexing._iLocIndexer object>>\n        key = array([857,  52, 386, 124, 578, 549, 118,  12, 1...24, 109, 337, 443,  92, 364, 434, 465, 731, 876])\n        axis = 0\n   2092 \n   2093         # a single integer\n   2094         else:\n   2095             key = self._convert_scalar_indexer(key, axis)\n\n...........................................................................\n/usr/local/lib/python3.6/site-packages/pandas/core/indexing.py in _get_list_axis(self=<pandas.core.indexing._iLocIndexer object>, key=array([857,  52, 386, 124, 578, 549, 118,  12, 1...24, 109, 337, 443,  92, 364, 434, 465, 731, 876]), axis=0)\n   2068             axis = self.axis or 0\n   2069         try:\n   2070             return self.obj._take(key, axis=axis)\n   2071         except IndexError:\n   2072             # re-raise with different error message\n-> 2073             raise IndexError(\"positional indexers are out-of-bounds\")\n   2074 \n   2075     def _getitem_axis(self, key, axis=None):\n   2076         if axis is None:\n   2077             axis = self.axis or 0\n\nIndexError: positional indexers are out-of-bounds\n___________________________________________________________________________",
      "\nDuring handling of the above exception, another exception occurred:\n",
      "\u001b[0;31mJoblibIndexError\u001b[0m                          Traceback (most recent call last)",
      "\u001b[0;32m<ipython-input-29-076a3172f401>\u001b[0m in \u001b[0;36m<module>\u001b[0;34m()\u001b[0m\n\u001b[1;32m     31\u001b[0m \u001b[0mtitle\u001b[0m \u001b[0;34m=\u001b[0m \u001b[0;34m\"Learning Curves (Random Forest, n_estimators = 100)\"\u001b[0m\u001b[0;34m\u001b[0m\u001b[0m\n\u001b[1;32m     32\u001b[0m \u001b[0mcv\u001b[0m \u001b[0;34m=\u001b[0m \u001b[0mcross_validation\u001b[0m\u001b[0;34m.\u001b[0m\u001b[0mShuffleSplit\u001b[0m\u001b[0;34m(\u001b[0m\u001b[0mdataTrain\u001b[0m\u001b[0;34m.\u001b[0m\u001b[0mdrop\u001b[0m\u001b[0;34m(\u001b[0m\u001b[0;34m'Survived'\u001b[0m\u001b[0;34m,\u001b[0m\u001b[0;36m1\u001b[0m\u001b[0;34m)\u001b[0m\u001b[0;34m.\u001b[0m\u001b[0mshape\u001b[0m\u001b[0;34m[\u001b[0m\u001b[0;36m0\u001b[0m\u001b[0;34m]\u001b[0m\u001b[0;34m,\u001b[0m \u001b[0mn_iter\u001b[0m\u001b[0;34m=\u001b[0m\u001b[0;36m10\u001b[0m\u001b[0;34m,\u001b[0m\u001b[0mtest_size\u001b[0m\u001b[0;34m=\u001b[0m\u001b[0;36m0.3\u001b[0m\u001b[0;34m,\u001b[0m \u001b[0mrandom_state\u001b[0m\u001b[0;34m=\u001b[0m\u001b[0;36m0\u001b[0m\u001b[0;34m)\u001b[0m\u001b[0;34m\u001b[0m\u001b[0m\n\u001b[0;32m---> 33\u001b[0;31m \u001b[0mplot_learning_curve\u001b[0m\u001b[0;34m(\u001b[0m\u001b[0mclf\u001b[0m\u001b[0;34m,\u001b[0m \u001b[0mtitle\u001b[0m\u001b[0;34m,\u001b[0m \u001b[0mX_train\u001b[0m\u001b[0;34m,\u001b[0m \u001b[0my_train\u001b[0m\u001b[0;34m,\u001b[0m \u001b[0;34m(\u001b[0m\u001b[0;36m0.0\u001b[0m\u001b[0;34m,\u001b[0m \u001b[0;36m1.01\u001b[0m\u001b[0;34m)\u001b[0m\u001b[0;34m,\u001b[0m \u001b[0mcv\u001b[0m\u001b[0;34m=\u001b[0m\u001b[0mcv\u001b[0m\u001b[0;34m,\u001b[0m \u001b[0mn_jobs\u001b[0m\u001b[0;34m=\u001b[0m\u001b[0;36m4\u001b[0m\u001b[0;34m)\u001b[0m\u001b[0;34m\u001b[0m\u001b[0m\n\u001b[0m\u001b[1;32m     34\u001b[0m \u001b[0;34m\u001b[0m\u001b[0m\n\u001b[1;32m     35\u001b[0m \u001b[0mplt\u001b[0m\u001b[0;34m.\u001b[0m\u001b[0mshow\u001b[0m\u001b[0;34m(\u001b[0m\u001b[0;34m)\u001b[0m\u001b[0;34m\u001b[0m\u001b[0m\n",
      "\u001b[0;32m<ipython-input-29-076a3172f401>\u001b[0m in \u001b[0;36mplot_learning_curve\u001b[0;34m(estimator, title, X, y, ylim, cv, n_jobs, train_sizes)\u001b[0m\n\u001b[1;32m      7\u001b[0m     \u001b[0mplt\u001b[0m\u001b[0;34m.\u001b[0m\u001b[0mylabel\u001b[0m\u001b[0;34m(\u001b[0m\u001b[0;34m\"Score\"\u001b[0m\u001b[0;34m)\u001b[0m\u001b[0;34m\u001b[0m\u001b[0m\n\u001b[1;32m      8\u001b[0m     train_sizes, train_scores, test_scores = learning_curve(\n\u001b[0;32m----> 9\u001b[0;31m         estimator, X, y, cv=cv, n_jobs=n_jobs, train_sizes=train_sizes)\n\u001b[0m\u001b[1;32m     10\u001b[0m     \u001b[0mtrain_scores_mean\u001b[0m \u001b[0;34m=\u001b[0m \u001b[0mnp\u001b[0m\u001b[0;34m.\u001b[0m\u001b[0mmean\u001b[0m\u001b[0;34m(\u001b[0m\u001b[0mtrain_scores\u001b[0m\u001b[0;34m,\u001b[0m \u001b[0maxis\u001b[0m\u001b[0;34m=\u001b[0m\u001b[0;36m1\u001b[0m\u001b[0;34m)\u001b[0m\u001b[0;34m\u001b[0m\u001b[0m\n\u001b[1;32m     11\u001b[0m     \u001b[0mtrain_scores_std\u001b[0m \u001b[0;34m=\u001b[0m \u001b[0mnp\u001b[0m\u001b[0;34m.\u001b[0m\u001b[0mstd\u001b[0m\u001b[0;34m(\u001b[0m\u001b[0mtrain_scores\u001b[0m\u001b[0;34m,\u001b[0m \u001b[0maxis\u001b[0m\u001b[0;34m=\u001b[0m\u001b[0;36m1\u001b[0m\u001b[0;34m)\u001b[0m\u001b[0;34m\u001b[0m\u001b[0m\n",
      "\u001b[0;32m/usr/local/lib/python3.6/site-packages/sklearn/model_selection/_validation.py\u001b[0m in \u001b[0;36mlearning_curve\u001b[0;34m(estimator, X, y, groups, train_sizes, cv, scoring, exploit_incremental_learning, n_jobs, pre_dispatch, verbose, shuffle, random_state)\u001b[0m\n\u001b[1;32m   1126\u001b[0m             \u001b[0mclone\u001b[0m\u001b[0;34m(\u001b[0m\u001b[0mestimator\u001b[0m\u001b[0;34m)\u001b[0m\u001b[0;34m,\u001b[0m \u001b[0mX\u001b[0m\u001b[0;34m,\u001b[0m \u001b[0my\u001b[0m\u001b[0;34m,\u001b[0m \u001b[0mscorer\u001b[0m\u001b[0;34m,\u001b[0m \u001b[0mtrain\u001b[0m\u001b[0;34m,\u001b[0m \u001b[0mtest\u001b[0m\u001b[0;34m,\u001b[0m\u001b[0;34m\u001b[0m\u001b[0m\n\u001b[1;32m   1127\u001b[0m             verbose, parameters=None, fit_params=None, return_train_score=True)\n\u001b[0;32m-> 1128\u001b[0;31m             for train, test in train_test_proportions)\n\u001b[0m\u001b[1;32m   1129\u001b[0m         \u001b[0mout\u001b[0m \u001b[0;34m=\u001b[0m \u001b[0mnp\u001b[0m\u001b[0;34m.\u001b[0m\u001b[0marray\u001b[0m\u001b[0;34m(\u001b[0m\u001b[0mout\u001b[0m\u001b[0;34m)\u001b[0m\u001b[0;34m\u001b[0m\u001b[0m\n\u001b[1;32m   1130\u001b[0m         \u001b[0mn_cv_folds\u001b[0m \u001b[0;34m=\u001b[0m \u001b[0mout\u001b[0m\u001b[0;34m.\u001b[0m\u001b[0mshape\u001b[0m\u001b[0;34m[\u001b[0m\u001b[0;36m0\u001b[0m\u001b[0;34m]\u001b[0m \u001b[0;34m//\u001b[0m \u001b[0mn_unique_ticks\u001b[0m\u001b[0;34m\u001b[0m\u001b[0m\n",
      "\u001b[0;32m/usr/local/lib/python3.6/site-packages/sklearn/externals/joblib/parallel.py\u001b[0m in \u001b[0;36m__call__\u001b[0;34m(self, iterable)\u001b[0m\n\u001b[1;32m    787\u001b[0m                 \u001b[0;31m# consumption.\u001b[0m\u001b[0;34m\u001b[0m\u001b[0;34m\u001b[0m\u001b[0m\n\u001b[1;32m    788\u001b[0m                 \u001b[0mself\u001b[0m\u001b[0;34m.\u001b[0m\u001b[0m_iterating\u001b[0m \u001b[0;34m=\u001b[0m \u001b[0;32mFalse\u001b[0m\u001b[0;34m\u001b[0m\u001b[0m\n\u001b[0;32m--> 789\u001b[0;31m             \u001b[0mself\u001b[0m\u001b[0;34m.\u001b[0m\u001b[0mretrieve\u001b[0m\u001b[0;34m(\u001b[0m\u001b[0;34m)\u001b[0m\u001b[0;34m\u001b[0m\u001b[0m\n\u001b[0m\u001b[1;32m    790\u001b[0m             \u001b[0;31m# Make sure that we get a last message telling us we are done\u001b[0m\u001b[0;34m\u001b[0m\u001b[0;34m\u001b[0m\u001b[0m\n\u001b[1;32m    791\u001b[0m             \u001b[0melapsed_time\u001b[0m \u001b[0;34m=\u001b[0m \u001b[0mtime\u001b[0m\u001b[0;34m.\u001b[0m\u001b[0mtime\u001b[0m\u001b[0;34m(\u001b[0m\u001b[0;34m)\u001b[0m \u001b[0;34m-\u001b[0m \u001b[0mself\u001b[0m\u001b[0;34m.\u001b[0m\u001b[0m_start_time\u001b[0m\u001b[0;34m\u001b[0m\u001b[0m\n",
      "\u001b[0;32m/usr/local/lib/python3.6/site-packages/sklearn/externals/joblib/parallel.py\u001b[0m in \u001b[0;36mretrieve\u001b[0;34m(self)\u001b[0m\n\u001b[1;32m    738\u001b[0m                     \u001b[0mexception\u001b[0m \u001b[0;34m=\u001b[0m \u001b[0mexception_type\u001b[0m\u001b[0;34m(\u001b[0m\u001b[0mreport\u001b[0m\u001b[0;34m)\u001b[0m\u001b[0;34m\u001b[0m\u001b[0m\n\u001b[1;32m    739\u001b[0m \u001b[0;34m\u001b[0m\u001b[0m\n\u001b[0;32m--> 740\u001b[0;31m                     \u001b[0;32mraise\u001b[0m \u001b[0mexception\u001b[0m\u001b[0;34m\u001b[0m\u001b[0m\n\u001b[0m\u001b[1;32m    741\u001b[0m \u001b[0;34m\u001b[0m\u001b[0m\n\u001b[1;32m    742\u001b[0m     \u001b[0;32mdef\u001b[0m \u001b[0m__call__\u001b[0m\u001b[0;34m(\u001b[0m\u001b[0mself\u001b[0m\u001b[0;34m,\u001b[0m \u001b[0miterable\u001b[0m\u001b[0;34m)\u001b[0m\u001b[0;34m:\u001b[0m\u001b[0;34m\u001b[0m\u001b[0m\n",
      "\u001b[0;31mJoblibIndexError\u001b[0m: JoblibIndexError\n___________________________________________________________________________\nMultiprocessing exception:\n...........................................................................\n/usr/local/Cellar/python/3.6.5_1/Frameworks/Python.framework/Versions/3.6/lib/python3.6/runpy.py in _run_module_as_main(mod_name='ipykernel_launcher', alter_argv=1)\n    188         sys.exit(msg)\n    189     main_globals = sys.modules[\"__main__\"].__dict__\n    190     if alter_argv:\n    191         sys.argv[0] = mod_spec.origin\n    192     return _run_code(code, main_globals, None,\n--> 193                      \"__main__\", mod_spec)\n        mod_spec = ModuleSpec(name='ipykernel_launcher', loader=<_f...b/python3.6/site-packages/ipykernel_launcher.py')\n    194 \n    195 def run_module(mod_name, init_globals=None,\n    196                run_name=None, alter_sys=False):\n    197     \"\"\"Execute a module's code without importing it\n\n...........................................................................\n/usr/local/Cellar/python/3.6.5_1/Frameworks/Python.framework/Versions/3.6/lib/python3.6/runpy.py in _run_code(code=<code object <module> at 0x10907fa50, file \"/usr...3.6/site-packages/ipykernel_launcher.py\", line 5>, run_globals={'__annotations__': {}, '__builtins__': <module 'builtins' (built-in)>, '__cached__': '/usr/local/lib/python3.6/site-packages/__pycache__/ipykernel_launcher.cpython-36.pyc', '__doc__': 'Entry point for launching an IPython kernel.\\n\\nTh...orts until\\nafter removing the cwd from sys.path.\\n', '__file__': '/usr/local/lib/python3.6/site-packages/ipykernel_launcher.py', '__loader__': <_frozen_importlib_external.SourceFileLoader object>, '__name__': '__main__', '__package__': '', '__spec__': ModuleSpec(name='ipykernel_launcher', loader=<_f...b/python3.6/site-packages/ipykernel_launcher.py'), 'app': <module 'ipykernel.kernelapp' from '/usr/local/lib/python3.6/site-packages/ipykernel/kernelapp.py'>, ...}, init_globals=None, mod_name='__main__', mod_spec=ModuleSpec(name='ipykernel_launcher', loader=<_f...b/python3.6/site-packages/ipykernel_launcher.py'), pkg_name='', script_name=None)\n     80                        __cached__ = cached,\n     81                        __doc__ = None,\n     82                        __loader__ = loader,\n     83                        __package__ = pkg_name,\n     84                        __spec__ = mod_spec)\n---> 85     exec(code, run_globals)\n        code = <code object <module> at 0x10907fa50, file \"/usr...3.6/site-packages/ipykernel_launcher.py\", line 5>\n        run_globals = {'__annotations__': {}, '__builtins__': <module 'builtins' (built-in)>, '__cached__': '/usr/local/lib/python3.6/site-packages/__pycache__/ipykernel_launcher.cpython-36.pyc', '__doc__': 'Entry point for launching an IPython kernel.\\n\\nTh...orts until\\nafter removing the cwd from sys.path.\\n', '__file__': '/usr/local/lib/python3.6/site-packages/ipykernel_launcher.py', '__loader__': <_frozen_importlib_external.SourceFileLoader object>, '__name__': '__main__', '__package__': '', '__spec__': ModuleSpec(name='ipykernel_launcher', loader=<_f...b/python3.6/site-packages/ipykernel_launcher.py'), 'app': <module 'ipykernel.kernelapp' from '/usr/local/lib/python3.6/site-packages/ipykernel/kernelapp.py'>, ...}\n     86     return run_globals\n     87 \n     88 def _run_module_code(code, init_globals=None,\n     89                     mod_name=None, mod_spec=None,\n\n...........................................................................\n/usr/local/lib/python3.6/site-packages/ipykernel_launcher.py in <module>()\n     11     # This is added back by InteractiveShellApp.init_path()\n     12     if sys.path[0] == '':\n     13         del sys.path[0]\n     14 \n     15     from ipykernel import kernelapp as app\n---> 16     app.launch_new_instance()\n\n...........................................................................\n/usr/local/lib/python3.6/site-packages/traitlets/config/application.py in launch_instance(cls=<class 'ipykernel.kernelapp.IPKernelApp'>, argv=None, **kwargs={})\n    653 \n    654         If a global instance already exists, this reinitializes and starts it\n    655         \"\"\"\n    656         app = cls.instance(**kwargs)\n    657         app.initialize(argv)\n--> 658         app.start()\n        app.start = <bound method IPKernelApp.start of <ipykernel.kernelapp.IPKernelApp object>>\n    659 \n    660 #-----------------------------------------------------------------------------\n    661 # utility functions, for convenience\n    662 #-----------------------------------------------------------------------------\n\n...........................................................................\n/usr/local/lib/python3.6/site-packages/ipykernel/kernelapp.py in start(self=<ipykernel.kernelapp.IPKernelApp object>)\n    481         if self.poller is not None:\n    482             self.poller.start()\n    483         self.kernel.start()\n    484         self.io_loop = ioloop.IOLoop.current()\n    485         try:\n--> 486             self.io_loop.start()\n        self.io_loop.start = <bound method BaseAsyncIOLoop.start of <tornado.platform.asyncio.AsyncIOMainLoop object>>\n    487         except KeyboardInterrupt:\n    488             pass\n    489 \n    490 launch_new_instance = IPKernelApp.launch_instance\n\n...........................................................................\n/usr/local/lib/python3.6/site-packages/tornado/platform/asyncio.py in start(self=<tornado.platform.asyncio.AsyncIOMainLoop object>)\n    122         except (RuntimeError, AssertionError):\n    123             old_loop = None\n    124         try:\n    125             self._setup_logging()\n    126             asyncio.set_event_loop(self.asyncio_loop)\n--> 127             self.asyncio_loop.run_forever()\n        self.asyncio_loop.run_forever = <bound method BaseEventLoop.run_forever of <_Uni...EventLoop running=True closed=False debug=False>>\n    128         finally:\n    129             asyncio.set_event_loop(old_loop)\n    130 \n    131     def stop(self):\n\n...........................................................................\n/usr/local/Cellar/python/3.6.5_1/Frameworks/Python.framework/Versions/3.6/lib/python3.6/asyncio/base_events.py in run_forever(self=<_UnixSelectorEventLoop running=True closed=False debug=False>)\n    417             sys.set_asyncgen_hooks(firstiter=self._asyncgen_firstiter_hook,\n    418                                    finalizer=self._asyncgen_finalizer_hook)\n    419         try:\n    420             events._set_running_loop(self)\n    421             while True:\n--> 422                 self._run_once()\n        self._run_once = <bound method BaseEventLoop._run_once of <_UnixS...EventLoop running=True closed=False debug=False>>\n    423                 if self._stopping:\n    424                     break\n    425         finally:\n    426             self._stopping = False\n\n...........................................................................\n/usr/local/Cellar/python/3.6.5_1/Frameworks/Python.framework/Versions/3.6/lib/python3.6/asyncio/base_events.py in _run_once(self=<_UnixSelectorEventLoop running=True closed=False debug=False>)\n   1427                         logger.warning('Executing %s took %.3f seconds',\n   1428                                        _format_handle(handle), dt)\n   1429                 finally:\n   1430                     self._current_handle = None\n   1431             else:\n-> 1432                 handle._run()\n        handle._run = <bound method Handle._run of <Handle BaseAsyncIOLoop._handle_events(13, 1)>>\n   1433         handle = None  # Needed to break cycles when an exception occurs.\n   1434 \n   1435     def _set_coroutine_wrapper(self, enabled):\n   1436         try:\n\n...........................................................................\n/usr/local/Cellar/python/3.6.5_1/Frameworks/Python.framework/Versions/3.6/lib/python3.6/asyncio/events.py in _run(self=<Handle BaseAsyncIOLoop._handle_events(13, 1)>)\n    140             self._callback = None\n    141             self._args = None\n    142 \n    143     def _run(self):\n    144         try:\n--> 145             self._callback(*self._args)\n        self._callback = <bound method BaseAsyncIOLoop._handle_events of <tornado.platform.asyncio.AsyncIOMainLoop object>>\n        self._args = (13, 1)\n    146         except Exception as exc:\n    147             cb = _format_callback_source(self._callback, self._args)\n    148             msg = 'Exception in callback {}'.format(cb)\n    149             context = {\n\n...........................................................................\n/usr/local/lib/python3.6/site-packages/tornado/platform/asyncio.py in _handle_events(self=<tornado.platform.asyncio.AsyncIOMainLoop object>, fd=13, events=1)\n    112             self.writers.remove(fd)\n    113         del self.handlers[fd]\n    114 \n    115     def _handle_events(self, fd, events):\n    116         fileobj, handler_func = self.handlers[fd]\n--> 117         handler_func(fileobj, events)\n        handler_func = <function wrap.<locals>.null_wrapper>\n        fileobj = <zmq.sugar.socket.Socket object>\n        events = 1\n    118 \n    119     def start(self):\n    120         try:\n    121             old_loop = asyncio.get_event_loop()\n\n...........................................................................\n/usr/local/lib/python3.6/site-packages/tornado/stack_context.py in null_wrapper(*args=(<zmq.sugar.socket.Socket object>, 1), **kwargs={})\n    271         # Fast path when there are no active contexts.\n    272         def null_wrapper(*args, **kwargs):\n    273             try:\n    274                 current_state = _state.contexts\n    275                 _state.contexts = cap_contexts[0]\n--> 276                 return fn(*args, **kwargs)\n        args = (<zmq.sugar.socket.Socket object>, 1)\n        kwargs = {}\n    277             finally:\n    278                 _state.contexts = current_state\n    279         null_wrapper._wrapped = True\n    280         return null_wrapper\n\n...........................................................................\n/usr/local/lib/python3.6/site-packages/zmq/eventloop/zmqstream.py in _handle_events(self=<zmq.eventloop.zmqstream.ZMQStream object>, fd=<zmq.sugar.socket.Socket object>, events=1)\n    445             return\n    446         zmq_events = self.socket.EVENTS\n    447         try:\n    448             # dispatch events:\n    449             if zmq_events & zmq.POLLIN and self.receiving():\n--> 450                 self._handle_recv()\n        self._handle_recv = <bound method ZMQStream._handle_recv of <zmq.eventloop.zmqstream.ZMQStream object>>\n    451                 if not self.socket:\n    452                     return\n    453             if zmq_events & zmq.POLLOUT and self.sending():\n    454                 self._handle_send()\n\n...........................................................................\n/usr/local/lib/python3.6/site-packages/zmq/eventloop/zmqstream.py in _handle_recv(self=<zmq.eventloop.zmqstream.ZMQStream object>)\n    475             else:\n    476                 raise\n    477         else:\n    478             if self._recv_callback:\n    479                 callback = self._recv_callback\n--> 480                 self._run_callback(callback, msg)\n        self._run_callback = <bound method ZMQStream._run_callback of <zmq.eventloop.zmqstream.ZMQStream object>>\n        callback = <function wrap.<locals>.null_wrapper>\n        msg = [<zmq.sugar.frame.Frame object>, <zmq.sugar.frame.Frame object>, <zmq.sugar.frame.Frame object>, <zmq.sugar.frame.Frame object>, <zmq.sugar.frame.Frame object>, <zmq.sugar.frame.Frame object>, <zmq.sugar.frame.Frame object>]\n    481         \n    482 \n    483     def _handle_send(self):\n    484         \"\"\"Handle a send event.\"\"\"\n\n...........................................................................\n/usr/local/lib/python3.6/site-packages/zmq/eventloop/zmqstream.py in _run_callback(self=<zmq.eventloop.zmqstream.ZMQStream object>, callback=<function wrap.<locals>.null_wrapper>, *args=([<zmq.sugar.frame.Frame object>, <zmq.sugar.frame.Frame object>, <zmq.sugar.frame.Frame object>, <zmq.sugar.frame.Frame object>, <zmq.sugar.frame.Frame object>, <zmq.sugar.frame.Frame object>, <zmq.sugar.frame.Frame object>],), **kwargs={})\n    427         close our socket.\"\"\"\n    428         try:\n    429             # Use a NullContext to ensure that all StackContexts are run\n    430             # inside our blanket exception handler rather than outside.\n    431             with stack_context.NullContext():\n--> 432                 callback(*args, **kwargs)\n        callback = <function wrap.<locals>.null_wrapper>\n        args = ([<zmq.sugar.frame.Frame object>, <zmq.sugar.frame.Frame object>, <zmq.sugar.frame.Frame object>, <zmq.sugar.frame.Frame object>, <zmq.sugar.frame.Frame object>, <zmq.sugar.frame.Frame object>, <zmq.sugar.frame.Frame object>],)\n        kwargs = {}\n    433         except:\n    434             gen_log.error(\"Uncaught exception in ZMQStream callback\",\n    435                           exc_info=True)\n    436             # Re-raise the exception so that IOLoop.handle_callback_exception\n\n...........................................................................\n/usr/local/lib/python3.6/site-packages/tornado/stack_context.py in null_wrapper(*args=([<zmq.sugar.frame.Frame object>, <zmq.sugar.frame.Frame object>, <zmq.sugar.frame.Frame object>, <zmq.sugar.frame.Frame object>, <zmq.sugar.frame.Frame object>, <zmq.sugar.frame.Frame object>, <zmq.sugar.frame.Frame object>],), **kwargs={})\n    271         # Fast path when there are no active contexts.\n    272         def null_wrapper(*args, **kwargs):\n    273             try:\n    274                 current_state = _state.contexts\n    275                 _state.contexts = cap_contexts[0]\n--> 276                 return fn(*args, **kwargs)\n        args = ([<zmq.sugar.frame.Frame object>, <zmq.sugar.frame.Frame object>, <zmq.sugar.frame.Frame object>, <zmq.sugar.frame.Frame object>, <zmq.sugar.frame.Frame object>, <zmq.sugar.frame.Frame object>, <zmq.sugar.frame.Frame object>],)\n        kwargs = {}\n    277             finally:\n    278                 _state.contexts = current_state\n    279         null_wrapper._wrapped = True\n    280         return null_wrapper\n\n...........................................................................\n/usr/local/lib/python3.6/site-packages/ipykernel/kernelbase.py in dispatcher(msg=[<zmq.sugar.frame.Frame object>, <zmq.sugar.frame.Frame object>, <zmq.sugar.frame.Frame object>, <zmq.sugar.frame.Frame object>, <zmq.sugar.frame.Frame object>, <zmq.sugar.frame.Frame object>, <zmq.sugar.frame.Frame object>])\n    278         if self.control_stream:\n    279             self.control_stream.on_recv(self.dispatch_control, copy=False)\n    280 \n    281         def make_dispatcher(stream):\n    282             def dispatcher(msg):\n--> 283                 return self.dispatch_shell(stream, msg)\n        msg = [<zmq.sugar.frame.Frame object>, <zmq.sugar.frame.Frame object>, <zmq.sugar.frame.Frame object>, <zmq.sugar.frame.Frame object>, <zmq.sugar.frame.Frame object>, <zmq.sugar.frame.Frame object>, <zmq.sugar.frame.Frame object>]\n    284             return dispatcher\n    285 \n    286         for s in self.shell_streams:\n    287             s.on_recv(make_dispatcher(s), copy=False)\n\n...........................................................................\n/usr/local/lib/python3.6/site-packages/ipykernel/kernelbase.py in dispatch_shell(self=<ipykernel.ipkernel.IPythonKernel object>, stream=<zmq.eventloop.zmqstream.ZMQStream object>, msg={'buffers': [], 'content': {'allow_stdin': True, 'code': 'def plot_learning_curve(estimator, title, X, y, ..._train, (0.0, 1.01), cv=cv, n_jobs=4)\\n\\nplt.show()', 'silent': False, 'stop_on_error': True, 'store_history': True, 'user_expressions': {}}, 'header': {'date': datetime.datetime(2018, 8, 7, 5, 46, 58, 810982, tzinfo=tzutc()), 'msg_id': '602c77151c7e418a97c1cf63ba88fe72', 'msg_type': 'execute_request', 'session': 'fc17164977e146a1b325df83595865c4', 'username': 'username', 'version': '5.2'}, 'metadata': {}, 'msg_id': '602c77151c7e418a97c1cf63ba88fe72', 'msg_type': 'execute_request', 'parent_header': {}})\n    228             self.log.warn(\"Unknown message type: %r\", msg_type)\n    229         else:\n    230             self.log.debug(\"%s: %s\", msg_type, msg)\n    231             self.pre_handler_hook()\n    232             try:\n--> 233                 handler(stream, idents, msg)\n        handler = <bound method Kernel.execute_request of <ipykernel.ipkernel.IPythonKernel object>>\n        stream = <zmq.eventloop.zmqstream.ZMQStream object>\n        idents = [b'fc17164977e146a1b325df83595865c4']\n        msg = {'buffers': [], 'content': {'allow_stdin': True, 'code': 'def plot_learning_curve(estimator, title, X, y, ..._train, (0.0, 1.01), cv=cv, n_jobs=4)\\n\\nplt.show()', 'silent': False, 'stop_on_error': True, 'store_history': True, 'user_expressions': {}}, 'header': {'date': datetime.datetime(2018, 8, 7, 5, 46, 58, 810982, tzinfo=tzutc()), 'msg_id': '602c77151c7e418a97c1cf63ba88fe72', 'msg_type': 'execute_request', 'session': 'fc17164977e146a1b325df83595865c4', 'username': 'username', 'version': '5.2'}, 'metadata': {}, 'msg_id': '602c77151c7e418a97c1cf63ba88fe72', 'msg_type': 'execute_request', 'parent_header': {}}\n    234             except Exception:\n    235                 self.log.error(\"Exception in message handler:\", exc_info=True)\n    236             finally:\n    237                 self.post_handler_hook()\n\n...........................................................................\n/usr/local/lib/python3.6/site-packages/ipykernel/kernelbase.py in execute_request(self=<ipykernel.ipkernel.IPythonKernel object>, stream=<zmq.eventloop.zmqstream.ZMQStream object>, ident=[b'fc17164977e146a1b325df83595865c4'], parent={'buffers': [], 'content': {'allow_stdin': True, 'code': 'def plot_learning_curve(estimator, title, X, y, ..._train, (0.0, 1.01), cv=cv, n_jobs=4)\\n\\nplt.show()', 'silent': False, 'stop_on_error': True, 'store_history': True, 'user_expressions': {}}, 'header': {'date': datetime.datetime(2018, 8, 7, 5, 46, 58, 810982, tzinfo=tzutc()), 'msg_id': '602c77151c7e418a97c1cf63ba88fe72', 'msg_type': 'execute_request', 'session': 'fc17164977e146a1b325df83595865c4', 'username': 'username', 'version': '5.2'}, 'metadata': {}, 'msg_id': '602c77151c7e418a97c1cf63ba88fe72', 'msg_type': 'execute_request', 'parent_header': {}})\n    394         if not silent:\n    395             self.execution_count += 1\n    396             self._publish_execute_input(code, parent, self.execution_count)\n    397 \n    398         reply_content = self.do_execute(code, silent, store_history,\n--> 399                                         user_expressions, allow_stdin)\n        user_expressions = {}\n        allow_stdin = True\n    400 \n    401         # Flush output before sending the reply.\n    402         sys.stdout.flush()\n    403         sys.stderr.flush()\n\n...........................................................................\n/usr/local/lib/python3.6/site-packages/ipykernel/ipkernel.py in do_execute(self=<ipykernel.ipkernel.IPythonKernel object>, code='def plot_learning_curve(estimator, title, X, y, ..._train, (0.0, 1.01), cv=cv, n_jobs=4)\\n\\nplt.show()', silent=False, store_history=True, user_expressions={}, allow_stdin=True)\n    203 \n    204         self._forward_input(allow_stdin)\n    205 \n    206         reply_content = {}\n    207         try:\n--> 208             res = shell.run_cell(code, store_history=store_history, silent=silent)\n        res = undefined\n        shell.run_cell = <bound method ZMQInteractiveShell.run_cell of <ipykernel.zmqshell.ZMQInteractiveShell object>>\n        code = 'def plot_learning_curve(estimator, title, X, y, ..._train, (0.0, 1.01), cv=cv, n_jobs=4)\\n\\nplt.show()'\n        store_history = True\n        silent = False\n    209         finally:\n    210             self._restore_input()\n    211 \n    212         if res.error_before_exec is not None:\n\n...........................................................................\n/usr/local/lib/python3.6/site-packages/ipykernel/zmqshell.py in run_cell(self=<ipykernel.zmqshell.ZMQInteractiveShell object>, *args=('def plot_learning_curve(estimator, title, X, y, ..._train, (0.0, 1.01), cv=cv, n_jobs=4)\\n\\nplt.show()',), **kwargs={'silent': False, 'store_history': True})\n    532             )\n    533         self.payload_manager.write_payload(payload)\n    534 \n    535     def run_cell(self, *args, **kwargs):\n    536         self._last_traceback = None\n--> 537         return super(ZMQInteractiveShell, self).run_cell(*args, **kwargs)\n        self.run_cell = <bound method ZMQInteractiveShell.run_cell of <ipykernel.zmqshell.ZMQInteractiveShell object>>\n        args = ('def plot_learning_curve(estimator, title, X, y, ..._train, (0.0, 1.01), cv=cv, n_jobs=4)\\n\\nplt.show()',)\n        kwargs = {'silent': False, 'store_history': True}\n    538 \n    539     def _showtraceback(self, etype, evalue, stb):\n    540         # try to preserve ordering of tracebacks and print statements\n    541         sys.stdout.flush()\n\n...........................................................................\n/usr/local/lib/python3.6/site-packages/IPython/core/interactiveshell.py in run_cell(self=<ipykernel.zmqshell.ZMQInteractiveShell object>, raw_cell='def plot_learning_curve(estimator, title, X, y, ..._train, (0.0, 1.01), cv=cv, n_jobs=4)\\n\\nplt.show()', store_history=True, silent=False, shell_futures=True)\n   2657         -------\n   2658         result : :class:`ExecutionResult`\n   2659         \"\"\"\n   2660         try:\n   2661             result = self._run_cell(\n-> 2662                 raw_cell, store_history, silent, shell_futures)\n        raw_cell = 'def plot_learning_curve(estimator, title, X, y, ..._train, (0.0, 1.01), cv=cv, n_jobs=4)\\n\\nplt.show()'\n        store_history = True\n        silent = False\n        shell_futures = True\n   2663         finally:\n   2664             self.events.trigger('post_execute')\n   2665             if not silent:\n   2666                 self.events.trigger('post_run_cell', result)\n\n...........................................................................\n/usr/local/lib/python3.6/site-packages/IPython/core/interactiveshell.py in _run_cell(self=<ipykernel.zmqshell.ZMQInteractiveShell object>, raw_cell='def plot_learning_curve(estimator, title, X, y, ..._train, (0.0, 1.01), cv=cv, n_jobs=4)\\n\\nplt.show()', store_history=True, silent=False, shell_futures=True)\n   2780                 self.displayhook.exec_result = result\n   2781 \n   2782                 # Execute the user code\n   2783                 interactivity = 'none' if silent else self.ast_node_interactivity\n   2784                 has_raised = self.run_ast_nodes(code_ast.body, cell_name,\n-> 2785                    interactivity=interactivity, compiler=compiler, result=result)\n        interactivity = 'last_expr'\n        compiler = <IPython.core.compilerop.CachingCompiler object>\n   2786                 \n   2787                 self.last_execution_succeeded = not has_raised\n   2788                 self.last_execution_result = result\n   2789 \n\n...........................................................................\n/usr/local/lib/python3.6/site-packages/IPython/core/interactiveshell.py in run_ast_nodes(self=<ipykernel.zmqshell.ZMQInteractiveShell object>, nodelist=[<_ast.FunctionDef object>, <_ast.Import object>, <_ast.Assign object>, <_ast.Assign object>, <_ast.Expr object>, <_ast.Expr object>], cell_name='<ipython-input-29-076a3172f401>', interactivity='last', compiler=<IPython.core.compilerop.CachingCompiler object>, result=<ExecutionResult object at 110ea6940, execution_...rue silent=False shell_futures=True> result=None>)\n   2898 \n   2899         try:\n   2900             for i, node in enumerate(to_run_exec):\n   2901                 mod = ast.Module([node])\n   2902                 code = compiler(mod, cell_name, \"exec\")\n-> 2903                 if self.run_code(code, result):\n        self.run_code = <bound method InteractiveShell.run_code of <ipykernel.zmqshell.ZMQInteractiveShell object>>\n        code = <code object <module> at 0x110f98c00, file \"<ipython-input-29-076a3172f401>\", line 33>\n        result = <ExecutionResult object at 110ea6940, execution_...rue silent=False shell_futures=True> result=None>\n   2904                     return True\n   2905 \n   2906             for i, node in enumerate(to_run_interactive):\n   2907                 mod = ast.Interactive([node])\n\n...........................................................................\n/usr/local/lib/python3.6/site-packages/IPython/core/interactiveshell.py in run_code(self=<ipykernel.zmqshell.ZMQInteractiveShell object>, code_obj=<code object <module> at 0x110f98c00, file \"<ipython-input-29-076a3172f401>\", line 33>, result=<ExecutionResult object at 110ea6940, execution_...rue silent=False shell_futures=True> result=None>)\n   2958         outflag = True  # happens in more places, so it's easier as default\n   2959         try:\n   2960             try:\n   2961                 self.hooks.pre_run_code_hook()\n   2962                 #rprint('Running code', repr(code_obj)) # dbg\n-> 2963                 exec(code_obj, self.user_global_ns, self.user_ns)\n        code_obj = <code object <module> at 0x110f98c00, file \"<ipython-input-29-076a3172f401>\", line 33>\n        self.user_global_ns = {'DecisionTreeClassifier': <class 'sklearn.tree.tree.DecisionTreeClassifier'>, 'In': ['', \"# load package\\nimport pandas as pd\\nimport numpy ...port warnings; \\nwarnings.filterwarnings('ignore')\", \"# Data Prepararion\\n# read data\\ntrain=pd.read_csv...read_csv('gender_submission.csv',encoding='big5')\", '# append in ONE data\\ndata=train.append(test, ignore_index=True)', \"data['Family_Size']=data['Parch']+data['SibSp']\\n...sns.distplot,'Family_Size',kde=True)#kde是否要折線圖的參數\", \"#設法整理出「尊稱」這個因子\\ndata['Title1']=data['Name'].str.s...個的字串\\n# 秀出dintinct後的title1\\ndata['Title1'].unique()\", \"#合併成比較常出現的姓氏在Title2\\ndata['Title2']=''\\nfor idx, r...alse).agg({'PassengerId': pd.Series.nunique})\\ntt2\", \"# 票的前幾碼代號可能有意義，流水編沒有所以拿掉\\ndata['Ticket_info'] = d....isdigit() else 'X')\\ndata['Ticket_info'].unique()\", \"tt = data.groupby(by='Ticket_info', as_index=Fal...agg({'PassengerId': pd.Series.nunique})\\ntt.head()\", \"tt['PassengerId'].describe()\", \"#把count distinct的ticket_info低於第一四分位數的都改成None\\ntt[...cket_info_rev[tt.PassengerId<9]='None'\\ntt.head(4)\", \"#leftjoin Ticket_info_rev到大表\\ntt=tt.drop(['Passen..., on=['Ticket_info', 'Ticket_info'])\\ndata.head(4)\", \"# 抓船艙第一碼英文\\n# 送出kaggle成績沒有比較好，一堆空的也是合理\\ndata['Cabi...fo'].fillna('N')#空的補N\\ndata['Cabin_info'].unique()\", \"'''\\ndata['Cabin_info2']=data['Cabin_info']\\ndata....data.Cabin_info in ('N','C')]='mm'\\ndata.head()'''\", \"#整併人數太少的cabin\\n#把'F','G','T'變成'Merged'\\ndata['Cabi...'Merged',inplace=True)#inplace如果是false就是改爽的不會更動到值\", \"#\\nprint('Embarked原遺漏的人數：',data['Embarked'].isnul...遺漏值\\ndata['Embarked']=data['Embarked'].fillna('S')\", \"#\\nprint('Fare原遺漏的人數：',data['Fare'].isnull().sum(...['Fare']=data['Fare'].fillna(data['Fare'].mean())\", \"#\\nprint('Age原遺漏的人數：',data['Age'].isnull().sum())...a['Age']=data['Age'].fillna(data['Age'].median())\", \"#用(找是否有別名\\ndata['NickName_ind']= data['Name'].str...gg({'PassengerId': pd.Series.nunique})\\nqta.head()\", \"#用(找是否有別名\\ndata['NickName_ind']= data['Name'].str...gg({'PassengerId': pd.Series.nunique})\\nqta.head()\", ...], 'Out': {4: <seaborn.axisgrid.FacetGrid object>, 5: array(['Mr', 'Mrs', 'Miss', 'Master', 'Don', 'Re...ntess',\n       'Jonkheer', 'Dona'], dtype=object), 6:    Title2  PassengerId\n0  Master           61\n1 ...269\n2      Mr          782\n3     Mrs          197, 7: array(['A5', 'PC', 'STONO2', 'X', 'PP', 'CA', 'S...', 'AQ4',\n       'A', 'LP', 'AQ3'], dtype=object), 8:   Ticket_info  PassengerId\n0           A        ...      AQ3            1\n4         AQ4            1, 9: count     37.000000\nmean      35.378378\nstd     ...     957.000000\nName: PassengerId, dtype: float64, 10:   Ticket_info  PassengerId Ticket_info_rev\n0    ...    A5\n3         AQ3            1            None, 11:     Age Cabin Embarked     Fare  \\\n0  22.0   NaN...    None  \n3    Mrs           X               X  , 12: array(['N', 'C', 'E', 'G', 'D', 'A', 'B', 'F', 'T'], dtype=object), 13: \"\\ndata['Cabin_info2']=data['Cabin_info']\\ndata.Cab...o2[data.Cabin_info in ('N','C')]='mm'\\ndata.head()\", ...}, 'RandomForestClassifier': <class 'sklearn.ensemble.forest.RandomForestClassifier'>, 'Sex': 'male', 'Title1': 'Master', 'Title2': 'Master', 'X_test':        Age      Fare  Parch  Pclass  SibSp  Fami...       0             1  \n\n[268 rows x 35 columns], 'X_train':       Age      Fare  Parch  Pclass  SibSp  Famil...       0             1  \n\n[623 rows x 35 columns], '_':     importances                 features\n0      ...o_rev_A4\n34       0.0002      Ticket_info_rev_FCC, ...}\n        self.user_ns = {'DecisionTreeClassifier': <class 'sklearn.tree.tree.DecisionTreeClassifier'>, 'In': ['', \"# load package\\nimport pandas as pd\\nimport numpy ...port warnings; \\nwarnings.filterwarnings('ignore')\", \"# Data Prepararion\\n# read data\\ntrain=pd.read_csv...read_csv('gender_submission.csv',encoding='big5')\", '# append in ONE data\\ndata=train.append(test, ignore_index=True)', \"data['Family_Size']=data['Parch']+data['SibSp']\\n...sns.distplot,'Family_Size',kde=True)#kde是否要折線圖的參數\", \"#設法整理出「尊稱」這個因子\\ndata['Title1']=data['Name'].str.s...個的字串\\n# 秀出dintinct後的title1\\ndata['Title1'].unique()\", \"#合併成比較常出現的姓氏在Title2\\ndata['Title2']=''\\nfor idx, r...alse).agg({'PassengerId': pd.Series.nunique})\\ntt2\", \"# 票的前幾碼代號可能有意義，流水編沒有所以拿掉\\ndata['Ticket_info'] = d....isdigit() else 'X')\\ndata['Ticket_info'].unique()\", \"tt = data.groupby(by='Ticket_info', as_index=Fal...agg({'PassengerId': pd.Series.nunique})\\ntt.head()\", \"tt['PassengerId'].describe()\", \"#把count distinct的ticket_info低於第一四分位數的都改成None\\ntt[...cket_info_rev[tt.PassengerId<9]='None'\\ntt.head(4)\", \"#leftjoin Ticket_info_rev到大表\\ntt=tt.drop(['Passen..., on=['Ticket_info', 'Ticket_info'])\\ndata.head(4)\", \"# 抓船艙第一碼英文\\n# 送出kaggle成績沒有比較好，一堆空的也是合理\\ndata['Cabi...fo'].fillna('N')#空的補N\\ndata['Cabin_info'].unique()\", \"'''\\ndata['Cabin_info2']=data['Cabin_info']\\ndata....data.Cabin_info in ('N','C')]='mm'\\ndata.head()'''\", \"#整併人數太少的cabin\\n#把'F','G','T'變成'Merged'\\ndata['Cabi...'Merged',inplace=True)#inplace如果是false就是改爽的不會更動到值\", \"#\\nprint('Embarked原遺漏的人數：',data['Embarked'].isnul...遺漏值\\ndata['Embarked']=data['Embarked'].fillna('S')\", \"#\\nprint('Fare原遺漏的人數：',data['Fare'].isnull().sum(...['Fare']=data['Fare'].fillna(data['Fare'].mean())\", \"#\\nprint('Age原遺漏的人數：',data['Age'].isnull().sum())...a['Age']=data['Age'].fillna(data['Age'].median())\", \"#用(找是否有別名\\ndata['NickName_ind']= data['Name'].str...gg({'PassengerId': pd.Series.nunique})\\nqta.head()\", \"#用(找是否有別名\\ndata['NickName_ind']= data['Name'].str...gg({'PassengerId': pd.Series.nunique})\\nqta.head()\", ...], 'Out': {4: <seaborn.axisgrid.FacetGrid object>, 5: array(['Mr', 'Mrs', 'Miss', 'Master', 'Don', 'Re...ntess',\n       'Jonkheer', 'Dona'], dtype=object), 6:    Title2  PassengerId\n0  Master           61\n1 ...269\n2      Mr          782\n3     Mrs          197, 7: array(['A5', 'PC', 'STONO2', 'X', 'PP', 'CA', 'S...', 'AQ4',\n       'A', 'LP', 'AQ3'], dtype=object), 8:   Ticket_info  PassengerId\n0           A        ...      AQ3            1\n4         AQ4            1, 9: count     37.000000\nmean      35.378378\nstd     ...     957.000000\nName: PassengerId, dtype: float64, 10:   Ticket_info  PassengerId Ticket_info_rev\n0    ...    A5\n3         AQ3            1            None, 11:     Age Cabin Embarked     Fare  \\\n0  22.0   NaN...    None  \n3    Mrs           X               X  , 12: array(['N', 'C', 'E', 'G', 'D', 'A', 'B', 'F', 'T'], dtype=object), 13: \"\\ndata['Cabin_info2']=data['Cabin_info']\\ndata.Cab...o2[data.Cabin_info in ('N','C')]='mm'\\ndata.head()\", ...}, 'RandomForestClassifier': <class 'sklearn.ensemble.forest.RandomForestClassifier'>, 'Sex': 'male', 'Title1': 'Master', 'Title2': 'Master', 'X_test':        Age      Fare  Parch  Pclass  SibSp  Fami...       0             1  \n\n[268 rows x 35 columns], 'X_train':       Age      Fare  Parch  Pclass  SibSp  Famil...       0             1  \n\n[623 rows x 35 columns], '_':     importances                 features\n0      ...o_rev_A4\n34       0.0002      Ticket_info_rev_FCC, ...}\n   2964             finally:\n   2965                 # Reset our crash handler in place\n   2966                 sys.excepthook = old_excepthook\n   2967         except SystemExit as e:\n\n...........................................................................\n/Users/francislin/Desktop/Machine_Learning_Workshop/Titanic/<ipython-input-29-076a3172f401> in <module>()\n     28 \n     29 \n     30 import matplotlib.pyplot as plt\n     31 title = \"Learning Curves (Random Forest, n_estimators = 100)\"\n     32 cv = cross_validation.ShuffleSplit(dataTrain.drop('Survived',1).shape[0], n_iter=10,test_size=0.3, random_state=0)\n---> 33 plot_learning_curve(clf, title, X_train, y_train, (0.0, 1.01), cv=cv, n_jobs=4)\n     34 \n     35 plt.show()\n\n...........................................................................\n/Users/francislin/Desktop/Machine_Learning_Workshop/Titanic/<ipython-input-29-076a3172f401> in plot_learning_curve(estimator=RandomForestClassifier(bootstrap=True, class_wei...lse, random_state=0, verbose=0, warm_start=False), title='Learning Curves (Random Forest, n_estimators = 100)', X=      Age      Fare  Parch  Pclass  SibSp  Famil...       0             1  \n\n[623 rows x 35 columns], y=     Survived\n857       1.0\n52        1.0\n386   ...9       1.0\n684       0.0\n\n[623 rows x 1 columns], ylim=(0.0, 1.01), cv=ShuffleSplit(891, n_iter=10, test_size=0.3, random_state=0), n_jobs=4, train_sizes=array([0.1  , 0.325, 0.55 , 0.775, 1.   ]))\n      4     if ylim is not None:\n      5         plt.ylim(*ylim)\n      6     plt.xlabel(\"Training examples\")\n      7     plt.ylabel(\"Score\")\n      8     train_sizes, train_scores, test_scores = learning_curve(\n----> 9         estimator, X, y, cv=cv, n_jobs=n_jobs, train_sizes=train_sizes)\n     10     train_scores_mean = np.mean(train_scores, axis=1)\n     11     train_scores_std = np.std(train_scores, axis=1)\n     12     test_scores_mean = np.mean(test_scores, axis=1)\n     13     test_scores_std = np.std(test_scores, axis=1)\n\n...........................................................................\n/usr/local/lib/python3.6/site-packages/sklearn/model_selection/_validation.py in learning_curve(estimator=RandomForestClassifier(bootstrap=True, class_wei...lse, random_state=0, verbose=0, warm_start=False), X=      Age      Fare  Parch  Pclass  SibSp  Famil...       0             1  \n\n[623 rows x 35 columns], y=     Survived\n857       1.0\n52        1.0\n386   ...9       1.0\n684       0.0\n\n[623 rows x 1 columns], groups=None, train_sizes=array([0.1  , 0.325, 0.55 , 0.775, 1.   ]), cv=_CVIterableWrapper(cv=[(array([857,  52, ..., 55..., 794, 687]), array([811, 602, ..., 831, 163]))]), scoring=None, exploit_incremental_learning=False, n_jobs=4, pre_dispatch='all', verbose=0, shuffle=False, random_state=None)\n   1123                 train_test_proportions.append((train[:n_train_samples], test))\n   1124 \n   1125         out = parallel(delayed(_fit_and_score)(\n   1126             clone(estimator), X, y, scorer, train, test,\n   1127             verbose, parameters=None, fit_params=None, return_train_score=True)\n-> 1128             for train, test in train_test_proportions)\n        train = array([670, 419, 266, 220, 587, 627,  54, 125, 6...59,  20, 297,  25,  90, 243, 244, 711, 794, 687])\n        test = array([811, 602, 311, 615, 247, 450, 701, 250, 1...,\n       832, 174, 560, 100, 703, 761, 831, 163])\n        train_test_proportions = [(array([857,  52, 386, 124, 578, 549, 118,  12, 1...24, 109, 337, 443,  92, 364, 434, 465, 731, 876]), array([495, 648, 278,  31, 255, 298, 609, 318, 4...,\n        76,  48, 843, 263, 718, 620, 786,  64])), (array([857,  52, 386, 124, 578, 549, 118,  12, 1..., 224,\n        26, 772, 571, 417, 497, 628, 765]), array([495, 648, 278,  31, 255, 298, 609, 318, 4...,\n        76,  48, 843, 263, 718, 620, 786,  64])), (array([857,  52, 386, 124, 578, 549, 118,  12, 1..., 433,  83, 749, 692,\n       414, 869, 651, 649]), array([495, 648, 278,  31, 255, 298, 609, 318, 4...,\n        76,  48, 843, 263, 718, 620, 786,  64])), (array([857,  52, 386, 124, 578, 549, 118,  12, 1..., 275, 829, 182,  32,  80, 307,  11,\n        43]), array([495, 648, 278,  31, 255, 298, 609, 318, 4...,\n        76,  48, 843, 263, 718, 620, 786,  64])), (array([857,  52, 386, 124, 578, 549, 118,  12, 1...23,   9, 359, 707, 763, 835, 192, 629, 559, 684]), array([495, 648, 278,  31, 255, 298, 609, 318, 4...,\n        76,  48, 843, 263, 718, 620, 786,  64])), (array([410, 128, 764, 125, 776, 421, 253, 852, 7...48,  26, 177, 811, 621, 429, 150, 334,  93, 242]), array([710, 481, 726, 458, 229, 173, 168, 525, 1...,\n       384, 251,  46, 255, 190, 433, 380, 276])), (array([410, 128, 764, 125, 776, 421, 253, 852, 7..., 178,\n       108, 496, 642, 153, 759, 832,   1]), array([710, 481, 726, 458, 229, 173, 168, 525, 1...,\n       384, 251,  46, 255, 190, 433, 380, 276])), (array([410, 128, 764, 125, 776, 421, 253, 852, 7..., 781, 732, 548, 872,\n       494, 580, 788, 573]), array([710, 481, 726, 458, 229, 173, 168, 525, 1...,\n       384, 251,  46, 255, 190, 433, 380, 276])), (array([410, 128, 764, 125, 776, 421, 253, 852, 7..., 505,  83,  79, 287, 741,  64, 662,\n       415]), array([710, 481, 726, 458, 229, 173, 168, 525, 1...,\n       384, 251,  46, 255, 190, 433, 380, 276])), (array([410, 128, 764, 125, 776, 421, 253, 852, 7...76, 571, 629, 449, 612, 294, 261, 266, 264, 514]), array([710, 481, 726, 458, 229, 173, 168, 525, 1...,\n       384, 251,  46, 255, 190, 433, 380, 276])), (array([  3,  85, 298, 859, 888, 726, 526, 265, 5...54, 130, 838, 329, 781, 404, 457, 756, 635, 680]), array([599, 736, 738, 156, 673, 601, 481, 259, 3...,\n       889, 471, 347, 255, 588,  78, 234, 552])), (array([  3,  85, 298, 859, 888, 726, 526, 265, 5..., 179,\n       731,  82, 420, 695, 331, 839, 640]), array([599, 736, 738, 156, 673, 601, 481, 259, 3...,\n       889, 471, 347, 255, 588,  78, 234, 552])), (array([  3,  85, 298, 859, 888, 726, 526, 265, 5..., 206,  97,  75,  72,\n       126,  29, 642, 761]), array([599, 736, 738, 156, 673, 601, 481, 259, 3...,\n       889, 471, 347, 255, 588,  78, 234, 552])), (array([  3,  85, 298, 859, 888, 726, 526, 265, 5..., 249, 131, 845, 377, 173,  25, 339,\n       118]), array([599, 736, 738, 156, 673, 601, 481, 259, 3...,\n       889, 471, 347, 255, 588,  78, 234, 552])), (array([  3,  85, 298, 859, 888, 726, 526, 265, 5...24, 810,  34, 372, 799, 790, 431, 381, 811, 219]), array([599, 736, 738, 156, 673, 601, 481, 259, 3...,\n       889, 471, 347, 255, 588,  78, 234, 552])), (array([505, 794, 482, 325, 444, 655, 744, 549, 1...52, 822, 360, 603, 810, 572, 249, 732, 237, 642]), array([460, 814, 306,  18, 321, 194, 747, 847, 5...,\n       719, 436, 595, 729, 701, 342, 504, 112])), (array([505, 794, 482, 325, 444, 655, 744, 549, 1..., 307,\n       764, 159, 368, 302, 188,   3, 498]), array([460, 814, 306,  18, 321, 194, 747, 847, 5...,\n       719, 436, 595, 729, 701, 342, 504, 112])), (array([505, 794, 482, 325, 444, 655, 744, 549, 1..., 471, 740,  17,  75,\n       793, 115, 635, 561]), array([460, 814, 306,  18, 321, 194, 747, 847, 5...,\n       719, 436, 595, 729, 701, 342, 504, 112])), (array([505, 794, 482, 325, 444, 655, 744, 549, 1..., 531, 279, 671, 636, 645,  98, 879,\n       364]), array([460, 814, 306,  18, 321, 194, 747, 847, 5...,\n       719, 436, 595, 729, 701, 342, 504, 112])), (array([505, 794, 482, 325, 444, 655, 744, 549, 1...49, 313, 370, 632, 332, 459, 852,  12, 679, 503]), array([460, 814, 306,  18, 321, 194, 747, 847, 5...,\n       719, 436, 595, 729, 701, 342, 504, 112])), ...]\n   1129         out = np.array(out)\n   1130         n_cv_folds = out.shape[0] // n_unique_ticks\n   1131         out = out.reshape(n_cv_folds, n_unique_ticks, 2)\n   1132 \n\n...........................................................................\n/usr/local/lib/python3.6/site-packages/sklearn/externals/joblib/parallel.py in __call__(self=Parallel(n_jobs=4), iterable=<generator object learning_curve.<locals>.<genexpr>>)\n    784             if pre_dispatch == \"all\" or n_jobs == 1:\n    785                 # The iterable was consumed all at once by the above for loop.\n    786                 # No need to wait for async callbacks to trigger to\n    787                 # consumption.\n    788                 self._iterating = False\n--> 789             self.retrieve()\n        self.retrieve = <bound method Parallel.retrieve of Parallel(n_jobs=4)>\n    790             # Make sure that we get a last message telling us we are done\n    791             elapsed_time = time.time() - self._start_time\n    792             self._print('Done %3i out of %3i | elapsed: %s finished',\n    793                         (len(self._output), len(self._output),\n\n---------------------------------------------------------------------------\nSub-process traceback:\n---------------------------------------------------------------------------\nIndexError                                         Tue Aug  7 13:46:58 2018\nPID: 43320                Python 3.6.5: /usr/local/opt/python/bin/python3.6\n...........................................................................\n/usr/local/lib/python3.6/site-packages/sklearn/externals/joblib/parallel.py in __call__(self=<sklearn.externals.joblib.parallel.BatchedCalls object>)\n    126     def __init__(self, iterator_slice):\n    127         self.items = list(iterator_slice)\n    128         self._size = len(self.items)\n    129 \n    130     def __call__(self):\n--> 131         return [func(*args, **kwargs) for func, args, kwargs in self.items]\n        self.items = [(<function _fit_and_score>, (RandomForestClassifier(bootstrap=True, class_wei...lse, random_state=0, verbose=0, warm_start=False),       Age      Fare  Parch  Pclass  SibSp  Famil...       0             1  \n\n[623 rows x 35 columns],      Survived\n857       1.0\n52        1.0\n386   ...9       1.0\n684       0.0\n\n[623 rows x 1 columns], <function _passthrough_scorer>, array([857,  52, 386, 124, 578, 549, 118,  12, 1...24, 109, 337, 443,  92, 364, 434, 465, 731, 876]), array([495, 648, 278,  31, 255, 298, 609, 318, 4...,\n        76,  48, 843, 263, 718, 620, 786,  64]), 0), {'fit_params': None, 'parameters': None, 'return_train_score': True})]\n    132 \n    133     def __len__(self):\n    134         return self._size\n    135 \n\n...........................................................................\n/usr/local/lib/python3.6/site-packages/sklearn/externals/joblib/parallel.py in <listcomp>(.0=<list_iterator object>)\n    126     def __init__(self, iterator_slice):\n    127         self.items = list(iterator_slice)\n    128         self._size = len(self.items)\n    129 \n    130     def __call__(self):\n--> 131         return [func(*args, **kwargs) for func, args, kwargs in self.items]\n        func = <function _fit_and_score>\n        args = (RandomForestClassifier(bootstrap=True, class_wei...lse, random_state=0, verbose=0, warm_start=False),       Age      Fare  Parch  Pclass  SibSp  Famil...       0             1  \n\n[623 rows x 35 columns],      Survived\n857       1.0\n52        1.0\n386   ...9       1.0\n684       0.0\n\n[623 rows x 1 columns], <function _passthrough_scorer>, array([857,  52, 386, 124, 578, 549, 118,  12, 1...24, 109, 337, 443,  92, 364, 434, 465, 731, 876]), array([495, 648, 278,  31, 255, 298, 609, 318, 4...,\n        76,  48, 843, 263, 718, 620, 786,  64]), 0)\n        kwargs = {'fit_params': None, 'parameters': None, 'return_train_score': True}\n    132 \n    133     def __len__(self):\n    134         return self._size\n    135 \n\n...........................................................................\n/usr/local/lib/python3.6/site-packages/sklearn/model_selection/_validation.py in _fit_and_score(estimator=RandomForestClassifier(bootstrap=True, class_wei...lse, random_state=0, verbose=0, warm_start=False), X=      Age      Fare  Parch  Pclass  SibSp  Famil...       0             1  \n\n[623 rows x 35 columns], y=     Survived\n857       1.0\n52        1.0\n386   ...9       1.0\n684       0.0\n\n[623 rows x 1 columns], scorer=<function _passthrough_scorer>, train=array([857,  52, 386, 124, 578, 549, 118,  12, 1...24, 109, 337, 443,  92, 364, 434, 465, 731, 876]), test=array([495, 648, 278,  31, 255, 298, 609, 318, 4...,\n        76,  48, 843, 263, 718, 620, 786,  64]), verbose=0, parameters=None, fit_params={}, return_train_score=True, return_parameters=False, return_n_test_samples=False, return_times=False, error_score='raise')\n    443     if parameters is not None:\n    444         estimator.set_params(**parameters)\n    445 \n    446     start_time = time.time()\n    447 \n--> 448     X_train, y_train = _safe_split(estimator, X, y, train)\n        X_train = undefined\n        y_train = undefined\n        estimator = RandomForestClassifier(bootstrap=True, class_wei...lse, random_state=0, verbose=0, warm_start=False)\n        X =       Age      Fare  Parch  Pclass  SibSp  Famil...       0             1  \n\n[623 rows x 35 columns]\n        y =      Survived\n857       1.0\n52        1.0\n386   ...9       1.0\n684       0.0\n\n[623 rows x 1 columns]\n        train = array([857,  52, 386, 124, 578, 549, 118,  12, 1...24, 109, 337, 443,  92, 364, 434, 465, 731, 876])\n    449     X_test, y_test = _safe_split(estimator, X, y, test, train)\n    450 \n    451     is_multimetric = not callable(scorer)\n    452     n_scorers = len(scorer.keys()) if is_multimetric else 1\n\n...........................................................................\n/usr/local/lib/python3.6/site-packages/sklearn/utils/metaestimators.py in _safe_split(estimator=RandomForestClassifier(bootstrap=True, class_wei...lse, random_state=0, verbose=0, warm_start=False), X=      Age      Fare  Parch  Pclass  SibSp  Famil...       0             1  \n\n[623 rows x 35 columns], y=     Survived\n857       1.0\n52        1.0\n386   ...9       1.0\n684       0.0\n\n[623 rows x 1 columns], indices=array([857,  52, 386, 124, 578, 549, 118,  12, 1...24, 109, 337, 443,  92, 364, 434, 465, 731, 876]), train_indices=None)\n    195         if train_indices is None:\n    196             X_subset = X[np.ix_(indices, indices)]\n    197         else:\n    198             X_subset = X[np.ix_(indices, train_indices)]\n    199     else:\n--> 200         X_subset = safe_indexing(X, indices)\n        X_subset = undefined\n        X =       Age      Fare  Parch  Pclass  SibSp  Famil...       0             1  \n\n[623 rows x 35 columns]\n        indices = array([857,  52, 386, 124, 578, 549, 118,  12, 1...24, 109, 337, 443,  92, 364, 434, 465, 731, 876])\n    201 \n    202     if y is not None:\n    203         y_subset = safe_indexing(y, indices)\n    204     else:\n\n...........................................................................\n/usr/local/lib/python3.6/site-packages/sklearn/utils/__init__.py in safe_indexing(X=      Age      Fare  Parch  Pclass  SibSp  Famil...       0             1  \n\n[623 rows x 35 columns], indices=array([857,  52, 386, 124, 578, 549, 118,  12, 1...24, 109, 337, 443,  92, 364, 434, 465, 731, 876]))\n    144     if hasattr(X, \"iloc\"):\n    145         # Work-around for indexing with read-only indices in pandas\n    146         indices = indices if indices.flags.writeable else indices.copy()\n    147         # Pandas Dataframes and Series\n    148         try:\n--> 149             return X.iloc[indices]\n        X.iloc = <pandas.core.indexing._iLocIndexer object>\n        indices = array([857,  52, 386, 124, 578, 549, 118,  12, 1...24, 109, 337, 443,  92, 364, 434, 465, 731, 876])\n    150         except ValueError:\n    151             # Cython typed memoryviews internally used in pandas do not support\n    152             # readonly buffers.\n    153             warnings.warn(\"Copying input dataframe for slicing.\",\n\n...........................................................................\n/usr/local/lib/python3.6/site-packages/pandas/core/indexing.py in __getitem__(self=<pandas.core.indexing._iLocIndexer object>, key=array([857,  52, 386, 124, 578, 549, 118,  12, 1...24, 109, 337, 443,  92, 364, 434, 465, 731, 876]))\n   1473         else:\n   1474             # we by definition only have the 0th axis\n   1475             axis = self.axis or 0\n   1476 \n   1477             maybe_callable = com._apply_if_callable(key, self.obj)\n-> 1478             return self._getitem_axis(maybe_callable, axis=axis)\n        self._getitem_axis = <bound method _iLocIndexer._getitem_axis of <pandas.core.indexing._iLocIndexer object>>\n        maybe_callable = array([857,  52, 386, 124, 578, 549, 118,  12, 1...24, 109, 337, 443,  92, 364, 434, 465, 731, 876])\n        axis = 0\n   1479 \n   1480     def _is_scalar_access(self, key):\n   1481         raise NotImplementedError()\n   1482 \n\n...........................................................................\n/usr/local/lib/python3.6/site-packages/pandas/core/indexing.py in _getitem_axis(self=<pandas.core.indexing._iLocIndexer object>, key=array([857,  52, 386, 124, 578, 549, 118,  12, 1...24, 109, 337, 443,  92, 364, 434, 465, 731, 876]), axis=0)\n   2086             self._validate_key(key, axis)\n   2087             return self._getbool_axis(key, axis=axis)\n   2088 \n   2089         # a list of integers\n   2090         elif is_list_like_indexer(key):\n-> 2091             return self._get_list_axis(key, axis=axis)\n        self._get_list_axis = <bound method _iLocIndexer._get_list_axis of <pandas.core.indexing._iLocIndexer object>>\n        key = array([857,  52, 386, 124, 578, 549, 118,  12, 1...24, 109, 337, 443,  92, 364, 434, 465, 731, 876])\n        axis = 0\n   2092 \n   2093         # a single integer\n   2094         else:\n   2095             key = self._convert_scalar_indexer(key, axis)\n\n...........................................................................\n/usr/local/lib/python3.6/site-packages/pandas/core/indexing.py in _get_list_axis(self=<pandas.core.indexing._iLocIndexer object>, key=array([857,  52, 386, 124, 578, 549, 118,  12, 1...24, 109, 337, 443,  92, 364, 434, 465, 731, 876]), axis=0)\n   2068             axis = self.axis or 0\n   2069         try:\n   2070             return self.obj._take(key, axis=axis)\n   2071         except IndexError:\n   2072             # re-raise with different error message\n-> 2073             raise IndexError(\"positional indexers are out-of-bounds\")\n   2074 \n   2075     def _getitem_axis(self, key, axis=None):\n   2076         if axis is None:\n   2077             axis = self.axis or 0\n\nIndexError: positional indexers are out-of-bounds\n___________________________________________________________________________"
     ]
    },
    {
     "data": {
      "image/png": "[encoded data removed]",
      "text/plain": [
       "<Figure size 432x288 with 1 Axes>"
      ]
     },
     "metadata": {},
     "output_type": "display_data"
    }
   ],
   "source": [
    "def plot_learning_curve(estimator, title, X, y, ylim=None, cv=None,n_jobs=1, train_sizes=np.linspace(.1, 1.0, 5)):\n",
    "    plt.figure()\n",
    "    plt.title(title)\n",
    "    if ylim is not None:\n",
    "        plt.ylim(*ylim)\n",
    "    plt.xlabel(\"Training examples\")\n",
    "    plt.ylabel(\"Score\")\n",
    "    train_sizes, train_scores, test_scores = learning_curve(\n",
    "        estimator, X, y, cv=cv, n_jobs=n_jobs, train_sizes=train_sizes)\n",
    "    train_scores_mean = np.mean(train_scores, axis=1)\n",
    "    train_scores_std = np.std(train_scores, axis=1)\n",
    "    test_scores_mean = np.mean(test_scores, axis=1)\n",
    "    test_scores_std = np.std(test_scores, axis=1)\n",
    "    plt.grid()\n",
    "\n",
    "    plt.fill_between(train_sizes, train_scores_mean - train_scores_std,\n",
    "                     train_scores_mean + train_scores_std, alpha=0.1,\n",
    "                     color=\"r\")\n",
    "    plt.fill_between(train_sizes, test_scores_mean - test_scores_std,\n",
    "                     test_scores_mean + test_scores_std, alpha=0.1, color=\"g\")\n",
    "    plt.plot(train_sizes, train_scores_mean, 'o-', color=\"r\",\n",
    "             label=\"Training score\")\n",
    "    plt.plot(train_sizes, test_scores_mean, 'o-', color=\"g\",\n",
    "             label=\"Cross-validation score\")\n",
    "\n",
    "    plt.legend(loc=\"best\")\n",
    "    return plt\n",
    "\n",
    "\n",
    "import matplotlib.pyplot as plt\n",
    "title = \"Learning Curves (Random Forest, n_estimators = 100)\"\n",
    "cv = cross_validation.ShuffleSplit(dataTrain.drop('Survived',1).shape[0], n_iter=10,test_size=0.3, random_state=0)\n",
    "plot_learning_curve(clf, title, X_train, y_train, (0.0, 1.01), cv=cv, n_jobs=4)\n",
    "\n",
    "plt.show()"
   ]
  },
  {
   "cell_type": "code",
   "execution_count": null,
   "metadata": {},
   "outputs": [],
   "source": []
  }
 ],
 "metadata": {
  "kernelspec": {
   "display_name": "Python 3",
   "language": "python",
   "name": "python3"
  },
  "language_info": {
   "codemirror_mode": {
    "name": "ipython",
    "version": 3
   },
   "file_extension": ".py",
   "mimetype": "text/x-python",
   "name": "python",
   "nbconvert_exporter": "python",
   "pygments_lexer": "ipython3",
   "version": "3.6.5"
  }
 },
 "nbformat": 4,
 "nbformat_minor": 2
}

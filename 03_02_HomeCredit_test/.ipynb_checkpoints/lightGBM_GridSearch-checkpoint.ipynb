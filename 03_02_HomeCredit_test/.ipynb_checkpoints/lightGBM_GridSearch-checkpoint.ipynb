{
 "cells": [
  {
   "cell_type": "code",
   "execution_count": 5,
   "metadata": {},
   "outputs": [],
   "source": [
    "import pandas as pd\n",
    "import warnings\n",
    "warnings.filterwarnings(\"ignore\")\n",
    "import lightgbm as lgb\n",
    "from lightgbm import LGBMClassifier\n",
    "#from bayes_opt import BayesianOptimization\n",
    "from sklearn.model_selection import GridSearchCV\n",
    "import matplotlib.pyplot as plt\n",
    "from sklearn import cross_validation"
   ]
  },
  {
   "cell_type": "code",
   "execution_count": 6,
   "metadata": {},
   "outputs": [],
   "source": [
    "# Function for Measure Performance# \n",
    "from  sklearn  import  metrics\n",
    "def measure_performance(X,y,clf, show_accuracy=True, show_classification_report=True, show_confusion_matrix=True, show_roc_auc = True):\n",
    "    y_pred = clf.predict(X)\n",
    "    y_predprob = clf.predict_proba(X)[:,1]\n",
    "    if show_accuracy:\n",
    "        print (\"Accuracy:{0:.3f}\".format(metrics.accuracy_score(y,y_pred))),\"\\n\"\n",
    "\n",
    "    if show_classification_report:\n",
    "        print(\"Classification report\")\n",
    "        print(metrics.classification_report(y,y_pred)),\"\\n\"\n",
    "        \n",
    "    if show_confusion_matrix:\n",
    "        print(\"Confusion matrix\")\n",
    "        print(metrics.confusion_matrix(y,y_pred)),\"\\n\"  \n",
    "        \n",
    "    if show_roc_auc:\n",
    "        print(\"ROC AUC Score\")\n",
    "        print(metrics.roc_auc_score(y,y_predprob)),\"\\n\""
   ]
  },
  {
   "cell_type": "code",
   "execution_count": 8,
   "metadata": {},
   "outputs": [],
   "source": [
    "#Data Preparation for LightGBM\n",
    "import os\n",
    "application_train = pd.read_csv('/Users/francislin/Desktop/Machine_Learning_Workshop/Home Credit Default Risk/application_train.csv')\n",
    "\n",
    "# use LabelEncoder to convert categorical features to int type before construct Dataset\n",
    "from sklearn.preprocessing import LabelEncoder\n",
    "def label_encoder(input_df, encoder_dict=None):\n",
    "    \"\"\" Process a dataframe into a form useable by LightGBM \"\"\"\n",
    "    # Label encode categoricals\n",
    "    categorical_feats = input_df.columns[input_df.dtypes == 'object']\n",
    "    for feat in categorical_feats:\n",
    "        encoder = LabelEncoder()\n",
    "        input_df[feat] = encoder.fit_transform(input_df[feat].fillna('NULL'))\n",
    "    return input_df, categorical_feats.tolist(), encoder_dict\n",
    "application_train, categorical_feats, encoder_dict = label_encoder(application_train)\n",
    "X = application_train.drop('TARGET', axis=1)\n",
    "y = application_train.TARGET\n",
    "\n",
    "# Prepare dataset \n",
    "seed = 7\n",
    "test_size = 0.3\n",
    "X_train, X_test, y_train, y_test = cross_validation.train_test_split(X, y, test_size=test_size, random_state=seed)"
   ]
  },
  {
   "cell_type": "code",
   "execution_count": 9,
   "metadata": {},
   "outputs": [
    {
     "name": "stdout",
     "output_type": "stream",
     "text": [
      "Start training...\n",
      "Best parameters found by grid search are: {'feature_fraction': 0.4, 'lambda_l1': 0.2, 'max_bin': 20, 'max_depth': 8, 'min_child_weight': 7, 'min_split_gain': 0.05, 'num_leaves': 42}\n",
      "Start predicting...\n",
      "Predicting is over\n"
     ]
    }
   ],
   "source": [
    "# Grid Search\n",
    "print('Start training...')\n",
    "estimator = lgb.LGBMClassifier(objective = 'binary', learning_rate = 0.05, n_estimators = 100, random_state=0)\n",
    "\n",
    "param_grid = {\n",
    "    'num_leaves': [38,40,42], #[35,40,45]做完是40\n",
    "    'feature_fraction': [0.4],#做過[0.2,0.3,0.4,0.5]出來是0.4\n",
    "    #'bagging_fraction': [0.6,0.7,0.8],\n",
    "    'max_depth':[4,6,8],\n",
    "    'max_bin':[10,15,20],\n",
    "    'lambda_l1':[0.1,0.2,0.3],#V4開始做lambda_l1\n",
    "    #'lambda_l2':[0.08,0.09,0.1],\n",
    "    'min_split_gain':[0.05,0.06,0.07],#做過[0.04,0.05,0.06]出來0.06\n",
    "    'min_child_weight':[7]\n",
    "}\n",
    "\n",
    "LGBM_grid = GridSearchCV(estimator, param_grid)\n",
    "LGBM_grid.fit(X_train, y_train)\n",
    "print('Best parameters found by grid search are:', LGBM_grid.best_params_)\n",
    "\n",
    "# Final Model\n",
    "evals_result = {} \n",
    "print('Start predicting...')\n",
    "LGBM_grid_final = lgb.LGBMClassifier(objective = 'binary',\n",
    "                                      learning_rate = 0.05, \n",
    "                                     n_estimators = 100, \n",
    "                                     random_state=0,\n",
    "                              num_leaves = LGBM_grid.best_params_['num_leaves'],\n",
    "                                feature_fraction = LGBM_grid.best_params_['feature_fraction'], \n",
    "                              #bagging_fraction = LGBM_grid.best_params_['bagging_fraction'],\n",
    "                             max_depth = LGBM_grid.best_params_['max_depth'],\n",
    "                              max_bin = LGBM_grid.best_params_['max_bin'],\n",
    "                              lambda_l1 = LGBM_grid.best_params_['lambda_l1'],\n",
    "                              #lambda_l2 = LGBM_grid.best_params_['lambda_l2'],\n",
    "                            min_split_gain = LGBM_grid.best_params_['min_split_gain'],\n",
    "                            min_child_weight = LGBM_grid.best_params_['min_child_weight'])\n",
    "LGBM_grid_final_fit = LGBM_grid_final.fit(X_train, y_train)\n",
    "print('Predicting is over')"
   ]
  },
  {
   "cell_type": "code",
   "execution_count": 10,
   "metadata": {},
   "outputs": [
    {
     "name": "stdout",
     "output_type": "stream",
     "text": [
      "Accuracy:0.920\n",
      "Classification report\n",
      "             precision    recall  f1-score   support\n",
      "\n",
      "          0       0.92      1.00      0.96     84807\n",
      "          1       0.63      0.01      0.02      7447\n",
      "\n",
      "avg / total       0.90      0.92      0.88     92254\n",
      "\n",
      "Confusion matrix\n",
      "[[84770    37]\n",
      " [ 7385    62]]\n",
      "ROC AUC Score\n",
      "0.7530407216344904\n",
      "Feature importances: [33, 52, 80, 28, 12, 11, 43, 207, 145, 221, 5, 39, 88, 59, 18, 61, 207, 159, 71, 130, 108, 0, 12, 28, 0, 4, 1, 99, 12, 32, 51, 25, 36, 1, 1, 4, 28, 4, 2, 59, 268, 212, 184, 20, 13, 25, 19, 12, 11, 25, 21, 10, 21, 12, 15, 11, 18, 21, 24, 32, 18, 11, 7, 28, 17, 11, 32, 10, 11, 9, 18, 19, 28, 34, 13, 14, 13, 22, 12, 9, 18, 17, 20, 6, 9, 3, 4, 24, 9, 1, 34, 65, 26, 62, 86, 0, 61, 0, 1, 3, 0, 4, 0, 0, 1, 0, 5, 1, 0, 5, 0, 8, 0, 0, 0, 3, 8, 9, 10, 42, 69]\n",
      "Plot feature importances...\n"
     ]
    },
    {
     "data": {
      "image/png": "[encoded data removed]",
      "text/plain": [
       "<Figure size 432x288 with 1 Axes>"
      ]
     },
     "metadata": {},
     "output_type": "display_data"
    }
   ],
   "source": [
    "LGBM_grid_measure = measure_performance(X = X_test, y = y_test, clf = LGBM_grid_final, show_classification_report=True, show_confusion_matrix=True)\n",
    "\n",
    "# feature importances\n",
    "print('Feature importances:', list(LGBM_grid_final.feature_importances_))\n",
    "\n",
    "# visualization\n",
    "print('Plot feature importances...')\n",
    "ax = lgb.plot_importance(LGBM_grid_final_fit, max_num_features=10)\n",
    "plt.show()"
   ]
  },
  {
   "cell_type": "code",
   "execution_count": 12,
   "metadata": {},
   "outputs": [],
   "source": [
    "# Submission file\n",
    "application_test = pd.read_csv('/Users/francislin/Desktop/Machine_Learning_Workshop/Home Credit Default Risk/application_test.csv')\n",
    "test_df = label_encoder(application_test)[0]\n",
    "\n",
    "#Bayes Optimization\n",
    "'''\n",
    "out_bayes = pd.DataFrame({\"SK_ID_CURR\":test_df[\"SK_ID_CURR\"], \"TARGET\":LGBM_bayes.predict_proba(test_df)[:,1]})\n",
    "out_bayes.to_csv(\"submissions_toy_bayes.csv\", index=False)\n",
    "'''\n",
    "#Grid Search\n",
    "out_grid = pd.DataFrame({\"SK_ID_CURR\":test_df[\"SK_ID_CURR\"], \"TARGET\":LGBM_grid.predict_proba(test_df)[:,1]})\n",
    "out_grid.to_csv(\"submissions_HomeCredit_grid_V4.csv\", index=False)"
   ]
  },
  {
   "cell_type": "code",
   "execution_count": 13,
   "metadata": {},
   "outputs": [
    {
     "data": {
      "text/plain": [
       "'/Users/francislin/JrML/HomeCredit_test'"
      ]
     },
     "execution_count": 13,
     "metadata": {},
     "output_type": "execute_result"
    }
   ],
   "source": [
    "%pwd"
   ]
  },
  {
   "cell_type": "code",
   "execution_count": 14,
   "metadata": {},
   "outputs": [
    {
     "name": "stdout",
     "output_type": "stream",
     "text": [
      "lightGBM_v2:'feature_fraction': 0.4, 'max_bin': 20, 'max_depth': 6, 'min_child_weight': 7, 'min_split_gain': 0.05, 'num_leaves': 40Your submission scored 0.737\n",
      "lightGBM_v4:feature_fraction': 0.4, 'lambda_l1': 0.2, 'max_bin': 20, 'max_depth': 8, 'min_child_weight': 7,'min_split_gain': 0.05, 'num_leaves': 42}Your submission scored 0.739\n"
     ]
    }
   ],
   "source": [
    "print(\"lightGBM_v2:\"+\"'feature_fraction': 0.4, 'max_bin': 20, 'max_depth': 6, 'min_child_weight': 7, 'min_split_gain': \\\n",
    "0.05, 'num_leaves': 40\"+\"Your submission scored 0.737\")\n",
    "print(\"lightGBM_v4:\"+\"feature_fraction': 0.4, 'lambda_l1': 0.2, 'max_bin': 20, 'max_depth': 8, 'min_child_weight': 7,\\\n",
    "'min_split_gain': 0.05, 'num_leaves': 42}\"+\"Your submission scored 0.739\")"
   ]
  },
  {
   "cell_type": "code",
   "execution_count": null,
   "metadata": {},
   "outputs": [],
   "source": []
  }
 ],
 "metadata": {
  "kernelspec": {
   "display_name": "Python 3",
   "language": "python",
   "name": "python3"
  },
  "language_info": {
   "codemirror_mode": {
    "name": "ipython",
    "version": 3
   },
   "file_extension": ".py",
   "mimetype": "text/x-python",
   "name": "python",
   "nbconvert_exporter": "python",
   "pygments_lexer": "ipython3",
   "version": "3.6.5"
  }
 },
 "nbformat": 4,
 "nbformat_minor": 2
}

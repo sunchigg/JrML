{
 "cells": [
  {
   "cell_type": "code",
   "execution_count": 1,
   "metadata": {},
   "outputs": [
    {
     "name": "stderr",
     "output_type": "stream",
     "text": [
      "/usr/local/lib/python3.6/site-packages/sklearn/cross_validation.py:41: DeprecationWarning: This module was deprecated in version 0.18 in favor of the model_selection module into which all the refactored classes and functions are moved. Also note that the interface of the new CV iterators are different from that of this module. This module will be removed in 0.20.\n",
      "  \"This module will be removed in 0.20.\", DeprecationWarning)\n"
     ]
    }
   ],
   "source": [
    "import pandas as pd\n",
    "import warnings\n",
    "warnings.filterwarnings(\"ignore\")\n",
    "import lightgbm as lgb\n",
    "from lightgbm import LGBMClassifier\n",
    "from bayes_opt import BayesianOptimization\n",
    "#bayesian-optimization\n",
    "import matplotlib.pyplot as plt\n",
    "from sklearn import cross_validation"
   ]
  },
  {
   "cell_type": "code",
   "execution_count": 2,
   "metadata": {},
   "outputs": [],
   "source": [
    "# Function for Measure Performance\n",
    "from  sklearn  import  metrics\n",
    "def measure_performance(X,y,clf, show_accuracy=True, show_classification_report=True, show_confusion_matrix=True, show_roc_auc = True):\n",
    "    y_pred = clf.predict(X)\n",
    "    y_predprob = clf.predict_proba(X)[:,1]\n",
    "    if show_accuracy:\n",
    "        print (\"Accuracy:{0:.3f}\".format(metrics.accuracy_score(y,y_pred))),\"\\n\"\n",
    "\n",
    "    if show_classification_report:\n",
    "        print(\"Classification report\")\n",
    "        print(metrics.classification_report(y,y_pred)),\"\\n\"\n",
    "        \n",
    "    if show_confusion_matrix:\n",
    "        print(\"Confusion matrix\")\n",
    "        print(metrics.confusion_matrix(y,y_pred)),\"\\n\"  \n",
    "        \n",
    "    if show_roc_auc:\n",
    "        print(\"ROC AUC Score\")\n",
    "        print(metrics.roc_auc_score(y,y_predprob)),\"\\n\""
   ]
  },
  {
   "cell_type": "code",
   "execution_count": 3,
   "metadata": {},
   "outputs": [],
   "source": [
    "#Data Preparation for LightGBM\n",
    "import os\n",
    "application_train = pd.read_csv('/Users/francislin/Desktop/Machine_Learning_Workshop/Home Credit Default Risk/application_train.csv')\n",
    "\n",
    "# use LabelEncoder to convert categorical features to int type before construct Dataset\n",
    "from sklearn.preprocessing import LabelEncoder\n",
    "def label_encoder(input_df, encoder_dict=None):\n",
    "    \"\"\" Process a dataframe into a form useable by LightGBM \"\"\"\n",
    "    # Label encode categoricals\n",
    "    categorical_feats = input_df.columns[input_df.dtypes == 'object']\n",
    "    for feat in categorical_feats:\n",
    "        encoder = LabelEncoder()\n",
    "        input_df[feat] = encoder.fit_transform(input_df[feat].fillna('NULL'))\n",
    "    return input_df, categorical_feats.tolist(), encoder_dict\n",
    "application_train, categorical_feats, encoder_dict = label_encoder(application_train)\n",
    "X = application_train.drop('TARGET', axis=1)\n",
    "y = application_train.TARGET\n",
    "\n",
    "# Prepare dataset \n",
    "seed = 7\n",
    "test_size = 0.3\n",
    "X_train, X_test, y_train, y_test = cross_validation.train_test_split(X, y, test_size=test_size, random_state=seed)"
   ]
  },
  {
   "cell_type": "code",
   "execution_count": 4,
   "metadata": {},
   "outputs": [
    {
     "data": {
      "text/html": [
       "<div>\n",
       "<style scoped>\n",
       "    .dataframe tbody tr th:only-of-type {\n",
       "        vertical-align: middle;\n",
       "    }\n",
       "\n",
       "    .dataframe tbody tr th {\n",
       "        vertical-align: top;\n",
       "    }\n",
       "\n",
       "    .dataframe thead th {\n",
       "        text-align: right;\n",
       "    }\n",
       "</style>\n",
       "<table border=\"1\" class=\"dataframe\">\n",
       "  <thead>\n",
       "    <tr style=\"text-align: right;\">\n",
       "      <th></th>\n",
       "      <th>TARGET</th>\n",
       "      <th>SK_ID_CURR</th>\n",
       "    </tr>\n",
       "  </thead>\n",
       "  <tbody>\n",
       "    <tr>\n",
       "      <th>0</th>\n",
       "      <td>0</td>\n",
       "      <td>282686</td>\n",
       "    </tr>\n",
       "    <tr>\n",
       "      <th>1</th>\n",
       "      <td>1</td>\n",
       "      <td>24825</td>\n",
       "    </tr>\n",
       "  </tbody>\n",
       "</table>\n",
       "</div>"
      ],
      "text/plain": [
       "   TARGET  SK_ID_CURR\n",
       "0       0      282686\n",
       "1       1       24825"
      ]
     },
     "execution_count": 4,
     "metadata": {},
     "output_type": "execute_result"
    }
   ],
   "source": [
    "target_frq = application_train.groupby(by='TARGET', as_index=False).agg({'SK_ID_CURR': pd.Series.nunique})\n",
    "target_frq"
   ]
  },
  {
   "cell_type": "code",
   "execution_count": 4,
   "metadata": {},
   "outputs": [],
   "source": [
    "#bayesian-optimization\n",
    "def lgb_eval(num_leaves, feature_fraction, bagging_fraction, max_depth, lambda_l1, lambda_l2, min_split_gain, min_child_weight):\n",
    "    params = {'application':'binary','num_iterations':4000, 'learning_rate':0.05, 'early_stopping_round':100, 'metric':'auc'}\n",
    "    params[\"num_leaves\"] = int(round(num_leaves))\n",
    "    params['feature_fraction'] = max(min(feature_fraction, 1), 0)\n",
    "    params['bagging_fraction'] = max(min(bagging_fraction, 1), 0)\n",
    "    params['max_depth'] = round(max_depth)\n",
    "    params['lambda_l1'] = max(lambda_l1, 0)\n",
    "    params['lambda_l2'] = max(lambda_l2, 0)\n",
    "    params['min_split_gain'] = min_split_gain\n",
    "    params['min_child_weight'] = min_child_weight\n",
    "    cv_result = lgb.cv(params, train_data, nfold=n_folds, seed=random_seed, stratified=True, verbose_eval =200, metrics=['auc'])\n",
    "    return max(cv_result['auc-mean'])"
   ]
  },
  {
   "cell_type": "code",
   "execution_count": 5,
   "metadata": {},
   "outputs": [],
   "source": [
    "#Step 2: Set the range for each parameter (make the range as narrow as possible)\n",
    "lgbBO = BayesianOptimization(lgb_eval, {'num_leaves': (40, 50),\n",
    "                                        'feature_fraction': (0.1, 0.9),\n",
    "                                        'bagging_fraction': (0.8, 1),\n",
    "                                        'max_depth': (5, 8.99),\n",
    "                                        'lambda_l1': (0, 5),\n",
    "                                        'lambda_l2': (0, 3),\n",
    "                                        'min_split_gain': (0.001, 0.1),\n",
    "                                        'min_child_weight': (5, 50)}, random_state=0)"
   ]
  },
  {
   "cell_type": "code",
   "execution_count": 5,
   "metadata": {},
   "outputs": [],
   "source": [
    "# ### Put all together\n",
    "def bayes_parameter_opt_lgb(X, y, init_round=15, opt_round=25, n_folds=5, random_seed=6, n_estimators=10000, learning_rate=0.05, output_process=False):\n",
    "    # prepare data\n",
    "    train_data = lgb.Dataset(data=X, label=y, categorical_feature = categorical_feats, free_raw_data=False)\n",
    "    # parameters\n",
    "    def lgb_eval(num_leaves, feature_fraction, bagging_fraction, max_depth, lambda_l1, lambda_l2, min_split_gain, min_child_weight, max_bin):\n",
    "        params = {'application':'binary','num_iterations': n_estimators, 'learning_rate':learning_rate, 'early_stopping_round':100, 'metric':'auc'}\n",
    "        params[\"num_leaves\"] = int(round(num_leaves))\n",
    "        params['feature_fraction'] = max(min(feature_fraction, 1), 0)\n",
    "        params['bagging_fraction'] = max(min(bagging_fraction, 1), 0)\n",
    "        params['max_depth'] = int(round(max_depth))\n",
    "        params['lambda_l1'] = max(lambda_l1, 0)\n",
    "        params['lambda_l2'] = max(lambda_l2, 0)\n",
    "        params['min_split_gain'] = min_split_gain\n",
    "        params['min_child_weight'] = min_child_weight\n",
    "        params['max_bin'] = int(round(max_bin))\n",
    "        cv_result = lgb.cv(params, train_data, nfold=n_folds, seed=random_seed, stratified=True, verbose_eval =200, metrics=['auc'])\n",
    "        return max(cv_result['auc-mean'])\n",
    "    # range \n",
    "    lgbBO = BayesianOptimization(lgb_eval, {'num_leaves': (24, 45),\n",
    "                                            'feature_fraction': (0.1, 0.9),\n",
    "                                            'bagging_fraction': (0.1, 0.9),\n",
    "                                            'max_depth': (5, 9),\n",
    "                                            'lambda_l1': (0, 5),\n",
    "                                            'lambda_l2': (2, 5),\n",
    "                                            'min_split_gain': (0.03, 0.08),\n",
    "                                            'min_child_weight': (5, 50),\n",
    "                                           'max_bin': (4, 10)}, random_state=0)\n",
    "    # optimize\n",
    "    lgbBO.maximize(init_points=init_round, n_iter=opt_round)\n",
    "    \n",
    "    # output optimization process\n",
    "    if output_process==True: lgbBO.points_to_csv(\"bayes_opt_result.csv\")\n",
    "    \n",
    "    # return best parameters\n",
    "    return lgbBO.res['max']['max_params']"
   ]
  },
  {
   "cell_type": "code",
   "execution_count": 6,
   "metadata": {},
   "outputs": [
    {
     "name": "stdout",
     "output_type": "stream",
     "text": [
      "\u001b[31mInitialization\u001b[0m\n",
      "\u001b[94m------------------------------------------------------------------------------------------------------------------------------------------------------------------------------------\u001b[0m\n",
      " Step |   Time |      Value |   bagging_fraction |   feature_fraction |   lambda_l1 |   lambda_l2 |   max_bin |   max_depth |   min_child_weight |   min_split_gain |   num_leaves | \n",
      "    1 | 00m14s | \u001b[35m   0.74196\u001b[0m | \u001b[32m            0.7334\u001b[0m | \u001b[32m            0.6167\u001b[0m | \u001b[32m     4.8931\u001b[0m | \u001b[32m     3.9198\u001b[0m | \u001b[32m   6.1570\u001b[0m | \u001b[32m     5.3485\u001b[0m | \u001b[32m           32.7936\u001b[0m | \u001b[32m          0.0432\u001b[0m | \u001b[32m     35.5251\u001b[0m | \n",
      "    2 | 00m10s | \u001b[35m   0.74207\u001b[0m | \u001b[32m            0.5231\u001b[0m | \u001b[32m            0.4501\u001b[0m | \u001b[32m     3.9958\u001b[0m | \u001b[32m     2.4301\u001b[0m | \u001b[32m   6.6222\u001b[0m | \u001b[32m     5.0809\u001b[0m | \u001b[32m           32.5443\u001b[0m | \u001b[32m          0.0687\u001b[0m | \u001b[32m     39.0190\u001b[0m | \n",
      "    3 | 00m16s | \u001b[35m   0.74334\u001b[0m | \u001b[32m            0.5544\u001b[0m | \u001b[32m            0.8134\u001b[0m | \u001b[32m     2.3074\u001b[0m | \u001b[32m     4.8340\u001b[0m | \u001b[32m   8.1858\u001b[0m | \u001b[32m     8.3305\u001b[0m | \u001b[32m           32.7620\u001b[0m | \u001b[32m          0.0528\u001b[0m | \u001b[32m     36.6580\u001b[0m | \n",
      "    4 | 00m16s |    0.74275 |             0.8405 |             0.8709 |      3.9026 |      3.5655 |    4.3614 |      8.1126 |            47.4687 |           0.0584 |      35.4425 | \n",
      "    5 | 00m11s |    0.74285 |             0.1568 |             0.4068 |      0.5914 |      3.2440 |    8.0006 |      8.4800 |            35.6819 |           0.0309 |      32.8968 | \n",
      "\u001b[31mBayesian Optimization\u001b[0m\n",
      "\u001b[94m------------------------------------------------------------------------------------------------------------------------------------------------------------------------------------\u001b[0m\n",
      " Step |   Time |      Value |   bagging_fraction |   feature_fraction |   lambda_l1 |   lambda_l2 |   max_bin |   max_depth |   min_child_weight |   min_split_gain |   num_leaves | \n",
      "    6 | 00m33s |    0.74308 |             0.5144 |             0.4732 |      0.1212 |      3.8442 |    5.2776 |      8.6448 |             6.4663 |           0.0496 |      44.3790 | \n",
      "    7 | 00m32s | \u001b[35m   0.74336\u001b[0m | \u001b[32m            0.8974\u001b[0m | \u001b[32m            0.5716\u001b[0m | \u001b[32m     0.3155\u001b[0m | \u001b[32m     4.5972\u001b[0m | \u001b[32m   9.7762\u001b[0m | \u001b[32m     7.3998\u001b[0m | \u001b[32m           49.6320\u001b[0m | \u001b[32m          0.0726\u001b[0m | \u001b[32m     44.9628\u001b[0m | \n",
      "    8 | 00m28s |    0.74254 |             0.8212 |             0.2613 |      4.9176 |      2.3085 |    8.9926 |      8.8968 |             9.7240 |           0.0398 |      44.3476 | \n",
      "    9 | 00m36s |    0.74312 |             0.1318 |             0.7950 |      4.5608 |      4.6557 |    5.2785 |      8.8395 |            39.2702 |           0.0675 |      44.5220 | \n",
      "   10 | 00m37s | \u001b[35m   0.74362\u001b[0m | \u001b[32m            0.1074\u001b[0m | \u001b[32m            0.8835\u001b[0m | \u001b[32m     0.3459\u001b[0m | \u001b[32m     4.1481\u001b[0m | \u001b[32m   9.2784\u001b[0m | \u001b[32m     8.7631\u001b[0m | \u001b[32m            5.1040\u001b[0m | \u001b[32m          0.0696\u001b[0m | \u001b[32m     44.8523\u001b[0m | \n",
      "   11 | 00m37s |    0.74333 |             0.5774 |             0.8975 |      0.2048 |      3.1237 |    9.1366 |      8.8188 |            22.3036 |           0.0403 |      44.0149 | \n",
      "   12 | 00m35s |    0.74272 |             0.8331 |             0.7893 |      0.2677 |      2.7170 |    8.5512 |      8.8719 |             5.0263 |           0.0433 |      24.7297 | \n",
      "   13 | 00m37s |    0.74288 |             0.1817 |             0.8959 |      3.8018 |      3.9013 |    9.9130 |      8.9416 |            49.6343 |           0.0405 |      33.8794 | \n",
      "   14 | 00m28s |    0.74018 |             0.1761 |             0.1895 |      0.1070 |      4.9358 |    9.3297 |      8.8365 |             5.0279 |           0.0459 |      32.6474 | \n",
      "   15 | 00m36s |    0.74305 |             0.4627 |             0.8096 |      4.4237 |      2.1842 |    4.2462 |      6.5031 |             5.0904 |           0.0445 |      37.5028 | \n",
      "{'num_leaves': 44.85234325616407, 'feature_fraction': 0.8835041315189359, 'bagging_fraction': 0.10742063262190903, 'max_depth': 8.763094837100597, 'lambda_l1': 0.34589177963759377, 'lambda_l2': 4.148056790558234, 'min_split_gain': 0.0696160555824856, 'min_child_weight': 5.104024384521394, 'max_bin': 9.278441550160654}\n"
     ]
    }
   ],
   "source": [
    "opt_params = bayes_parameter_opt_lgb(X, y, init_round=5, opt_round=10, n_folds=3, random_seed=6, n_estimators=100, learning_rate=0.05)\n",
    "print(opt_params)"
   ]
  },
  {
   "cell_type": "code",
   "execution_count": 7,
   "metadata": {},
   "outputs": [
    {
     "name": "stdout",
     "output_type": "stream",
     "text": [
      "Training until validation scores don't improve for 100 rounds.\n",
      "[100]\ttraining's auc: 0.775334\tvalid_1's auc: 0.749896\n",
      "[200]\ttraining's auc: 0.797389\tvalid_1's auc: 0.752349\n",
      "[300]\ttraining's auc: 0.814608\tvalid_1's auc: 0.752256\n",
      "Early stopping, best iteration is:\n",
      "[246]\ttraining's auc: 0.80553\tvalid_1's auc: 0.752441\n"
     ]
    }
   ],
   "source": [
    "# LGBM with Bayesian Optimization\n",
    "LGBM_bayes = LGBMClassifier(\n",
    "    num_leaves=45,\n",
    "    feature_fraction = 0.8835041315189359,\n",
    "    bagging_fraction = 0.10742063262190903,\n",
    "    max_depth=9,\n",
    "    lambda_l1 = 0.34589177963759377,\n",
    "    lambda_l2 = 4.148056790558234,\n",
    "    min_split_gain=0.0696160555824856,\n",
    "    min_child_weight=5,\n",
    "    max_bin = 9,\n",
    "    random_state=0, \n",
    "    n_estimators=100, \n",
    "    learning_rate=0.05,\n",
    "    application = 'binary',\n",
    "    num_iterations = 10000, \n",
    "    early_stopping_round = 100, \n",
    "    metric = 'auc'\n",
    "  )\n",
    "\n",
    "\n",
    "\n",
    "LGBM_bayes_fit = LGBM_bayes.fit(X_train, y_train, eval_set=[(X_train, y_train), (X_test, y_test)], \n",
    "    eval_metric= 'auc', verbose= 100, early_stopping_rounds= 200)\n"
   ]
  },
  {
   "cell_type": "code",
   "execution_count": 11,
   "metadata": {},
   "outputs": [
    {
     "name": "stderr",
     "output_type": "stream",
     "text": [
      "/usr/local/lib/python3.6/site-packages/sklearn/preprocessing/label.py:151: DeprecationWarning: The truth value of an empty array is ambiguous. Returning False, but in future this will result in an error. Use `array.size > 0` to check that an array is not empty.\n",
      "  if diff:\n"
     ]
    },
    {
     "name": "stdout",
     "output_type": "stream",
     "text": [
      "Accuracy:0.920\n",
      "Classification report\n",
      "             precision    recall  f1-score   support\n",
      "\n",
      "          0       0.92      1.00      0.96     84807\n",
      "          1       0.57      0.02      0.04      7447\n",
      "\n",
      "avg / total       0.89      0.92      0.88     92254\n",
      "\n",
      "Confusion matrix\n",
      "[[84678   129]\n",
      " [ 7276   171]]\n",
      "ROC AUC Score\n",
      "0.758545958670391\n",
      "Feature importances: [384, 64, 160, 10, 34, 38, 356, 584, 525, 512, 75, 84, 148, 144, 55, 454, 673, 477, 474, 549, 365, 0, 1, 71, 0, 34, 8, 271, 71, 43, 78, 176, 270, 3, 9, 5, 70, 15, 25, 322, 856, 665, 799, 108, 130, 127, 114, 112, 31, 62, 55, 63, 137, 82, 103, 70, 136, 115, 149, 150, 106, 108, 24, 75, 25, 48, 156, 81, 132, 35, 151, 75, 101, 112, 69, 88, 24, 55, 52, 54, 124, 72, 94, 25, 74, 21, 16, 163, 56, 2, 125, 82, 124, 70, 473, 0, 88, 0, 8, 2, 0, 5, 0, 0, 12, 0, 33, 21, 0, 19, 0, 28, 0, 0, 0, 2, 23, 27, 79, 105, 321]\n",
      "Plot feature importances...\n"
     ]
    },
    {
     "data": {
      "image/png": "[encoded data removed]",
      "text/plain": [
       "<Figure size 432x288 with 1 Axes>"
      ]
     },
     "metadata": {},
     "output_type": "display_data"
    }
   ],
   "source": [
    "# measure performance\n",
    "LGBM_bayes_measure = measure_performance(X = X_test, y = y_test, clf = LGBM_bayes, show_classification_report=True, show_confusion_matrix=True, show_roc_auc = True)\n",
    "\n",
    "# feature importances\n",
    "print('Feature importances:', list(LGBM_bayes.feature_importances_))\n",
    "\n",
    "# visualization\n",
    "print('Plot feature importances...')\n",
    "ax = lgb.plot_importance(LGBM_bayes_fit, max_num_features=10)\n",
    "plt.show()"
   ]
  },
  {
   "cell_type": "code",
   "execution_count": 8,
   "metadata": {},
   "outputs": [
    {
     "data": {
      "text/plain": [
       "'/Users/francislin/JrML/HomeCredit_test'"
      ]
     },
     "execution_count": 8,
     "metadata": {},
     "output_type": "execute_result"
    }
   ],
   "source": [
    "# Submission file\n",
    "application_test = pd.read_csv('/Users/francislin/Desktop/Machine_Learning_Workshop/Home Credit Default Risk/application_test.csv')\n",
    "test_df = label_encoder(application_test)[0]\n",
    "\n",
    "#Bayes Optimization\n",
    "out_bayes = pd.DataFrame({\"SK_ID_CURR\":test_df[\"SK_ID_CURR\"], \"TARGET\":LGBM_bayes.predict_proba(test_df)[:,1]})\n",
    "out_bayes.to_csv(\"submissions_HomeCredit_bayes_opt_V2.csv\", index=False)\n",
    "%pwd"
   ]
  },
  {
   "cell_type": "code",
   "execution_count": 9,
   "metadata": {},
   "outputs": [
    {
     "name": "stdout",
     "output_type": "stream",
     "text": [
      "lightGBM_V1:'num_leaves': 44.129734576443774, 'feature_fraction': 0.8387692998325885, 'bagging_fraction': 0.964379127781789, 'max_depth': 8.696299192514102, 'lambda_l1': 0.5149412705392703, 'lambda_l2': 2.105089121909636, 'min_split_gain': 0.03571009178546206, 'min_child_weight': 6.888302858167483, 'max_bin': 49.43907550695737Your submission scored 0.739\n",
      "lightGBM_V2:'num_leaves': 44.85234325616407, 'feature_fraction': 0.8835041315189359, 'bagging_fraction': 0.10742063262190903, 'max_depth': 8.763094837100597, 'lambda_l1': 0.34589177963759377, 'lambda_l2': 4.148056790558234, 'min_split_gain': 0.0696160555824856, 'min_child_weight': 5.104024384521394, 'max_bin': 9.278441550160654Your submission scored 0.737\n"
     ]
    }
   ],
   "source": [
    "print(\"lightGBM_V1:\"+\"'num_leaves': 44.129734576443774, 'feature_fraction': 0.8387692998325885, 'bagging_fraction': \\\n",
    "0.964379127781789, 'max_depth': 8.696299192514102, 'lambda_l1': 0.5149412705392703, 'lambda_l2': 2.105089121909636, \\\n",
    "'min_split_gain': 0.03571009178546206, 'min_child_weight': 6.888302858167483, \\\n",
    "'max_bin': 49.43907550695737\"+\"Your submission scored 0.739\")\n",
    "print(\"lightGBM_V2:\"+\"'num_leaves': 44.85234325616407, 'feature_fraction': 0.8835041315189359, 'bagging_fraction': 0.10742063262190903, 'max_depth': 8.763094837100597, 'lambda_l1': 0.34589177963759377, 'lambda_l2': 4.148056790558234, 'min_split_gain': 0.0696160555824856, 'min_child_weight': 5.104024384521394, 'max_bin': 9.278441550160654\"+\"Your submission scored 0.737\")\n"
   ]
  },
  {
   "cell_type": "code",
   "execution_count": null,
   "metadata": {},
   "outputs": [],
   "source": []
  }
 ],
 "metadata": {
  "kernelspec": {
   "display_name": "Python 3",
   "language": "python",
   "name": "python3"
  },
  "language_info": {
   "codemirror_mode": {
    "name": "ipython",
    "version": 3
   },
   "file_extension": ".py",
   "mimetype": "text/x-python",
   "name": "python",
   "nbconvert_exporter": "python",
   "pygments_lexer": "ipython3",
   "version": "3.6.5"
  }
 },
 "nbformat": 4,
 "nbformat_minor": 2
}

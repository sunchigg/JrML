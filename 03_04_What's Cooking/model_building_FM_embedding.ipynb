{
 "cells": [
  {
   "cell_type": "code",
   "execution_count": 24,
   "metadata": {},
   "outputs": [],
   "source": [
    "# load package\n",
    "import numpy as np\n",
    "import pandas as pd\n",
    "from collections import Counter\n",
    "import lightgbm as lgb\n",
    "#from lightgbm import LGBMClassifier\n",
    "from sklearn.model_selection import GridSearchCV\n",
    "from sklearn import metrics\n",
    "import pickle\n",
    "\n",
    "# set path\n",
    "import os\n",
    "default_path = \"/Users/francislin/JrML/03_04_What's Cooking/\"\n",
    "os.chdir(default_path)\n",
    "\n",
    "# skip interaction warning\n",
    "import warnings; \n",
    "warnings.filterwarnings('ignore')\n",
    "#你可以选择修改 ast_note_iteractively kernel 选项来使得 Jupyter 为每一行的变量或语句执行这个操作，以便你可以立即看到多条语句一起输出\n",
    "from IPython.core.interactiveshell import InteractiveShell\n",
    "InteractiveShell.ast_node_interactivity = \"all\""
   ]
  },
  {
   "cell_type": "code",
   "execution_count": 25,
   "metadata": {},
   "outputs": [],
   "source": [
    "with open('./data/all_data_emb_k32.pickle','rb') as f:\n",
    "    df= pickle.load(f)"
   ]
  },
  {
   "cell_type": "code",
   "execution_count": 26,
   "metadata": {},
   "outputs": [
    {
     "data": {
      "text/plain": [
       "Index(['id', 'cuisine', 'greek_0', 'greek_1', 'greek_2', 'greek_3', 'greek_4',\n",
       "       'greek_5', 'greek_6', 'greek_7',\n",
       "       ...\n",
       "       'russian_22', 'russian_23', 'russian_24', 'russian_25', 'russian_26',\n",
       "       'russian_27', 'russian_28', 'russian_29', 'russian_30', 'russian_31'],\n",
       "      dtype='object', length=642)"
      ]
     },
     "execution_count": 26,
     "metadata": {},
     "output_type": "execute_result"
    }
   ],
   "source": [
    "# 區分train test\n",
    "dataTrain = df[pd.notnull(df['cuisine'])]\n",
    "dataTest = df[~pd.notnull(df['cuisine'])]\n",
    "dataTrain.columns\n",
    "del(df)"
   ]
  },
  {
   "cell_type": "code",
   "execution_count": 27,
   "metadata": {},
   "outputs": [],
   "source": [
    "#dataTrain = dataTrain\n",
    "#去掉y\n",
    "dataTest = dataTest.drop(['id','cuisine'],axis=1)\n",
    "#去掉key\n",
    "X_feature = dataTrain.drop(['id','cuisine'],axis=1)\n",
    "y_t =dataTrain['cuisine']"
   ]
  },
  {
   "cell_type": "code",
   "execution_count": 28,
   "metadata": {},
   "outputs": [
    {
     "data": {
      "text/html": [
       "<div>\n",
       "<style scoped>\n",
       "    .dataframe tbody tr th:only-of-type {\n",
       "        vertical-align: middle;\n",
       "    }\n",
       "\n",
       "    .dataframe tbody tr th {\n",
       "        vertical-align: top;\n",
       "    }\n",
       "\n",
       "    .dataframe thead th {\n",
       "        text-align: right;\n",
       "    }\n",
       "</style>\n",
       "<table border=\"1\" class=\"dataframe\">\n",
       "  <thead>\n",
       "    <tr style=\"text-align: right;\">\n",
       "      <th></th>\n",
       "      <th>greek_0</th>\n",
       "      <th>greek_1</th>\n",
       "      <th>greek_2</th>\n",
       "      <th>greek_3</th>\n",
       "      <th>greek_4</th>\n",
       "      <th>greek_5</th>\n",
       "      <th>greek_6</th>\n",
       "      <th>greek_7</th>\n",
       "      <th>greek_8</th>\n",
       "      <th>greek_9</th>\n",
       "      <th>...</th>\n",
       "      <th>russian_22</th>\n",
       "      <th>russian_23</th>\n",
       "      <th>russian_24</th>\n",
       "      <th>russian_25</th>\n",
       "      <th>russian_26</th>\n",
       "      <th>russian_27</th>\n",
       "      <th>russian_28</th>\n",
       "      <th>russian_29</th>\n",
       "      <th>russian_30</th>\n",
       "      <th>russian_31</th>\n",
       "    </tr>\n",
       "  </thead>\n",
       "  <tbody>\n",
       "    <tr>\n",
       "      <th>0</th>\n",
       "      <td>1.356402e-07</td>\n",
       "      <td>1.658690e-07</td>\n",
       "      <td>7.074824e-08</td>\n",
       "      <td>1.529251e-07</td>\n",
       "      <td>5.191751e-08</td>\n",
       "      <td>1.183570e-07</td>\n",
       "      <td>1.032993e-07</td>\n",
       "      <td>7.768111e-08</td>\n",
       "      <td>1.485513e-07</td>\n",
       "      <td>1.225367e-07</td>\n",
       "      <td>...</td>\n",
       "      <td>-2.928500e-08</td>\n",
       "      <td>-3.011975e-09</td>\n",
       "      <td>3.551468e-08</td>\n",
       "      <td>-9.313183e-09</td>\n",
       "      <td>1.027598e-08</td>\n",
       "      <td>-3.201952e-09</td>\n",
       "      <td>2.477666e-08</td>\n",
       "      <td>2.400870e-08</td>\n",
       "      <td>1.004919e-08</td>\n",
       "      <td>4.257494e-08</td>\n",
       "    </tr>\n",
       "    <tr>\n",
       "      <th>1</th>\n",
       "      <td>-3.599593e-08</td>\n",
       "      <td>-3.449493e-08</td>\n",
       "      <td>-4.894840e-08</td>\n",
       "      <td>-3.075692e-08</td>\n",
       "      <td>-3.375822e-08</td>\n",
       "      <td>-3.766603e-08</td>\n",
       "      <td>-4.000164e-08</td>\n",
       "      <td>-4.445520e-08</td>\n",
       "      <td>-2.624439e-08</td>\n",
       "      <td>-4.027262e-08</td>\n",
       "      <td>...</td>\n",
       "      <td>1.859867e-09</td>\n",
       "      <td>8.810141e-08</td>\n",
       "      <td>1.088635e-07</td>\n",
       "      <td>4.218034e-08</td>\n",
       "      <td>5.461292e-08</td>\n",
       "      <td>4.633686e-08</td>\n",
       "      <td>1.138715e-07</td>\n",
       "      <td>8.886790e-08</td>\n",
       "      <td>9.745802e-08</td>\n",
       "      <td>1.208372e-07</td>\n",
       "    </tr>\n",
       "    <tr>\n",
       "      <th>2</th>\n",
       "      <td>1.103896e-05</td>\n",
       "      <td>1.050039e-05</td>\n",
       "      <td>4.419902e-06</td>\n",
       "      <td>5.689063e-06</td>\n",
       "      <td>7.637005e-06</td>\n",
       "      <td>4.067915e-06</td>\n",
       "      <td>1.024807e-05</td>\n",
       "      <td>4.095847e-06</td>\n",
       "      <td>1.612509e-06</td>\n",
       "      <td>5.657254e-06</td>\n",
       "      <td>...</td>\n",
       "      <td>3.615708e-06</td>\n",
       "      <td>8.815463e-06</td>\n",
       "      <td>6.749708e-06</td>\n",
       "      <td>1.095223e-05</td>\n",
       "      <td>7.768596e-06</td>\n",
       "      <td>9.094721e-06</td>\n",
       "      <td>2.476099e-06</td>\n",
       "      <td>8.813379e-06</td>\n",
       "      <td>2.013316e-06</td>\n",
       "      <td>9.461340e-06</td>\n",
       "    </tr>\n",
       "    <tr>\n",
       "      <th>3</th>\n",
       "      <td>-2.019742e-08</td>\n",
       "      <td>-1.815091e-08</td>\n",
       "      <td>-1.837140e-08</td>\n",
       "      <td>-1.285076e-08</td>\n",
       "      <td>-1.221861e-08</td>\n",
       "      <td>-2.057284e-08</td>\n",
       "      <td>-1.781205e-08</td>\n",
       "      <td>-2.021390e-08</td>\n",
       "      <td>-1.176155e-08</td>\n",
       "      <td>-1.887218e-08</td>\n",
       "      <td>...</td>\n",
       "      <td>1.787777e-08</td>\n",
       "      <td>1.438721e-07</td>\n",
       "      <td>1.233514e-07</td>\n",
       "      <td>7.295086e-08</td>\n",
       "      <td>6.388265e-08</td>\n",
       "      <td>7.278023e-08</td>\n",
       "      <td>1.536631e-07</td>\n",
       "      <td>1.142229e-07</td>\n",
       "      <td>1.402663e-07</td>\n",
       "      <td>1.434954e-07</td>\n",
       "    </tr>\n",
       "    <tr>\n",
       "      <th>4</th>\n",
       "      <td>3.954460e-05</td>\n",
       "      <td>1.443133e-05</td>\n",
       "      <td>1.167779e-05</td>\n",
       "      <td>3.141066e-05</td>\n",
       "      <td>2.526310e-05</td>\n",
       "      <td>3.226248e-05</td>\n",
       "      <td>1.061126e-05</td>\n",
       "      <td>3.342805e-05</td>\n",
       "      <td>4.641153e-05</td>\n",
       "      <td>1.535157e-05</td>\n",
       "      <td>...</td>\n",
       "      <td>1.498320e-05</td>\n",
       "      <td>2.908074e-05</td>\n",
       "      <td>1.741402e-05</td>\n",
       "      <td>5.240723e-05</td>\n",
       "      <td>5.091304e-05</td>\n",
       "      <td>4.274395e-05</td>\n",
       "      <td>2.789780e-05</td>\n",
       "      <td>2.428468e-05</td>\n",
       "      <td>5.132026e-05</td>\n",
       "      <td>4.562938e-05</td>\n",
       "    </tr>\n",
       "  </tbody>\n",
       "</table>\n",
       "<p>5 rows × 640 columns</p>\n",
       "</div>"
      ],
      "text/plain": [
       "        greek_0       greek_1       greek_2       greek_3       greek_4  \\\n",
       "0  1.356402e-07  1.658690e-07  7.074824e-08  1.529251e-07  5.191751e-08   \n",
       "1 -3.599593e-08 -3.449493e-08 -4.894840e-08 -3.075692e-08 -3.375822e-08   \n",
       "2  1.103896e-05  1.050039e-05  4.419902e-06  5.689063e-06  7.637005e-06   \n",
       "3 -2.019742e-08 -1.815091e-08 -1.837140e-08 -1.285076e-08 -1.221861e-08   \n",
       "4  3.954460e-05  1.443133e-05  1.167779e-05  3.141066e-05  2.526310e-05   \n",
       "\n",
       "        greek_5       greek_6       greek_7       greek_8       greek_9  \\\n",
       "0  1.183570e-07  1.032993e-07  7.768111e-08  1.485513e-07  1.225367e-07   \n",
       "1 -3.766603e-08 -4.000164e-08 -4.445520e-08 -2.624439e-08 -4.027262e-08   \n",
       "2  4.067915e-06  1.024807e-05  4.095847e-06  1.612509e-06  5.657254e-06   \n",
       "3 -2.057284e-08 -1.781205e-08 -2.021390e-08 -1.176155e-08 -1.887218e-08   \n",
       "4  3.226248e-05  1.061126e-05  3.342805e-05  4.641153e-05  1.535157e-05   \n",
       "\n",
       "       ...         russian_22    russian_23    russian_24    russian_25  \\\n",
       "0      ...      -2.928500e-08 -3.011975e-09  3.551468e-08 -9.313183e-09   \n",
       "1      ...       1.859867e-09  8.810141e-08  1.088635e-07  4.218034e-08   \n",
       "2      ...       3.615708e-06  8.815463e-06  6.749708e-06  1.095223e-05   \n",
       "3      ...       1.787777e-08  1.438721e-07  1.233514e-07  7.295086e-08   \n",
       "4      ...       1.498320e-05  2.908074e-05  1.741402e-05  5.240723e-05   \n",
       "\n",
       "     russian_26    russian_27    russian_28    russian_29    russian_30  \\\n",
       "0  1.027598e-08 -3.201952e-09  2.477666e-08  2.400870e-08  1.004919e-08   \n",
       "1  5.461292e-08  4.633686e-08  1.138715e-07  8.886790e-08  9.745802e-08   \n",
       "2  7.768596e-06  9.094721e-06  2.476099e-06  8.813379e-06  2.013316e-06   \n",
       "3  6.388265e-08  7.278023e-08  1.536631e-07  1.142229e-07  1.402663e-07   \n",
       "4  5.091304e-05  4.274395e-05  2.789780e-05  2.428468e-05  5.132026e-05   \n",
       "\n",
       "     russian_31  \n",
       "0  4.257494e-08  \n",
       "1  1.208372e-07  \n",
       "2  9.461340e-06  \n",
       "3  1.434954e-07  \n",
       "4  4.562938e-05  \n",
       "\n",
       "[5 rows x 640 columns]"
      ]
     },
     "execution_count": 28,
     "metadata": {},
     "output_type": "execute_result"
    }
   ],
   "source": [
    "X_feature.head()"
   ]
  },
  {
   "cell_type": "code",
   "execution_count": 29,
   "metadata": {},
   "outputs": [],
   "source": [
    "#把上面dataTrain.columns的結果貼到dataTrain，再去掉'Survived'\n",
    "from sklearn.model_selection import train_test_split\n",
    "#拿掉feature_importances低的因子\n",
    "X_train, X_test, y_train, y_test = train_test_split(X_feature, y_t, test_size=0.3, random_state=13)"
   ]
  },
  {
   "cell_type": "code",
   "execution_count": 30,
   "metadata": {},
   "outputs": [],
   "source": [
    "# Function for Measure Performance\n",
    "from  sklearn  import  metrics\n",
    "def measure_performance(X,y,clf, show_accuracy=True, show_classification_report=True, show_confusion_matrix=True, show_roc_auc = True):\n",
    "    y_pred = clf.predict(X)\n",
    "    y_predprob = clf.predict_proba(X)[:,1]\n",
    "    if show_accuracy:\n",
    "        print (\"Accuracy:{0:.3f}\".format(metrics.accuracy_score(y,y_pred))),\"\\n\"\n",
    "\n",
    "    if show_classification_report:\n",
    "        print(\"Classification report\")\n",
    "        print(metrics.classification_report(y,y_pred)),\"\\n\"\n",
    "        \n",
    "    if show_confusion_matrix:\n",
    "        print(\"Confusion matrix\")\n",
    "        print(metrics.confusion_matrix(y,y_pred)),\"\\n\"  \n",
    "        \n",
    "    if show_roc_auc:\n",
    "        print(\"ROC AUC Score\")\n",
    "        print(metrics.roc_auc_score(y,y_predprob)),\"\\n\""
   ]
  },
  {
   "cell_type": "code",
   "execution_count": 31,
   "metadata": {},
   "outputs": [],
   "source": [
    "X_train_array = X_train.values\n",
    "X_test_array = X_test.values"
   ]
  },
  {
   "cell_type": "code",
   "execution_count": 32,
   "metadata": {},
   "outputs": [
    {
     "name": "stdout",
     "output_type": "stream",
     "text": [
      "CPU times: user 7min 56s, sys: 9.22 s, total: 8min 5s\n",
      "Wall time: 2min 16s\n"
     ]
    }
   ],
   "source": [
    "%%time\n",
    "import lightgbm as lgb\n",
    "lgb = lgb.LGBMClassifier(object='multiclass', num_class=20, max_depth=8,learning_rate=0.25)\n",
    "lgb_fit=lgb.fit(X_train,y_train)"
   ]
  },
  {
   "cell_type": "code",
   "execution_count": 33,
   "metadata": {},
   "outputs": [],
   "source": [
    "y_pred= lgb_fit.predict(X_test)"
   ]
  },
  {
   "cell_type": "code",
   "execution_count": 34,
   "metadata": {},
   "outputs": [
    {
     "data": {
      "text/plain": [
       "array([0.52525253, 0.26911315, 0.55319149, 0.71977401, 0.39583333,\n",
       "       0.48700063, 0.59931507, 0.78947368, 0.41423948, 0.7531883 ,\n",
       "       0.64028777, 0.64900662, 0.61339093, 0.82693774, 0.54807692,\n",
       "       0.28019324, 0.61080711, 0.28644501, 0.62406816, 0.42307692])"
      ]
     },
     "execution_count": 34,
     "metadata": {},
     "output_type": "execute_result"
    },
    {
     "data": {
      "text/plain": [
       "0.5504336050637574"
      ]
     },
     "execution_count": 34,
     "metadata": {},
     "output_type": "execute_result"
    },
    {
     "data": {
      "text/plain": [
       "0.6680633537249644"
      ]
     },
     "execution_count": 34,
     "metadata": {},
     "output_type": "execute_result"
    }
   ],
   "source": [
    "from sklearn.metrics import f1_score\n",
    "f1_score(y_test,y_pred,average=None)\n",
    "f1_score(y_test,y_pred,average='macro')\n",
    "from sklearn.metrics import accuracy_score\n",
    "accuracy_score(y_pred, y_test)"
   ]
  },
  {
   "cell_type": "code",
   "execution_count": 88,
   "metadata": {
    "collapsed": true
   },
   "outputs": [
    {
     "data": {
      "text/plain": [
       "array([[  72,    1,    2,    1,    3,    4,    0,    0,    0,   20,    0,\n",
       "           1,    0,   13,    0,    0,   11,    1,    1,    1],\n",
       "       [   0,   68,    2,    1,    0,   25,    1,    4,   17,   31,    3,\n",
       "           0,    0,    3,    0,    4,   60,    0,    0,    0],\n",
       "       [   0,    2,  309,    1,    3,   17,    1,    1,    0,   28,    1,\n",
       "           0,    0,   20,    1,    0,   70,    2,    0,    0],\n",
       "       [   1,    0,    2,  672,    6,    9,    2,    3,    0,   11,    0,\n",
       "          22,   21,   10,    1,    0,   32,    0,   22,   14],\n",
       "       [  10,    0,    0,   34,  130,    3,    0,    2,    0,   13,    0,\n",
       "           3,    1,    6,    0,    0,   29,    1,    9,    8],\n",
       "       [   1,    7,    7,    2,    3,  437,    7,    2,   11,  176,    3,\n",
       "           1,    0,    6,    3,    9,   68,   11,    1,    1],\n",
       "       [   0,    1,    0,    0,    0,    5,  240,    7,    0,   71,    0,\n",
       "           0,    1,    6,    4,    0,    6,    5,    0,    0],\n",
       "       [   1,    1,    0,    4,    0,    5,    8,  822,    1,   15,    3,\n",
       "           2,    0,   30,    8,    1,   17,    0,    7,    0],\n",
       "       [   0,    9,    0,    1,    0,   22,    0,    4,   76,   11,    1,\n",
       "           0,    1,    1,    0,    4,   52,    3,    0,    0],\n",
       "       [   2,    5,    5,    3,    1,   90,   28,    5,    5, 2151,    0,\n",
       "           0,    2,   26,    3,    3,   81,    7,    3,    0],\n",
       "       [   2,    2,    4,    2,    0,    3,    1,    3,    0,    1,  106,\n",
       "           0,    0,   10,    0,    1,   23,    0,    1,    0],\n",
       "       [   0,    2,    0,   47,    3,    4,    0,   41,    0,   14,    1,\n",
       "         280,    7,    5,    0,    3,    8,    0,    3,    2],\n",
       "       [   0,    0,    0,   38,    2,    0,    0,    0,    0,    3,    0,\n",
       "          10,  177,    5,    0,    0,    4,    0,    2,    4],\n",
       "       [   2,    1,    1,    6,    3,   20,    2,    4,    1,   49,    1,\n",
       "           2,    0, 1757,    2,    0,   64,   14,    4,    1],\n",
       "       [   0,    0,    0,    0,    0,    4,   13,   19,    0,   25,    3,\n",
       "           1,    0,    6,  160,    0,    8,    2,    1,    0],\n",
       "       [   1,    5,    1,    0,    0,   17,    0,    2,    1,   36,    1,\n",
       "           0,    0,    5,    1,   45,   28,    2,    0,    0],\n",
       "       [   1,    9,   43,    3,    3,   34,    2,    9,    8,  103,    2,\n",
       "           3,    2,   40,    1,    6, 1000,    3,    3,    0],\n",
       "       [   1,    0,    4,    1,    3,   15,    1,    5,    1,   65,    0,\n",
       "           0,    0,   34,    6,    1,   12,  113,    1,    0],\n",
       "       [   1,    0,    1,   37,    7,    2,    0,   18,    0,    4,    1,\n",
       "           6,    5,   10,    0,    0,    5,    0,  371,   20],\n",
       "       [   1,    0,    0,   21,    8,    2,    1,    5,    0,    4,    0,\n",
       "           5,    1,    5,    0,    0,    5,    1,   52,  136]])"
      ]
     },
     "execution_count": 88,
     "metadata": {},
     "output_type": "execute_result"
    }
   ],
   "source": [
    "from sklearn.metrics import confusion_matrix\n",
    "confusion_matrix(y_test,y_pred)"
   ]
  },
  {
   "cell_type": "code",
   "execution_count": 40,
   "metadata": {},
   "outputs": [
    {
     "name": "stdout",
     "output_type": "stream",
     "text": [
      "Start training...\n"
     ]
    },
    {
     "data": {
      "text/plain": [
       "GridSearchCV(cv='warn', error_score='raise-deprecating',\n",
       "       estimator=LGBMClassifier(boosting_type='gbdt', class_weight=None, colsample_bytree=1.0,\n",
       "        learning_rate=0.1, max_depth=-1, min_child_samples=20,\n",
       "        min_child_weight=0.001, min_split_gain=0.0, n_estimators=100,\n",
       "        n_jobs=-1, num_class=20, num_leaves=31, object='multiclass',\n",
       "        objective=None, random_state=0, reg_alpha=0.0, reg_lambda=0.0,\n",
       "        silent=True, subsample=1.0, subsample_for_bin=200000,\n",
       "        subsample_freq=0),\n",
       "       fit_params=None, iid='warn', n_jobs=None,\n",
       "       param_grid={'learning_rate': [0.11], 'num_leaves': [64], 'feature_fraction': [0.8], 'bagging_fraction': [0.9], 'max_depth': [9], 'bagging_freq': [4], 'lambda_l1': [20], 'lambda_l2': [7], 'min_child_weight': [2]},\n",
       "       pre_dispatch='2*n_jobs', refit=True, return_train_score='warn',\n",
       "       scoring='accuracy', verbose=0)"
      ]
     },
     "execution_count": 40,
     "metadata": {},
     "output_type": "execute_result"
    },
    {
     "name": "stdout",
     "output_type": "stream",
     "text": [
      "Best parameters found by grid search are: {'bagging_fraction': 0.9, 'bagging_freq': 4, 'feature_fraction': 0.8, 'lambda_l1': 20, 'lambda_l2': 7, 'learning_rate': 0.11, 'max_depth': 9, 'min_child_weight': 2, 'num_leaves': 64}\n",
      "Start predicting...\n",
      "Predicting is over\n"
     ]
    }
   ],
   "source": [
    "# Grid Search\n",
    "import lightgbm as lgb\n",
    "print('Start training...')\n",
    "estimator = lgb.LGBMClassifier(boosting_type='gbdt', object='multiclass', num_class=20, random_state=0) \n",
    "\n",
    "param_grid = {\n",
    "    'learning_rate': [0.11], \n",
    "    'num_leaves': [64],\n",
    "    'feature_fraction': [0.8],\n",
    "    'bagging_fraction': [0.9],\n",
    "    'max_depth':[9],\n",
    "    #'max_bin': [6],\n",
    "    'bagging_freq':[4],\n",
    "    'lambda_l1': [20] , #[44,133] then 44 [44,88] then 44 np.arange(38,44,1) np.arange(16,20,1)\n",
    "    'lambda_l2': [7] ,#np.arange(11,15,1) then 13\n",
    "    #'min_split_gain': [0.04], \n",
    "    'min_child_weight': [2] \n",
    "}\n",
    "\n",
    "LGBM_grid = GridSearchCV(estimator, param_grid,scoring='accuracy')#scoring='f1_macro'\n",
    "LGBM_grid.fit(X_train, y_train)\n",
    "print('Best parameters found by grid search are:', LGBM_grid.best_params_)\n",
    "\n",
    "# Final Model\n",
    "evals_result = {} \n",
    "print('Start predicting...')\n",
    "LGBM_grid_final = lgb.LGBMClassifier(boosting_type='gbdt', object='multiclass', num_class=20, random_state=0,\n",
    "                                     learning_rate = LGBM_grid.best_params_['learning_rate'],\n",
    "                              num_leaves = LGBM_grid.best_params_['num_leaves'],\n",
    "                                feature_fraction = LGBM_grid.best_params_['feature_fraction'], \n",
    "                             bagging_fraction = LGBM_grid.best_params_['bagging_fraction'],\n",
    "                             max_depth = LGBM_grid.best_params_['max_depth'],\n",
    "                              #max_bin = LGBM_grid.best_params_['max_bin'],\n",
    "                                bagging_freq = LGBM_grid.best_params_['bagging_freq'],\n",
    "                              lambda_l1 = LGBM_grid.best_params_['lambda_l1'],\n",
    "                              lambda_l2 = LGBM_grid.best_params_['lambda_l2'],\n",
    "                            #min_split_gain = LGBM_grid.best_params_['min_split_gain'],\n",
    "                            min_child_weight = LGBM_grid.best_params_['min_child_weight']\n",
    "                                    )\n",
    "LGBM_grid_final_fit = LGBM_grid_final.fit(X_train, y_train)\n",
    "print(\"Predicting is over\")"
   ]
  },
  {
   "cell_type": "code",
   "execution_count": 41,
   "metadata": {},
   "outputs": [
    {
     "name": "stdout",
     "output_type": "stream",
     "text": [
      "Accuracy:0.639\n",
      "Classification report\n",
      "              precision    recall  f1-score   support\n",
      "\n",
      "   brazilian       0.78      0.33      0.46       131\n",
      "     british       0.39      0.12      0.18       219\n",
      "cajun_creole       0.66      0.43      0.52       456\n",
      "     chinese       0.65      0.74      0.69       828\n",
      "    filipino       0.57      0.26      0.35       249\n",
      "      french       0.45      0.48      0.47       756\n",
      "       greek       0.70      0.45      0.55       346\n",
      "      indian       0.74      0.78      0.76       925\n",
      "       irish       0.49      0.27      0.35       185\n",
      "     italian       0.64      0.82      0.72      2420\n",
      "    jamaican       0.68      0.48      0.56       159\n",
      "    japanese       0.68      0.56      0.62       420\n",
      "      korean       0.68      0.47      0.56       245\n",
      "     mexican       0.77      0.82      0.80      1934\n",
      "    moroccan       0.56      0.38      0.46       242\n",
      "     russian       0.55      0.15      0.24       145\n",
      " southern_us       0.52      0.71      0.60      1275\n",
      "     spanish       0.40      0.19      0.26       263\n",
      "        thai       0.65      0.55      0.59       488\n",
      "  vietnamese       0.53      0.28      0.37       247\n",
      "\n",
      "   micro avg       0.64      0.64      0.64     11933\n",
      "   macro avg       0.61      0.46      0.50     11933\n",
      "weighted avg       0.63      0.64      0.62     11933\n",
      "\n",
      "Confusion matrix\n",
      "[[  43    0    2    1    1    6    0    0    0   17    2    0    0   24\n",
      "     0    0   27    4    4    0]\n",
      " [   0   26    2    8    0   48    1   10   11   38    0    0    0    5\n",
      "     4    2   62    1    1    0]\n",
      " [   0    0  194    6    1   17    0    7    4   85    5    0    0   28\n",
      "     2    0  106    1    0    0]\n",
      " [   0    2    1  610    4    8    1   14    0   44    5   31   25   18\n",
      "     3    0   32    1   13   16]\n",
      " [   1    1    1   42   64    9    0    3    2   21    4    4    5   25\n",
      "     1    0   34    0   18   14]\n",
      " [   0    9    8    4    1  364    3    7   12  216    0    3    0   23\n",
      "     3    4   91    7    1    0]\n",
      " [   0    1    1    1    0   19  155   10    3  113    0    1    0   14\n",
      "    10    0   11    7    0    0]\n",
      " [   0    3    3    9    2   12   10  724    3   35    3    4    0   46\n",
      "    17    1   39    2   12    0]\n",
      " [   0    7    0    0    1   24    1    7   50   28    3    0    1    3\n",
      "     1    3   56    0    0    0]\n",
      " [   1    3   19   10    1  130   17   20    1 1979    2    3    0   59\n",
      "     7    3  139   24    2    0]\n",
      " [   2    1    2   10    4    2    0    8    0    8   76    1    0   19\n",
      "     0    0   20    1    5    0]\n",
      " [   0    1    1   53    3   11    2   40    1   24    0  237   14   12\n",
      "     0    1   16    0    1    3]\n",
      " [   0    0    1   59    4    4    0    2    1    4    0   22  115    9\n",
      "     1    0   13    0    2    8]\n",
      " [   1    3   12   13    7   34   10   26    4  107    7    3    2 1588\n",
      "     6    0   87   13   10    1]\n",
      " [   0    2    0    4    0   10   11   38    1   44    1    0    0   18\n",
      "    93    1   14    4    0    1]\n",
      " [   1    3    6    1    1   16    1    4    4   29    1    2    1    7\n",
      "     0   22   44    2    0    0]\n",
      " [   1    2   35    8    4   53    0   13    3  150    3    8    1   81\n",
      "     5    2  900    5    1    0]\n",
      " [   1    2    4    4    0   26    6    4    2   86    0    3    0   40\n",
      "    12    1   22   49    1    0]\n",
      " [   2    0    0   58    7    7    1   32    0   32    0   18    2   31\n",
      "     1    0   13    0  266   18]\n",
      " [   2    0    4   32    8    8    2    4    0   18    0   10    3    6\n",
      "     0    0    7    0   73   70]]\n",
      "ROC AUC Score\n"
     ]
    },
    {
     "ename": "ValueError",
     "evalue": "multiclass format is not supported",
     "output_type": "error",
     "traceback": [
      "\u001b[0;31m---------------------------------------------------------------------------\u001b[0m",
      "\u001b[0;31mValueError\u001b[0m                                Traceback (most recent call last)",
      "\u001b[0;32m<ipython-input-41-e71b6ca58f42>\u001b[0m in \u001b[0;36m<module>\u001b[0;34m()\u001b[0m\n\u001b[1;32m      1\u001b[0m \u001b[0;31m#對test算performance\u001b[0m\u001b[0;34m\u001b[0m\u001b[0;34m\u001b[0m\u001b[0m\n\u001b[0;32m----> 2\u001b[0;31m \u001b[0mLGBM_grid_measure\u001b[0m \u001b[0;34m=\u001b[0m \u001b[0mmeasure_performance\u001b[0m\u001b[0;34m(\u001b[0m\u001b[0mX\u001b[0m \u001b[0;34m=\u001b[0m \u001b[0mX_test\u001b[0m\u001b[0;34m,\u001b[0m \u001b[0my\u001b[0m \u001b[0;34m=\u001b[0m \u001b[0my_test\u001b[0m\u001b[0;34m,\u001b[0m \u001b[0mclf\u001b[0m \u001b[0;34m=\u001b[0m \u001b[0mLGBM_grid_final\u001b[0m\u001b[0;34m,\u001b[0m \u001b[0mshow_classification_report\u001b[0m\u001b[0;34m=\u001b[0m\u001b[0;32mTrue\u001b[0m\u001b[0;34m,\u001b[0m \u001b[0mshow_confusion_matrix\u001b[0m\u001b[0;34m=\u001b[0m\u001b[0;32mTrue\u001b[0m\u001b[0;34m)\u001b[0m\u001b[0;34m\u001b[0m\u001b[0m\n\u001b[0m",
      "\u001b[0;32m<ipython-input-30-2d9177831848>\u001b[0m in \u001b[0;36mmeasure_performance\u001b[0;34m(X, y, clf, show_accuracy, show_classification_report, show_confusion_matrix, show_roc_auc)\u001b[0m\n\u001b[1;32m     17\u001b[0m     \u001b[0;32mif\u001b[0m \u001b[0mshow_roc_auc\u001b[0m\u001b[0;34m:\u001b[0m\u001b[0;34m\u001b[0m\u001b[0m\n\u001b[1;32m     18\u001b[0m         \u001b[0mprint\u001b[0m\u001b[0;34m(\u001b[0m\u001b[0;34m\"ROC AUC Score\"\u001b[0m\u001b[0;34m)\u001b[0m\u001b[0;34m\u001b[0m\u001b[0m\n\u001b[0;32m---> 19\u001b[0;31m         \u001b[0mprint\u001b[0m\u001b[0;34m(\u001b[0m\u001b[0mmetrics\u001b[0m\u001b[0;34m.\u001b[0m\u001b[0mroc_auc_score\u001b[0m\u001b[0;34m(\u001b[0m\u001b[0my\u001b[0m\u001b[0;34m,\u001b[0m\u001b[0my_predprob\u001b[0m\u001b[0;34m)\u001b[0m\u001b[0;34m)\u001b[0m\u001b[0;34m,\u001b[0m\u001b[0;34m\"\\n\"\u001b[0m\u001b[0;34m\u001b[0m\u001b[0m\n\u001b[0m",
      "\u001b[0;32m/usr/local/lib/python3.6/site-packages/sklearn/metrics/ranking.py\u001b[0m in \u001b[0;36mroc_auc_score\u001b[0;34m(y_true, y_score, average, sample_weight, max_fpr)\u001b[0m\n\u001b[1;32m    354\u001b[0m     return _average_binary_score(\n\u001b[1;32m    355\u001b[0m         \u001b[0m_binary_roc_auc_score\u001b[0m\u001b[0;34m,\u001b[0m \u001b[0my_true\u001b[0m\u001b[0;34m,\u001b[0m \u001b[0my_score\u001b[0m\u001b[0;34m,\u001b[0m \u001b[0maverage\u001b[0m\u001b[0;34m,\u001b[0m\u001b[0;34m\u001b[0m\u001b[0m\n\u001b[0;32m--> 356\u001b[0;31m         sample_weight=sample_weight)\n\u001b[0m\u001b[1;32m    357\u001b[0m \u001b[0;34m\u001b[0m\u001b[0m\n\u001b[1;32m    358\u001b[0m \u001b[0;34m\u001b[0m\u001b[0m\n",
      "\u001b[0;32m/usr/local/lib/python3.6/site-packages/sklearn/metrics/base.py\u001b[0m in \u001b[0;36m_average_binary_score\u001b[0;34m(binary_metric, y_true, y_score, average, sample_weight)\u001b[0m\n\u001b[1;32m     72\u001b[0m     \u001b[0my_type\u001b[0m \u001b[0;34m=\u001b[0m \u001b[0mtype_of_target\u001b[0m\u001b[0;34m(\u001b[0m\u001b[0my_true\u001b[0m\u001b[0;34m)\u001b[0m\u001b[0;34m\u001b[0m\u001b[0m\n\u001b[1;32m     73\u001b[0m     \u001b[0;32mif\u001b[0m \u001b[0my_type\u001b[0m \u001b[0;32mnot\u001b[0m \u001b[0;32min\u001b[0m \u001b[0;34m(\u001b[0m\u001b[0;34m\"binary\"\u001b[0m\u001b[0;34m,\u001b[0m \u001b[0;34m\"multilabel-indicator\"\u001b[0m\u001b[0;34m)\u001b[0m\u001b[0;34m:\u001b[0m\u001b[0;34m\u001b[0m\u001b[0m\n\u001b[0;32m---> 74\u001b[0;31m         \u001b[0;32mraise\u001b[0m \u001b[0mValueError\u001b[0m\u001b[0;34m(\u001b[0m\u001b[0;34m\"{0} format is not supported\"\u001b[0m\u001b[0;34m.\u001b[0m\u001b[0mformat\u001b[0m\u001b[0;34m(\u001b[0m\u001b[0my_type\u001b[0m\u001b[0;34m)\u001b[0m\u001b[0;34m)\u001b[0m\u001b[0;34m\u001b[0m\u001b[0m\n\u001b[0m\u001b[1;32m     75\u001b[0m \u001b[0;34m\u001b[0m\u001b[0m\n\u001b[1;32m     76\u001b[0m     \u001b[0;32mif\u001b[0m \u001b[0my_type\u001b[0m \u001b[0;34m==\u001b[0m \u001b[0;34m\"binary\"\u001b[0m\u001b[0;34m:\u001b[0m\u001b[0;34m\u001b[0m\u001b[0m\n",
      "\u001b[0;31mValueError\u001b[0m: multiclass format is not supported"
     ]
    }
   ],
   "source": [
    "#對test算performance\n",
    "LGBM_grid_measure = measure_performance(X = X_test, y = y_test, clf = LGBM_grid_final, show_classification_report=True, show_confusion_matrix=True)"
   ]
  },
  {
   "cell_type": "code",
   "execution_count": 45,
   "metadata": {},
   "outputs": [],
   "source": [
    "#拿全部的dataTrain來建\n",
    "LGBM_grid_final_fit_all = LGBM_grid_final.fit(X_feature, y_t)"
   ]
  },
  {
   "cell_type": "code",
   "execution_count": 50,
   "metadata": {},
   "outputs": [],
   "source": [
    "LGBM_grid_final_fit_res =LGBM_grid_final_fit_all.predict(dataTest)"
   ]
  },
  {
   "cell_type": "code",
   "execution_count": 52,
   "metadata": {},
   "outputs": [
    {
     "data": {
      "text/plain": [
       "array(['southern_us', 'southern_us', 'italian', ..., 'italian',\n",
       "       'southern_us', 'mexican'], dtype=object)"
      ]
     },
     "execution_count": 52,
     "metadata": {},
     "output_type": "execute_result"
    }
   ],
   "source": [
    "LGBM_grid_final_fit_res"
   ]
  },
  {
   "cell_type": "code",
   "execution_count": 53,
   "metadata": {},
   "outputs": [],
   "source": [
    "submit=pd.read_csv('./data/sample_submission.csv')"
   ]
  },
  {
   "cell_type": "code",
   "execution_count": 54,
   "metadata": {},
   "outputs": [],
   "source": [
    "submit['cuisine'] = LGBM_grid_final_fit_res"
   ]
  },
  {
   "cell_type": "code",
   "execution_count": 55,
   "metadata": {},
   "outputs": [
    {
     "data": {
      "text/plain": [
       "\"/Users/francislin/JrML/03_04_What's Cooking\""
      ]
     },
     "execution_count": 55,
     "metadata": {},
     "output_type": "execute_result"
    }
   ],
   "source": [
    "%pwd\n",
    "submit.to_csv('submit_to_kaggle.csv', index= False)"
   ]
  },
  {
   "cell_type": "code",
   "execution_count": 56,
   "metadata": {},
   "outputs": [
    {
     "data": {
      "text/plain": [
       "'southern_us'"
      ]
     },
     "execution_count": 56,
     "metadata": {},
     "output_type": "execute_result"
    }
   ],
   "source": [
    "submit.cuisine[0]"
   ]
  },
  {
   "cell_type": "code",
   "execution_count": null,
   "metadata": {},
   "outputs": [],
   "source": []
  },
  {
   "cell_type": "code",
   "execution_count": 21,
   "metadata": {},
   "outputs": [
    {
     "name": "stdout",
     "output_type": "stream",
     "text": [
      "CPU times: user 5min 15s, sys: 773 ms, total: 5min 16s\n",
      "Wall time: 5min 16s\n"
     ]
    }
   ],
   "source": [
    "%%time\n",
    "from sklearn.ensemble import RandomForestClassifier\n",
    "rf_clf = RandomForestClassifier(n_estimators=500,max_features=10)\n",
    "rf_clf.fit(X_train, y_train)"
   ]
  },
  {
   "cell_type": "code",
   "execution_count": 22,
   "metadata": {},
   "outputs": [],
   "source": [
    "y_pred= rf_clf.predict(X_test)"
   ]
  },
  {
   "cell_type": "code",
   "execution_count": 23,
   "metadata": {},
   "outputs": [
    {
     "data": {
      "text/plain": [
       "array([0.36046512, 0.16551724, 0.17594255, 0.24508887, 0.1443299 ,\n",
       "       0.24224806, 0.09045226, 0.32727273, 0.3032491 , 0.3918108 ,\n",
       "       0.36966825, 0.41401274, 0.27160494, 0.32260692, 0.31152648,\n",
       "       0.15819209, 0.3452381 , 0.18131868, 0.1858864 , 0.24316109])"
      ]
     },
     "execution_count": 23,
     "metadata": {},
     "output_type": "execute_result"
    },
    {
     "data": {
      "text/plain": [
       "0.2624796156636354"
      ]
     },
     "execution_count": 23,
     "metadata": {},
     "output_type": "execute_result"
    },
    {
     "data": {
      "text/plain": [
       "0.3333612670744993"
      ]
     },
     "execution_count": 23,
     "metadata": {},
     "output_type": "execute_result"
    }
   ],
   "source": [
    "from sklearn.metrics import f1_score\n",
    "f1_score(y_test,y_pred,average=None)\n",
    "f1_score(y_test,y_pred,average='macro')\n",
    "from sklearn.metrics import accuracy_score\n",
    "accuracy_score(y_pred, y_test)"
   ]
  },
  {
   "cell_type": "code",
   "execution_count": null,
   "metadata": {},
   "outputs": [],
   "source": []
  },
  {
   "cell_type": "code",
   "execution_count": 30,
   "metadata": {},
   "outputs": [
    {
     "name": "stdout",
     "output_type": "stream",
     "text": [
      "CPU times: user 20min 2s, sys: 5.13 s, total: 20min 7s\n",
      "Wall time: 20min 13s\n"
     ]
    }
   ],
   "source": [
    "%%time\n",
    "from sklearn.ensemble import GradientBoostingClassifier\n",
    "GBDT = GradientBoostingClassifier(n_estimators=100,max_depth=5,learning_rate=0.1)#深度從3變5沒有比較好＠＠\n",
    "GBDT.fit(X_train,y_train)"
   ]
  },
  {
   "cell_type": "code",
   "execution_count": 31,
   "metadata": {},
   "outputs": [],
   "source": [
    "y_pred= GBDT.predict(X_test)"
   ]
  },
  {
   "cell_type": "code",
   "execution_count": 32,
   "metadata": {},
   "outputs": [
    {
     "data": {
      "text/plain": [
       "array([0.29347826, 0.1980198 , 0.63980464, 0.69152542, 0.43501326,\n",
       "       0.44920525, 0.52406417, 0.76623377, 0.25342466, 0.75115634,\n",
       "       0.52964427, 0.50886076, 0.57471264, 0.81545702, 0.56265985,\n",
       "       0.20512821, 0.60767947, 0.35323383, 0.65959703, 0.45346062])"
      ]
     },
     "execution_count": 32,
     "metadata": {},
     "output_type": "execute_result"
    },
    {
     "data": {
      "text/plain": [
       "0.513617963345428"
      ]
     },
     "execution_count": 32,
     "metadata": {},
     "output_type": "execute_result"
    },
    {
     "data": {
      "text/plain": [
       "0.6549903628592978"
      ]
     },
     "execution_count": 32,
     "metadata": {},
     "output_type": "execute_result"
    }
   ],
   "source": [
    "from sklearn.metrics import f1_score\n",
    "f1_score(y_test,y_pred,average=None)\n",
    "f1_score(y_test,y_pred,average='macro')\n",
    "from sklearn.metrics import accuracy_score\n",
    "accuracy_score(y_pred, y_test)"
   ]
  },
  {
   "cell_type": "code",
   "execution_count": null,
   "metadata": {},
   "outputs": [],
   "source": []
  },
  {
   "cell_type": "code",
   "execution_count": 35,
   "metadata": {},
   "outputs": [
    {
     "name": "stdout",
     "output_type": "stream",
     "text": [
      "CPU times: user 31min 37s, sys: 5.38 s, total: 31min 43s\n",
      "Wall time: 31min 57s\n"
     ]
    }
   ],
   "source": [
    "%%time\n",
    "from xgboost import XGBClassifier\n",
    "Xgb = XGBClassifier()\n",
    "Xgb.fit(X_train,y_train)"
   ]
  },
  {
   "cell_type": "code",
   "execution_count": 36,
   "metadata": {},
   "outputs": [],
   "source": [
    "y_pred= Xgb.predict(X_test)"
   ]
  },
  {
   "cell_type": "code",
   "execution_count": 37,
   "metadata": {},
   "outputs": [
    {
     "data": {
      "text/plain": [
       "array([0.39772727, 0.13127413, 0.50909091, 0.68232386, 0.24464832,\n",
       "       0.43806858, 0.52551985, 0.74904319, 0.33333333, 0.65324243,\n",
       "       0.54474708, 0.60344828, 0.55684455, 0.78872524, 0.44077135,\n",
       "       0.22857143, 0.54809315, 0.20178042, 0.59325843, 0.35772358])"
      ]
     },
     "execution_count": 37,
     "metadata": {},
     "output_type": "execute_result"
    },
    {
     "data": {
      "text/plain": [
       "0.4764117682303267"
      ]
     },
     "execution_count": 37,
     "metadata": {},
     "output_type": "execute_result"
    },
    {
     "data": {
      "text/plain": [
       "0.6113299254169111"
      ]
     },
     "execution_count": 37,
     "metadata": {},
     "output_type": "execute_result"
    }
   ],
   "source": [
    "from sklearn.metrics import f1_score\n",
    "f1_score(y_test,y_pred,average=None)\n",
    "f1_score(y_test,y_pred,average='macro')\n",
    "from sklearn.metrics import accuracy_score\n",
    "accuracy_score(y_pred, y_test)"
   ]
  },
  {
   "cell_type": "code",
   "execution_count": null,
   "metadata": {},
   "outputs": [],
   "source": []
  },
  {
   "cell_type": "code",
   "execution_count": null,
   "metadata": {},
   "outputs": [],
   "source": []
  }
 ],
 "metadata": {
  "kernelspec": {
   "display_name": "Python 3",
   "language": "python",
   "name": "python3"
  },
  "language_info": {
   "codemirror_mode": {
    "name": "ipython",
    "version": 3
   },
   "file_extension": ".py",
   "mimetype": "text/x-python",
   "name": "python",
   "nbconvert_exporter": "python",
   "pygments_lexer": "ipython3",
   "version": "3.6.5"
  }
 },
 "nbformat": 4,
 "nbformat_minor": 2
}

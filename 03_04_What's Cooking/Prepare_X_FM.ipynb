{
 "cells": [
  {
   "cell_type": "code",
   "execution_count": 1,
   "metadata": {},
   "outputs": [],
   "source": [
    "# load package\n",
    "import numpy as np\n",
    "import pandas as pd\n",
    "import pickle\n",
    "import xlearn as xl\n",
    "import logging\n",
    "\n",
    "# set path\n",
    "import os\n",
    "default_path = \"/Users/francislin/JrML/03_04_What's Cooking/\"\n",
    "os.chdir(default_path)\n",
    "\n",
    "# skip interaction warning\n",
    "import warnings; \n",
    "warnings.filterwarnings('ignore')\n",
    "#你可以选择修改 ast_note_iteractively kernel 选项来使得 Jupyter 为每一行的变量或语句执行这个操作，以便你可以立即看到多条语句一起输出\n",
    "from IPython.core.interactiveshell import InteractiveShell\n",
    "InteractiveShell.ast_node_interactivity = \"all\""
   ]
  },
  {
   "cell_type": "code",
   "execution_count": 2,
   "metadata": {},
   "outputs": [],
   "source": [
    "# all_data.pickle is made from prepare_X.ipynb\n",
    "with open('all_data.pickle','rb') as f:\n",
    "    df= pickle.load(f)"
   ]
  },
  {
   "cell_type": "code",
   "execution_count": 3,
   "metadata": {},
   "outputs": [
    {
     "data": {
      "text/html": [
       "<div>\n",
       "<style scoped>\n",
       "    .dataframe tbody tr th:only-of-type {\n",
       "        vertical-align: middle;\n",
       "    }\n",
       "\n",
       "    .dataframe tbody tr th {\n",
       "        vertical-align: top;\n",
       "    }\n",
       "\n",
       "    .dataframe thead th {\n",
       "        text-align: right;\n",
       "    }\n",
       "</style>\n",
       "<table border=\"1\" class=\"dataframe\">\n",
       "  <thead>\n",
       "    <tr style=\"text-align: right;\">\n",
       "      <th></th>\n",
       "      <th>cuisine</th>\n",
       "      <th>id</th>\n",
       "      <th>used_pepper</th>\n",
       "      <th>used_salt</th>\n",
       "      <th>used_oil</th>\n",
       "      <th>used_garlic</th>\n",
       "      <th>used_ground</th>\n",
       "      <th>used_fresh</th>\n",
       "      <th>used_sauce</th>\n",
       "      <th>used_sugar</th>\n",
       "      <th>...</th>\n",
       "      <th>used_hock</th>\n",
       "      <th>used_rose</th>\n",
       "      <th>used_ciabatta</th>\n",
       "      <th>used_ready</th>\n",
       "      <th>used_regular</th>\n",
       "      <th>used_glass</th>\n",
       "      <th>used_safflower</th>\n",
       "      <th>used_jeera</th>\n",
       "      <th>used_Oil</th>\n",
       "      <th>used_oven</th>\n",
       "    </tr>\n",
       "  </thead>\n",
       "  <tbody>\n",
       "    <tr>\n",
       "      <th>0</th>\n",
       "      <td>greek</td>\n",
       "      <td>10259</td>\n",
       "      <td>1</td>\n",
       "      <td>0</td>\n",
       "      <td>0</td>\n",
       "      <td>1</td>\n",
       "      <td>0</td>\n",
       "      <td>0</td>\n",
       "      <td>0</td>\n",
       "      <td>0</td>\n",
       "      <td>...</td>\n",
       "      <td>0</td>\n",
       "      <td>0</td>\n",
       "      <td>0</td>\n",
       "      <td>0</td>\n",
       "      <td>0</td>\n",
       "      <td>0</td>\n",
       "      <td>0</td>\n",
       "      <td>0</td>\n",
       "      <td>0</td>\n",
       "      <td>0</td>\n",
       "    </tr>\n",
       "    <tr>\n",
       "      <th>1</th>\n",
       "      <td>southern_us</td>\n",
       "      <td>25693</td>\n",
       "      <td>1</td>\n",
       "      <td>1</td>\n",
       "      <td>1</td>\n",
       "      <td>0</td>\n",
       "      <td>1</td>\n",
       "      <td>0</td>\n",
       "      <td>0</td>\n",
       "      <td>0</td>\n",
       "      <td>...</td>\n",
       "      <td>0</td>\n",
       "      <td>0</td>\n",
       "      <td>0</td>\n",
       "      <td>0</td>\n",
       "      <td>0</td>\n",
       "      <td>0</td>\n",
       "      <td>0</td>\n",
       "      <td>0</td>\n",
       "      <td>0</td>\n",
       "      <td>0</td>\n",
       "    </tr>\n",
       "    <tr>\n",
       "      <th>2</th>\n",
       "      <td>filipino</td>\n",
       "      <td>20130</td>\n",
       "      <td>1</td>\n",
       "      <td>1</td>\n",
       "      <td>1</td>\n",
       "      <td>1</td>\n",
       "      <td>0</td>\n",
       "      <td>0</td>\n",
       "      <td>1</td>\n",
       "      <td>0</td>\n",
       "      <td>...</td>\n",
       "      <td>0</td>\n",
       "      <td>0</td>\n",
       "      <td>0</td>\n",
       "      <td>0</td>\n",
       "      <td>0</td>\n",
       "      <td>0</td>\n",
       "      <td>0</td>\n",
       "      <td>0</td>\n",
       "      <td>0</td>\n",
       "      <td>0</td>\n",
       "    </tr>\n",
       "    <tr>\n",
       "      <th>3</th>\n",
       "      <td>indian</td>\n",
       "      <td>22213</td>\n",
       "      <td>0</td>\n",
       "      <td>1</td>\n",
       "      <td>1</td>\n",
       "      <td>0</td>\n",
       "      <td>0</td>\n",
       "      <td>0</td>\n",
       "      <td>0</td>\n",
       "      <td>0</td>\n",
       "      <td>...</td>\n",
       "      <td>0</td>\n",
       "      <td>0</td>\n",
       "      <td>0</td>\n",
       "      <td>0</td>\n",
       "      <td>0</td>\n",
       "      <td>0</td>\n",
       "      <td>0</td>\n",
       "      <td>0</td>\n",
       "      <td>0</td>\n",
       "      <td>0</td>\n",
       "    </tr>\n",
       "    <tr>\n",
       "      <th>4</th>\n",
       "      <td>indian</td>\n",
       "      <td>13162</td>\n",
       "      <td>1</td>\n",
       "      <td>1</td>\n",
       "      <td>1</td>\n",
       "      <td>1</td>\n",
       "      <td>1</td>\n",
       "      <td>0</td>\n",
       "      <td>0</td>\n",
       "      <td>0</td>\n",
       "      <td>...</td>\n",
       "      <td>0</td>\n",
       "      <td>0</td>\n",
       "      <td>0</td>\n",
       "      <td>0</td>\n",
       "      <td>0</td>\n",
       "      <td>0</td>\n",
       "      <td>0</td>\n",
       "      <td>0</td>\n",
       "      <td>0</td>\n",
       "      <td>0</td>\n",
       "    </tr>\n",
       "  </tbody>\n",
       "</table>\n",
       "<p>5 rows × 902 columns</p>\n",
       "</div>"
      ],
      "text/plain": [
       "       cuisine     id  used_pepper  used_salt  used_oil  used_garlic  \\\n",
       "0        greek  10259            1          0         0            1   \n",
       "1  southern_us  25693            1          1         1            0   \n",
       "2     filipino  20130            1          1         1            1   \n",
       "3       indian  22213            0          1         1            0   \n",
       "4       indian  13162            1          1         1            1   \n",
       "\n",
       "   used_ground  used_fresh  used_sauce  used_sugar    ...      used_hock  \\\n",
       "0            0           0           0           0    ...              0   \n",
       "1            1           0           0           0    ...              0   \n",
       "2            0           0           1           0    ...              0   \n",
       "3            0           0           0           0    ...              0   \n",
       "4            1           0           0           0    ...              0   \n",
       "\n",
       "   used_rose  used_ciabatta  used_ready  used_regular  used_glass  \\\n",
       "0          0              0           0             0           0   \n",
       "1          0              0           0             0           0   \n",
       "2          0              0           0             0           0   \n",
       "3          0              0           0             0           0   \n",
       "4          0              0           0             0           0   \n",
       "\n",
       "   used_safflower  used_jeera  used_Oil  used_oven  \n",
       "0               0           0         0          0  \n",
       "1               0           0         0          0  \n",
       "2               0           0         0          0  \n",
       "3               0           0         0          0  \n",
       "4               0           0         0          0  \n",
       "\n",
       "[5 rows x 902 columns]"
      ]
     },
     "execution_count": 3,
     "metadata": {},
     "output_type": "execute_result"
    }
   ],
   "source": [
    "df.head()"
   ]
  },
  {
   "cell_type": "code",
   "execution_count": 4,
   "metadata": {},
   "outputs": [
    {
     "data": {
      "text/plain": [
       "['greek',\n",
       " 'southern_us',\n",
       " 'filipino',\n",
       " 'indian',\n",
       " 'jamaican',\n",
       " 'spanish',\n",
       " 'italian',\n",
       " 'mexican',\n",
       " 'chinese',\n",
       " 'british',\n",
       " 'thai',\n",
       " 'vietnamese',\n",
       " 'cajun_creole',\n",
       " 'brazilian',\n",
       " 'french',\n",
       " 'japanese',\n",
       " 'irish',\n",
       " 'korean',\n",
       " 'moroccan',\n",
       " 'russian']"
      ]
     },
     "execution_count": 4,
     "metadata": {},
     "output_type": "execute_result"
    },
    {
     "data": {
      "text/plain": [
       "20"
      ]
     },
     "execution_count": 4,
     "metadata": {},
     "output_type": "execute_result"
    }
   ],
   "source": [
    "Y_list=[]\n",
    "for a in df.cuisine:\n",
    "    if a not in Y_list and not pd.isnull(a):\n",
    "        Y_list.append(a)\n",
    "Y_list\n",
    "len(Y_list)"
   ]
  },
  {
   "cell_type": "code",
   "execution_count": 5,
   "metadata": {},
   "outputs": [],
   "source": [
    "# make 20 Y in df\n",
    "for a in Y_list:\n",
    "    df['%s'% (a)]= df['cuisine'].str.contains('%s'% (a),na=False)*1"
   ]
  },
  {
   "cell_type": "code",
   "execution_count": 6,
   "metadata": {},
   "outputs": [
    {
     "data": {
      "text/html": [
       "<div>\n",
       "<style scoped>\n",
       "    .dataframe tbody tr th:only-of-type {\n",
       "        vertical-align: middle;\n",
       "    }\n",
       "\n",
       "    .dataframe tbody tr th {\n",
       "        vertical-align: top;\n",
       "    }\n",
       "\n",
       "    .dataframe thead th {\n",
       "        text-align: right;\n",
       "    }\n",
       "</style>\n",
       "<table border=\"1\" class=\"dataframe\">\n",
       "  <thead>\n",
       "    <tr style=\"text-align: right;\">\n",
       "      <th></th>\n",
       "      <th>cuisine</th>\n",
       "      <th>id</th>\n",
       "      <th>used_pepper</th>\n",
       "      <th>used_salt</th>\n",
       "      <th>used_oil</th>\n",
       "      <th>used_garlic</th>\n",
       "      <th>used_ground</th>\n",
       "      <th>used_fresh</th>\n",
       "      <th>used_sauce</th>\n",
       "      <th>used_sugar</th>\n",
       "      <th>...</th>\n",
       "      <th>thai</th>\n",
       "      <th>vietnamese</th>\n",
       "      <th>cajun_creole</th>\n",
       "      <th>brazilian</th>\n",
       "      <th>french</th>\n",
       "      <th>japanese</th>\n",
       "      <th>irish</th>\n",
       "      <th>korean</th>\n",
       "      <th>moroccan</th>\n",
       "      <th>russian</th>\n",
       "    </tr>\n",
       "  </thead>\n",
       "  <tbody>\n",
       "    <tr>\n",
       "      <th>102</th>\n",
       "      <td>italian</td>\n",
       "      <td>28851</td>\n",
       "      <td>1</td>\n",
       "      <td>0</td>\n",
       "      <td>0</td>\n",
       "      <td>0</td>\n",
       "      <td>0</td>\n",
       "      <td>0</td>\n",
       "      <td>0</td>\n",
       "      <td>0</td>\n",
       "      <td>...</td>\n",
       "      <td>0</td>\n",
       "      <td>0</td>\n",
       "      <td>0</td>\n",
       "      <td>0</td>\n",
       "      <td>0</td>\n",
       "      <td>0</td>\n",
       "      <td>0</td>\n",
       "      <td>0</td>\n",
       "      <td>0</td>\n",
       "      <td>0</td>\n",
       "    </tr>\n",
       "    <tr>\n",
       "      <th>103</th>\n",
       "      <td>greek</td>\n",
       "      <td>4635</td>\n",
       "      <td>0</td>\n",
       "      <td>0</td>\n",
       "      <td>1</td>\n",
       "      <td>1</td>\n",
       "      <td>0</td>\n",
       "      <td>0</td>\n",
       "      <td>0</td>\n",
       "      <td>0</td>\n",
       "      <td>...</td>\n",
       "      <td>0</td>\n",
       "      <td>0</td>\n",
       "      <td>0</td>\n",
       "      <td>0</td>\n",
       "      <td>0</td>\n",
       "      <td>0</td>\n",
       "      <td>0</td>\n",
       "      <td>0</td>\n",
       "      <td>0</td>\n",
       "      <td>0</td>\n",
       "    </tr>\n",
       "    <tr>\n",
       "      <th>104</th>\n",
       "      <td>korean</td>\n",
       "      <td>7782</td>\n",
       "      <td>0</td>\n",
       "      <td>1</td>\n",
       "      <td>1</td>\n",
       "      <td>1</td>\n",
       "      <td>0</td>\n",
       "      <td>1</td>\n",
       "      <td>1</td>\n",
       "      <td>1</td>\n",
       "      <td>...</td>\n",
       "      <td>0</td>\n",
       "      <td>0</td>\n",
       "      <td>0</td>\n",
       "      <td>0</td>\n",
       "      <td>0</td>\n",
       "      <td>0</td>\n",
       "      <td>0</td>\n",
       "      <td>1</td>\n",
       "      <td>0</td>\n",
       "      <td>0</td>\n",
       "    </tr>\n",
       "  </tbody>\n",
       "</table>\n",
       "<p>3 rows × 922 columns</p>\n",
       "</div>"
      ],
      "text/plain": [
       "     cuisine     id  used_pepper  used_salt  used_oil  used_garlic  \\\n",
       "102  italian  28851            1          0         0            0   \n",
       "103    greek   4635            0          0         1            1   \n",
       "104   korean   7782            0          1         1            1   \n",
       "\n",
       "     used_ground  used_fresh  used_sauce  used_sugar   ...     thai  \\\n",
       "102            0           0           0           0   ...        0   \n",
       "103            0           0           0           0   ...        0   \n",
       "104            0           1           1           1   ...        0   \n",
       "\n",
       "     vietnamese  cajun_creole  brazilian  french  japanese  irish  korean  \\\n",
       "102           0             0          0       0         0      0       0   \n",
       "103           0             0          0       0         0      0       0   \n",
       "104           0             0          0       0         0      0       1   \n",
       "\n",
       "     moroccan  russian  \n",
       "102         0        0  \n",
       "103         0        0  \n",
       "104         0        0  \n",
       "\n",
       "[3 rows x 922 columns]"
      ]
     },
     "execution_count": 6,
     "metadata": {},
     "output_type": "execute_result"
    }
   ],
   "source": [
    "df[102:105]"
   ]
  },
  {
   "cell_type": "code",
   "execution_count": 7,
   "metadata": {},
   "outputs": [
    {
     "data": {
      "text/html": [
       "<div>\n",
       "<style scoped>\n",
       "    .dataframe tbody tr th:only-of-type {\n",
       "        vertical-align: middle;\n",
       "    }\n",
       "\n",
       "    .dataframe tbody tr th {\n",
       "        vertical-align: top;\n",
       "    }\n",
       "\n",
       "    .dataframe thead th {\n",
       "        text-align: right;\n",
       "    }\n",
       "</style>\n",
       "<table border=\"1\" class=\"dataframe\">\n",
       "  <thead>\n",
       "    <tr style=\"text-align: right;\">\n",
       "      <th></th>\n",
       "      <th>id</th>\n",
       "      <th>cuisine</th>\n",
       "      <th>greek</th>\n",
       "      <th>southern_us</th>\n",
       "      <th>filipino</th>\n",
       "      <th>indian</th>\n",
       "      <th>jamaican</th>\n",
       "      <th>spanish</th>\n",
       "      <th>italian</th>\n",
       "      <th>mexican</th>\n",
       "      <th>...</th>\n",
       "      <th>thai</th>\n",
       "      <th>vietnamese</th>\n",
       "      <th>cajun_creole</th>\n",
       "      <th>brazilian</th>\n",
       "      <th>french</th>\n",
       "      <th>japanese</th>\n",
       "      <th>irish</th>\n",
       "      <th>korean</th>\n",
       "      <th>moroccan</th>\n",
       "      <th>russian</th>\n",
       "    </tr>\n",
       "  </thead>\n",
       "  <tbody>\n",
       "    <tr>\n",
       "      <th>0</th>\n",
       "      <td>10259</td>\n",
       "      <td>greek</td>\n",
       "      <td>1</td>\n",
       "      <td>0</td>\n",
       "      <td>0</td>\n",
       "      <td>0</td>\n",
       "      <td>0</td>\n",
       "      <td>0</td>\n",
       "      <td>0</td>\n",
       "      <td>0</td>\n",
       "      <td>...</td>\n",
       "      <td>0</td>\n",
       "      <td>0</td>\n",
       "      <td>0</td>\n",
       "      <td>0</td>\n",
       "      <td>0</td>\n",
       "      <td>0</td>\n",
       "      <td>0</td>\n",
       "      <td>0</td>\n",
       "      <td>0</td>\n",
       "      <td>0</td>\n",
       "    </tr>\n",
       "    <tr>\n",
       "      <th>1</th>\n",
       "      <td>25693</td>\n",
       "      <td>southern_us</td>\n",
       "      <td>0</td>\n",
       "      <td>1</td>\n",
       "      <td>0</td>\n",
       "      <td>0</td>\n",
       "      <td>0</td>\n",
       "      <td>0</td>\n",
       "      <td>0</td>\n",
       "      <td>0</td>\n",
       "      <td>...</td>\n",
       "      <td>0</td>\n",
       "      <td>0</td>\n",
       "      <td>0</td>\n",
       "      <td>0</td>\n",
       "      <td>0</td>\n",
       "      <td>0</td>\n",
       "      <td>0</td>\n",
       "      <td>0</td>\n",
       "      <td>0</td>\n",
       "      <td>0</td>\n",
       "    </tr>\n",
       "    <tr>\n",
       "      <th>2</th>\n",
       "      <td>20130</td>\n",
       "      <td>filipino</td>\n",
       "      <td>0</td>\n",
       "      <td>0</td>\n",
       "      <td>1</td>\n",
       "      <td>0</td>\n",
       "      <td>0</td>\n",
       "      <td>0</td>\n",
       "      <td>0</td>\n",
       "      <td>0</td>\n",
       "      <td>...</td>\n",
       "      <td>0</td>\n",
       "      <td>0</td>\n",
       "      <td>0</td>\n",
       "      <td>0</td>\n",
       "      <td>0</td>\n",
       "      <td>0</td>\n",
       "      <td>0</td>\n",
       "      <td>0</td>\n",
       "      <td>0</td>\n",
       "      <td>0</td>\n",
       "    </tr>\n",
       "    <tr>\n",
       "      <th>3</th>\n",
       "      <td>22213</td>\n",
       "      <td>indian</td>\n",
       "      <td>0</td>\n",
       "      <td>0</td>\n",
       "      <td>0</td>\n",
       "      <td>1</td>\n",
       "      <td>0</td>\n",
       "      <td>0</td>\n",
       "      <td>0</td>\n",
       "      <td>0</td>\n",
       "      <td>...</td>\n",
       "      <td>0</td>\n",
       "      <td>0</td>\n",
       "      <td>0</td>\n",
       "      <td>0</td>\n",
       "      <td>0</td>\n",
       "      <td>0</td>\n",
       "      <td>0</td>\n",
       "      <td>0</td>\n",
       "      <td>0</td>\n",
       "      <td>0</td>\n",
       "    </tr>\n",
       "    <tr>\n",
       "      <th>4</th>\n",
       "      <td>13162</td>\n",
       "      <td>indian</td>\n",
       "      <td>0</td>\n",
       "      <td>0</td>\n",
       "      <td>0</td>\n",
       "      <td>1</td>\n",
       "      <td>0</td>\n",
       "      <td>0</td>\n",
       "      <td>0</td>\n",
       "      <td>0</td>\n",
       "      <td>...</td>\n",
       "      <td>0</td>\n",
       "      <td>0</td>\n",
       "      <td>0</td>\n",
       "      <td>0</td>\n",
       "      <td>0</td>\n",
       "      <td>0</td>\n",
       "      <td>0</td>\n",
       "      <td>0</td>\n",
       "      <td>0</td>\n",
       "      <td>0</td>\n",
       "    </tr>\n",
       "  </tbody>\n",
       "</table>\n",
       "<p>5 rows × 22 columns</p>\n",
       "</div>"
      ],
      "text/plain": [
       "      id      cuisine  greek  southern_us  filipino  indian  jamaican  \\\n",
       "0  10259        greek      1            0         0       0         0   \n",
       "1  25693  southern_us      0            1         0       0         0   \n",
       "2  20130     filipino      0            0         1       0         0   \n",
       "3  22213       indian      0            0         0       1         0   \n",
       "4  13162       indian      0            0         0       1         0   \n",
       "\n",
       "   spanish  italian  mexican   ...     thai  vietnamese  cajun_creole  \\\n",
       "0        0        0        0   ...        0           0             0   \n",
       "1        0        0        0   ...        0           0             0   \n",
       "2        0        0        0   ...        0           0             0   \n",
       "3        0        0        0   ...        0           0             0   \n",
       "4        0        0        0   ...        0           0             0   \n",
       "\n",
       "   brazilian  french  japanese  irish  korean  moroccan  russian  \n",
       "0          0       0         0      0       0         0        0  \n",
       "1          0       0         0      0       0         0        0  \n",
       "2          0       0         0      0       0         0        0  \n",
       "3          0       0         0      0       0         0        0  \n",
       "4          0       0         0      0       0         0        0  \n",
       "\n",
       "[5 rows x 22 columns]"
      ]
     },
     "execution_count": 7,
     "metadata": {},
     "output_type": "execute_result"
    }
   ],
   "source": [
    "df_Y= df[(['id','cuisine']+Y_list)]\n",
    "df_Y.head()\n",
    "\n",
    "df_key= df[['id','cuisine']]\n",
    "emb_k5_all=df_key # prepare mother table for first time in the following loops"
   ]
  },
  {
   "cell_type": "code",
   "execution_count": 8,
   "metadata": {},
   "outputs": [
    {
     "data": {
      "text/plain": [
       "Index(['cuisine', 'id', 'used_pepper', 'used_salt', 'used_oil', 'used_garlic',\n",
       "       'used_ground', 'used_fresh', 'used_sauce', 'used_sugar',\n",
       "       ...\n",
       "       'used_hock', 'used_rose', 'used_ciabatta', 'used_ready', 'used_regular',\n",
       "       'used_glass', 'used_safflower', 'used_jeera', 'used_Oil', 'used_oven'],\n",
       "      dtype='object', length=902)"
      ]
     },
     "execution_count": 8,
     "metadata": {},
     "output_type": "execute_result"
    }
   ],
   "source": [
    "# 區分train test\n",
    "df=df.drop(Y_list,axis=1)\n",
    "dataTrain = df[pd.notnull(df['cuisine'])]\n",
    "dataTest = df[~pd.notnull(df['cuisine'])]\n",
    "dataTrain.columns\n",
    "\n",
    "df_Y_Train= df_Y[pd.notnull(df['cuisine'])]"
   ]
  },
  {
   "cell_type": "code",
   "execution_count": 9,
   "metadata": {},
   "outputs": [
    {
     "data": {
      "text/plain": [
       "FMModel(alpha=1, beta=1, block_size=500, epoch=10, fold=1, init=0.1, k=5,\n",
       "    lambda_1=1, lambda_2=1, lr=0.1, metric='auc', model_type='fm',\n",
       "    n_jobs=4, nthread=None, opt='sgd', reg_lambda=0.1, stop_window=2,\n",
       "    task='binary')"
      ]
     },
     "execution_count": 9,
     "metadata": {},
     "output_type": "execute_result"
    }
   ],
   "source": [
    "fm_model = xl.FMModel(task='binary', init=0.1, epoch=10, k=5, lr=0.1, reg_lambda=0.1, opt='sgd', metric='auc')\n",
    "fm_model"
   ]
  },
  {
   "cell_type": "code",
   "execution_count": 10,
   "metadata": {},
   "outputs": [],
   "source": [
    "import logging\n",
    "def X_embedding_fm(emb_X_input, X_dummies, X_dummies_train, fm_model, Y_col):\n",
    "    logging.info('Fit the FM model and derive the embedding values')\n",
    "    fm_model.fit(X_dummies_train, emb_X_input[Y_col]) #Y_col should be a str\n",
    "    emb_weight = fm_model.weights[1]\n",
    "    X_emb = np.matmul(X_dummies.values, emb_weight)\n",
    "    X_emb = pd.DataFrame(X_emb, columns=[Y_col+'_'+str(i) for i in range(emb_weight.shape[1])])\n",
    "    return X_emb\n",
    "    "
   ]
  },
  {
   "cell_type": "code",
   "execution_count": 11,
   "metadata": {},
   "outputs": [
    {
     "data": {
      "text/plain": [
       "(49718, 7)"
      ]
     },
     "execution_count": 11,
     "metadata": {},
     "output_type": "execute_result"
    },
    {
     "data": {
      "text/plain": [
       "(49718, 12)"
      ]
     },
     "execution_count": 11,
     "metadata": {},
     "output_type": "execute_result"
    },
    {
     "data": {
      "text/plain": [
       "(49718, 17)"
      ]
     },
     "execution_count": 11,
     "metadata": {},
     "output_type": "execute_result"
    },
    {
     "data": {
      "text/plain": [
       "(49718, 22)"
      ]
     },
     "execution_count": 11,
     "metadata": {},
     "output_type": "execute_result"
    },
    {
     "data": {
      "text/plain": [
       "(49718, 27)"
      ]
     },
     "execution_count": 11,
     "metadata": {},
     "output_type": "execute_result"
    },
    {
     "data": {
      "text/plain": [
       "(49718, 32)"
      ]
     },
     "execution_count": 11,
     "metadata": {},
     "output_type": "execute_result"
    },
    {
     "data": {
      "text/plain": [
       "(49718, 37)"
      ]
     },
     "execution_count": 11,
     "metadata": {},
     "output_type": "execute_result"
    },
    {
     "data": {
      "text/plain": [
       "(49718, 42)"
      ]
     },
     "execution_count": 11,
     "metadata": {},
     "output_type": "execute_result"
    },
    {
     "data": {
      "text/plain": [
       "(49718, 47)"
      ]
     },
     "execution_count": 11,
     "metadata": {},
     "output_type": "execute_result"
    },
    {
     "data": {
      "text/plain": [
       "(49718, 52)"
      ]
     },
     "execution_count": 11,
     "metadata": {},
     "output_type": "execute_result"
    },
    {
     "data": {
      "text/plain": [
       "(49718, 57)"
      ]
     },
     "execution_count": 11,
     "metadata": {},
     "output_type": "execute_result"
    },
    {
     "data": {
      "text/plain": [
       "(49718, 62)"
      ]
     },
     "execution_count": 11,
     "metadata": {},
     "output_type": "execute_result"
    },
    {
     "data": {
      "text/plain": [
       "(49718, 67)"
      ]
     },
     "execution_count": 11,
     "metadata": {},
     "output_type": "execute_result"
    },
    {
     "data": {
      "text/plain": [
       "(49718, 72)"
      ]
     },
     "execution_count": 11,
     "metadata": {},
     "output_type": "execute_result"
    },
    {
     "data": {
      "text/plain": [
       "(49718, 77)"
      ]
     },
     "execution_count": 11,
     "metadata": {},
     "output_type": "execute_result"
    },
    {
     "data": {
      "text/plain": [
       "(49718, 82)"
      ]
     },
     "execution_count": 11,
     "metadata": {},
     "output_type": "execute_result"
    },
    {
     "data": {
      "text/plain": [
       "(49718, 87)"
      ]
     },
     "execution_count": 11,
     "metadata": {},
     "output_type": "execute_result"
    },
    {
     "data": {
      "text/plain": [
       "(49718, 92)"
      ]
     },
     "execution_count": 11,
     "metadata": {},
     "output_type": "execute_result"
    },
    {
     "data": {
      "text/plain": [
       "(49718, 97)"
      ]
     },
     "execution_count": 11,
     "metadata": {},
     "output_type": "execute_result"
    },
    {
     "data": {
      "text/plain": [
       "(49718, 102)"
      ]
     },
     "execution_count": 11,
     "metadata": {},
     "output_type": "execute_result"
    },
    {
     "data": {
      "text/html": [
       "<div>\n",
       "<style scoped>\n",
       "    .dataframe tbody tr th:only-of-type {\n",
       "        vertical-align: middle;\n",
       "    }\n",
       "\n",
       "    .dataframe tbody tr th {\n",
       "        vertical-align: top;\n",
       "    }\n",
       "\n",
       "    .dataframe thead th {\n",
       "        text-align: right;\n",
       "    }\n",
       "</style>\n",
       "<table border=\"1\" class=\"dataframe\">\n",
       "  <thead>\n",
       "    <tr style=\"text-align: right;\">\n",
       "      <th></th>\n",
       "      <th>id</th>\n",
       "      <th>cuisine</th>\n",
       "      <th>greek_0</th>\n",
       "      <th>greek_1</th>\n",
       "      <th>greek_2</th>\n",
       "      <th>greek_3</th>\n",
       "      <th>greek_4</th>\n",
       "      <th>southern_us_0</th>\n",
       "      <th>southern_us_1</th>\n",
       "      <th>southern_us_2</th>\n",
       "      <th>...</th>\n",
       "      <th>moroccan_0</th>\n",
       "      <th>moroccan_1</th>\n",
       "      <th>moroccan_2</th>\n",
       "      <th>moroccan_3</th>\n",
       "      <th>moroccan_4</th>\n",
       "      <th>russian_0</th>\n",
       "      <th>russian_1</th>\n",
       "      <th>russian_2</th>\n",
       "      <th>russian_3</th>\n",
       "      <th>russian_4</th>\n",
       "    </tr>\n",
       "  </thead>\n",
       "  <tbody>\n",
       "    <tr>\n",
       "      <th>0</th>\n",
       "      <td>10259</td>\n",
       "      <td>greek</td>\n",
       "      <td>1.504321e-07</td>\n",
       "      <td>8.413370e-08</td>\n",
       "      <td>1.370113e-07</td>\n",
       "      <td>2.121038e-07</td>\n",
       "      <td>1.632968e-07</td>\n",
       "      <td>1.543959e-07</td>\n",
       "      <td>2.140319e-07</td>\n",
       "      <td>6.299994e-08</td>\n",
       "      <td>...</td>\n",
       "      <td>-1.130970e-07</td>\n",
       "      <td>-7.015309e-08</td>\n",
       "      <td>-9.339560e-08</td>\n",
       "      <td>-9.050575e-08</td>\n",
       "      <td>-9.213072e-08</td>\n",
       "      <td>-4.951313e-08</td>\n",
       "      <td>2.716038e-08</td>\n",
       "      <td>5.095515e-08</td>\n",
       "      <td>8.442199e-08</td>\n",
       "      <td>-4.981065e-08</td>\n",
       "    </tr>\n",
       "    <tr>\n",
       "      <th>1</th>\n",
       "      <td>25693</td>\n",
       "      <td>southern_us</td>\n",
       "      <td>-1.265237e-07</td>\n",
       "      <td>-1.207269e-07</td>\n",
       "      <td>-1.303789e-07</td>\n",
       "      <td>-1.450370e-07</td>\n",
       "      <td>-1.379893e-07</td>\n",
       "      <td>4.497118e-08</td>\n",
       "      <td>-6.007453e-08</td>\n",
       "      <td>-1.016296e-07</td>\n",
       "      <td>...</td>\n",
       "      <td>-3.739040e-08</td>\n",
       "      <td>-3.328418e-08</td>\n",
       "      <td>-5.998014e-08</td>\n",
       "      <td>-5.202901e-08</td>\n",
       "      <td>-2.362114e-08</td>\n",
       "      <td>-8.755257e-09</td>\n",
       "      <td>1.815557e-07</td>\n",
       "      <td>1.930086e-07</td>\n",
       "      <td>2.269317e-07</td>\n",
       "      <td>2.697356e-08</td>\n",
       "    </tr>\n",
       "    <tr>\n",
       "      <th>2</th>\n",
       "      <td>20130</td>\n",
       "      <td>filipino</td>\n",
       "      <td>2.376367e-05</td>\n",
       "      <td>8.009876e-06</td>\n",
       "      <td>2.221927e-05</td>\n",
       "      <td>2.332269e-05</td>\n",
       "      <td>1.412222e-05</td>\n",
       "      <td>2.383523e-05</td>\n",
       "      <td>8.072647e-06</td>\n",
       "      <td>2.226723e-05</td>\n",
       "      <td>...</td>\n",
       "      <td>2.384332e-05</td>\n",
       "      <td>8.108578e-06</td>\n",
       "      <td>2.228810e-05</td>\n",
       "      <td>2.341495e-05</td>\n",
       "      <td>1.422062e-05</td>\n",
       "      <td>2.397364e-05</td>\n",
       "      <td>8.376593e-06</td>\n",
       "      <td>2.261572e-05</td>\n",
       "      <td>2.377516e-05</td>\n",
       "      <td>1.434198e-05</td>\n",
       "    </tr>\n",
       "    <tr>\n",
       "      <th>3</th>\n",
       "      <td>22213</td>\n",
       "      <td>indian</td>\n",
       "      <td>-3.136633e-08</td>\n",
       "      <td>-4.659835e-08</td>\n",
       "      <td>-5.006742e-08</td>\n",
       "      <td>-4.438030e-08</td>\n",
       "      <td>-3.584083e-08</td>\n",
       "      <td>-3.380205e-08</td>\n",
       "      <td>-6.689425e-08</td>\n",
       "      <td>-1.081901e-07</td>\n",
       "      <td>...</td>\n",
       "      <td>-7.424820e-09</td>\n",
       "      <td>-2.092047e-08</td>\n",
       "      <td>-2.166416e-08</td>\n",
       "      <td>-2.478439e-08</td>\n",
       "      <td>-8.544654e-09</td>\n",
       "      <td>2.082947e-08</td>\n",
       "      <td>2.252624e-07</td>\n",
       "      <td>2.156138e-07</td>\n",
       "      <td>2.244563e-07</td>\n",
       "      <td>6.707796e-08</td>\n",
       "    </tr>\n",
       "    <tr>\n",
       "      <th>4</th>\n",
       "      <td>13162</td>\n",
       "      <td>indian</td>\n",
       "      <td>3.496644e-05</td>\n",
       "      <td>1.502816e-04</td>\n",
       "      <td>5.439540e-05</td>\n",
       "      <td>6.885732e-05</td>\n",
       "      <td>6.643060e-05</td>\n",
       "      <td>3.458811e-05</td>\n",
       "      <td>1.500296e-04</td>\n",
       "      <td>5.402166e-05</td>\n",
       "      <td>...</td>\n",
       "      <td>3.518619e-05</td>\n",
       "      <td>1.505639e-04</td>\n",
       "      <td>5.466352e-05</td>\n",
       "      <td>6.915050e-05</td>\n",
       "      <td>6.675429e-05</td>\n",
       "      <td>3.517699e-05</td>\n",
       "      <td>1.507897e-04</td>\n",
       "      <td>5.494560e-05</td>\n",
       "      <td>6.949222e-05</td>\n",
       "      <td>6.670450e-05</td>\n",
       "    </tr>\n",
       "  </tbody>\n",
       "</table>\n",
       "<p>5 rows × 102 columns</p>\n",
       "</div>"
      ],
      "text/plain": [
       "      id      cuisine       greek_0       greek_1       greek_2       greek_3  \\\n",
       "0  10259        greek  1.504321e-07  8.413370e-08  1.370113e-07  2.121038e-07   \n",
       "1  25693  southern_us -1.265237e-07 -1.207269e-07 -1.303789e-07 -1.450370e-07   \n",
       "2  20130     filipino  2.376367e-05  8.009876e-06  2.221927e-05  2.332269e-05   \n",
       "3  22213       indian -3.136633e-08 -4.659835e-08 -5.006742e-08 -4.438030e-08   \n",
       "4  13162       indian  3.496644e-05  1.502816e-04  5.439540e-05  6.885732e-05   \n",
       "\n",
       "        greek_4  southern_us_0  southern_us_1  southern_us_2      ...       \\\n",
       "0  1.632968e-07   1.543959e-07   2.140319e-07   6.299994e-08      ...        \n",
       "1 -1.379893e-07   4.497118e-08  -6.007453e-08  -1.016296e-07      ...        \n",
       "2  1.412222e-05   2.383523e-05   8.072647e-06   2.226723e-05      ...        \n",
       "3 -3.584083e-08  -3.380205e-08  -6.689425e-08  -1.081901e-07      ...        \n",
       "4  6.643060e-05   3.458811e-05   1.500296e-04   5.402166e-05      ...        \n",
       "\n",
       "     moroccan_0    moroccan_1    moroccan_2    moroccan_3    moroccan_4  \\\n",
       "0 -1.130970e-07 -7.015309e-08 -9.339560e-08 -9.050575e-08 -9.213072e-08   \n",
       "1 -3.739040e-08 -3.328418e-08 -5.998014e-08 -5.202901e-08 -2.362114e-08   \n",
       "2  2.384332e-05  8.108578e-06  2.228810e-05  2.341495e-05  1.422062e-05   \n",
       "3 -7.424820e-09 -2.092047e-08 -2.166416e-08 -2.478439e-08 -8.544654e-09   \n",
       "4  3.518619e-05  1.505639e-04  5.466352e-05  6.915050e-05  6.675429e-05   \n",
       "\n",
       "      russian_0     russian_1     russian_2     russian_3     russian_4  \n",
       "0 -4.951313e-08  2.716038e-08  5.095515e-08  8.442199e-08 -4.981065e-08  \n",
       "1 -8.755257e-09  1.815557e-07  1.930086e-07  2.269317e-07  2.697356e-08  \n",
       "2  2.397364e-05  8.376593e-06  2.261572e-05  2.377516e-05  1.434198e-05  \n",
       "3  2.082947e-08  2.252624e-07  2.156138e-07  2.244563e-07  6.707796e-08  \n",
       "4  3.517699e-05  1.507897e-04  5.494560e-05  6.949222e-05  6.670450e-05  \n",
       "\n",
       "[5 rows x 102 columns]"
      ]
     },
     "execution_count": 11,
     "metadata": {},
     "output_type": "execute_result"
    }
   ],
   "source": [
    "X_dummies = df.drop(['id','cuisine'],axis=1)\n",
    "X_dummies_train = dataTrain.drop(['id','cuisine'],axis=1)\n",
    "for y in Y_list:\n",
    "    emb_X_input = df_Y_Train[['id', y]]#.reset_index(drop=True)\n",
    "    Y_col=y\n",
    "    X_emb= X_embedding_fm(emb_X_input, X_dummies, X_dummies_train, fm_model, Y_col)\n",
    "    emb_k5_all= pd.concat([emb_k5_all,X_emb], axis=1)\n",
    "    emb_k5_all.shape\n",
    "emb_k5_all.head()"
   ]
  },
  {
   "cell_type": "code",
   "execution_count": 12,
   "metadata": {},
   "outputs": [
    {
     "data": {
      "text/plain": [
       "-5.26817855e-06"
      ]
     },
     "execution_count": 12,
     "metadata": {},
     "output_type": "execute_result"
    }
   ],
   "source": [
    "# check the global min\n",
    "emb_k5_all.min().min()"
   ]
  },
  {
   "cell_type": "code",
   "execution_count": 13,
   "metadata": {},
   "outputs": [],
   "source": [
    "import pickle\n",
    "with open('./data/all_data_emb_k5.pickle','wb') as f:\n",
    "    pickle.dump(emb_k5_all,f)"
   ]
  },
  {
   "cell_type": "markdown",
   "metadata": {},
   "source": [
    "### embedding one time before loops"
   ]
  },
  {
   "cell_type": "code",
   "execution_count": null,
   "metadata": {},
   "outputs": [],
   "source": [
    "# Just test one time in this cell\n",
    "emb_X_input = df_Y_Train[['id','greek']]#.reset_index(drop=True)\n",
    "X_dummies = df.drop(['id','cuisine'],axis=1)\n",
    "X_dummies_train = dataTrain.drop(['id','cuisine'],axis=1)\n",
    "Y_col='greek'"
   ]
  },
  {
   "cell_type": "code",
   "execution_count": null,
   "metadata": {},
   "outputs": [],
   "source": [
    "X_emb= X_embedding_fm(emb_X_input, X_dummies, X_dummies_train, fm_model, Y_col)"
   ]
  }
 ],
 "metadata": {
  "kernelspec": {
   "display_name": "Python 3",
   "language": "python",
   "name": "python3"
  },
  "language_info": {
   "codemirror_mode": {
    "name": "ipython",
    "version": 3
   },
   "file_extension": ".py",
   "mimetype": "text/x-python",
   "name": "python",
   "nbconvert_exporter": "python",
   "pygments_lexer": "ipython3",
   "version": "3.6.5"
  }
 },
 "nbformat": 4,
 "nbformat_minor": 2
}

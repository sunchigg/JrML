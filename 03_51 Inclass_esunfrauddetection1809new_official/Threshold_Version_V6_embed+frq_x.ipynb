{
 "cells": [
  {
   "cell_type": "code",
   "execution_count": 1,
   "metadata": {},
   "outputs": [],
   "source": [
    "# load package# load p \n",
    "import pandas as pd\n",
    "import numpy as np\n",
    "import lightgbm as lgb\n",
    "from lightgbm import LGBMClassifier\n",
    "from sklearn.model_selection import GridSearchCV\n",
    "from sklearn import metrics\n",
    "import matplotlib.pyplot as plt\n",
    "\n",
    "\n",
    "# set path\n",
    "import os\n",
    "default_path = \"/Users/francislin/Desktop/Machine_Learning_Workshop/esunfrauddetectiongame1809/\"\n",
    "os.chdir(default_path)\n",
    "\n",
    "# skip interaction warning\n",
    "import warnings; \n",
    "warnings.filterwarnings('ignore')\n",
    "#你可以选择修改 ast_note_iteractively kernel 选项来使得 Jupyter 为每一行的变量或语句执行这个操作，以便你可以立即看到多条语句一起输出\n",
    "from IPython.core.interactiveshell import InteractiveShell\n",
    "InteractiveShell.ast_node_interactivity = \"all\""
   ]
  },
  {
   "cell_type": "code",
   "execution_count": 129,
   "metadata": {},
   "outputs": [],
   "source": [
    "train=pd.read_csv('train_diss.csv',encoding='big5')\n",
    "test=pd.read_csv('test_diss.csv',encoding='big5')\n",
    "data=train.append(test, ignore_index=True)\n",
    "#del(train, test)"
   ]
  },
  {
   "cell_type": "code",
   "execution_count": 3,
   "metadata": {},
   "outputs": [],
   "source": [
    "# calculate max fraud time gap\n",
    "t1= train[['DATETIME','CANO','FRAUD_IND']]\n",
    "t1=t1[t1.FRAUD_IND==1]\n",
    "\n",
    "t_max = t1.groupby(by='CANO', as_index=False).agg({'DATETIME': pd.Series.max})\n",
    "t_min = t1.groupby(by='CANO', as_index=False).agg({'DATETIME': pd.Series.min})\n",
    "t_Q = t1.groupby(by='CANO', as_index=False).agg({'DATETIME': pd.Series.nunique})\n",
    "t_Q.rename(columns={'DATETIME': 'fraud_times'}, inplace=True)"
   ]
  },
  {
   "cell_type": "code",
   "execution_count": 4,
   "metadata": {},
   "outputs": [],
   "source": [
    "t_time_gap=pd.merge(left=t_max, right=t_min,how='left', on=['CANO'])\n",
    "t_time_gap=pd.merge(left=t_time_gap, right=t_Q,how='left', on=['CANO'])"
   ]
  },
  {
   "cell_type": "code",
   "execution_count": 5,
   "metadata": {},
   "outputs": [
    {
     "data": {
      "text/html": [
       "<div>\n",
       "<style scoped>\n",
       "    .dataframe tbody tr th:only-of-type {\n",
       "        vertical-align: middle;\n",
       "    }\n",
       "\n",
       "    .dataframe tbody tr th {\n",
       "        vertical-align: top;\n",
       "    }\n",
       "\n",
       "    .dataframe thead th {\n",
       "        text-align: right;\n",
       "    }\n",
       "</style>\n",
       "<table border=\"1\" class=\"dataframe\">\n",
       "  <thead>\n",
       "    <tr style=\"text-align: right;\">\n",
       "      <th></th>\n",
       "      <th>CANO</th>\n",
       "      <th>DATETIME_x</th>\n",
       "      <th>DATETIME_y</th>\n",
       "      <th>fraud_times</th>\n",
       "    </tr>\n",
       "  </thead>\n",
       "  <tbody>\n",
       "    <tr>\n",
       "      <th>0</th>\n",
       "      <td>848000003</td>\n",
       "      <td>1818041454</td>\n",
       "      <td>1818041454</td>\n",
       "      <td>1</td>\n",
       "    </tr>\n",
       "    <tr>\n",
       "      <th>1</th>\n",
       "      <td>882000005</td>\n",
       "      <td>1810482228</td>\n",
       "      <td>1810482228</td>\n",
       "      <td>1</td>\n",
       "    </tr>\n",
       "    <tr>\n",
       "      <th>2</th>\n",
       "      <td>1197000007</td>\n",
       "      <td>1831962173</td>\n",
       "      <td>1831962172</td>\n",
       "      <td>2</td>\n",
       "    </tr>\n",
       "    <tr>\n",
       "      <th>3</th>\n",
       "      <td>1419000003</td>\n",
       "      <td>1815786230</td>\n",
       "      <td>1815786230</td>\n",
       "      <td>1</td>\n",
       "    </tr>\n",
       "    <tr>\n",
       "      <th>4</th>\n",
       "      <td>1445000010</td>\n",
       "      <td>1834837870</td>\n",
       "      <td>1834837870</td>\n",
       "      <td>1</td>\n",
       "    </tr>\n",
       "  </tbody>\n",
       "</table>\n",
       "</div>"
      ],
      "text/plain": [
       "         CANO  DATETIME_x  DATETIME_y  fraud_times\n",
       "0   848000003  1818041454  1818041454            1\n",
       "1   882000005  1810482228  1810482228            1\n",
       "2  1197000007  1831962173  1831962172            2\n",
       "3  1419000003  1815786230  1815786230            1\n",
       "4  1445000010  1834837870  1834837870            1"
      ]
     },
     "execution_count": 5,
     "metadata": {},
     "output_type": "execute_result"
    }
   ],
   "source": [
    "t_time_gap.head()"
   ]
  },
  {
   "cell_type": "code",
   "execution_count": 6,
   "metadata": {},
   "outputs": [
    {
     "data": {
      "text/html": [
       "<div>\n",
       "<style scoped>\n",
       "    .dataframe tbody tr th:only-of-type {\n",
       "        vertical-align: middle;\n",
       "    }\n",
       "\n",
       "    .dataframe tbody tr th {\n",
       "        vertical-align: top;\n",
       "    }\n",
       "\n",
       "    .dataframe thead th {\n",
       "        text-align: right;\n",
       "    }\n",
       "</style>\n",
       "<table border=\"1\" class=\"dataframe\">\n",
       "  <thead>\n",
       "    <tr style=\"text-align: right;\">\n",
       "      <th></th>\n",
       "      <th>CANO</th>\n",
       "      <th>DATETIME_x</th>\n",
       "      <th>DATETIME_y</th>\n",
       "      <th>fraud_times</th>\n",
       "      <th>max_time_gap</th>\n",
       "    </tr>\n",
       "  </thead>\n",
       "  <tbody>\n",
       "    <tr>\n",
       "      <th>15836</th>\n",
       "      <td>3110951000001</td>\n",
       "      <td>1833607237</td>\n",
       "      <td>1825470619</td>\n",
       "      <td>283</td>\n",
       "      <td>8136618</td>\n",
       "    </tr>\n",
       "    <tr>\n",
       "      <th>4369</th>\n",
       "      <td>858936000003</td>\n",
       "      <td>1818762604</td>\n",
       "      <td>1817958119</td>\n",
       "      <td>96</td>\n",
       "      <td>804485</td>\n",
       "    </tr>\n",
       "    <tr>\n",
       "      <th>26648</th>\n",
       "      <td>4145636000006</td>\n",
       "      <td>1834687074</td>\n",
       "      <td>1834160432</td>\n",
       "      <td>80</td>\n",
       "      <td>526642</td>\n",
       "    </tr>\n",
       "    <tr>\n",
       "      <th>3417</th>\n",
       "      <td>669197000004</td>\n",
       "      <td>1822735981</td>\n",
       "      <td>1809431567</td>\n",
       "      <td>77</td>\n",
       "      <td>13304414</td>\n",
       "    </tr>\n",
       "    <tr>\n",
       "      <th>3889</th>\n",
       "      <td>749507000006</td>\n",
       "      <td>1830503200</td>\n",
       "      <td>1830480053</td>\n",
       "      <td>75</td>\n",
       "      <td>23147</td>\n",
       "    </tr>\n",
       "  </tbody>\n",
       "</table>\n",
       "</div>"
      ],
      "text/plain": [
       "                CANO  DATETIME_x  DATETIME_y  fraud_times  max_time_gap\n",
       "15836  3110951000001  1833607237  1825470619          283       8136618\n",
       "4369    858936000003  1818762604  1817958119           96        804485\n",
       "26648  4145636000006  1834687074  1834160432           80        526642\n",
       "3417    669197000004  1822735981  1809431567           77      13304414\n",
       "3889    749507000006  1830503200  1830480053           75         23147"
      ]
     },
     "execution_count": 6,
     "metadata": {},
     "output_type": "execute_result"
    }
   ],
   "source": [
    "t_time_gap['max_time_gap']= t_time_gap['DATETIME_x']-t_time_gap['DATETIME_y']\n",
    "t_time_gap= t_time_gap.sort_values(by=['fraud_times','max_time_gap'],ascending=False)#,ascending=False\n",
    "t_time_gap.head()"
   ]
  },
  {
   "cell_type": "code",
   "execution_count": 7,
   "metadata": {},
   "outputs": [
    {
     "data": {
      "text/plain": [
       "33625"
      ]
     },
     "execution_count": 7,
     "metadata": {},
     "output_type": "execute_result"
    },
    {
     "data": {
      "text/html": [
       "<div>\n",
       "<style scoped>\n",
       "    .dataframe tbody tr th:only-of-type {\n",
       "        vertical-align: middle;\n",
       "    }\n",
       "\n",
       "    .dataframe tbody tr th {\n",
       "        vertical-align: top;\n",
       "    }\n",
       "\n",
       "    .dataframe thead th {\n",
       "        text-align: right;\n",
       "    }\n",
       "</style>\n",
       "<table border=\"1\" class=\"dataframe\">\n",
       "  <thead>\n",
       "    <tr style=\"text-align: right;\">\n",
       "      <th></th>\n",
       "      <th>CANO</th>\n",
       "      <th>DATETIME_x</th>\n",
       "      <th>DATETIME_y</th>\n",
       "      <th>fraud_times</th>\n",
       "      <th>max_time_gap</th>\n",
       "    </tr>\n",
       "  </thead>\n",
       "  <tbody>\n",
       "    <tr>\n",
       "      <th>32491</th>\n",
       "      <td>5047727000001</td>\n",
       "      <td>1827859891</td>\n",
       "      <td>1827859837</td>\n",
       "      <td>3</td>\n",
       "      <td>54</td>\n",
       "    </tr>\n",
       "    <tr>\n",
       "      <th>17532</th>\n",
       "      <td>3291480000002</td>\n",
       "      <td>1813785862</td>\n",
       "      <td>1813785809</td>\n",
       "      <td>3</td>\n",
       "      <td>53</td>\n",
       "    </tr>\n",
       "    <tr>\n",
       "      <th>18899</th>\n",
       "      <td>3430987000002</td>\n",
       "      <td>1823209725</td>\n",
       "      <td>1823209672</td>\n",
       "      <td>3</td>\n",
       "      <td>53</td>\n",
       "    </tr>\n",
       "    <tr>\n",
       "      <th>21213</th>\n",
       "      <td>3630615000001</td>\n",
       "      <td>1811861447</td>\n",
       "      <td>1811861394</td>\n",
       "      <td>3</td>\n",
       "      <td>53</td>\n",
       "    </tr>\n",
       "    <tr>\n",
       "      <th>32404</th>\n",
       "      <td>5016104000003</td>\n",
       "      <td>1821775669</td>\n",
       "      <td>1821775616</td>\n",
       "      <td>3</td>\n",
       "      <td>53</td>\n",
       "    </tr>\n",
       "  </tbody>\n",
       "</table>\n",
       "</div>"
      ],
      "text/plain": [
       "                CANO  DATETIME_x  DATETIME_y  fraud_times  max_time_gap\n",
       "32491  5047727000001  1827859891  1827859837            3            54\n",
       "17532  3291480000002  1813785862  1813785809            3            53\n",
       "18899  3430987000002  1823209725  1823209672            3            53\n",
       "21213  3630615000001  1811861447  1811861394            3            53\n",
       "32404  5016104000003  1821775669  1821775616            3            53"
      ]
     },
     "execution_count": 7,
     "metadata": {},
     "output_type": "execute_result"
    }
   ],
   "source": [
    "len(t_time_gap)\n",
    "t_time_gap[6500:6505]"
   ]
  },
  {
   "cell_type": "code",
   "execution_count": 8,
   "metadata": {},
   "outputs": [
    {
     "data": {
      "text/plain": [
       "<seaborn.axisgrid.FacetGrid at 0x103939c88>"
      ]
     },
     "execution_count": 8,
     "metadata": {},
     "output_type": "execute_result"
    },
    {
     "data": {
      "image/png": "[encoded data removed]",
      "text/plain": [
       "<Figure size 216x216 with 1 Axes>"
      ]
     },
     "metadata": {},
     "output_type": "display_data"
    }
   ],
   "source": [
    "import seaborn as sns\n",
    "g=sns.FacetGrid(t_time_gap)\n",
    "g.map(sns.distplot,'max_time_gap',kde=True)#kde是否要折線圖的參數"
   ]
  },
  {
   "cell_type": "code",
   "execution_count": 18,
   "metadata": {},
   "outputs": [],
   "source": [
    "frq=data[['CANO','MCHNO','DATETIME','ECFG']]"
   ]
  },
  {
   "cell_type": "code",
   "execution_count": 22,
   "metadata": {},
   "outputs": [
    {
     "data": {
      "text/html": [
       "<div>\n",
       "<style scoped>\n",
       "    .dataframe tbody tr th:only-of-type {\n",
       "        vertical-align: middle;\n",
       "    }\n",
       "\n",
       "    .dataframe tbody tr th {\n",
       "        vertical-align: top;\n",
       "    }\n",
       "\n",
       "    .dataframe thead th {\n",
       "        text-align: right;\n",
       "    }\n",
       "</style>\n",
       "<table border=\"1\" class=\"dataframe\">\n",
       "  <thead>\n",
       "    <tr style=\"text-align: right;\">\n",
       "      <th></th>\n",
       "      <th>CANO</th>\n",
       "      <th>MCHNO</th>\n",
       "      <th>DATETIME</th>\n",
       "      <th>ECFG</th>\n",
       "      <th>CANO_frq_in_5mins</th>\n",
       "      <th>CANO_ECFG_frq_in_5mins</th>\n",
       "    </tr>\n",
       "  </thead>\n",
       "  <tbody>\n",
       "    <tr>\n",
       "      <th>0</th>\n",
       "      <td>2307245000005</td>\n",
       "      <td>012017080000080</td>\n",
       "      <td>1809216040</td>\n",
       "      <td>1</td>\n",
       "      <td>1.0</td>\n",
       "      <td>0.0</td>\n",
       "    </tr>\n",
       "    <tr>\n",
       "      <th>1</th>\n",
       "      <td>1363568000002</td>\n",
       "      <td>0100818122</td>\n",
       "      <td>1809216112</td>\n",
       "      <td>1</td>\n",
       "      <td>1.0</td>\n",
       "      <td>0.0</td>\n",
       "    </tr>\n",
       "    <tr>\n",
       "      <th>2</th>\n",
       "      <td>1308636000003</td>\n",
       "      <td>210756000200925</td>\n",
       "      <td>1809216311</td>\n",
       "      <td>1</td>\n",
       "      <td>1.0</td>\n",
       "      <td>0.0</td>\n",
       "    </tr>\n",
       "    <tr>\n",
       "      <th>3</th>\n",
       "      <td>3162355000001</td>\n",
       "      <td>0100803548</td>\n",
       "      <td>1809216312</td>\n",
       "      <td>1</td>\n",
       "      <td>1.0</td>\n",
       "      <td>0.0</td>\n",
       "    </tr>\n",
       "    <tr>\n",
       "      <th>4</th>\n",
       "      <td>3330714000002</td>\n",
       "      <td>210756000200925</td>\n",
       "      <td>1809216316</td>\n",
       "      <td>1</td>\n",
       "      <td>1.0</td>\n",
       "      <td>0.0</td>\n",
       "    </tr>\n",
       "  </tbody>\n",
       "</table>\n",
       "</div>"
      ],
      "text/plain": [
       "            CANO            MCHNO    DATETIME  ECFG  CANO_frq_in_5mins  \\\n",
       "0  2307245000005  012017080000080  1809216040     1                1.0   \n",
       "1  1363568000002       0100818122  1809216112     1                1.0   \n",
       "2  1308636000003  210756000200925  1809216311     1                1.0   \n",
       "3  3162355000001       0100803548  1809216312     1                1.0   \n",
       "4  3330714000002  210756000200925  1809216316     1                1.0   \n",
       "\n",
       "   CANO_ECFG_frq_in_5mins  \n",
       "0                     0.0  \n",
       "1                     0.0  \n",
       "2                     0.0  \n",
       "3                     0.0  \n",
       "4                     0.0  "
      ]
     },
     "execution_count": 22,
     "metadata": {},
     "output_type": "execute_result"
    }
   ],
   "source": [
    "frq.head()\n",
    "del (t1, t_time_gap, t_max, t_min, t_Q, g)"
   ]
  },
  {
   "cell_type": "code",
   "execution_count": 11,
   "metadata": {},
   "outputs": [
    {
     "name": "stdout",
     "output_type": "stream",
     "text": [
      "CPU times: user 38.3 s, sys: 174 ms, total: 38.5 s\n",
      "Wall time: 38.9 s\n"
     ]
    }
   ],
   "source": [
    "%%time\n",
    "CANO_time = {}\n",
    "for i in range(0, len(frq)):\n",
    "    mount = frq.loc[i,'CANO']\n",
    "    if CANO_time.get(mount) == None:\n",
    "        CANO_time[mount] = [frq.loc[i,'DATETIME']]\n",
    "    else:\n",
    "        CANO_time[mount].append(frq.loc[i,'DATETIME'])"
   ]
  },
  {
   "cell_type": "code",
   "execution_count": 13,
   "metadata": {},
   "outputs": [
    {
     "name": "stdout",
     "output_type": "stream",
     "text": [
      "CPU times: user 36.7 s, sys: 57.5 ms, total: 36.8 s\n",
      "Wall time: 36.8 s\n"
     ]
    }
   ],
   "source": [
    "%%time\n",
    "MCHNO_time = {}\n",
    "for i in range(0, len(frq)):\n",
    "    mount = frq.loc[i,'MCHNO']\n",
    "    if MCHNO_time.get(mount) == None:\n",
    "        MCHNO_time[mount] = [frq.loc[i,'DATETIME']]\n",
    "    else:\n",
    "        MCHNO_time[mount].append(frq.loc[i,'DATETIME'])"
   ]
  },
  {
   "cell_type": "code",
   "execution_count": 12,
   "metadata": {},
   "outputs": [
    {
     "data": {
      "text/plain": [
       "\"\\nprocess_bar = ShowProcess(100, 'OK')\\nfor i in range(100):\\n    process_bar.show_process()\\n    time.sleep(0.001)\\n\""
      ]
     },
     "execution_count": 12,
     "metadata": {},
     "output_type": "execute_result"
    }
   ],
   "source": [
    "import sys, time # https://blog.csdn.net/u013832707/article/details/73608504\n",
    "\n",
    "class ShowProcess():\n",
    "    \"\"\"\n",
    "    显示处理进度的类\n",
    "    调用该类相关函数即可实现处理进度的显示\n",
    "    \"\"\"\n",
    "    i = 0 # 当前的处理进度\n",
    "    max_steps = 0 # 总共需要处理的次数\n",
    "    max_arrow = 50 #进度条的长度\n",
    "    infoDone = 'done'\n",
    "\n",
    "    # 初始化函数，需要知道总共的处理次数\n",
    "    def __init__(self, max_steps, infoDone = 'Done'):\n",
    "        self.max_steps = max_steps\n",
    "        self.i = 0\n",
    "        self.infoDone = infoDone\n",
    "\n",
    "    # 显示函数，根据当前的处理进度i显示进度\n",
    "    # 效果为[>>>>>>>>>>>>>>>>>>>>>>>>>>>>>>>>>>>>>>>>>>>>>>>>>>]100.00%\n",
    "    def show_process(self, i=None):\n",
    "        if i is not None:\n",
    "            self.i = i\n",
    "        else:\n",
    "            self.i += 1\n",
    "        num_arrow = int(self.i * self.max_arrow / self.max_steps) #计算显示多少个'>'\n",
    "        num_line = self.max_arrow - num_arrow #计算显示多少个'-'\n",
    "        percent = self.i * 100.0 / self.max_steps #计算完成进度，格式为xx.xx%\n",
    "        process_bar = '[' + '>' * num_arrow + '-' * num_line + ']'\\\n",
    "                      + '%.2f' % percent + '%' + '\\r' #带输出的字符串，'\\r'表示不换行回到最左边\n",
    "        sys.stdout.write(process_bar) #这两句打印字符到终端\n",
    "        sys.stdout.flush()\n",
    "        if self.i >= self.max_steps:\n",
    "            self.close()\n",
    "\n",
    "    def close(self):\n",
    "        print('')\n",
    "        print(self.infoDone)\n",
    "        self.i = 0\n",
    "'''\n",
    "process_bar = ShowProcess(100, 'OK')\n",
    "for i in range(100):\n",
    "    process_bar.show_process()\n",
    "    time.sleep(0.001)\n",
    "'''"
   ]
  },
  {
   "cell_type": "code",
   "execution_count": 23,
   "metadata": {},
   "outputs": [
    {
     "name": "stdout",
     "output_type": "stream",
     "text": [
      "[>>>>>>>>>>>>>>>>>>>>>>>>>>>>>>>>>>>>>>>>>>>>>>>>>>]100.00%\n",
      "OK\n",
      "CPU times: user 1d 15min 13s, sys: 24min 56s, total: 1d 40min 10s\n",
      "Wall time: 1d 20h 14min 22s\n"
     ]
    }
   ],
   "source": [
    "%%time\n",
    "process_bar = ShowProcess(len(frq), 'OK')\n",
    "frq['CANO_frq_in_5mins'] = 0\n",
    "for i in range(0, len(frq)):\n",
    "    process_bar.show_process()\n",
    "    time_list = CANO_time.get(frq.loc[i,'CANO'])\n",
    "    if type(time_list)==list: \n",
    "        for t in time_list:\n",
    "            if abs(t - frq.loc[i,'DATETIME']) < 300:\n",
    "                frq.loc[i,'CANO_frq_in_5mins'] += 1"
   ]
  },
  {
   "cell_type": "code",
   "execution_count": 121,
   "metadata": {},
   "outputs": [
    {
     "name": "stdout",
     "output_type": "stream",
     "text": [
      "[>>>>>>>>>>>>>>>>>>>>>>>>>>>>>>>>>>>>>>>>>>>>>>>>>>]100.00%\n",
      "OK\n",
      "CPU times: user 2h 46min 37s, sys: 33min 29s, total: 3h 20min 7s\n",
      "Wall time: 3h 13min 28s\n"
     ]
    }
   ],
   "source": [
    "%%time\n",
    "process_bar = ShowProcess(len(frq), 'OK')\n",
    "frq['CANO_frq_in_1min'] = 0\n",
    "frq['CANO_ECFG_frq_in_1min'] = 0\n",
    "for i in range(0, len(frq)):\n",
    "    process_bar.show_process()\n",
    "    time_list = CANO_time.get(frq.loc[i,'CANO'])\n",
    "    if type(time_list)==list: \n",
    "        for t in time_list:\n",
    "            if (frq.loc[i,'DATETIME']-300) < t < (frq.loc[i,'DATETIME']+300):\n",
    "                frq.loc[i,'CANO_frq_in_1min'] += 1\n",
    "                if frq.loc[i,'ECFG'] == 1:\n",
    "                    frq.loc[i,'CANO_ECFG_frq_in_1min'] += 1               "
   ]
  },
  {
   "cell_type": "code",
   "execution_count": 126,
   "metadata": {},
   "outputs": [
    {
     "data": {
      "text/plain": [
       "CANO                      int64\n",
       "MCHNO                    object\n",
       "DATETIME                  int64\n",
       "ECFG                      int64\n",
       "CANO_frq_in_5mins          int8\n",
       "CANO_frq_in_1min           int8\n",
       "CANO_ECFG_frq_in_1min      int8\n",
       "dtype: object"
      ]
     },
     "execution_count": 126,
     "metadata": {},
     "output_type": "execute_result"
    }
   ],
   "source": [
    "frq.dtypes"
   ]
  },
  {
   "cell_type": "code",
   "execution_count": 125,
   "metadata": {},
   "outputs": [],
   "source": [
    "frq.CANO_frq_in_1min=frq.CANO_frq_in_1min.astype(np.int8)\n",
    "frq.CANO_ECFG_frq_in_1min=frq.CANO_ECFG_frq_in_1min.astype(np.int8)"
   ]
  },
  {
   "cell_type": "code",
   "execution_count": null,
   "metadata": {},
   "outputs": [],
   "source": []
  },
  {
   "cell_type": "code",
   "execution_count": 127,
   "metadata": {},
   "outputs": [],
   "source": [
    "# 匯出pickle\n",
    "import pickle\n",
    "with open('frq_detail_CANO_5mins_1min.pickle','wb') as f:\n",
    "    pickle.dump(frq,f)"
   ]
  },
  {
   "cell_type": "code",
   "execution_count": 131,
   "metadata": {},
   "outputs": [],
   "source": [
    "data=pd.concat([data,frq[['CANO_frq_in_5mins','CANO_frq_in_1min','CANO_ECFG_frq_in_1min']]], axis=1)"
   ]
  },
  {
   "cell_type": "code",
   "execution_count": 136,
   "metadata": {},
   "outputs": [
    {
     "data": {
      "text/plain": [
       "0"
      ]
     },
     "execution_count": 136,
     "metadata": {},
     "output_type": "execute_result"
    }
   ],
   "source": [
    "data.ECFG[101]"
   ]
  },
  {
   "cell_type": "code",
   "execution_count": 137,
   "metadata": {},
   "outputs": [],
   "source": [
    "data['s_in_a_Day']= data['DATETIME']%(60*60*24)\n",
    "import math\n",
    "data['h_in_a_Day']= data['s_in_a_Day'].map(lambda x: math.floor(x/(60*60)))"
   ]
  },
  {
   "cell_type": "code",
   "execution_count": 138,
   "metadata": {},
   "outputs": [
    {
     "data": {
      "text/plain": [
       "\"for a in ['AGE','BONUS_POINTS','CC_VINTAGE','ACCT_VINTAGE','AVAILABLE_LIMIT_AMT']: # 'FLAM1',\\n    series=data[a]\\n    bins= np.percentile(series, [10, 20, 30, 40, 50, 60, 70, 80, 90])\\n    series =np.digitize(series, bins, right=False)\\n    data[a]=series\""
      ]
     },
     "execution_count": 138,
     "metadata": {},
     "output_type": "execute_result"
    }
   ],
   "source": [
    "'''for a in ['AGE','BONUS_POINTS','CC_VINTAGE','ACCT_VINTAGE','AVAILABLE_LIMIT_AMT']: # 'FLAM1',\n",
    "    series=data[a]\n",
    "    bins= np.percentile(series, [10, 20, 30, 40, 50, 60, 70, 80, 90])\n",
    "    series =np.digitize(series, bins, right=False)\n",
    "    data[a]=series'''"
   ]
  },
  {
   "cell_type": "code",
   "execution_count": 139,
   "metadata": {},
   "outputs": [],
   "source": [
    "import re\n",
    "def strip_upper(x):\n",
    "    if x == np.nan:\n",
    "        return x\n",
    "    elif type(x) != str:\n",
    "        a=str(x)\n",
    "        b=re.sub('\\s','',a)\n",
    "        c=b.upper()\n",
    "        return c\n",
    "    else:\n",
    "        b=re.sub('\\s','',x)\n",
    "        c=b.upper()\n",
    "        return c"
   ]
  },
  {
   "cell_type": "code",
   "execution_count": 140,
   "metadata": {},
   "outputs": [],
   "source": [
    "data['SCITY'] = data['SCITY'].apply(lambda x : strip_upper(x))\n",
    "data['STOCN'] = data['STOCN'].apply(lambda x : strip_upper(x))\n",
    "data['ACQIC'] = data['ACQIC'].apply(lambda x : strip_upper(x))"
   ]
  },
  {
   "cell_type": "code",
   "execution_count": 141,
   "metadata": {},
   "outputs": [],
   "source": [
    "data.fillna({'MCHNO':'others','MCC':'others'}, inplace=True)"
   ]
  },
  {
   "cell_type": "markdown",
   "metadata": {},
   "source": [
    "### Start embedding ACQIC"
   ]
  },
  {
   "cell_type": "code",
   "execution_count": 142,
   "metadata": {},
   "outputs": [],
   "source": [
    "X_dummies = data[['ACQIC','FRAUD_IND']]\n",
    "X_dummies= pd.get_dummies(X_dummies, prefix='ACQIC', sparse=True)"
   ]
  },
  {
   "cell_type": "code",
   "execution_count": 143,
   "metadata": {},
   "outputs": [
    {
     "data": {
      "text/html": [
       "<div>\n",
       "<style scoped>\n",
       "    .dataframe tbody tr th:only-of-type {\n",
       "        vertical-align: middle;\n",
       "    }\n",
       "\n",
       "    .dataframe tbody tr th {\n",
       "        vertical-align: top;\n",
       "    }\n",
       "\n",
       "    .dataframe thead th {\n",
       "        text-align: right;\n",
       "    }\n",
       "</style>\n",
       "<table border=\"1\" class=\"dataframe\">\n",
       "  <thead>\n",
       "    <tr style=\"text-align: right;\">\n",
       "      <th></th>\n",
       "      <th>FRAUD_IND</th>\n",
       "      <th>ACQIC_0.0</th>\n",
       "      <th>ACQIC_1.0</th>\n",
       "      <th>ACQIC_10.0</th>\n",
       "      <th>ACQIC_100.0</th>\n",
       "      <th>ACQIC_100062.0</th>\n",
       "      <th>ACQIC_100257.0</th>\n",
       "      <th>ACQIC_100329.0</th>\n",
       "      <th>ACQIC_100338.0</th>\n",
       "      <th>ACQIC_100401.0</th>\n",
       "      <th>...</th>\n",
       "      <th>ACQIC_99800000.0</th>\n",
       "      <th>ACQIC_998013.0</th>\n",
       "      <th>ACQIC_998105.0</th>\n",
       "      <th>ACQIC_999083.0</th>\n",
       "      <th>ACQIC_999359.0</th>\n",
       "      <th>ACQIC_999511.0</th>\n",
       "      <th>ACQIC_999751.0</th>\n",
       "      <th>ACQIC_999854.0</th>\n",
       "      <th>ACQIC_999957.0</th>\n",
       "      <th>ACQIC_NAN</th>\n",
       "    </tr>\n",
       "  </thead>\n",
       "  <tbody>\n",
       "    <tr>\n",
       "      <th>0</th>\n",
       "      <td>0.0</td>\n",
       "      <td>0</td>\n",
       "      <td>0</td>\n",
       "      <td>0</td>\n",
       "      <td>0</td>\n",
       "      <td>0</td>\n",
       "      <td>0</td>\n",
       "      <td>0</td>\n",
       "      <td>0</td>\n",
       "      <td>0</td>\n",
       "      <td>...</td>\n",
       "      <td>0</td>\n",
       "      <td>0</td>\n",
       "      <td>0</td>\n",
       "      <td>0</td>\n",
       "      <td>0</td>\n",
       "      <td>0</td>\n",
       "      <td>0</td>\n",
       "      <td>0</td>\n",
       "      <td>0</td>\n",
       "      <td>0</td>\n",
       "    </tr>\n",
       "    <tr>\n",
       "      <th>1</th>\n",
       "      <td>0.0</td>\n",
       "      <td>0</td>\n",
       "      <td>0</td>\n",
       "      <td>0</td>\n",
       "      <td>0</td>\n",
       "      <td>0</td>\n",
       "      <td>0</td>\n",
       "      <td>0</td>\n",
       "      <td>0</td>\n",
       "      <td>0</td>\n",
       "      <td>...</td>\n",
       "      <td>0</td>\n",
       "      <td>0</td>\n",
       "      <td>0</td>\n",
       "      <td>0</td>\n",
       "      <td>0</td>\n",
       "      <td>0</td>\n",
       "      <td>0</td>\n",
       "      <td>0</td>\n",
       "      <td>0</td>\n",
       "      <td>0</td>\n",
       "    </tr>\n",
       "    <tr>\n",
       "      <th>2</th>\n",
       "      <td>0.0</td>\n",
       "      <td>0</td>\n",
       "      <td>0</td>\n",
       "      <td>0</td>\n",
       "      <td>0</td>\n",
       "      <td>0</td>\n",
       "      <td>0</td>\n",
       "      <td>0</td>\n",
       "      <td>0</td>\n",
       "      <td>0</td>\n",
       "      <td>...</td>\n",
       "      <td>0</td>\n",
       "      <td>0</td>\n",
       "      <td>0</td>\n",
       "      <td>0</td>\n",
       "      <td>0</td>\n",
       "      <td>0</td>\n",
       "      <td>0</td>\n",
       "      <td>0</td>\n",
       "      <td>0</td>\n",
       "      <td>0</td>\n",
       "    </tr>\n",
       "    <tr>\n",
       "      <th>3</th>\n",
       "      <td>0.0</td>\n",
       "      <td>0</td>\n",
       "      <td>0</td>\n",
       "      <td>0</td>\n",
       "      <td>0</td>\n",
       "      <td>0</td>\n",
       "      <td>0</td>\n",
       "      <td>0</td>\n",
       "      <td>0</td>\n",
       "      <td>0</td>\n",
       "      <td>...</td>\n",
       "      <td>0</td>\n",
       "      <td>0</td>\n",
       "      <td>0</td>\n",
       "      <td>0</td>\n",
       "      <td>0</td>\n",
       "      <td>0</td>\n",
       "      <td>0</td>\n",
       "      <td>0</td>\n",
       "      <td>0</td>\n",
       "      <td>0</td>\n",
       "    </tr>\n",
       "    <tr>\n",
       "      <th>4</th>\n",
       "      <td>1.0</td>\n",
       "      <td>0</td>\n",
       "      <td>0</td>\n",
       "      <td>0</td>\n",
       "      <td>0</td>\n",
       "      <td>0</td>\n",
       "      <td>0</td>\n",
       "      <td>0</td>\n",
       "      <td>0</td>\n",
       "      <td>0</td>\n",
       "      <td>...</td>\n",
       "      <td>0</td>\n",
       "      <td>0</td>\n",
       "      <td>0</td>\n",
       "      <td>0</td>\n",
       "      <td>0</td>\n",
       "      <td>0</td>\n",
       "      <td>0</td>\n",
       "      <td>0</td>\n",
       "      <td>0</td>\n",
       "      <td>0</td>\n",
       "    </tr>\n",
       "  </tbody>\n",
       "</table>\n",
       "<p>5 rows × 5097 columns</p>\n",
       "</div>"
      ],
      "text/plain": [
       "   FRAUD_IND  ACQIC_0.0  ACQIC_1.0  ACQIC_10.0  ACQIC_100.0  ACQIC_100062.0  \\\n",
       "0        0.0          0          0           0            0               0   \n",
       "1        0.0          0          0           0            0               0   \n",
       "2        0.0          0          0           0            0               0   \n",
       "3        0.0          0          0           0            0               0   \n",
       "4        1.0          0          0           0            0               0   \n",
       "\n",
       "   ACQIC_100257.0  ACQIC_100329.0  ACQIC_100338.0  ACQIC_100401.0    ...      \\\n",
       "0               0               0               0               0    ...       \n",
       "1               0               0               0               0    ...       \n",
       "2               0               0               0               0    ...       \n",
       "3               0               0               0               0    ...       \n",
       "4               0               0               0               0    ...       \n",
       "\n",
       "   ACQIC_99800000.0  ACQIC_998013.0  ACQIC_998105.0  ACQIC_999083.0  \\\n",
       "0                 0               0               0               0   \n",
       "1                 0               0               0               0   \n",
       "2                 0               0               0               0   \n",
       "3                 0               0               0               0   \n",
       "4                 0               0               0               0   \n",
       "\n",
       "   ACQIC_999359.0  ACQIC_999511.0  ACQIC_999751.0  ACQIC_999854.0  \\\n",
       "0               0               0               0               0   \n",
       "1               0               0               0               0   \n",
       "2               0               0               0               0   \n",
       "3               0               0               0               0   \n",
       "4               0               0               0               0   \n",
       "\n",
       "   ACQIC_999957.0  ACQIC_NAN  \n",
       "0               0          0  \n",
       "1               0          0  \n",
       "2               0          0  \n",
       "3               0          0  \n",
       "4               0          0  \n",
       "\n",
       "[5 rows x 5097 columns]"
      ]
     },
     "execution_count": 143,
     "metadata": {},
     "output_type": "execute_result"
    }
   ],
   "source": [
    "X_dummies.head()"
   ]
  },
  {
   "cell_type": "code",
   "execution_count": 144,
   "metadata": {},
   "outputs": [],
   "source": [
    "X_dummies_train= X_dummies[pd.notnull(X_dummies['FRAUD_IND'])]"
   ]
  },
  {
   "cell_type": "code",
   "execution_count": 145,
   "metadata": {},
   "outputs": [],
   "source": [
    "def get_k_col_name_list(k, prefix='col'):\n",
    "    L=[]\n",
    "    for a in range(k):\n",
    "        col= prefix+'_'+str(a)\n",
    "        L.append(col)\n",
    "    return L"
   ]
  },
  {
   "cell_type": "code",
   "execution_count": 146,
   "metadata": {},
   "outputs": [],
   "source": [
    "import logging\n",
    "def X_embedding_fm(emb_X_input, X_dummies, X_dummies_train, fm_model):\n",
    "    logging.info('Fit the FM model and derive the embedding values')\n",
    "    fm_model.fit(X_dummies_train, emb_X_input['FRAUD_IND']) #change Y HERE!\n",
    "    emb_weight = fm_model.weights[1]\n",
    "    X_emb = np.matmul(X_dummies.values, emb_weight)\n",
    "    X_emb = pd.DataFrame(X_emb, columns=get_k_col_name_list(k, prefix='ACQIC'))\n",
    "    #cuisine_emb = pd.DataFrame(cuisine_emb, columns=['cuisine'+edu_state[state]+str(i) for i in range(emb_weight.shape[1])])\n",
    "    #return emb_weight, X_emb #想要看weight再return出來\n",
    "    return X_emb"
   ]
  },
  {
   "cell_type": "code",
   "execution_count": 147,
   "metadata": {},
   "outputs": [],
   "source": [
    "import xlearn as xl\n",
    "k=8\n",
    "fm_model = xl.FMModel(task='binary', init=0.1, epoch=10, k=k, lr=0.05, reg_lambda=0.1, opt='sgd', metric='auc')\n",
    "#fm_model = xl.FMModel(task='binary', init=0.2, epoch=10, k=k, lr=0.15, reg_lambda=0.1, opt='adagrad', metric='auc')"
   ]
  },
  {
   "cell_type": "code",
   "execution_count": 148,
   "metadata": {},
   "outputs": [],
   "source": [
    "dataTrain = data[pd.notnull(data['FRAUD_IND'])]\n",
    "dataTest = data[~pd.notnull(data['FRAUD_IND'])]"
   ]
  },
  {
   "cell_type": "code",
   "execution_count": 149,
   "metadata": {},
   "outputs": [],
   "source": [
    "#emb_X_input = dataTrain[['TXKEY','FRAUD_IND']]\n",
    "emb_X_input = pd.DataFrame(dataTrain.FRAUD_IND)\n",
    "X_dummies= X_dummies.drop(['FRAUD_IND'], axis=1)\n",
    "X_dummies_train= X_dummies_train.drop(['FRAUD_IND'], axis=1)\n",
    "del (dataTrain, dataTest)"
   ]
  },
  {
   "cell_type": "code",
   "execution_count": 150,
   "metadata": {},
   "outputs": [
    {
     "name": "stdout",
     "output_type": "stream",
     "text": [
      "CPU times: user 1min 42s, sys: 1min 4s, total: 2min 47s\n",
      "Wall time: 1min 55s\n"
     ]
    }
   ],
   "source": [
    "%%time\n",
    "X_emb = X_embedding_fm(emb_X_input, X_dummies, X_dummies_train, fm_model)"
   ]
  },
  {
   "cell_type": "code",
   "execution_count": 151,
   "metadata": {},
   "outputs": [
    {
     "data": {
      "text/html": [
       "<div>\n",
       "<style scoped>\n",
       "    .dataframe tbody tr th:only-of-type {\n",
       "        vertical-align: middle;\n",
       "    }\n",
       "\n",
       "    .dataframe tbody tr th {\n",
       "        vertical-align: top;\n",
       "    }\n",
       "\n",
       "    .dataframe thead th {\n",
       "        text-align: right;\n",
       "    }\n",
       "</style>\n",
       "<table border=\"1\" class=\"dataframe\">\n",
       "  <thead>\n",
       "    <tr style=\"text-align: right;\">\n",
       "      <th></th>\n",
       "      <th>ACQIC_0</th>\n",
       "      <th>ACQIC_1</th>\n",
       "      <th>ACQIC_2</th>\n",
       "      <th>ACQIC_3</th>\n",
       "      <th>ACQIC_4</th>\n",
       "      <th>ACQIC_5</th>\n",
       "      <th>ACQIC_6</th>\n",
       "      <th>ACQIC_7</th>\n",
       "    </tr>\n",
       "  </thead>\n",
       "  <tbody>\n",
       "    <tr>\n",
       "      <th>0</th>\n",
       "      <td>1.389940e-10</td>\n",
       "      <td>6.936680e-11</td>\n",
       "      <td>1.205310e-11</td>\n",
       "      <td>7.369470e-11</td>\n",
       "      <td>1.155930e-10</td>\n",
       "      <td>9.925980e-11</td>\n",
       "      <td>6.435660e-11</td>\n",
       "      <td>4.604380e-11</td>\n",
       "    </tr>\n",
       "    <tr>\n",
       "      <th>1</th>\n",
       "      <td>1.317220e-43</td>\n",
       "      <td>1.317220e-43</td>\n",
       "      <td>1.317220e-43</td>\n",
       "      <td>1.317220e-43</td>\n",
       "      <td>1.317220e-43</td>\n",
       "      <td>1.317220e-43</td>\n",
       "      <td>1.317220e-43</td>\n",
       "      <td>1.317220e-43</td>\n",
       "    </tr>\n",
       "    <tr>\n",
       "      <th>2</th>\n",
       "      <td>1.317220e-43</td>\n",
       "      <td>1.317220e-43</td>\n",
       "      <td>1.317220e-43</td>\n",
       "      <td>1.317220e-43</td>\n",
       "      <td>1.317220e-43</td>\n",
       "      <td>1.317220e-43</td>\n",
       "      <td>1.317220e-43</td>\n",
       "      <td>1.317220e-43</td>\n",
       "    </tr>\n",
       "    <tr>\n",
       "      <th>3</th>\n",
       "      <td>1.317220e-43</td>\n",
       "      <td>1.317220e-43</td>\n",
       "      <td>1.317220e-43</td>\n",
       "      <td>1.317220e-43</td>\n",
       "      <td>1.317220e-43</td>\n",
       "      <td>1.317220e-43</td>\n",
       "      <td>1.317220e-43</td>\n",
       "      <td>1.317220e-43</td>\n",
       "    </tr>\n",
       "    <tr>\n",
       "      <th>4</th>\n",
       "      <td>1.317220e-43</td>\n",
       "      <td>1.317220e-43</td>\n",
       "      <td>1.317220e-43</td>\n",
       "      <td>1.317220e-43</td>\n",
       "      <td>1.317220e-43</td>\n",
       "      <td>1.317220e-43</td>\n",
       "      <td>1.317220e-43</td>\n",
       "      <td>1.317220e-43</td>\n",
       "    </tr>\n",
       "  </tbody>\n",
       "</table>\n",
       "</div>"
      ],
      "text/plain": [
       "        ACQIC_0       ACQIC_1       ACQIC_2       ACQIC_3       ACQIC_4  \\\n",
       "0  1.389940e-10  6.936680e-11  1.205310e-11  7.369470e-11  1.155930e-10   \n",
       "1  1.317220e-43  1.317220e-43  1.317220e-43  1.317220e-43  1.317220e-43   \n",
       "2  1.317220e-43  1.317220e-43  1.317220e-43  1.317220e-43  1.317220e-43   \n",
       "3  1.317220e-43  1.317220e-43  1.317220e-43  1.317220e-43  1.317220e-43   \n",
       "4  1.317220e-43  1.317220e-43  1.317220e-43  1.317220e-43  1.317220e-43   \n",
       "\n",
       "        ACQIC_5       ACQIC_6       ACQIC_7  \n",
       "0  9.925980e-11  6.435660e-11  4.604380e-11  \n",
       "1  1.317220e-43  1.317220e-43  1.317220e-43  \n",
       "2  1.317220e-43  1.317220e-43  1.317220e-43  \n",
       "3  1.317220e-43  1.317220e-43  1.317220e-43  \n",
       "4  1.317220e-43  1.317220e-43  1.317220e-43  "
      ]
     },
     "execution_count": 151,
     "metadata": {},
     "output_type": "execute_result"
    }
   ],
   "source": [
    "X_emb.head()"
   ]
  },
  {
   "cell_type": "code",
   "execution_count": 152,
   "metadata": {},
   "outputs": [
    {
     "data": {
      "text/plain": [
       "0.0353552"
      ]
     },
     "execution_count": 152,
     "metadata": {},
     "output_type": "execute_result"
    },
    {
     "data": {
      "text/plain": [
       "1.31722e-43"
      ]
     },
     "execution_count": 152,
     "metadata": {},
     "output_type": "execute_result"
    }
   ],
   "source": [
    "X_emb.max().max()\n",
    "X_emb.min().min()"
   ]
  },
  {
   "cell_type": "code",
   "execution_count": 153,
   "metadata": {},
   "outputs": [],
   "source": [
    "data=pd.concat([data,X_emb], axis=1)"
   ]
  },
  {
   "cell_type": "code",
   "execution_count": 154,
   "metadata": {},
   "outputs": [
    {
     "data": {
      "text/html": [
       "<div>\n",
       "<style scoped>\n",
       "    .dataframe tbody tr th:only-of-type {\n",
       "        vertical-align: middle;\n",
       "    }\n",
       "\n",
       "    .dataframe tbody tr th {\n",
       "        vertical-align: top;\n",
       "    }\n",
       "\n",
       "    .dataframe thead th {\n",
       "        text-align: right;\n",
       "    }\n",
       "</style>\n",
       "<table border=\"1\" class=\"dataframe\">\n",
       "  <thead>\n",
       "    <tr style=\"text-align: right;\">\n",
       "      <th></th>\n",
       "      <th>ACCT_VINTAGE</th>\n",
       "      <th>ACQIC</th>\n",
       "      <th>AGE</th>\n",
       "      <th>AGNO</th>\n",
       "      <th>ANDFG</th>\n",
       "      <th>APPFG</th>\n",
       "      <th>AVAILABLE_LIMIT_AMT</th>\n",
       "      <th>BNSFG</th>\n",
       "      <th>BNSPT</th>\n",
       "      <th>BONUS_POINTS</th>\n",
       "      <th>...</th>\n",
       "      <th>s_in_a_Day</th>\n",
       "      <th>h_in_a_Day</th>\n",
       "      <th>ACQIC_0</th>\n",
       "      <th>ACQIC_1</th>\n",
       "      <th>ACQIC_2</th>\n",
       "      <th>ACQIC_3</th>\n",
       "      <th>ACQIC_4</th>\n",
       "      <th>ACQIC_5</th>\n",
       "      <th>ACQIC_6</th>\n",
       "      <th>ACQIC_7</th>\n",
       "    </tr>\n",
       "  </thead>\n",
       "  <tbody>\n",
       "    <tr>\n",
       "      <th>0</th>\n",
       "      <td>137.0</td>\n",
       "      <td>88547000.0</td>\n",
       "      <td>37</td>\n",
       "      <td>0032</td>\n",
       "      <td>0</td>\n",
       "      <td>0</td>\n",
       "      <td>159308.0</td>\n",
       "      <td>0</td>\n",
       "      <td>0</td>\n",
       "      <td>314.0</td>\n",
       "      <td>...</td>\n",
       "      <td>40</td>\n",
       "      <td>0</td>\n",
       "      <td>1.389940e-10</td>\n",
       "      <td>6.936680e-11</td>\n",
       "      <td>1.205310e-11</td>\n",
       "      <td>7.369470e-11</td>\n",
       "      <td>1.155930e-10</td>\n",
       "      <td>9.925980e-11</td>\n",
       "      <td>6.435660e-11</td>\n",
       "      <td>4.604380e-11</td>\n",
       "    </tr>\n",
       "    <tr>\n",
       "      <th>1</th>\n",
       "      <td>150.0</td>\n",
       "      <td>493817.0</td>\n",
       "      <td>34</td>\n",
       "      <td>A013</td>\n",
       "      <td>0</td>\n",
       "      <td>0</td>\n",
       "      <td>108393.0</td>\n",
       "      <td>0</td>\n",
       "      <td>0</td>\n",
       "      <td>150.0</td>\n",
       "      <td>...</td>\n",
       "      <td>112</td>\n",
       "      <td>0</td>\n",
       "      <td>1.317220e-43</td>\n",
       "      <td>1.317220e-43</td>\n",
       "      <td>1.317220e-43</td>\n",
       "      <td>1.317220e-43</td>\n",
       "      <td>1.317220e-43</td>\n",
       "      <td>1.317220e-43</td>\n",
       "      <td>1.317220e-43</td>\n",
       "      <td>1.317220e-43</td>\n",
       "    </tr>\n",
       "    <tr>\n",
       "      <th>2</th>\n",
       "      <td>171.0</td>\n",
       "      <td>431330.0</td>\n",
       "      <td>48</td>\n",
       "      <td>A013</td>\n",
       "      <td>0</td>\n",
       "      <td>0</td>\n",
       "      <td>126795.0</td>\n",
       "      <td>0</td>\n",
       "      <td>0</td>\n",
       "      <td>594.0</td>\n",
       "      <td>...</td>\n",
       "      <td>311</td>\n",
       "      <td>0</td>\n",
       "      <td>1.317220e-43</td>\n",
       "      <td>1.317220e-43</td>\n",
       "      <td>1.317220e-43</td>\n",
       "      <td>1.317220e-43</td>\n",
       "      <td>1.317220e-43</td>\n",
       "      <td>1.317220e-43</td>\n",
       "      <td>1.317220e-43</td>\n",
       "      <td>1.317220e-43</td>\n",
       "    </tr>\n",
       "    <tr>\n",
       "      <th>3</th>\n",
       "      <td>92.0</td>\n",
       "      <td>493817.0</td>\n",
       "      <td>38</td>\n",
       "      <td>0032</td>\n",
       "      <td>0</td>\n",
       "      <td>1</td>\n",
       "      <td>231316.0</td>\n",
       "      <td>0</td>\n",
       "      <td>0</td>\n",
       "      <td>0.0</td>\n",
       "      <td>...</td>\n",
       "      <td>312</td>\n",
       "      <td>0</td>\n",
       "      <td>1.317220e-43</td>\n",
       "      <td>1.317220e-43</td>\n",
       "      <td>1.317220e-43</td>\n",
       "      <td>1.317220e-43</td>\n",
       "      <td>1.317220e-43</td>\n",
       "      <td>1.317220e-43</td>\n",
       "      <td>1.317220e-43</td>\n",
       "      <td>1.317220e-43</td>\n",
       "    </tr>\n",
       "    <tr>\n",
       "      <th>4</th>\n",
       "      <td>76.0</td>\n",
       "      <td>431330.0</td>\n",
       "      <td>29</td>\n",
       "      <td>0092</td>\n",
       "      <td>0</td>\n",
       "      <td>0</td>\n",
       "      <td>-6265.0</td>\n",
       "      <td>0</td>\n",
       "      <td>0</td>\n",
       "      <td>1978.0</td>\n",
       "      <td>...</td>\n",
       "      <td>316</td>\n",
       "      <td>0</td>\n",
       "      <td>1.317220e-43</td>\n",
       "      <td>1.317220e-43</td>\n",
       "      <td>1.317220e-43</td>\n",
       "      <td>1.317220e-43</td>\n",
       "      <td>1.317220e-43</td>\n",
       "      <td>1.317220e-43</td>\n",
       "      <td>1.317220e-43</td>\n",
       "      <td>1.317220e-43</td>\n",
       "    </tr>\n",
       "  </tbody>\n",
       "</table>\n",
       "<p>5 rows × 72 columns</p>\n",
       "</div>"
      ],
      "text/plain": [
       "   ACCT_VINTAGE       ACQIC  AGE  AGNO  ANDFG  APPFG  AVAILABLE_LIMIT_AMT  \\\n",
       "0         137.0  88547000.0   37  0032      0      0             159308.0   \n",
       "1         150.0    493817.0   34  A013      0      0             108393.0   \n",
       "2         171.0    431330.0   48  A013      0      0             126795.0   \n",
       "3          92.0    493817.0   38  0032      0      1             231316.0   \n",
       "4          76.0    431330.0   29  0092      0      0              -6265.0   \n",
       "\n",
       "   BNSFG  BNSPT  BONUS_POINTS      ...       s_in_a_Day h_in_a_Day  \\\n",
       "0      0      0         314.0      ...               40          0   \n",
       "1      0      0         150.0      ...              112          0   \n",
       "2      0      0         594.0      ...              311          0   \n",
       "3      0      0           0.0      ...              312          0   \n",
       "4      0      0        1978.0      ...              316          0   \n",
       "\n",
       "        ACQIC_0       ACQIC_1       ACQIC_2       ACQIC_3       ACQIC_4  \\\n",
       "0  1.389940e-10  6.936680e-11  1.205310e-11  7.369470e-11  1.155930e-10   \n",
       "1  1.317220e-43  1.317220e-43  1.317220e-43  1.317220e-43  1.317220e-43   \n",
       "2  1.317220e-43  1.317220e-43  1.317220e-43  1.317220e-43  1.317220e-43   \n",
       "3  1.317220e-43  1.317220e-43  1.317220e-43  1.317220e-43  1.317220e-43   \n",
       "4  1.317220e-43  1.317220e-43  1.317220e-43  1.317220e-43  1.317220e-43   \n",
       "\n",
       "        ACQIC_5       ACQIC_6       ACQIC_7  \n",
       "0  9.925980e-11  6.435660e-11  4.604380e-11  \n",
       "1  1.317220e-43  1.317220e-43  1.317220e-43  \n",
       "2  1.317220e-43  1.317220e-43  1.317220e-43  \n",
       "3  1.317220e-43  1.317220e-43  1.317220e-43  \n",
       "4  1.317220e-43  1.317220e-43  1.317220e-43  \n",
       "\n",
       "[5 rows x 72 columns]"
      ]
     },
     "execution_count": 154,
     "metadata": {},
     "output_type": "execute_result"
    }
   ],
   "source": [
    "data.head()"
   ]
  },
  {
   "cell_type": "code",
   "execution_count": null,
   "metadata": {},
   "outputs": [],
   "source": []
  },
  {
   "cell_type": "code",
   "execution_count": 155,
   "metadata": {},
   "outputs": [],
   "source": [
    "num_aggregations = {\n",
    "        'ECFG': [ 'mean'],\n",
    "        'INSFG': [ 'mean'],\n",
    "        #'BNSFG': [ 'mean'],\n",
    "        'FLAM1': [ 'mean'],\n",
    "        #'BINS_AMT': [ 'mean'],\n",
    "    'CANO_frq_in_5mins': [ 'mean'],\n",
    "    'CANO_frq_in_1min': [ 'mean'],\n",
    "        'FALLBACK_IND':[ 'mean']\n",
    "}\n",
    "\n",
    "# MCHNO info\n",
    "fraud_agg = data.groupby('MCHNO').agg({**num_aggregations})\n",
    "fraud_agg.columns = pd.Index([e[0] + \"_MCHNO_\" + e[1].upper() for e in fraud_agg.columns.tolist()])\n",
    "\n",
    "# left join to df\n",
    "data = data.join(fraud_agg, how='left', on='MCHNO')\n",
    "del fraud_agg"
   ]
  },
  {
   "cell_type": "code",
   "execution_count": 156,
   "metadata": {},
   "outputs": [],
   "source": [
    "num_aggregations = {\n",
    "        'ECFG': [ 'mean'],\n",
    "        'INSFG': [ 'mean'],\n",
    "        'BNSFG': [ 'mean'],\n",
    "        #'BNSPT':[ 'mean'],\n",
    "        #'FLAM1': [ 'mean'],\n",
    "        'STOCN':[ 'nunique']\n",
    "}\n",
    "\n",
    "# SCITY info\n",
    "fraud_agg = data.groupby('SCITY').agg({**num_aggregations})\n",
    "fraud_agg.columns = pd.Index([e[0] + \"_SCITY_\" + e[1].upper() for e in fraud_agg.columns.tolist()])\n",
    "\n",
    "# left join to df\n",
    "data = data.join(fraud_agg, how='left', on='SCITY')\n",
    "del fraud_agg"
   ]
  },
  {
   "cell_type": "code",
   "execution_count": 157,
   "metadata": {},
   "outputs": [],
   "source": [
    "num_aggregations = {\n",
    "        'ECFG': [ 'mean'],\n",
    "        'INSFG': [ 'mean'],\n",
    "        'BNSFG': [ 'mean'],\n",
    "        #'BNSPT':[ 'mean'],\n",
    "        'FLAM1': [ 'mean'],\n",
    "        #'BINS_AMT': [ 'mean']\n",
    "}\n",
    "\n",
    "# SCITY info\n",
    "fraud_agg = data.groupby('STOCN').agg({**num_aggregations})\n",
    "fraud_agg.columns = pd.Index([e[0] + \"_STOCN_\" + e[1].upper() for e in fraud_agg.columns.tolist()])\n",
    "\n",
    "# left join to df\n",
    "data = data.join(fraud_agg, how='left', on='STOCN')\n",
    "del fraud_agg"
   ]
  },
  {
   "cell_type": "code",
   "execution_count": 158,
   "metadata": {},
   "outputs": [],
   "source": [
    "num_aggregations = {\n",
    "        'ECFG': [ 'mean'],\n",
    "        'h_in_a_Day':[ 'nunique']\n",
    "}\n",
    "\n",
    "# SCITY info\n",
    "fraud_agg = data.groupby('ACQIC').agg({**num_aggregations})\n",
    "fraud_agg.columns = pd.Index([e[0] + \"_ACQIC_\" + e[1].upper() for e in fraud_agg.columns.tolist()])\n",
    "\n",
    "# left join to df\n",
    "data = data.join(fraud_agg, how='left', on='ACQIC')\n",
    "del fraud_agg"
   ]
  },
  {
   "cell_type": "code",
   "execution_count": 159,
   "metadata": {},
   "outputs": [],
   "source": [
    "data= data.astype({'AGNO':'category', 'CATP1':'category','CC_CUST_LEVEL':'category', 'CONTP':'category', 'CUORG':'category', 'MCC':'category',\n",
    "       'MCHNO':'category', 'SCITY':'category', 'STOCN':'category', 'TSCFG':'category','h_in_a_Day':'category','ETYMD':'category','ACQIC':'category'})\n",
    "#, 'PAY_TYPE':'category', 'POSITION_CODE':'category' ,'CC_CUST_LEVEL':'category',"
   ]
  },
  {
   "cell_type": "code",
   "execution_count": 160,
   "metadata": {},
   "outputs": [],
   "source": [
    "# 匯出pickle\n",
    "import pickle\n",
    "with open('data181227.pickle','wb') as f:\n",
    "    pickle.dump(data,f)"
   ]
  },
  {
   "cell_type": "code",
   "execution_count": null,
   "metadata": {},
   "outputs": [],
   "source": []
  },
  {
   "cell_type": "code",
   "execution_count": 161,
   "metadata": {},
   "outputs": [
    {
     "data": {
      "text/plain": [
       "Index(['ACCT_VINTAGE', 'ACQIC', 'AGE', 'AGNO', 'ANDFG', 'APPFG',\n",
       "       'AVAILABLE_LIMIT_AMT', 'BNSFG', 'BNSPT', 'BONUS_POINTS', 'CANO',\n",
       "       'CATP1', 'CATP2', 'CC_CUST_LEVEL', 'CC_PAY_LEVEL_CODE', 'CC_VINTAGE',\n",
       "       'CGDCT', 'CHID', 'CONTP', 'CREDIT_LIMIT_AMT', 'CREDIT_REVOLVING_RATE',\n",
       "       'CREDIT_USE_RATE', 'CUORG', 'CURRENT_CASH_ADV_AMT', 'CURRENT_FEE',\n",
       "       'CURRENT_INSTALLMENT_BAL', 'CURRENT_INSTALLMENT_PURCH_AMT',\n",
       "       'CURRENT_PURCH_AMT', 'CURRENT_VIO_AMT', 'DATETIME', 'ECFG', 'EDU_CODE',\n",
       "       'ETYMD', 'FALLBACK_IND', 'FEDFG', 'FEEFG', 'FLAM1', 'FRAUD_IND',\n",
       "       'GENDER_CODE', 'INCOME_RANGE_CODE', 'INSFG', 'ITERM', 'LSCFG',\n",
       "       'LST_CYCLE_UNPAID_BAL', 'MARITAL_STATUS_CODE', 'MCC', 'MCHNO',\n",
       "       'NATION_CODE', 'OCUP_CODE', 'OVRLT', 'PAY_TYPE', 'POSITION_CODE',\n",
       "       'REVOLVING_AMT', 'REVOLVING_INTEREST', 'SAMFG', 'SCITY', 'STOCN',\n",
       "       'TSCFG', 'TXKEY', 'CANO_frq_in_5mins', 'CANO_frq_in_1min',\n",
       "       'CANO_ECFG_frq_in_1min', 's_in_a_Day', 'h_in_a_Day', 'ACQIC_0',\n",
       "       'ACQIC_1', 'ACQIC_2', 'ACQIC_3', 'ACQIC_4', 'ACQIC_5', 'ACQIC_6',\n",
       "       'ACQIC_7', 'ECFG_MCHNO_MEAN', 'INSFG_MCHNO_MEAN', 'FLAM1_MCHNO_MEAN',\n",
       "       'CANO_frq_in_5mins_MCHNO_MEAN', 'CANO_frq_in_1min_MCHNO_MEAN',\n",
       "       'FALLBACK_IND_MCHNO_MEAN', 'ECFG_SCITY_MEAN', 'INSFG_SCITY_MEAN',\n",
       "       'BNSFG_SCITY_MEAN', 'STOCN_SCITY_NUNIQUE', 'ECFG_STOCN_MEAN',\n",
       "       'INSFG_STOCN_MEAN', 'BNSFG_STOCN_MEAN', 'FLAM1_STOCN_MEAN',\n",
       "       'ECFG_ACQIC_MEAN', 'h_in_a_Day_ACQIC_NUNIQUE'],\n",
       "      dtype='object')"
      ]
     },
     "execution_count": 161,
     "metadata": {},
     "output_type": "execute_result"
    }
   ],
   "source": [
    "dataTrain = data[pd.notnull(data['FRAUD_IND'])]\n",
    "dataTest = data[~pd.notnull(data['FRAUD_IND'])]\n",
    "dataTrain.columns\n",
    "del(data)"
   ]
  },
  {
   "cell_type": "code",
   "execution_count": 162,
   "metadata": {},
   "outputs": [],
   "source": [
    "dataTrain = dataTrain.drop(['DATETIME','CANO','CHID','PAY_TYPE','REVOLVING_AMT', 'REVOLVING_INTEREST','s_in_a_Day'], axis=1)\n",
    "dataTest = dataTest.drop(['TXKEY','FRAUD_IND','DATETIME','CANO','CHID','PAY_TYPE','REVOLVING_AMT', 'REVOLVING_INTEREST','s_in_a_Day'], axis=1)\n",
    "X_feature = dataTrain.drop(['TXKEY','FRAUD_IND'], axis=1)\n",
    "y_t =dataTrain['FRAUD_IND']"
   ]
  },
  {
   "cell_type": "code",
   "execution_count": 163,
   "metadata": {},
   "outputs": [],
   "source": [
    "#把上面dataTrain.columns的結果貼到dataTrain，再去掉'Survived'\n",
    "from sklearn.model_selection import train_test_split\n",
    "#拿掉feature_importances低的因子\n",
    "X_train, X_test, y_train, y_test = train_test_split(X_feature, y_t, test_size=0.3, random_state=0)"
   ]
  },
  {
   "cell_type": "code",
   "execution_count": 164,
   "metadata": {},
   "outputs": [],
   "source": [
    "# Function for Measure Performance\n",
    "from  sklearn  import  metrics\n",
    "def measure_performance(X,y,clf, show_accuracy=True, show_classification_report=True, show_confusion_matrix=True, show_roc_auc = True):\n",
    "    y_pred = clf.predict(X)\n",
    "    y_predprob = clf.predict_proba(X)[:,1]\n",
    "    if show_accuracy:\n",
    "        print (\"Accuracy:{0:.3f}\".format(metrics.accuracy_score(y,y_pred))),\"\\n\"\n",
    "\n",
    "    if show_classification_report:\n",
    "        print(\"Classification report\")\n",
    "        print(metrics.classification_report(y,y_pred)),\"\\n\"\n",
    "        \n",
    "    if show_confusion_matrix:\n",
    "        print(\"Confusion matrix\")\n",
    "        print(metrics.confusion_matrix(y,y_pred)),\"\\n\"  \n",
    "        \n",
    "    if show_roc_auc:\n",
    "        print(\"ROC AUC Score\")\n",
    "        print(metrics.roc_auc_score(y,y_predprob)),\"\\n\""
   ]
  },
  {
   "cell_type": "code",
   "execution_count": 313,
   "metadata": {},
   "outputs": [
    {
     "name": "stdout",
     "output_type": "stream",
     "text": [
      "Start training...\n"
     ]
    },
    {
     "data": {
      "text/plain": [
       "GridSearchCV(cv=4, error_score='raise-deprecating',\n",
       "       estimator=LGBMClassifier(boosting_type='goss', class_weight=None, colsample_bytree=1.0,\n",
       "        learning_rate=0.1, max_depth=-1, min_child_samples=20,\n",
       "        min_child_weight=0.001, min_split_gain=0.0, n_estimators=200,\n",
       "        n_jobs=-1, num_leaves=31, objective=None, random_state=0,\n",
       "        reg_alpha=0.0, reg_lambda=0.0, silent=True, subsample=1.0,\n",
       "        subsample_for_bin=200000, subsample_freq=0),\n",
       "       fit_params=None, iid='warn', n_jobs=None,\n",
       "       param_grid={'objective': ['binary'], 'learning_rate': [0.07, 0.11], 'num_leaves': [64], 'feature_fraction': [0.7], 'bagging_fraction': [0.95], 'max_depth': [10], 'lambda_l1': [3, 35], 'lambda_l2': [4], 'min_child_weight': [1]},\n",
       "       pre_dispatch='2*n_jobs', refit=True, return_train_score='warn',\n",
       "       scoring='f1', verbose=0)"
      ]
     },
     "execution_count": 313,
     "metadata": {},
     "output_type": "execute_result"
    },
    {
     "name": "stdout",
     "output_type": "stream",
     "text": [
      "Best parameters found by grid search are: {'bagging_fraction': 0.95, 'feature_fraction': 0.7, 'lambda_l1': 3, 'lambda_l2': 4, 'learning_rate': 0.11, 'max_depth': 10, 'min_child_weight': 1, 'num_leaves': 64, 'objective': 'binary'}\n",
      "Start predicting...\n",
      "Predicting is over\n"
     ]
    }
   ],
   "source": [
    "import lightgbm as lgb\n",
    "# Grid Search\n",
    "print('Start training...')\n",
    "estimator = lgb.LGBMClassifier(boosting_type='goss', n_estimators = 200, random_state=0) #, objective = 'binary'\n",
    "\n",
    "\n",
    "param_grid = {\n",
    "    'objective':['binary'],\n",
    "    'learning_rate': [0.07,0.11], \n",
    "    'num_leaves': [64],\n",
    "    'feature_fraction': [0.7],\n",
    "    'bagging_fraction': [0.95],\n",
    "    'max_depth':[10],\n",
    "    #'max_bin': [6],\n",
    "    #'bagging_freq':[5],\n",
    "    'lambda_l1': [3,35] , #[44,133] then 44 [44,88] then 44 np.arange(38,44,1) np.arange(16,20,1)\n",
    "    'lambda_l2': [4] ,#np.arange(11,15,1) then 13\n",
    "    #'reg_alpha':[4] ,\n",
    "    #'min_split_gain': [0.04], \n",
    "    'min_child_weight': [1] \n",
    "}\n",
    "\n",
    "LGBM_grid = GridSearchCV(estimator, param_grid,scoring='f1',cv=4)#,cv=4,scoring='roc_auc'\n",
    "LGBM_grid.fit(X_train, y_train)\n",
    "print('Best parameters found by grid search are:', LGBM_grid.best_params_)\n",
    "\n",
    "# Final Model\n",
    "evals_result = {} \n",
    "print('Start predicting...')\n",
    "LGBM_grid_final = lgb.LGBMClassifier(boosting_type='goss',n_estimators = 200, random_state=0 ,\n",
    "                                     objective = LGBM_grid.best_params_['objective'],\n",
    "                                     learning_rate = LGBM_grid.best_params_['learning_rate'],\n",
    "                              num_leaves = LGBM_grid.best_params_['num_leaves'],\n",
    "                                feature_fraction = LGBM_grid.best_params_['feature_fraction'], \n",
    "                             bagging_fraction = LGBM_grid.best_params_['bagging_fraction'],\n",
    "                             max_depth = LGBM_grid.best_params_['max_depth'],\n",
    "                              #max_bin = LGBM_grid.best_params_['max_bin'],\n",
    "                                #bagging_freq = LGBM_grid.best_params_['bagging_freq'],\n",
    "                              lambda_l1 = LGBM_grid.best_params_['lambda_l1'],\n",
    "                              lambda_l2 = LGBM_grid.best_params_['lambda_l2'],\n",
    "                              #reg_alpha = LGBM_grid.best_params_['reg_alpha'],\n",
    "                            #min_split_gain = LGBM_grid.best_params_['min_split_gain'],\n",
    "                            min_child_weight = LGBM_grid.best_params_['min_child_weight']\n",
    "                                    )\n",
    "LGBM_grid_final_fit = LGBM_grid_final.fit(X_train, y_train)\n",
    "print(\"Predicting is over\")"
   ]
  },
  {
   "cell_type": "code",
   "execution_count": null,
   "metadata": {},
   "outputs": [],
   "source": [
    "'''\n",
    "print('Start predicting...')\n",
    "LGBM_grid_final = lgb.LGBMClassifier(boosting_type='goss',n_estimators = 200, random_state=0 ,\n",
    "                                     objective = 'binary')\n",
    "LGBM_grid_final_fit = LGBM_grid_final.fit(X_train, y_train)\n",
    "print(\"Predicting is over\")\n",
    "'''"
   ]
  },
  {
   "cell_type": "code",
   "execution_count": 314,
   "metadata": {},
   "outputs": [
    {
     "name": "stdout",
     "output_type": "stream",
     "text": [
      "Accuracy:0.980\n",
      "Classification report\n",
      "              precision    recall  f1-score   support\n",
      "\n",
      "         0.0       0.99      0.99      0.99    137148\n",
      "         1.0       0.93      0.92      0.93     21865\n",
      "\n",
      "   micro avg       0.98      0.98      0.98    159013\n",
      "   macro avg       0.96      0.95      0.96    159013\n",
      "weighted avg       0.98      0.98      0.98    159013\n",
      "\n",
      "Confusion matrix\n",
      "[[135671   1477]\n",
      " [  1774  20091]]\n",
      "ROC AUC Score\n",
      "0.9944293148729462\n",
      "Feature importances: [392, 864, 690, 1022, 32, 92, 407, 0, 0, 400, 199, 19, 83, 73, 652, 120, 6, 329, 100, 310, 18, 7, 410, 191, 226, 392, 12, 5, 144, 63, 6, 3, 5, 432, 80, 55, 16, 6, 31, 136, 46, 849, 766, 0, 246, 7, 146, 27, 476, 74, 8, 193, 74, 81, 611, 43, 14, 13, 16, 13, 7, 14, 26, 47, 20, 158, 168, 52, 20, 70, 17, 13, 22, 61, 17, 4, 52, 72, 14]\n",
      "Index(['ACCT_VINTAGE', 'ACQIC', 'AGE', 'AGNO', 'ANDFG', 'APPFG',\n",
      "       'AVAILABLE_LIMIT_AMT', 'BNSFG', 'BNSPT', 'BONUS_POINTS', 'CATP1',\n",
      "       'CATP2', 'CC_CUST_LEVEL', 'CC_PAY_LEVEL_CODE', 'CC_VINTAGE', 'CGDCT',\n",
      "       'CONTP', 'CREDIT_LIMIT_AMT', 'CREDIT_REVOLVING_RATE', 'CREDIT_USE_RATE',\n",
      "       'CUORG', 'CURRENT_CASH_ADV_AMT', 'CURRENT_FEE',\n",
      "       'CURRENT_INSTALLMENT_BAL', 'CURRENT_INSTALLMENT_PURCH_AMT',\n",
      "       'CURRENT_PURCH_AMT', 'CURRENT_VIO_AMT', 'ECFG', 'EDU_CODE', 'ETYMD',\n",
      "       'FALLBACK_IND', 'FEDFG', 'FEEFG', 'FLAM1', 'GENDER_CODE',\n",
      "       'INCOME_RANGE_CODE', 'INSFG', 'ITERM', 'LSCFG', 'LST_CYCLE_UNPAID_BAL',\n",
      "       'MARITAL_STATUS_CODE', 'MCC', 'MCHNO', 'NATION_CODE', 'OCUP_CODE',\n",
      "       'OVRLT', 'POSITION_CODE', 'SAMFG', 'SCITY', 'STOCN', 'TSCFG',\n",
      "       'CANO_frq_in_5mins', 'CANO_frq_in_1min', 'CANO_ECFG_frq_in_1min',\n",
      "       'h_in_a_Day', 'ACQIC_0', 'ACQIC_1', 'ACQIC_2', 'ACQIC_3', 'ACQIC_4',\n",
      "       'ACQIC_5', 'ACQIC_6', 'ACQIC_7', 'ECFG_MCHNO_MEAN', 'INSFG_MCHNO_MEAN',\n",
      "       'FLAM1_MCHNO_MEAN', 'CANO_frq_in_5mins_MCHNO_MEAN',\n",
      "       'CANO_frq_in_1min_MCHNO_MEAN', 'FALLBACK_IND_MCHNO_MEAN',\n",
      "       'ECFG_SCITY_MEAN', 'INSFG_SCITY_MEAN', 'BNSFG_SCITY_MEAN',\n",
      "       'STOCN_SCITY_NUNIQUE', 'ECFG_STOCN_MEAN', 'INSFG_STOCN_MEAN',\n",
      "       'BNSFG_STOCN_MEAN', 'FLAM1_STOCN_MEAN', 'ECFG_ACQIC_MEAN',\n",
      "       'h_in_a_Day_ACQIC_NUNIQUE'],\n",
      "      dtype='object')\n",
      "Plot feature importances...\n"
     ]
    },
    {
     "data": {
      "image/png": "[encoded data removed]",
      "text/plain": [
       "<Figure size 792x432 with 1 Axes>"
      ]
     },
     "metadata": {},
     "output_type": "display_data"
    },
    {
     "data": {
      "image/png": "[encoded data removed]",
      "text/plain": [
       "<Figure size 1440x576 with 1 Axes>"
      ]
     },
     "metadata": {},
     "output_type": "display_data"
    }
   ],
   "source": [
    "#對test算performance\n",
    "LGBM_grid_measure = measure_performance(X = X_test, y = y_test, clf = LGBM_grid_final, show_classification_report=True, show_confusion_matrix=True)\n",
    "\n",
    "# feature importances\n",
    "print('Feature importances:', list(LGBM_grid_final.feature_importances_))\n",
    "print(X_test.columns)\n",
    "\n",
    "# visualization\n",
    "print('Plot feature importances...')\n",
    "split_importance = lgb.plot_importance(LGBM_grid_final_fit, max_num_features=30, ignore_zero=False,figsize=(11, 6),grid=False, title='Feature importance_Split')\n",
    "gain_importance = lgb.plot_importance(LGBM_grid_final_fit, max_num_features=30, importance_type='gain',figsize=(20, 8),grid=False, title='Feature importance_Gain')\n"
   ]
  },
  {
   "cell_type": "code",
   "execution_count": 315,
   "metadata": {},
   "outputs": [
    {
     "data": {
      "text/plain": [
       "array([0.98816066, 0.92514908])"
      ]
     },
     "execution_count": 315,
     "metadata": {},
     "output_type": "execute_result"
    }
   ],
   "source": [
    "#對test算 f1_score\n",
    "from sklearn.metrics import f1_score\n",
    "y_pred_val = LGBM_grid_final_fit.predict(X_test)\n",
    "f1_score(y_test,y_pred_val,average=None)"
   ]
  },
  {
   "cell_type": "markdown",
   "metadata": {},
   "source": [
    "### 透過 F1 cumulative results檢視成效"
   ]
  },
  {
   "cell_type": "code",
   "execution_count": 316,
   "metadata": {},
   "outputs": [],
   "source": [
    "def get_lift(prob_data):\n",
    "    prob_data=prob_data.sort_values(by=['Prob'],ascending=False).reset_index(drop=True)\n",
    "    prob_data['cnt']=1.0\n",
    "    prob_data['cumsum']=prob_data.Y.cumsum()\n",
    "    prob_data['cum_cnt'] = prob_data.cnt.cumsum()\n",
    "    prob_data['precision'] = prob_data['cumsum']/prob_data['cum_cnt']\n",
    "    prob_data['recall'] = prob_data['cumsum']/prob_data['cumsum'].max()\n",
    "    lift_data = prob_data[['precision','recall']].groupby(['recall']).min().reset_index()\n",
    "    lift_data['f1'] = (2*lift_data.precision*lift_data.recall)/(lift_data.precision+lift_data.recall)\n",
    "    return lift_data"
   ]
  },
  {
   "cell_type": "code",
   "execution_count": 317,
   "metadata": {},
   "outputs": [],
   "source": [
    "result = pd.DataFrame(data={'Y':y_test,'Prob':y_pred_val})\n",
    "result_lift = get_lift(result)"
   ]
  },
  {
   "cell_type": "code",
   "execution_count": 318,
   "metadata": {},
   "outputs": [],
   "source": [
    "result_lift=result_lift.iloc[1:,:]"
   ]
  },
  {
   "cell_type": "code",
   "execution_count": 319,
   "metadata": {},
   "outputs": [
    {
     "data": {
      "text/html": [
       "<div>\n",
       "<style scoped>\n",
       "    .dataframe tbody tr th:only-of-type {\n",
       "        vertical-align: middle;\n",
       "    }\n",
       "\n",
       "    .dataframe tbody tr th {\n",
       "        vertical-align: top;\n",
       "    }\n",
       "\n",
       "    .dataframe thead th {\n",
       "        text-align: right;\n",
       "    }\n",
       "</style>\n",
       "<table border=\"1\" class=\"dataframe\">\n",
       "  <thead>\n",
       "    <tr style=\"text-align: right;\">\n",
       "      <th></th>\n",
       "      <th>recall</th>\n",
       "      <th>precision</th>\n",
       "      <th>f1</th>\n",
       "    </tr>\n",
       "  </thead>\n",
       "  <tbody>\n",
       "    <tr>\n",
       "      <th>20089</th>\n",
       "      <td>0.91882</td>\n",
       "      <td>0.931559</td>\n",
       "      <td>0.925146</td>\n",
       "    </tr>\n",
       "  </tbody>\n",
       "</table>\n",
       "</div>"
      ],
      "text/plain": [
       "        recall  precision        f1\n",
       "20089  0.91882   0.931559  0.925146"
      ]
     },
     "execution_count": 319,
     "metadata": {},
     "output_type": "execute_result"
    }
   ],
   "source": [
    "result_lift[result_lift.f1==result_lift.f1.max()]"
   ]
  },
  {
   "cell_type": "code",
   "execution_count": 320,
   "metadata": {},
   "outputs": [
    {
     "data": {
      "text/plain": [
       "[<matplotlib.lines.Line2D at 0x11d46c668>]"
      ]
     },
     "execution_count": 320,
     "metadata": {},
     "output_type": "execute_result"
    },
    {
     "data": {
      "image/png": "[encoded data removed]",
      "text/plain": [
       "<Figure size 432x288 with 1 Axes>"
      ]
     },
     "metadata": {},
     "output_type": "display_data"
    }
   ],
   "source": [
    "plt.plot(result_lift.recall,result_lift.precision)"
   ]
  },
  {
   "cell_type": "code",
   "execution_count": 321,
   "metadata": {},
   "outputs": [],
   "source": [
    "#拿全部的dataTrain來建\n",
    "LGBM_grid_final_fit_all = LGBM_grid_final.fit(X_feature, y_t)"
   ]
  },
  {
   "cell_type": "code",
   "execution_count": 322,
   "metadata": {},
   "outputs": [],
   "source": [
    "LGBM_grid_final_fit_res =LGBM_grid_final_fit_all.predict_proba(dataTest)"
   ]
  },
  {
   "cell_type": "code",
   "execution_count": 323,
   "metadata": {},
   "outputs": [],
   "source": [
    "df_p = pd.DataFrame({'p0':LGBM_grid_final_fit_res[:,0],'p1':LGBM_grid_final_fit_res[:,1]})"
   ]
  },
  {
   "cell_type": "code",
   "execution_count": 324,
   "metadata": {},
   "outputs": [
    {
     "name": "stdout",
     "output_type": "stream",
     "text": [
      "偽冒機率門檻： 0.9460727730085692\n"
     ]
    }
   ],
   "source": [
    "submit=pd.read_csv('sampleSubmission.csv',encoding='big5')\n",
    "out = pd.concat([submit, df_p], axis=1, ignore_index=True)\n",
    "out.sort_values(by=[3], ascending=False, inplace=True)\n",
    "out.rename(columns={0:'TXKEY', 1:'FRAUD_IND', 2:'p0', 3:'p1'},inplace=True)\n",
    "print('偽冒機率門檻：',out.iloc[1438,3])#1634=1438/0.88\n",
    "out.FRAUD_IND[out.p1>=out.iloc[1438,3]]=1"
   ]
  },
  {
   "cell_type": "code",
   "execution_count": 325,
   "metadata": {},
   "outputs": [
    {
     "data": {
      "text/plain": [
       "1442"
      ]
     },
     "execution_count": 325,
     "metadata": {},
     "output_type": "execute_result"
    }
   ],
   "source": [
    "ttl= out['FRAUD_IND'].sum()\n",
    "ttl"
   ]
  },
  {
   "cell_type": "code",
   "execution_count": 326,
   "metadata": {},
   "outputs": [],
   "source": [
    "out=out[['TXKEY','FRAUD_IND']]\n",
    "out.to_csv(\"submit.csv\", index= False)"
   ]
  },
  {
   "cell_type": "code",
   "execution_count": 119,
   "metadata": {},
   "outputs": [
    {
     "name": "stdout",
     "output_type": "stream",
     "text": [
      "This submission: public score: 0.43037 and private score: 0.38258\n"
     ]
    }
   ],
   "source": [
    "print('This submission: public score: 0.43037 and private score: 0.38258')"
   ]
  },
  {
   "cell_type": "code",
   "execution_count": null,
   "metadata": {},
   "outputs": [],
   "source": [
    "%pwd"
   ]
  },
  {
   "cell_type": "code",
   "execution_count": null,
   "metadata": {},
   "outputs": [],
   "source": []
  }
 ],
 "metadata": {
  "kernelspec": {
   "display_name": "Python 3",
   "language": "python",
   "name": "python3"
  },
  "language_info": {
   "codemirror_mode": {
    "name": "ipython",
    "version": 3
   },
   "file_extension": ".py",
   "mimetype": "text/x-python",
   "name": "python",
   "nbconvert_exporter": "python",
   "pygments_lexer": "ipython3",
   "version": "3.6.5"
  }
 },
 "nbformat": 4,
 "nbformat_minor": 2
}

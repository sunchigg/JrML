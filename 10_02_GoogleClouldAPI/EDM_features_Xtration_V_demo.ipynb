{
 "cells": [
  {
   "cell_type": "code",
   "execution_count": 1,
   "metadata": {},
   "outputs": [],
   "source": [
    "import numpy as np\n",
    "import pandas as pd"
   ]
  },
  {
   "cell_type": "code",
   "execution_count": 2,
   "metadata": {
    "scrolled": true
   },
   "outputs": [],
   "source": [
    "features = pd.read_csv(\"PATH/ContentsWithLabel.csv\", encoding='BIG5')# path hashed!\n",
    "df_frq = pd.read_csv(\"edm_word_frq.csv\", encoding='BIG5')"
   ]
  },
  {
   "cell_type": "code",
   "execution_count": 3,
   "metadata": {},
   "outputs": [
    {
     "data": {
      "text/html": [
       "<div>\n",
       "<style scoped>\n",
       "    .dataframe tbody tr th:only-of-type {\n",
       "        vertical-align: middle;\n",
       "    }\n",
       "\n",
       "    .dataframe tbody tr th {\n",
       "        vertical-align: top;\n",
       "    }\n",
       "\n",
       "    .dataframe thead th {\n",
       "        text-align: right;\n",
       "    }\n",
       "</style>\n",
       "<table border=\"1\" class=\"dataframe\">\n",
       "  <thead>\n",
       "    <tr style=\"text-align: right;\">\n",
       "      <th></th>\n",
       "      <th>words</th>\n",
       "      <th>frq</th>\n",
       "      <th>English</th>\n",
       "    </tr>\n",
       "  </thead>\n",
       "  <tbody>\n",
       "    <tr>\n",
       "      <th>0</th>\n",
       "      <td>優惠</td>\n",
       "      <td>333</td>\n",
       "      <td>Offer</td>\n",
       "    </tr>\n",
       "    <tr>\n",
       "      <th>1</th>\n",
       "      <td>利率</td>\n",
       "      <td>282</td>\n",
       "      <td>interestrate</td>\n",
       "    </tr>\n",
       "  </tbody>\n",
       "</table>\n",
       "</div>"
      ],
      "text/plain": [
       "  words  frq       English\n",
       "0    優惠  333         Offer\n",
       "1    利率  282  interestrate"
      ]
     },
     "execution_count": 3,
     "metadata": {},
     "output_type": "execute_result"
    }
   ],
   "source": [
    "df_frq[:2]"
   ]
  },
  {
   "cell_type": "code",
   "execution_count": 4,
   "metadata": {},
   "outputs": [],
   "source": [
    "#用結巴出來的結果系統性貼標\n",
    "# Use the result of jieba to tag automatically\n",
    "for a,b in zip(df_frq['words'],df_frq['English']):\n",
    "    features['mentioned_%s'% (b)]= features['Subject'].str.contains('%s'% (a),na=False)*1"
   ]
  },
  {
   "cell_type": "code",
   "execution_count": 5,
   "metadata": {},
   "outputs": [],
   "source": [
    "#開始手動貼標\n",
    "# Start tagging manually\n",
    "\n",
    "features['mentioned_i_in25s']= features['Subject'].str.slice(0,25,1).str.contains('%|利率',na=False)*1\n",
    "#用前25個字有沒有%|利率來判斷。 Check whether top 25 letters mentioned interestrate or not\n",
    "features['mentioned_3choose1']= features['Subject'].str.contains('好禮優惠3選1',na=False)*1\n",
    "features['used_BlackQuatMark']= features['Subject'].str.contains('【',na=False)*1\n",
    "features['used_ExclamationMark']= features['Subject'].str.contains('！',na=False)*1\n",
    "features['used_BlackStarMark']= features['Subject'].str.contains('★',na=False)*1\n",
    "features['used_BlankDiamondMark']= features['Subject'].str.contains('◇',na=False)*1\n",
    "features['used_TildeMark']= features['Subject'].str.contains('~|～',na=False)*1\n",
    "features['used_AsteriskMark']= features['Subject'].str.contains('\\*',na=False)*1\n",
    "# Partially tag in this demo"
   ]
  },
  {
   "cell_type": "code",
   "execution_count": null,
   "metadata": {},
   "outputs": [],
   "source": []
  }
 ],
 "metadata": {
  "kernelspec": {
   "display_name": "Python 3",
   "language": "python",
   "name": "python3"
  },
  "language_info": {
   "codemirror_mode": {
    "name": "ipython",
    "version": 3
   },
   "file_extension": ".py",
   "mimetype": "text/x-python",
   "name": "python",
   "nbconvert_exporter": "python",
   "pygments_lexer": "ipython3",
   "version": "3.6.5"
  }
 },
 "nbformat": 4,
 "nbformat_minor": 2
}

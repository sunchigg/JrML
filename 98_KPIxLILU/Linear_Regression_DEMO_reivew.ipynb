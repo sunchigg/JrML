{
 "cells": [
  {
   "cell_type": "code",
   "execution_count": 1,
   "metadata": {},
   "outputs": [],
   "source": [
    "# load package\n",
    "import numpy as np\n",
    "import pandas as pd\n",
    "\n",
    "# set path\n",
    "import os\n",
    "default_path = \"/Users/francislin/Desktop/Machine_Learning_Workshop/linear_regression/\"\n",
    "os.chdir(default_path)\n",
    "\n",
    "# skip interation warning\n",
    "import warnings; \n",
    "warnings.filterwarnings('ignore')"
   ]
  },
  {
   "cell_type": "code",
   "execution_count": 2,
   "metadata": {},
   "outputs": [
    {
     "name": "stdout",
     "output_type": "stream",
     "text": [
      "  User country  Nr. reviews  Nr. hotel reviews  Helpful votes  Score  \\\n",
      "0          USA           11                  4             13      5   \n",
      "1          USA          119                 21             75      3   \n",
      "2          USA           36                  9             25      5   \n",
      "3           UK           14                  7             14      4   \n",
      "4       Canada            5                  5              2      4   \n",
      "\n",
      "  Period of stay Traveler type Pool  Gym Tennis court Spa Casino  \\\n",
      "0        Dec-Feb       Friends   NO  YES           NO  NO    YES   \n",
      "1        Dec-Feb      Business   NO  YES           NO  NO    YES   \n",
      "2        Mar-May      Families   NO  YES           NO  NO    YES   \n",
      "3        Mar-May       Friends   NO  YES           NO  NO    YES   \n",
      "4        Mar-May          Solo   NO  YES           NO  NO    YES   \n",
      "\n",
      "  Free internet                              Hotel name  Hotel stars  \\\n",
      "0           YES  Circus Circus Hotel & Casino Las Vegas            3   \n",
      "1           YES  Circus Circus Hotel & Casino Las Vegas            3   \n",
      "2           YES  Circus Circus Hotel & Casino Las Vegas            3   \n",
      "3           YES  Circus Circus Hotel & Casino Las Vegas            3   \n",
      "4           YES  Circus Circus Hotel & Casino Las Vegas            3   \n",
      "\n",
      "   Nr. rooms User continent  Member years Review month Review weekday  \n",
      "0     3773.0  North America           9.0      January       Thursday  \n",
      "1     3773.0  North America           3.0      January         Friday  \n",
      "2     3773.0  North America           2.0     February       Saturday  \n",
      "3     3773.0         Europe           6.0     February         Friday  \n",
      "4     3773.0  North America           7.0        March        Tuesday  \n"
     ]
    }
   ],
   "source": [
    "# Data Prepararion\n",
    "# read data\n",
    "review_data = pd.read_csv(\"Example_LasVegasTrip.csv\")\n",
    "\n",
    "print(review_data.head())\n"
   ]
  },
  {
   "cell_type": "code",
   "execution_count": 3,
   "metadata": {},
   "outputs": [
    {
     "name": "stdout",
     "output_type": "stream",
     "text": [
      "<class 'pandas.core.frame.DataFrame'>\n",
      "RangeIndex: 504 entries, 0 to 503\n",
      "Data columns (total 20 columns):\n",
      "User country         504 non-null object\n",
      "Nr. reviews          504 non-null int64\n",
      "Nr. hotel reviews    504 non-null int64\n",
      "Helpful votes        504 non-null int64\n",
      "Score                504 non-null int64\n",
      "Period of stay       504 non-null object\n",
      "Traveler type        504 non-null object\n",
      "Pool                 504 non-null object\n",
      "Gym                  504 non-null object\n",
      "Tennis court         504 non-null object\n",
      "Spa                  504 non-null object\n",
      "Casino               504 non-null object\n",
      "Free internet        504 non-null object\n",
      "Hotel name           504 non-null object\n",
      "Hotel stars          504 non-null int64\n",
      "Nr. rooms            408 non-null float64\n",
      "User continent       408 non-null object\n",
      "Member years         408 non-null float64\n",
      "Review month         408 non-null object\n",
      "Review weekday       408 non-null object\n",
      "dtypes: float64(2), int64(5), object(13)\n",
      "memory usage: 78.8+ KB\n"
     ]
    }
   ],
   "source": [
    "\n",
    "#data description\n",
    "review_data.head\n",
    "review_data.values\n",
    "review_data.shape\n",
    "review_data.columns\n",
    "review_data.index\n",
    "review_data.info()\n",
    "review_data.dtypes\n",
    "review_data.describe()\n",
    "\n",
    "#one hot encoding\n",
    "category_var = ['User country', 'Period of stay', 'Pool', 'Gym', 'Tennis court','Spa','Casino','Free internet', 'Traveler type','Hotel name','User continent','Review month','Review weekday']\n",
    "for col in category_var: \n",
    "    review_data[col] = review_data[col].astype('category')\n",
    "    dummies = pd.get_dummies(review_data.loc[:, col], prefix=col ) \n",
    "    review_data = pd.concat( [review_data, dummies], axis = 1)\n",
    "\n",
    "# drop original variable\n",
    "fields_to_drop =  category_var\n",
    "review_data = review_data.drop(fields_to_drop, axis = 1 )\n",
    "\n",
    "# replace missing value with zero\n",
    "review_data = review_data.fillna(review_data.mean())"
   ]
  },
  {
   "cell_type": "code",
   "execution_count": 4,
   "metadata": {},
   "outputs": [],
   "source": [
    "# Split to Training and Testing\n",
    "#from sklearn import cross_validation\n",
    "from sklearn.model_selection import train_test_split\n",
    "seed = 7\n",
    "test_size = 0.3\n",
    "X = review_data.loc[:, review_data.columns != 'Score']\n",
    "y = review_data[['Score']]\n",
    "X_train, X_test, y_train, y_test = train_test_split(X, y, test_size=test_size, random_state=seed)"
   ]
  },
  {
   "cell_type": "code",
   "execution_count": 5,
   "metadata": {},
   "outputs": [
    {
     "name": "stdout",
     "output_type": "stream",
     "text": [
      "-0.2366563347014048\n",
      "Coefficients: \n",
      " [[ 2.64652589e-04  1.60420539e-06  1.79533303e-04  2.33841549e-01\n",
      "  -1.46983707e-04 -1.09650791e-03  2.81607029e-01 -8.63709753e-01\n",
      "   1.57877061e+00  1.12318057e-01 -2.12923536e+00  2.46707331e-01\n",
      "  -3.15563730e-01 -6.90495590e-16  2.56351761e-01 -2.82779079e-01\n",
      "  -3.21675960e-01  5.53904393e-01  4.11722530e-01 -9.54401478e-01\n",
      "   2.31491902e-03  7.54306526e-16  4.31824295e-01 -7.16769637e-02\n",
      "  -1.19388197e-01 -1.19087449e+00  4.31574689e-01 -4.75324254e-01\n",
      "   2.17650017e-02 -7.60994741e-01 -1.39708987e-15  5.03329834e-01\n",
      "  -6.79120237e-01  3.23356609e-02 -1.77276555e-01  1.15837561e+00\n",
      "   1.97374821e-01  1.19983169e-02  1.00348586e+00  5.28300664e-16\n",
      "   1.99798318e+00 -1.37190094e-15  1.84197616e+00 -4.17365208e-01\n",
      "  -4.85462680e-01 -1.05901280e+00  5.81995645e-16  2.07311472e-01\n",
      "  -9.70840496e-01  5.49315236e-01 -1.42752185e-02  1.61149710e-01\n",
      "   1.83712419e-01 -8.88231695e-01  2.70931593e-01  3.53932504e-01\n",
      "  -2.71031338e-01 -3.53832759e-01 -2.42080418e-01  2.42080418e-01\n",
      "  -1.49202397e-01  1.49202397e-01 -2.67389291e-02  2.67389291e-02\n",
      "   2.89063787e-02 -2.89063787e-02  4.34821119e-02 -4.34821119e-02\n",
      "  -2.73060616e-01  2.73060616e-01 -2.23461028e-01  1.14291630e-01\n",
      "  -1.00956009e-01  1.46385265e-01  6.37401422e-02  1.63472973e-01\n",
      "  -3.67004691e-01 -2.42080418e-01  4.20226790e-01  2.34630082e-02\n",
      "  -2.07196451e-01  2.68111426e-01  3.76707082e-01 -2.73060616e-01\n",
      "  -1.04293006e-01 -3.01352703e-01 -1.49202397e-01  1.29151752e-01\n",
      "   2.16677163e-01 -2.12174268e-01 -4.32725273e-01 -1.38860164e-01\n",
      "   2.31815427e-01  6.85538772e-02  2.50678563e-01  2.79091926e-01\n",
      "  -2.64911925e-01  4.96952907e-01  1.12841523e-01  7.55558853e-02\n",
      "   3.59889862e-02 -1.20272205e+00  4.43516296e-01 -2.21786695e-01\n",
      "  -1.25488942e-01 -7.12594464e-01 -2.18715396e-01 -4.85562142e-01\n",
      "  -7.74255047e-01  5.16118673e-01 -1.17813031e-02  4.53765886e-01\n",
      "   2.02563602e-01  1.87924859e-01  1.43091776e-01 -4.27899258e-01\n",
      "   2.13663606e-01 -1.90313651e-01  1.76792065e-01 -3.13587638e-01\n",
      "  -3.48041572e-01]]\n",
      "Mean squared error: 1.23\n",
      "Variance score: -0.24\n"
     ]
    }
   ],
   "source": [
    "# Linear Regression (OLS)\n",
    "# load package\n",
    "from sklearn import linear_model\n",
    "from sklearn.metrics import mean_squared_error, r2_score\n",
    "\n",
    "# Create linear regression object\n",
    "regr = linear_model.LinearRegression()\n",
    "\n",
    "# Train the model using the training sets\n",
    "regr.fit(X_train, y_train)\n",
    "\n",
    "# Make predictions using the testing set\n",
    "y_pred = regr.predict(X_test)\n",
    "print(regr.score(X_test, y_test, sample_weight=None))\n",
    "\n",
    "# The coefficients\n",
    "print('Coefficients: \\n', regr.coef_)\n",
    "# The mean squared error\n",
    "print(\"Mean squared error: %.2f\" % mean_squared_error(y_test, y_pred))\n",
    "regr_mse = mean_squared_error(y_test, y_pred)\n",
    "\n",
    "# Explained variance score: 1 is perfect prediction\n",
    "print('Variance score: %.2f' % r2_score(y_test, y_pred))\n",
    "regr_score = r2_score(y_test, y_pred)"
   ]
  },
  {
   "cell_type": "code",
   "execution_count": 6,
   "metadata": {},
   "outputs": [
    {
     "name": "stdout",
     "output_type": "stream",
     "text": [
      "-0.011041744621945293\n",
      "Coefficients: \n",
      " [[ 5.05402594e-07  5.17679071e-09  1.87850756e-07  6.47577755e-08\n",
      "  -3.69864253e-05 -2.02618255e-06  3.07742922e-09 -1.47153612e-09\n",
      "   1.87708651e-09 -1.03735381e-08 -3.93733802e-09 -2.79297518e-10\n",
      "  -1.40500682e-09  0.00000000e+00  1.11661930e-09 -4.46999088e-09\n",
      "  -2.29220313e-10  1.13952656e-09  3.25493508e-10 -2.66839098e-09\n",
      "  -5.13293033e-10  0.00000000e+00 -1.30440499e-10  1.33680772e-09\n",
      "  -2.02618523e-10 -2.11220254e-10  3.95005272e-09 -2.85049737e-10\n",
      "  -2.32774814e-10 -1.42114116e-09  0.00000000e+00 -8.45551304e-11\n",
      "  -8.68404050e-11 -1.52194925e-10 -1.36060495e-10  5.28259147e-09\n",
      "   8.29571163e-10 -4.53114640e-09  2.10100934e-09  0.00000000e+00\n",
      "   1.15460728e-09  0.00000000e+00  1.13850133e-09  9.75351394e-10\n",
      "  -2.66840162e-09 -2.75415173e-09  0.00000000e+00  1.18657394e-09\n",
      "  -1.35353188e-09  1.11678660e-09 -2.88197408e-10  7.20125011e-09\n",
      "   7.68742957e-09 -1.61075097e-09  1.58980682e-08 -5.92082922e-09\n",
      "  -3.00155561e-09 -6.97568339e-09 -2.46335402e-08  2.46335402e-08\n",
      "  -3.39985243e-09  3.39985243e-09 -1.35246293e-08  1.35246293e-08\n",
      "  -1.60952884e-08  1.60952884e-08  3.25759850e-09 -3.25759850e-09\n",
      "  -1.70545844e-08  1.70545844e-08 -2.19423504e-08  2.36532336e-08\n",
      "  -6.22697941e-09  5.81487296e-09 -1.29877676e-09  1.23567020e-09\n",
      "  -2.28563479e-09 -2.46335402e-08  1.56909613e-08 -9.05168311e-09\n",
      "  -2.58076751e-09  4.36642123e-09  8.68050576e-09 -1.70545844e-08\n",
      "  -3.28748048e-09 -9.84121786e-10 -3.39985243e-09  7.43335146e-09\n",
      "   1.01845308e-08 -5.45677870e-09 -2.31743872e-09 -1.97206679e-09\n",
      "   7.61837338e-09  1.74591088e-09  5.83836601e-09  1.02298579e-08\n",
      "  -7.22294763e-09 -5.49509890e-09  4.31020644e-09 -5.74029818e-09\n",
      "  -3.07829883e-09  1.74099655e-09  8.15280443e-10  2.17865437e-09\n",
      "   3.66622337e-09 -9.43019987e-10  1.95592450e-09 -4.69279925e-09\n",
      "  -1.23920376e-08  5.44134082e-09 -7.12718201e-09 -6.43352029e-10\n",
      "   1.94254150e-10 -3.93872730e-09  5.00471801e-09 -8.01146532e-09\n",
      "   1.21416040e-08 -4.84861250e-09  1.54003414e-08 -1.59150749e-08\n",
      "  -1.92569513e-08]]\n",
      "Mean squared error: 1.01\n",
      "Variance score: -0.01\n"
     ]
    },
    {
     "name": "stderr",
     "output_type": "stream",
     "text": [
      "/usr/local/lib/python3.6/site-packages/sklearn/model_selection/_search.py:841: DeprecationWarning: The default of the `iid` parameter will change from True to False in version 0.22 and will be removed in 0.24. This will change numeric results when test-set sizes are unequal.\n",
      "  DeprecationWarning)\n"
     ]
    }
   ],
   "source": [
    "# Ridge regression\n",
    "# set parameter\n",
    "alphas = np.logspace(-4, 30, 30) # default base = 10\n",
    "#May's demo: alphas = np.logspace(-4, -0.5, 30) n_folds = 3 Mean squared error: 1.19 Variance score: -0.19\n",
    "tuned_parameters = [{'alpha': alphas}]\n",
    "n_folds = 10\n",
    "\n",
    "# load package\n",
    "from sklearn.linear_model import Ridge\n",
    "from sklearn.model_selection import GridSearchCV\n",
    "\n",
    "# model\n",
    "model = Ridge()\n",
    "ridge = GridSearchCV(estimator=model, param_grid = tuned_parameters, cv=n_folds, refit=False)\n",
    "ridge.fit(X_train, y_train)\n",
    "\n",
    "# Final Model\n",
    "ridge_final = Ridge(alpha = ridge.best_params_['alpha'])\n",
    "ridge_final.fit(X_train, y_train)\n",
    "\n",
    "# Make predictions using the testing set\n",
    "y_pred = ridge_final.predict(X_test)\n",
    "# ridge_score = ridge_final.score(X_test, y_test, sample_weight=None)\n",
    "print(ridge_final.score(X_test, y_test, sample_weight=None))\n",
    "\n",
    "# The coefficients\n",
    "print('Coefficients: \\n', ridge_final.coef_)\n",
    "\n",
    "# The mean squared error\n",
    "print(\"Mean squared error: %.2f\" % mean_squared_error(y_test, y_pred))\n",
    "ridge_mse = mean_squared_error(y_test, y_pred)\n",
    "\n",
    "# Explained variance score: 1 is perfect prediction\n",
    "print('Variance score: %.2f' % r2_score(y_test, y_pred))\n",
    "ridge_score = r2_score(y_test, y_pred)"
   ]
  },
  {
   "cell_type": "code",
   "execution_count": 7,
   "metadata": {},
   "outputs": [
    {
     "name": "stdout",
     "output_type": "stream",
     "text": [
      "-0.14712049671718175\n",
      "Coefficients: \n",
      " [ 3.04364359e-04 -1.46105127e-04  1.25021037e-04  2.98834902e-01\n",
      " -1.40951976e-04 -1.01677051e-03  2.66961369e-02 -5.39997180e-01\n",
      "  0.00000000e+00 -9.21545632e-02 -1.12615389e+00  0.00000000e+00\n",
      " -0.00000000e+00  0.00000000e+00  0.00000000e+00 -1.74921363e-01\n",
      " -1.02600719e-01  0.00000000e+00  9.64139915e-02 -5.06449532e-01\n",
      " -0.00000000e+00  0.00000000e+00  0.00000000e+00  2.28099189e-01\n",
      "  0.00000000e+00 -1.57785401e-02  2.37220474e-01 -0.00000000e+00\n",
      " -0.00000000e+00 -5.21234972e-01  0.00000000e+00  0.00000000e+00\n",
      " -0.00000000e+00 -0.00000000e+00  0.00000000e+00  6.48708964e-01\n",
      "  0.00000000e+00 -1.40145810e-01  4.99521374e-01  0.00000000e+00\n",
      "  1.10843215e+00  0.00000000e+00  1.22063798e+00  0.00000000e+00\n",
      " -0.00000000e+00 -9.25973994e-01  0.00000000e+00  0.00000000e+00\n",
      " -0.00000000e+00  0.00000000e+00  0.00000000e+00  0.00000000e+00\n",
      "  0.00000000e+00 -8.61334451e-02  3.07532676e-01  3.00223261e-01\n",
      " -5.88467606e-02 -9.22803614e-02 -5.32974606e-01  0.00000000e+00\n",
      " -4.82115121e-01  1.20906384e-14 -5.29198906e-02  4.51348664e-17\n",
      " -0.00000000e+00  0.00000000e+00  0.00000000e+00 -0.00000000e+00\n",
      " -8.58828634e-01  8.25863281e-17 -2.80645680e-01  9.31454137e-02\n",
      " -9.83436675e-02  1.05099502e-01  0.00000000e+00  0.00000000e+00\n",
      " -4.22220051e-01 -9.12539413e-02  2.87103886e-01  0.00000000e+00\n",
      " -0.00000000e+00  1.06481664e-01  2.90869447e-01 -3.17590862e-02\n",
      " -1.27735201e-01 -3.38724822e-01 -5.36323155e-02  0.00000000e+00\n",
      "  1.15031646e-01 -2.37366522e-01 -4.57617237e-01 -1.29653312e-01\n",
      "  2.33735701e-02  8.85400705e-02  1.41244391e-01  1.16714874e-01\n",
      " -4.64271737e-01 -2.20695357e-01  0.00000000e+00  1.97890802e-03\n",
      " -0.00000000e+00 -0.00000000e+00  3.17722521e-01 -1.05862176e-01\n",
      " -2.18856511e-02 -5.24635324e-01 -1.04757900e-01 -2.60041578e-01\n",
      " -5.60780508e-01  3.98469487e-01 -4.60851005e-02  3.41360371e-01\n",
      "  6.28039056e-02  3.21526057e-02  0.00000000e+00 -5.02676180e-01\n",
      "  4.88860408e-02 -3.55188697e-01  4.15483792e-02 -4.53733593e-01\n",
      " -4.74264996e-01]\n",
      "Mean squared error: 1.14\n",
      "Variance score: -0.15\n"
     ]
    },
    {
     "name": "stderr",
     "output_type": "stream",
     "text": [
      "/usr/local/lib/python3.6/site-packages/sklearn/model_selection/_search.py:841: DeprecationWarning: The default of the `iid` parameter will change from True to False in version 0.22 and will be removed in 0.24. This will change numeric results when test-set sizes are unequal.\n",
      "  DeprecationWarning)\n"
     ]
    }
   ],
   "source": [
    "# LASSO\n",
    "# load packages\n",
    "from sklearn.linear_model import Lasso\n",
    "\n",
    "# model\n",
    "lasso = Lasso(random_state=0, normalize = True)\n",
    "clf = GridSearchCV(lasso,  param_grid= tuned_parameters, cv=n_folds, refit=False)\n",
    "clf.fit(X_train, y_train)\n",
    "\n",
    "# Final Model\n",
    "clf_final = Lasso(alpha = clf.best_params_['alpha'])\n",
    "clf_final.fit(X_train, y_train)\n",
    "\n",
    "# Make predictions using the testing set\n",
    "y_pred = clf_final.predict(X_test)\n",
    "print(clf_final.score(X_test, y_test, sample_weight=None))\n",
    "\n",
    "# The coefficients\n",
    "print('Coefficients: \\n', clf_final.coef_)\n",
    "\n",
    "# The mean squared error\n",
    "print(\"Mean squared error: %.2f\" % mean_squared_error(y_test, y_pred))\n",
    "clf_mse = mean_squared_error(y_test, y_pred)\n",
    "\n",
    "# Explained variance score: 1 is perfect prediction\n",
    "print('Variance score: %.2f' % r2_score(y_test, y_pred))\n",
    "clf_score = r2_score(y_test, y_pred)"
   ]
  },
  {
   "cell_type": "code",
   "execution_count": 8,
   "metadata": {},
   "outputs": [
    {
     "name": "stdout",
     "output_type": "stream",
     "text": [
      "------------------------------------------------\n",
      "Compare Score: \n",
      " -0.2367 -0.011 -0.1471\n",
      "Compare MSE: \n",
      " 1.2315 1.0068 1.1424\n"
     ]
    }
   ],
   "source": [
    "# compare\n",
    "print('------------------------------------------------')\n",
    "print('Compare Score: \\n', round(regr_score,4), round(ridge_score,4), round(clf_score,4))\n",
    "print('Compare MSE: \\n', round(regr_mse,4), round(ridge_mse,4), round(clf_mse,4))"
   ]
  },
  {
   "cell_type": "code",
   "execution_count": null,
   "metadata": {},
   "outputs": [],
   "source": []
  }
 ],
 "metadata": {
  "kernelspec": {
   "display_name": "Python 3",
   "language": "python",
   "name": "python3"
  },
  "language_info": {
   "codemirror_mode": {
    "name": "ipython",
    "version": 3
   },
   "file_extension": ".py",
   "mimetype": "text/x-python",
   "name": "python",
   "nbconvert_exporter": "python",
   "pygments_lexer": "ipython3",
   "version": "3.6.5"
  }
 },
 "nbformat": 4,
 "nbformat_minor": 2
}
